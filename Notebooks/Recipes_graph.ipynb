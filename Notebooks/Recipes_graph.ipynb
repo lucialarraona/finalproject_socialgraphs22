{
 "cells": [
  {
   "cell_type": "code",
   "execution_count": null,
   "metadata": {},
   "outputs": [],
   "source": [
    "import pandas as pd\n",
    "import numpy as np\n",
    "import matplotlib.pyplot as plt \n",
    "\n",
    "import os\n",
    "import sys\n",
    "sys.path.append(os.path.abspath(\"../Notebooks\"))\n",
    "\n",
    "from helper_functions import  *\n"
   ]
  },
  {
   "cell_type": "code",
   "execution_count": null,
   "metadata": {},
   "outputs": [],
   "source": [
    "\n",
    "# Read compressed csv with built-in gzip support\n",
    "df_recipes = decompress_pickle('../Data/file4.pbz2') \n",
    "df_ingredients = pd.read_csv('../Data/ingredients_with_recipies.csv')"
   ]
  },
  {
   "cell_type": "markdown",
   "metadata": {},
   "source": [
    "Create a graph"
   ]
  },
  {
   "cell_type": "code",
   "execution_count": null,
   "metadata": {},
   "outputs": [],
   "source": [
    "#!pip install networkx\n",
    "import networkx as nx\n",
    "\n",
    "G = nx.MultiDiGraph()\n",
    "G.add_nodes_from(df_recipes['id'].values, name=df_recipes['name'].values, n_ingredients=df_recipes['n_ingredients'].values)\n",
    "print(G)\n",
    "\n",
    "'''\n",
    "col_one_list = df_marvel['edges'].tolist()\n",
    "col_one_listDC=(df_DC['edges'].tolist())\n",
    "\n",
    "edges_values_list= col_one_list + col_one_listDC\n",
    "\n",
    "def flatten(l):\n",
    "    return [item for sublist in l for item in sublist]\n",
    "\n",
    "edges_values_tuples = flatten(edges_values_list)\n",
    "\n",
    "G.add_edges_from(edges_values_tuples)\n",
    "print(G)\n",
    "'''"
   ]
  },
  {
   "cell_type": "code",
   "execution_count": null,
   "metadata": {},
   "outputs": [],
   "source": [
    "from tqdm import tqdm\n",
    "#Define a dictionary for every ingredient with a list of recipes\n",
    "\n",
    "\n",
    "ing_dict = { id: [] for id in df_ingredients['id'].unique()} #as we are not taking all of the recipes some list will be empty at the end\n",
    "\n",
    "\n",
    "for idx, row in tqdm(df_recipes.iterrows()): \n",
    "    #\n",
    "    for ingredient in row['ingredient_ids']:\n",
    "        ing_dict[ingredient].append(row['id'])\n",
    "        print(ing_dict[ingredient])\n",
    "\n",
    "    \n",
    "    \n",
    "\n",
    "    # All possible pairs in List\n",
    "    # Using combinations()\n",
    "#edges.append([(x,y, {\"ingredient\": row['id']} ) for x, y in list(combinations(test_list, 2))])\n"
   ]
  },
  {
   "cell_type": "code",
   "execution_count": null,
   "metadata": {},
   "outputs": [],
   "source": [
    "#Needs to be finished\n",
    "from itertools import combinations\n",
    "\n",
    "edges=[(x,y, {\"ingredient\": row['id']} ) for x, y in list(combinations(test_list, 2))]\n",
    "\n",
    "test = [(x,y, {\"ingredient\": 'test'}) for x, y in list(combinations(df_ingredient['recipes'][0], 2))]"
   ]
  }
 ],
 "metadata": {
  "kernelspec": {
   "display_name": "Python 3.9.12 ('base')",
   "language": "python",
   "name": "python3"
  },
  "language_info": {
   "codemirror_mode": {
    "name": "ipython",
    "version": 3
   },
   "file_extension": ".py",
   "mimetype": "text/x-python",
   "name": "python",
   "nbconvert_exporter": "python",
   "pygments_lexer": "ipython3",
   "version": "3.9.12"
  },
  "orig_nbformat": 4,
  "vscode": {
   "interpreter": {
    "hash": "ae76f66b0e20ae088c95dc276d5ec87971d62f005d0264dd9d38a6484844417b"
   }
  }
 },
 "nbformat": 4,
 "nbformat_minor": 2
}

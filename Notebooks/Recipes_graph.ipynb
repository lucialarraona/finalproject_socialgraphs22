{
 "cells": [
  {
   "cell_type": "code",
   "execution_count": 2,
   "metadata": {},
   "outputs": [],
   "source": [
    "import pandas as pd\n",
    "import numpy as np\n",
    "import matplotlib.pyplot as plt \n",
    "\n",
    "import os\n",
    "import sys\n",
    "sys.path.append(os.path.abspath(\"../Notebooks\"))\n",
    "\n",
    "from helper_functions import  *\n"
   ]
  },
  {
   "cell_type": "code",
   "execution_count": 3,
   "metadata": {},
   "outputs": [],
   "source": [
    "\n",
    "# Read compressed csv with built-in gzip support\n",
    "data_reviews = decompress_pickle('../Data/reviews_zipped.pbz2') \n",
    "\n",
    "df_recipes= pd.read_csv('../Data/final_datav3.csv', compression='gzip') \n",
    "\n",
    "df_recipes['ingredient_ids_str'] = df_recipes.loc[:, 'ingredient_ids']\n",
    "df_recipes['ingredient_ids']=df_recipes.ingredient_ids.apply(lambda x : convert_type(x))\n",
    "\n"
   ]
  },
  {
   "cell_type": "markdown",
   "metadata": {},
   "source": [
    "Create a graph"
   ]
  },
  {
   "cell_type": "code",
   "execution_count": 4,
   "metadata": {},
   "outputs": [
    {
     "name": "stdout",
     "output_type": "stream",
     "text": [
      "MultiDiGraph with 178265 nodes and 0 edges\n"
     ]
    },
    {
     "data": {
      "text/plain": [
       "\"\\ncol_one_list = df_marvel['edges'].tolist()\\ncol_one_listDC=(df_DC['edges'].tolist())\\n\\nedges_values_list= col_one_list + col_one_listDC\\n\\ndef flatten(l):\\n    return [item for sublist in l for item in sublist]\\n\\nedges_values_tuples = flatten(edges_values_list)\\n\\nG.add_edges_from(edges_values_tuples)\\nprint(G)\\n\""
      ]
     },
     "execution_count": 4,
     "metadata": {},
     "output_type": "execute_result"
    }
   ],
   "source": [
    "#!pip install networkx\n",
    "import networkx as nx\n",
    "\n",
    "G = nx.MultiDiGraph()\n",
    "G.add_nodes_from(df_recipes['id'].values, name=df_recipes['name'].values, n_ingredients=df_recipes['n_ingredients'].values)\n",
    "print(G)\n",
    "\n",
    "'''\n",
    "col_one_list = df_marvel['edges'].tolist()\n",
    "col_one_listDC=(df_DC['edges'].tolist())\n",
    "\n",
    "edges_values_list= col_one_list + col_one_listDC\n",
    "\n",
    "def flatten(l):\n",
    "    return [item for sublist in l for item in sublist]\n",
    "\n",
    "edges_values_tuples = flatten(edges_values_list)\n",
    "\n",
    "G.add_edges_from(edges_values_tuples)\n",
    "print(G)\n",
    "'''"
   ]
  },
  {
   "cell_type": "code",
   "execution_count": 10,
   "metadata": {},
   "outputs": [
    {
     "name": "stderr",
     "output_type": "stream",
     "text": [
      "  0%|          | 24/178265 [02:03<255:26:04,  5.16s/it]\n"
     ]
    },
    {
     "ename": "KeyboardInterrupt",
     "evalue": "",
     "output_type": "error",
     "traceback": [
      "\u001b[1;31m---------------------------------------------------------------------------\u001b[0m",
      "\u001b[1;31mAttributeError\u001b[0m                            Traceback (most recent call last)",
      "File \u001b[1;32mc:\\Users\\zuzal\\anaconda3\\lib\\site-packages\\pandas\\core\\generic.py:5587\u001b[0m, in \u001b[0;36mNDFrame.__setattr__\u001b[1;34m(self, name, value)\u001b[0m\n\u001b[0;32m   5586\u001b[0m \u001b[39mtry\u001b[39;00m:\n\u001b[1;32m-> 5587\u001b[0m     \u001b[39mobject\u001b[39;49m\u001b[39m.\u001b[39;49m\u001b[39m__getattribute__\u001b[39;49m(\u001b[39mself\u001b[39;49m, name)\n\u001b[0;32m   5588\u001b[0m     \u001b[39mreturn\u001b[39;00m \u001b[39mobject\u001b[39m\u001b[39m.\u001b[39m\u001b[39m__setattr__\u001b[39m(\u001b[39mself\u001b[39m, name, value)\n",
      "File \u001b[1;32mc:\\Users\\zuzal\\anaconda3\\lib\\site-packages\\pandas\\core\\series.py:638\u001b[0m, in \u001b[0;36mSeries.name\u001b[1;34m(self)\u001b[0m\n\u001b[0;32m    592\u001b[0m \u001b[39m\"\"\"\u001b[39;00m\n\u001b[0;32m    593\u001b[0m \u001b[39mReturn the name of the Series.\u001b[39;00m\n\u001b[0;32m    594\u001b[0m \n\u001b[1;32m   (...)\u001b[0m\n\u001b[0;32m    636\u001b[0m \u001b[39m'Even Numbers'\u001b[39;00m\n\u001b[0;32m    637\u001b[0m \u001b[39m\"\"\"\u001b[39;00m\n\u001b[1;32m--> 638\u001b[0m \u001b[39mreturn\u001b[39;00m \u001b[39mself\u001b[39;49m\u001b[39m.\u001b[39;49m_name\n",
      "File \u001b[1;32mc:\\Users\\zuzal\\anaconda3\\lib\\site-packages\\pandas\\core\\generic.py:5575\u001b[0m, in \u001b[0;36mNDFrame.__getattr__\u001b[1;34m(self, name)\u001b[0m\n\u001b[0;32m   5574\u001b[0m     \u001b[39mreturn\u001b[39;00m \u001b[39mself\u001b[39m[name]\n\u001b[1;32m-> 5575\u001b[0m \u001b[39mreturn\u001b[39;00m \u001b[39mobject\u001b[39;49m\u001b[39m.\u001b[39;49m\u001b[39m__getattribute__\u001b[39;49m(\u001b[39mself\u001b[39;49m, name)\n",
      "\u001b[1;31mAttributeError\u001b[0m: 'Series' object has no attribute '_name'",
      "\nDuring handling of the above exception, another exception occurred:\n",
      "\u001b[1;31mKeyboardInterrupt\u001b[0m                         Traceback (most recent call last)",
      "\u001b[1;32mc:\\Users\\zuzal\\Masters\\02805 Social graphs\\finalproject_socialgraphs22-1\\Notebooks\\Recipes_graph.ipynb Komórka 5\u001b[0m in \u001b[0;36m<cell line: 21>\u001b[1;34m()\u001b[0m\n\u001b[0;32m     <a href='vscode-notebook-cell:/c%3A/Users/zuzal/Masters/02805%20Social%20graphs/finalproject_socialgraphs22-1/Notebooks/Recipes_graph.ipynb#W4sZmlsZQ%3D%3D?line=18'>19</a>\u001b[0m df_recipes[\u001b[39m'\u001b[39m\u001b[39medges\u001b[39m\u001b[39m'\u001b[39m] \u001b[39m=\u001b[39m \u001b[39m0\u001b[39m\n\u001b[0;32m     <a href='vscode-notebook-cell:/c%3A/Users/zuzal/Masters/02805%20Social%20graphs/finalproject_socialgraphs22-1/Notebooks/Recipes_graph.ipynb#W4sZmlsZQ%3D%3D?line=19'>20</a>\u001b[0m df_recipes[\u001b[39m'\u001b[39m\u001b[39medges\u001b[39m\u001b[39m'\u001b[39m] \u001b[39m=\u001b[39m df_recipes[\u001b[39m'\u001b[39m\u001b[39medges\u001b[39m\u001b[39m'\u001b[39m]\u001b[39m.\u001b[39mastype(\u001b[39mobject\u001b[39m)\n\u001b[1;32m---> <a href='vscode-notebook-cell:/c%3A/Users/zuzal/Masters/02805%20Social%20graphs/finalproject_socialgraphs22-1/Notebooks/Recipes_graph.ipynb#W4sZmlsZQ%3D%3D?line=20'>21</a>\u001b[0m df_recipes[\u001b[39m'\u001b[39m\u001b[39medges\u001b[39m\u001b[39m'\u001b[39m] \u001b[39m=\u001b[39m df_recipes\u001b[39m.\u001b[39;49mprogress_apply(\u001b[39mlambda\u001b[39;49;00m x: find_edges(x), axis\u001b[39m=\u001b[39;49m\u001b[39m1\u001b[39;49m)\n",
      "File \u001b[1;32mc:\\Users\\zuzal\\anaconda3\\lib\\site-packages\\tqdm\\std.py:814\u001b[0m, in \u001b[0;36mtqdm.pandas.<locals>.inner_generator.<locals>.inner\u001b[1;34m(df, func, *args, **kwargs)\u001b[0m\n\u001b[0;32m    811\u001b[0m \u001b[39m# Apply the provided function (in **kwargs)\u001b[39;00m\n\u001b[0;32m    812\u001b[0m \u001b[39m# on the df using our wrapper (which provides bar updating)\u001b[39;00m\n\u001b[0;32m    813\u001b[0m \u001b[39mtry\u001b[39;00m:\n\u001b[1;32m--> 814\u001b[0m     \u001b[39mreturn\u001b[39;00m \u001b[39mgetattr\u001b[39m(df, df_function)(wrapper, \u001b[39m*\u001b[39m\u001b[39m*\u001b[39mkwargs)\n\u001b[0;32m    815\u001b[0m \u001b[39mfinally\u001b[39;00m:\n\u001b[0;32m    816\u001b[0m     t\u001b[39m.\u001b[39mclose()\n",
      "File \u001b[1;32mc:\\Users\\zuzal\\anaconda3\\lib\\site-packages\\pandas\\core\\frame.py:8839\u001b[0m, in \u001b[0;36mDataFrame.apply\u001b[1;34m(self, func, axis, raw, result_type, args, **kwargs)\u001b[0m\n\u001b[0;32m   8828\u001b[0m \u001b[39mfrom\u001b[39;00m \u001b[39mpandas\u001b[39;00m\u001b[39m.\u001b[39;00m\u001b[39mcore\u001b[39;00m\u001b[39m.\u001b[39;00m\u001b[39mapply\u001b[39;00m \u001b[39mimport\u001b[39;00m frame_apply\n\u001b[0;32m   8830\u001b[0m op \u001b[39m=\u001b[39m frame_apply(\n\u001b[0;32m   8831\u001b[0m     \u001b[39mself\u001b[39m,\n\u001b[0;32m   8832\u001b[0m     func\u001b[39m=\u001b[39mfunc,\n\u001b[1;32m   (...)\u001b[0m\n\u001b[0;32m   8837\u001b[0m     kwargs\u001b[39m=\u001b[39mkwargs,\n\u001b[0;32m   8838\u001b[0m )\n\u001b[1;32m-> 8839\u001b[0m \u001b[39mreturn\u001b[39;00m op\u001b[39m.\u001b[39;49mapply()\u001b[39m.\u001b[39m__finalize__(\u001b[39mself\u001b[39m, method\u001b[39m=\u001b[39m\u001b[39m\"\u001b[39m\u001b[39mapply\u001b[39m\u001b[39m\"\u001b[39m)\n",
      "File \u001b[1;32mc:\\Users\\zuzal\\anaconda3\\lib\\site-packages\\pandas\\core\\apply.py:727\u001b[0m, in \u001b[0;36mFrameApply.apply\u001b[1;34m(self)\u001b[0m\n\u001b[0;32m    724\u001b[0m \u001b[39melif\u001b[39;00m \u001b[39mself\u001b[39m\u001b[39m.\u001b[39mraw:\n\u001b[0;32m    725\u001b[0m     \u001b[39mreturn\u001b[39;00m \u001b[39mself\u001b[39m\u001b[39m.\u001b[39mapply_raw()\n\u001b[1;32m--> 727\u001b[0m \u001b[39mreturn\u001b[39;00m \u001b[39mself\u001b[39;49m\u001b[39m.\u001b[39;49mapply_standard()\n",
      "File \u001b[1;32mc:\\Users\\zuzal\\anaconda3\\lib\\site-packages\\pandas\\core\\apply.py:851\u001b[0m, in \u001b[0;36mFrameApply.apply_standard\u001b[1;34m(self)\u001b[0m\n\u001b[0;32m    850\u001b[0m \u001b[39mdef\u001b[39;00m \u001b[39mapply_standard\u001b[39m(\u001b[39mself\u001b[39m):\n\u001b[1;32m--> 851\u001b[0m     results, res_index \u001b[39m=\u001b[39m \u001b[39mself\u001b[39;49m\u001b[39m.\u001b[39;49mapply_series_generator()\n\u001b[0;32m    853\u001b[0m     \u001b[39m# wrap results\u001b[39;00m\n\u001b[0;32m    854\u001b[0m     \u001b[39mreturn\u001b[39;00m \u001b[39mself\u001b[39m\u001b[39m.\u001b[39mwrap_results(results, res_index)\n",
      "File \u001b[1;32mc:\\Users\\zuzal\\anaconda3\\lib\\site-packages\\pandas\\core\\apply.py:867\u001b[0m, in \u001b[0;36mFrameApply.apply_series_generator\u001b[1;34m(self)\u001b[0m\n\u001b[0;32m    864\u001b[0m \u001b[39mwith\u001b[39;00m option_context(\u001b[39m\"\u001b[39m\u001b[39mmode.chained_assignment\u001b[39m\u001b[39m\"\u001b[39m, \u001b[39mNone\u001b[39;00m):\n\u001b[0;32m    865\u001b[0m     \u001b[39mfor\u001b[39;00m i, v \u001b[39min\u001b[39;00m \u001b[39menumerate\u001b[39m(series_gen):\n\u001b[0;32m    866\u001b[0m         \u001b[39m# ignore SettingWithCopy here in case the user mutates\u001b[39;00m\n\u001b[1;32m--> 867\u001b[0m         results[i] \u001b[39m=\u001b[39m \u001b[39mself\u001b[39;49m\u001b[39m.\u001b[39;49mf(v)\n\u001b[0;32m    868\u001b[0m         \u001b[39mif\u001b[39;00m \u001b[39misinstance\u001b[39m(results[i], ABCSeries):\n\u001b[0;32m    869\u001b[0m             \u001b[39m# If we have a view on v, we need to make a copy because\u001b[39;00m\n\u001b[0;32m    870\u001b[0m             \u001b[39m#  series_generator will swap out the underlying data\u001b[39;00m\n\u001b[0;32m    871\u001b[0m             results[i] \u001b[39m=\u001b[39m results[i]\u001b[39m.\u001b[39mcopy(deep\u001b[39m=\u001b[39m\u001b[39mFalse\u001b[39;00m)\n",
      "File \u001b[1;32mc:\\Users\\zuzal\\anaconda3\\lib\\site-packages\\tqdm\\std.py:809\u001b[0m, in \u001b[0;36mtqdm.pandas.<locals>.inner_generator.<locals>.inner.<locals>.wrapper\u001b[1;34m(*args, **kwargs)\u001b[0m\n\u001b[0;32m    803\u001b[0m \u001b[39mdef\u001b[39;00m \u001b[39mwrapper\u001b[39m(\u001b[39m*\u001b[39margs, \u001b[39m*\u001b[39m\u001b[39m*\u001b[39mkwargs):\n\u001b[0;32m    804\u001b[0m     \u001b[39m# update tbar correctly\u001b[39;00m\n\u001b[0;32m    805\u001b[0m     \u001b[39m# it seems `pandas apply` calls `func` twice\u001b[39;00m\n\u001b[0;32m    806\u001b[0m     \u001b[39m# on the first column/row to decide whether it can\u001b[39;00m\n\u001b[0;32m    807\u001b[0m     \u001b[39m# take a fast or slow code path; so stop when t.total==t.n\u001b[39;00m\n\u001b[0;32m    808\u001b[0m     t\u001b[39m.\u001b[39mupdate(n\u001b[39m=\u001b[39m\u001b[39m1\u001b[39m \u001b[39mif\u001b[39;00m \u001b[39mnot\u001b[39;00m t\u001b[39m.\u001b[39mtotal \u001b[39mor\u001b[39;00m t\u001b[39m.\u001b[39mn \u001b[39m<\u001b[39m t\u001b[39m.\u001b[39mtotal \u001b[39melse\u001b[39;00m \u001b[39m0\u001b[39m)\n\u001b[1;32m--> 809\u001b[0m     \u001b[39mreturn\u001b[39;00m func(\u001b[39m*\u001b[39margs, \u001b[39m*\u001b[39m\u001b[39m*\u001b[39mkwargs)\n",
      "\u001b[1;32mc:\\Users\\zuzal\\Masters\\02805 Social graphs\\finalproject_socialgraphs22-1\\Notebooks\\Recipes_graph.ipynb Komórka 5\u001b[0m in \u001b[0;36m<lambda>\u001b[1;34m(x)\u001b[0m\n\u001b[0;32m     <a href='vscode-notebook-cell:/c%3A/Users/zuzal/Masters/02805%20Social%20graphs/finalproject_socialgraphs22-1/Notebooks/Recipes_graph.ipynb#W4sZmlsZQ%3D%3D?line=18'>19</a>\u001b[0m df_recipes[\u001b[39m'\u001b[39m\u001b[39medges\u001b[39m\u001b[39m'\u001b[39m] \u001b[39m=\u001b[39m \u001b[39m0\u001b[39m\n\u001b[0;32m     <a href='vscode-notebook-cell:/c%3A/Users/zuzal/Masters/02805%20Social%20graphs/finalproject_socialgraphs22-1/Notebooks/Recipes_graph.ipynb#W4sZmlsZQ%3D%3D?line=19'>20</a>\u001b[0m df_recipes[\u001b[39m'\u001b[39m\u001b[39medges\u001b[39m\u001b[39m'\u001b[39m] \u001b[39m=\u001b[39m df_recipes[\u001b[39m'\u001b[39m\u001b[39medges\u001b[39m\u001b[39m'\u001b[39m]\u001b[39m.\u001b[39mastype(\u001b[39mobject\u001b[39m)\n\u001b[1;32m---> <a href='vscode-notebook-cell:/c%3A/Users/zuzal/Masters/02805%20Social%20graphs/finalproject_socialgraphs22-1/Notebooks/Recipes_graph.ipynb#W4sZmlsZQ%3D%3D?line=20'>21</a>\u001b[0m df_recipes[\u001b[39m'\u001b[39m\u001b[39medges\u001b[39m\u001b[39m'\u001b[39m] \u001b[39m=\u001b[39m df_recipes\u001b[39m.\u001b[39mprogress_apply(\u001b[39mlambda\u001b[39;00m x: find_edges(x), axis\u001b[39m=\u001b[39m\u001b[39m1\u001b[39m)\n",
      "\u001b[1;32mc:\\Users\\zuzal\\Masters\\02805 Social graphs\\finalproject_socialgraphs22-1\\Notebooks\\Recipes_graph.ipynb Komórka 5\u001b[0m in \u001b[0;36mfind_edges\u001b[1;34m(row_base)\u001b[0m\n\u001b[0;32m      <a href='vscode-notebook-cell:/c%3A/Users/zuzal/Masters/02805%20Social%20graphs/finalproject_socialgraphs22-1/Notebooks/Recipes_graph.ipynb#W4sZmlsZQ%3D%3D?line=6'>7</a>\u001b[0m \u001b[39mdef\u001b[39;00m \u001b[39mfind_edges\u001b[39m(row_base):\n\u001b[0;32m      <a href='vscode-notebook-cell:/c%3A/Users/zuzal/Masters/02805%20Social%20graphs/finalproject_socialgraphs22-1/Notebooks/Recipes_graph.ipynb#W4sZmlsZQ%3D%3D?line=7'>8</a>\u001b[0m     edges\u001b[39m=\u001b[39m[]\n\u001b[1;32m----> <a href='vscode-notebook-cell:/c%3A/Users/zuzal/Masters/02805%20Social%20graphs/finalproject_socialgraphs22-1/Notebooks/Recipes_graph.ipynb#W4sZmlsZQ%3D%3D?line=8'>9</a>\u001b[0m     \u001b[39mfor\u001b[39;00m idx, row \u001b[39min\u001b[39;00m df_recipes\u001b[39m.\u001b[39miterrows():\n\u001b[0;32m     <a href='vscode-notebook-cell:/c%3A/Users/zuzal/Masters/02805%20Social%20graphs/finalproject_socialgraphs22-1/Notebooks/Recipes_graph.ipynb#W4sZmlsZQ%3D%3D?line=10'>11</a>\u001b[0m         intersection \u001b[39m=\u001b[39m \u001b[39mlist\u001b[39m(\u001b[39mset\u001b[39m(row[\u001b[39m'\u001b[39m\u001b[39mingredient_ids\u001b[39m\u001b[39m'\u001b[39m])\u001b[39m.\u001b[39mintersection(\u001b[39mset\u001b[39m(row_base[\u001b[39m'\u001b[39m\u001b[39mingredient_ids\u001b[39m\u001b[39m'\u001b[39m])))\n\u001b[0;32m     <a href='vscode-notebook-cell:/c%3A/Users/zuzal/Masters/02805%20Social%20graphs/finalproject_socialgraphs22-1/Notebooks/Recipes_graph.ipynb#W4sZmlsZQ%3D%3D?line=11'>12</a>\u001b[0m         \u001b[39m#print(intersection)\u001b[39;00m\n",
      "File \u001b[1;32mc:\\Users\\zuzal\\anaconda3\\lib\\site-packages\\pandas\\core\\frame.py:1324\u001b[0m, in \u001b[0;36mDataFrame.iterrows\u001b[1;34m(self)\u001b[0m\n\u001b[0;32m   1322\u001b[0m klass \u001b[39m=\u001b[39m \u001b[39mself\u001b[39m\u001b[39m.\u001b[39m_constructor_sliced\n\u001b[0;32m   1323\u001b[0m \u001b[39mfor\u001b[39;00m k, v \u001b[39min\u001b[39;00m \u001b[39mzip\u001b[39m(\u001b[39mself\u001b[39m\u001b[39m.\u001b[39mindex, \u001b[39mself\u001b[39m\u001b[39m.\u001b[39mvalues):\n\u001b[1;32m-> 1324\u001b[0m     s \u001b[39m=\u001b[39m klass(v, index\u001b[39m=\u001b[39;49mcolumns, name\u001b[39m=\u001b[39;49mk)\n\u001b[0;32m   1325\u001b[0m     \u001b[39myield\u001b[39;00m k, s\n",
      "File \u001b[1;32mc:\\Users\\zuzal\\anaconda3\\lib\\site-packages\\pandas\\core\\series.py:460\u001b[0m, in \u001b[0;36mSeries.__init__\u001b[1;34m(self, data, index, dtype, name, copy, fastpath)\u001b[0m\n\u001b[0;32m    457\u001b[0m             data \u001b[39m=\u001b[39m SingleArrayManager\u001b[39m.\u001b[39mfrom_array(data, index)\n\u001b[0;32m    459\u001b[0m NDFrame\u001b[39m.\u001b[39m\u001b[39m__init__\u001b[39m(\u001b[39mself\u001b[39m, data)\n\u001b[1;32m--> 460\u001b[0m \u001b[39mself\u001b[39m\u001b[39m.\u001b[39mname \u001b[39m=\u001b[39m name\n\u001b[0;32m    461\u001b[0m \u001b[39mself\u001b[39m\u001b[39m.\u001b[39m_set_axis(\u001b[39m0\u001b[39m, index, fastpath\u001b[39m=\u001b[39m\u001b[39mTrue\u001b[39;00m)\n",
      "File \u001b[1;32mc:\\Users\\zuzal\\anaconda3\\lib\\site-packages\\pandas\\core\\generic.py:5589\u001b[0m, in \u001b[0;36mNDFrame.__setattr__\u001b[1;34m(self, name, value)\u001b[0m\n\u001b[0;32m   5587\u001b[0m     \u001b[39mobject\u001b[39m\u001b[39m.\u001b[39m\u001b[39m__getattribute__\u001b[39m(\u001b[39mself\u001b[39m, name)\n\u001b[0;32m   5588\u001b[0m     \u001b[39mreturn\u001b[39;00m \u001b[39mobject\u001b[39m\u001b[39m.\u001b[39m\u001b[39m__setattr__\u001b[39m(\u001b[39mself\u001b[39m, name, value)\n\u001b[1;32m-> 5589\u001b[0m \u001b[39mexcept\u001b[39;00m \u001b[39mAttributeError\u001b[39;49;00m:\n\u001b[0;32m   5590\u001b[0m     \u001b[39mpass\u001b[39;00m\n\u001b[0;32m   5592\u001b[0m \u001b[39m# if this fails, go on to more involved attribute setting\u001b[39;00m\n\u001b[0;32m   5593\u001b[0m \u001b[39m# (note that this matches __getattr__, above).\u001b[39;00m\n",
      "\u001b[1;31mKeyboardInterrupt\u001b[0m: "
     ]
    }
   ],
   "source": [
    "from tqdm import tqdm\n",
    "\n",
    "# Create new `pandas` methods which use `tqdm` progress\n",
    "# (can use tqdm_gui, optional kwargs, etc.)\n",
    "tqdm.pandas()\n",
    "\n",
    "def find_edges(row_base):\n",
    "    edges=[]\n",
    "    for idx, row in df_recipes.iterrows():\n",
    "    \n",
    "        intersection = list(set(row['ingredient_ids']).intersection(set(row_base['ingredient_ids'])))\n",
    "        #print(intersection)\n",
    "        if len(intersection)>0:\n",
    "            edges.append((row['id'], row_base['id'], {'ingredient_num': len(intersection)}, {'ingredients': list}))\n",
    "            #df_filtr=df_recipes[df_recipes['ingredient_ids_str'].str.contains(str(item)) ]\n",
    "            #edges.append([(row['id'], id, {'ingredient': item}) for id in df_filtr['id'].values if id!=row['id']])\n",
    "    return edges\n",
    "\n",
    "df_recipes['edges'] = 0\n",
    "df_recipes['edges'] = df_recipes['edges'].astype(object)\n",
    "df_recipes['edges'] = df_recipes.progress_apply(lambda x: find_edges(x), axis=1)\n"
   ]
  },
  {
   "cell_type": "code",
   "execution_count": 10,
   "metadata": {},
   "outputs": [
    {
     "data": {
      "text/html": [
       "<div>\n",
       "<style scoped>\n",
       "    .dataframe tbody tr th:only-of-type {\n",
       "        vertical-align: middle;\n",
       "    }\n",
       "\n",
       "    .dataframe tbody tr th {\n",
       "        vertical-align: top;\n",
       "    }\n",
       "\n",
       "    .dataframe thead th {\n",
       "        text-align: right;\n",
       "    }\n",
       "</style>\n",
       "<table border=\"1\" class=\"dataframe\">\n",
       "  <thead>\n",
       "    <tr style=\"text-align: right;\">\n",
       "      <th></th>\n",
       "      <th>name</th>\n",
       "      <th>id</th>\n",
       "      <th>minutes</th>\n",
       "      <th>ingredients</th>\n",
       "      <th>n_ingredients</th>\n",
       "      <th>ingredient_ids</th>\n",
       "      <th>ingredient_ids_str</th>\n",
       "    </tr>\n",
       "  </thead>\n",
       "  <tbody>\n",
       "    <tr>\n",
       "      <th>0</th>\n",
       "      <td>arriba   baked winter squash mexican style</td>\n",
       "      <td>137739</td>\n",
       "      <td>55</td>\n",
       "      <td>['winter squash', 'mexican seasoning', 'mixed ...</td>\n",
       "      <td>7</td>\n",
       "      <td>[7933, 4694, 4795, 3723, 840, 5006, 6270]</td>\n",
       "      <td>[7933, 4694, 4795, 3723, 840, 5006, 6270]</td>\n",
       "    </tr>\n",
       "    <tr>\n",
       "      <th>1</th>\n",
       "      <td>a bit different  breakfast pizza</td>\n",
       "      <td>31490</td>\n",
       "      <td>30</td>\n",
       "      <td>['prepared pizza crust', 'sausage patty', 'egg...</td>\n",
       "      <td>6</td>\n",
       "      <td>[5481, 6324, 2499, 4717, 6276, 1170]</td>\n",
       "      <td>[5481, 6324, 2499, 4717, 6276, 1170]</td>\n",
       "    </tr>\n",
       "    <tr>\n",
       "      <th>2</th>\n",
       "      <td>alouette  potatoes</td>\n",
       "      <td>59389</td>\n",
       "      <td>45</td>\n",
       "      <td>['spreadable cheese with garlic and herbs', 'n...</td>\n",
       "      <td>11</td>\n",
       "      <td>[1170, 4918, 6426, 5185, 7099, 5006, 6009, 627...</td>\n",
       "      <td>[1170, 4918, 6426, 5185, 7099, 5006, 6009, 627...</td>\n",
       "    </tr>\n",
       "    <tr>\n",
       "      <th>3</th>\n",
       "      <td>apple a day  milk shake</td>\n",
       "      <td>5289</td>\n",
       "      <td>0</td>\n",
       "      <td>['milk', 'vanilla ice cream', 'frozen apple ju...</td>\n",
       "      <td>4</td>\n",
       "      <td>[4717, 7474, 2946, 150]</td>\n",
       "      <td>[4717, 7474, 2946, 150]</td>\n",
       "    </tr>\n",
       "    <tr>\n",
       "      <th>4</th>\n",
       "      <td>aww  marinated olives</td>\n",
       "      <td>25274</td>\n",
       "      <td>15</td>\n",
       "      <td>['fennel seeds', 'green olives', 'ripe olives'...</td>\n",
       "      <td>9</td>\n",
       "      <td>[2587, 3437, 5002, 3184, 5324, 5068, 5058, 131...</td>\n",
       "      <td>[2587, 3437, 5002, 3184, 5324, 5068, 5058, 131...</td>\n",
       "    </tr>\n",
       "  </tbody>\n",
       "</table>\n",
       "</div>"
      ],
      "text/plain": [
       "                                         name      id  minutes  \\\n",
       "0  arriba   baked winter squash mexican style  137739       55   \n",
       "1            a bit different  breakfast pizza   31490       30   \n",
       "2                          alouette  potatoes   59389       45   \n",
       "3                     apple a day  milk shake    5289        0   \n",
       "4                       aww  marinated olives   25274       15   \n",
       "\n",
       "                                         ingredients  n_ingredients  \\\n",
       "0  ['winter squash', 'mexican seasoning', 'mixed ...              7   \n",
       "1  ['prepared pizza crust', 'sausage patty', 'egg...              6   \n",
       "2  ['spreadable cheese with garlic and herbs', 'n...             11   \n",
       "3  ['milk', 'vanilla ice cream', 'frozen apple ju...              4   \n",
       "4  ['fennel seeds', 'green olives', 'ripe olives'...              9   \n",
       "\n",
       "                                      ingredient_ids  \\\n",
       "0          [7933, 4694, 4795, 3723, 840, 5006, 6270]   \n",
       "1               [5481, 6324, 2499, 4717, 6276, 1170]   \n",
       "2  [1170, 4918, 6426, 5185, 7099, 5006, 6009, 627...   \n",
       "3                            [4717, 7474, 2946, 150]   \n",
       "4  [2587, 3437, 5002, 3184, 5324, 5068, 5058, 131...   \n",
       "\n",
       "                                  ingredient_ids_str  \n",
       "0          [7933, 4694, 4795, 3723, 840, 5006, 6270]  \n",
       "1               [5481, 6324, 2499, 4717, 6276, 1170]  \n",
       "2  [1170, 4918, 6426, 5185, 7099, 5006, 6009, 627...  \n",
       "3                            [4717, 7474, 2946, 150]  \n",
       "4  [2587, 3437, 5002, 3184, 5324, 5068, 5058, 131...  "
      ]
     },
     "execution_count": 10,
     "metadata": {},
     "output_type": "execute_result"
    }
   ],
   "source": [
    "df_recipes.head()"
   ]
  },
  {
   "cell_type": "code",
   "execution_count": null,
   "metadata": {},
   "outputs": [],
   "source": []
  }
 ],
 "metadata": {
  "kernelspec": {
   "display_name": "Python 3.9.12 ('base')",
   "language": "python",
   "name": "python3"
  },
  "language_info": {
   "codemirror_mode": {
    "name": "ipython",
    "version": 3
   },
   "file_extension": ".py",
   "mimetype": "text/x-python",
   "name": "python",
   "nbconvert_exporter": "python",
   "pygments_lexer": "ipython3",
   "version": "3.9.12"
  },
  "orig_nbformat": 4,
  "vscode": {
   "interpreter": {
    "hash": "ae76f66b0e20ae088c95dc276d5ec87971d62f005d0264dd9d38a6484844417b"
   }
  }
 },
 "nbformat": 4,
 "nbformat_minor": 2
}

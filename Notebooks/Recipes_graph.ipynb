{
 "cells": [
  {
   "cell_type": "code",
   "execution_count": 14,
   "metadata": {},
   "outputs": [],
   "source": [
    "import pandas as pd\n",
    "import numpy as np\n",
    "import matplotlib.pyplot as plt \n",
    "\n",
    "import os\n",
    "import sys\n",
    "sys.path.append(os.path.abspath(\"../Notebooks\"))\n",
    "from helper_functions import  *"
   ]
  },
  {
   "cell_type": "code",
   "execution_count": 15,
   "metadata": {},
   "outputs": [],
   "source": [
    "\n",
    "# Read compressed csv with built-in gzip support\n",
    "data_reviews = decompress_pickle('../Data/reviews_zipped.pbz2') \n",
    "df_recipes= pd.read_csv('../Data/final_datav3.csv', compression='gzip') \n",
    "\n",
    "df_recipes['ingredient_ids_str'] = df_recipes.loc[:, 'ingredient_ids']\n",
    "df_recipes['ingredient_ids']=df_recipes.ingredient_ids.apply(lambda x : convert_type(x))\n",
    "\n"
   ]
  },
  {
   "cell_type": "markdown",
   "metadata": {},
   "source": [
    "Create a graph"
   ]
  },
  {
   "cell_type": "code",
   "execution_count": 16,
   "metadata": {},
   "outputs": [
    {
     "name": "stdout",
     "output_type": "stream",
     "text": [
      "MultiDiGraph with 178265 nodes and 0 edges\n"
     ]
    },
    {
     "data": {
      "text/plain": [
       "\"\\ncol_one_list = df_marvel['edges'].tolist()\\ncol_one_listDC=(df_DC['edges'].tolist())\\n\\nedges_values_list= col_one_list + col_one_listDC\\n\\ndef flatten(l):\\n    return [item for sublist in l for item in sublist]\\n\\nedges_values_tuples = flatten(edges_values_list)\\n\\nG.add_edges_from(edges_values_tuples)\\nprint(G)\\n\""
      ]
     },
     "execution_count": 16,
     "metadata": {},
     "output_type": "execute_result"
    }
   ],
   "source": [
    "#!pip install networkx\n",
    "import networkx as nx\n",
    "\n",
    "G = nx.MultiDiGraph()\n",
    "G.add_nodes_from(df_recipes['id'].values, name=df_recipes['name'].values, n_ingredients=df_recipes['n_ingredients'].values)\n",
    "print(G)\n",
    "\n",
    "'''\n",
    "col_one_list = df_marvel['edges'].tolist()\n",
    "col_one_listDC=(df_DC['edges'].tolist())\n",
    "\n",
    "edges_values_list= col_one_list + col_one_listDC\n",
    "\n",
    "def flatten(l):\n",
    "    return [item for sublist in l for item in sublist]\n",
    "\n",
    "edges_values_tuples = flatten(edges_values_list)\n",
    "\n",
    "G.add_edges_from(edges_values_tuples)\n",
    "print(G)\n",
    "'''"
   ]
  },
  {
   "cell_type": "code",
   "execution_count": null,
   "metadata": {},
   "outputs": [],
   "source": [
    "for index,row in df_recipes.iterrows():\n",
    "    for item in row['ingredient_ids']:\n",
    "        print (item)\n",
    "        df_filtr=df_recipes[df_recipes['ingredient_ids_str'].str.contains(str(item)) ]\n",
    "        edges=[(row['id'], id, {'ingredient: item'}) for id in df_filtr['id'].values if id!=row['id']]\n",
    "    break\n",
    "print(edges)"
   ]
  },
  {
   "cell_type": "code",
   "execution_count": null,
   "metadata": {},
   "outputs": [],
   "source": [
    "name = 'test'\n",
    "df_filtr=df_recipes[df_recipes.loc[lambda x : x ]]\n",
    "#df_filtr=df_recipes[df_recipes['ingredient_ids'].str.contains('4694')]\n",
    "edges=[(name, id, {'ingredient: idx'}) for id in df_filtr['id'].values]\n",
    "edges"
   ]
  },
  {
   "cell_type": "code",
   "execution_count": null,
   "metadata": {},
   "outputs": [],
   "source": [
    "for id in df_filtr['id'].values:\n",
    "    print(id)"
   ]
  },
  {
   "cell_type": "code",
   "execution_count": null,
   "metadata": {},
   "outputs": [],
   "source": []
  }
 ],
 "metadata": {
  "kernelspec": {
   "display_name": "Python 3.8.12 ('base')",
   "language": "python",
   "name": "python3"
  },
  "language_info": {
   "codemirror_mode": {
    "name": "ipython",
    "version": 3
   },
   "file_extension": ".py",
   "mimetype": "text/x-python",
   "name": "python",
   "nbconvert_exporter": "python",
   "pygments_lexer": "ipython3",
   "version": "3.8.12"
  },
  "orig_nbformat": 4,
  "vscode": {
   "interpreter": {
    "hash": "dd67d5026f11b9bb6db4da73e555964d530e0e075e26b3ee03294e4d81583c06"
   }
  }
 },
 "nbformat": 4,
 "nbformat_minor": 2
}

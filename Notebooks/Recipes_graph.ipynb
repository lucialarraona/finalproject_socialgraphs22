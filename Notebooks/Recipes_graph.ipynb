{
 "cells": [
  {
   "cell_type": "code",
   "execution_count": null,
   "metadata": {},
   "outputs": [],
   "source": [
    "import pandas as pd\n",
    "import numpy as np\n",
    "import matplotlib.pyplot as plt \n",
    "\n",
    "import os\n",
    "import sys\n",
    "sys.path.append(os.path.abspath(\"../Notebooks\"))\n",
    "from helper_functions import  *"
   ]
  },
  {
   "cell_type": "code",
   "execution_count": null,
   "metadata": {},
   "outputs": [],
   "source": [
    "# Read compressed csv with built-in gzip support\n",
    "df_recipes = decompress_pickle('../Data/file4.pbz2') \n",
    "df_ingredients = pd.read_csv('../Data/ingredients_with_recipies.csv')"
   ]
  },
  {
   "cell_type": "markdown",
   "metadata": {},
   "source": [
    "Create a graph"
   ]
  },
  {
   "cell_type": "code",
   "execution_count": null,
   "metadata": {},
   "outputs": [],
   "source": [
    "from tqdm import tqdm\n",
    "#Define a dictionary for every ingredient with a list of recipes\n",
    "\n",
    "\n",
    "ing_dict = { id: [] for id in df_ingredients['id'].unique()} #as we are not taking all of the recipes some list will be empty at the end\n",
    "\n",
    "\n",
    "for idx, row in tqdm(df_recipes.iterrows()): \n",
    "    #\n",
    "    for ingredient in row['ingredient_ids']:\n",
    "        ing_dict[ingredient].append(row['id'])"
   ]
  },
  {
   "cell_type": "code",
   "execution_count": 14,
   "metadata": {},
   "outputs": [],
   "source": [
    "#Needs to be finished\n",
    "from itertools import combinations\n",
    "    \n",
    "edges = [(x,y, {\"ingredient\": key})  for key in ing_dict for x, y in list(combinations(ing_dict[key], 2))]   \n",
    "\n",
    "# All possible pairs in List\n",
    "# Using combinations()\n"
   ]
  },
  {
   "cell_type": "code",
   "execution_count": 25,
   "metadata": {},
   "outputs": [
    {
     "name": "stdout",
     "output_type": "stream",
     "text": [
      "MultiDiGraph with 178265 nodes and 14699952 edges\n"
     ]
    }
   ],
   "source": [
    "#!pip install networkx\n",
    "import networkx as nx\n",
    "\n",
    "G = nx.MultiDiGraph()\n",
    "G.add_nodes_from(df_recipes['id'].values, name=df_recipes['name'].values, n_ingredients=df_recipes['n_ingredients'].values)\n",
    "print(G)\n",
    "\n",
    "G.add_edges_from(edges)\n",
    "print(G)"
   ]
  },
  {
   "cell_type": "code",
   "execution_count": 28,
   "metadata": {},
   "outputs": [
    {
     "data": {
      "image/png": "[encoded data removed]",
      "text/plain": [
       "<Figure size 432x288 with 1 Axes>"
      ]
     },
     "metadata": {
      "needs_background": "light"
     },
     "output_type": "display_data"
    },
    {
     "name": "stdout",
     "output_type": "stream",
     "text": [
      "Slope of distribution: -0.01890041029842691\n"
     ]
    }
   ],
   "source": [
    "\n",
    "# In and out degree distributions & slope estimate(W5)\n",
    "def plot_deg_dist(G, title = str):\n",
    "\n",
    "    degree_list = [val for (node, val) in G.degree() if val != 0]\n",
    "\n",
    "    counts, edges = np.histogram(degree_list, bins = 100)\n",
    "    plt.bar(edges[:-1], counts, width=np.diff(edges))\n",
    "    plt.title(title)\n",
    "    plt.xlabel('Degree of the node')\n",
    "    plt.ylabel('Frequency')\n",
    "    plt.show()\n",
    "    idx = np.isfinite(np.log(edges[:10])) & np.isfinite(np.log(counts[:10]))\n",
    "    slope, intercept = np.polyfit(np.log(edges[:10])[idx], np.log(counts[:10])[idx], 1)\n",
    "    print(f'Slope of distribution: {slope}')\n",
    "\n",
    "plot_deg_dist(G, title = 'Degree distribution')  \n",
    "    "
   ]
  },
  {
   "cell_type": "code",
   "execution_count": 29,
   "metadata": {},
   "outputs": [
    {
     "data": {
      "image/png": "[encoded data removed]",
      "text/plain": [
       "<Figure size 432x288 with 1 Axes>"
      ]
     },
     "metadata": {
      "needs_background": "light"
     },
     "output_type": "display_data"
    },
    {
     "name": "stdout",
     "output_type": "stream",
     "text": [
      "Slope of distribution: 0.08060538198018356\n"
     ]
    }
   ],
   "source": [
    "G2 = nx.Graph(G)\n",
    "plot_deg_dist(G2, title = 'Degree distribution without multiple links')  "
   ]
  }
 ],
 "metadata": {
  "kernelspec": {
   "display_name": "Python 3.8.12 ('base')",
   "language": "python",
   "name": "python3"
  },
  "language_info": {
   "codemirror_mode": {
    "name": "ipython",
    "version": 3
   },
   "file_extension": ".py",
   "mimetype": "text/x-python",
   "name": "python",
   "nbconvert_exporter": "python",
   "pygments_lexer": "ipython3",
   "version": "3.8.12"
  },
  "orig_nbformat": 4,
  "vscode": {
   "interpreter": {
    "hash": "dd67d5026f11b9bb6db4da73e555964d530e0e075e26b3ee03294e4d81583c06"
   }
  }
 },
 "nbformat": 4,
 "nbformat_minor": 2
}

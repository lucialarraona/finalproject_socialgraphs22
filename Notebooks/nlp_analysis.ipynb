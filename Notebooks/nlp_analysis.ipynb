{
 "cells": [
  {
   "cell_type": "markdown",
   "metadata": {},
   "source": [
    "# NLP Analysis of reviews\n",
    "- Calculate sentiment and compare against the actual rating they user gave"
   ]
  },
  {
   "cell_type": "code",
   "execution_count": 13,
   "metadata": {},
   "outputs": [],
   "source": [
    "import pandas as pd\n",
    "import numpy as np\n",
    "import matplotlib.pyplot as plt \n",
    "\n",
    "import os\n",
    "import sys\n",
    "sys.path.append(os.path.abspath(\"/Users/lucialarraona/Desktop/finalproject_socialgraphs22/Notebooks\"))\n",
    "\n",
    "from helper_functions import  *\n",
    "\n",
    "import nltk \n",
    "from nltk.stem import PorterStemmer # para ver la raiz de las palabras(worker = work)\n",
    "from nltk.tokenize import sent_tokenize, word_tokenize # para tokenizar las frases y las palabras \n",
    "import re # regex\n",
    "import string\n",
    "\n",
    "nltk.download('omw-1.4') #needed for lemmatizing\n",
    "\n",
    "nltk.download('vader_lexicon')\n",
    "from nltk.sentiment.vader import SentimentIntensityAnalyzer # an nltk package for sentiment analysis :D"
   ]
  },
  {
   "cell_type": "code",
   "execution_count": 7,
   "metadata": {},
   "outputs": [
    {
     "name": "stdout",
     "output_type": "stream",
     "text": [
      "(1132367, 5)\n"
     ]
    },
    {
     "data": {
      "text/html": [
       "<div>\n",
       "<style scoped>\n",
       "    .dataframe tbody tr th:only-of-type {\n",
       "        vertical-align: middle;\n",
       "    }\n",
       "\n",
       "    .dataframe tbody tr th {\n",
       "        vertical-align: top;\n",
       "    }\n",
       "\n",
       "    .dataframe thead th {\n",
       "        text-align: right;\n",
       "    }\n",
       "</style>\n",
       "<table border=\"1\" class=\"dataframe\">\n",
       "  <thead>\n",
       "    <tr style=\"text-align: right;\">\n",
       "      <th></th>\n",
       "      <th>user_id</th>\n",
       "      <th>recipe_id</th>\n",
       "      <th>date</th>\n",
       "      <th>rating</th>\n",
       "      <th>review</th>\n",
       "    </tr>\n",
       "  </thead>\n",
       "  <tbody>\n",
       "    <tr>\n",
       "      <th>0</th>\n",
       "      <td>38094</td>\n",
       "      <td>40893</td>\n",
       "      <td>2003-02-17</td>\n",
       "      <td>4</td>\n",
       "      <td>Great with a salad. Cooked on top of stove for...</td>\n",
       "    </tr>\n",
       "    <tr>\n",
       "      <th>1</th>\n",
       "      <td>1293707</td>\n",
       "      <td>40893</td>\n",
       "      <td>2011-12-21</td>\n",
       "      <td>5</td>\n",
       "      <td>So simple, so delicious! Great for chilly fall...</td>\n",
       "    </tr>\n",
       "    <tr>\n",
       "      <th>2</th>\n",
       "      <td>8937</td>\n",
       "      <td>44394</td>\n",
       "      <td>2002-12-01</td>\n",
       "      <td>4</td>\n",
       "      <td>This worked very well and is EASY.  I used not...</td>\n",
       "    </tr>\n",
       "    <tr>\n",
       "      <th>3</th>\n",
       "      <td>126440</td>\n",
       "      <td>85009</td>\n",
       "      <td>2010-02-27</td>\n",
       "      <td>5</td>\n",
       "      <td>I made the Mexican topping and took it to bunk...</td>\n",
       "    </tr>\n",
       "    <tr>\n",
       "      <th>4</th>\n",
       "      <td>57222</td>\n",
       "      <td>85009</td>\n",
       "      <td>2011-10-01</td>\n",
       "      <td>5</td>\n",
       "      <td>Made the cheddar bacon topping, adding a sprin...</td>\n",
       "    </tr>\n",
       "  </tbody>\n",
       "</table>\n",
       "</div>"
      ],
      "text/plain": [
       "   user_id  recipe_id        date  rating  \\\n",
       "0    38094      40893  2003-02-17       4   \n",
       "1  1293707      40893  2011-12-21       5   \n",
       "2     8937      44394  2002-12-01       4   \n",
       "3   126440      85009  2010-02-27       5   \n",
       "4    57222      85009  2011-10-01       5   \n",
       "\n",
       "                                              review  \n",
       "0  Great with a salad. Cooked on top of stove for...  \n",
       "1  So simple, so delicious! Great for chilly fall...  \n",
       "2  This worked very well and is EASY.  I used not...  \n",
       "3  I made the Mexican topping and took it to bunk...  \n",
       "4  Made the cheddar bacon topping, adding a sprin...  "
      ]
     },
     "execution_count": 7,
     "metadata": {},
     "output_type": "execute_result"
    }
   ],
   "source": [
    "# With the reviews dataset, map the community for each user. \n",
    "\n",
    "df_reviews = decompress_pickle('../Data/reviews_zipped.pbz2') \n",
    "print(df_reviews.shape)\n",
    "df_reviews.head()"
   ]
  },
  {
   "cell_type": "code",
   "execution_count": 6,
   "metadata": {},
   "outputs": [
    {
     "name": "stdout",
     "output_type": "stream",
     "text": [
      "(15257, 2)\n"
     ]
    },
    {
     "data": {
      "text/html": [
       "<div>\n",
       "<style scoped>\n",
       "    .dataframe tbody tr th:only-of-type {\n",
       "        vertical-align: middle;\n",
       "    }\n",
       "\n",
       "    .dataframe tbody tr th {\n",
       "        vertical-align: top;\n",
       "    }\n",
       "\n",
       "    .dataframe thead th {\n",
       "        text-align: right;\n",
       "    }\n",
       "</style>\n",
       "<table border=\"1\" class=\"dataframe\">\n",
       "  <thead>\n",
       "    <tr style=\"text-align: right;\">\n",
       "      <th></th>\n",
       "      <th>user_id</th>\n",
       "      <th>community</th>\n",
       "    </tr>\n",
       "  </thead>\n",
       "  <tbody>\n",
       "    <tr>\n",
       "      <th>0</th>\n",
       "      <td>1535</td>\n",
       "      <td>7</td>\n",
       "    </tr>\n",
       "    <tr>\n",
       "      <th>1</th>\n",
       "      <td>3288</td>\n",
       "      <td>2</td>\n",
       "    </tr>\n",
       "    <tr>\n",
       "      <th>2</th>\n",
       "      <td>4439</td>\n",
       "      <td>7</td>\n",
       "    </tr>\n",
       "    <tr>\n",
       "      <th>3</th>\n",
       "      <td>4470</td>\n",
       "      <td>7</td>\n",
       "    </tr>\n",
       "    <tr>\n",
       "      <th>4</th>\n",
       "      <td>4769</td>\n",
       "      <td>35</td>\n",
       "    </tr>\n",
       "  </tbody>\n",
       "</table>\n",
       "</div>"
      ],
      "text/plain": [
       "   user_id  community\n",
       "0     1535          7\n",
       "1     3288          2\n",
       "2     4439          7\n",
       "3     4470          7\n",
       "4     4769         35"
      ]
     },
     "execution_count": 6,
     "metadata": {},
     "output_type": "execute_result"
    }
   ],
   "source": [
    "df_com_map = pd.read_csv('user_community_map.csv')\n",
    "print(df_com_map.shape)\n",
    "df_com_map.head()"
   ]
  },
  {
   "cell_type": "code",
   "execution_count": 10,
   "metadata": {},
   "outputs": [
    {
     "name": "stdout",
     "output_type": "stream",
     "text": [
      "(144295, 6)\n"
     ]
    },
    {
     "data": {
      "text/html": [
       "<div>\n",
       "<style scoped>\n",
       "    .dataframe tbody tr th:only-of-type {\n",
       "        vertical-align: middle;\n",
       "    }\n",
       "\n",
       "    .dataframe tbody tr th {\n",
       "        vertical-align: top;\n",
       "    }\n",
       "\n",
       "    .dataframe thead th {\n",
       "        text-align: right;\n",
       "    }\n",
       "</style>\n",
       "<table border=\"1\" class=\"dataframe\">\n",
       "  <thead>\n",
       "    <tr style=\"text-align: right;\">\n",
       "      <th></th>\n",
       "      <th>user_id</th>\n",
       "      <th>community</th>\n",
       "      <th>recipe_id</th>\n",
       "      <th>date</th>\n",
       "      <th>rating</th>\n",
       "      <th>review</th>\n",
       "    </tr>\n",
       "  </thead>\n",
       "  <tbody>\n",
       "    <tr>\n",
       "      <th>0</th>\n",
       "      <td>1535</td>\n",
       "      <td>7</td>\n",
       "      <td>349022</td>\n",
       "      <td>2010-02-11</td>\n",
       "      <td>4</td>\n",
       "      <td>After being w/o power all day, it came back on...</td>\n",
       "    </tr>\n",
       "    <tr>\n",
       "      <th>1</th>\n",
       "      <td>1535</td>\n",
       "      <td>7</td>\n",
       "      <td>50022</td>\n",
       "      <td>2004-09-09</td>\n",
       "      <td>5</td>\n",
       "      <td>This is an excellent recipe. Even my not-a-big...</td>\n",
       "    </tr>\n",
       "    <tr>\n",
       "      <th>2</th>\n",
       "      <td>1535</td>\n",
       "      <td>7</td>\n",
       "      <td>78834</td>\n",
       "      <td>2005-02-02</td>\n",
       "      <td>5</td>\n",
       "      <td>Made these for my kids one day as a surprise a...</td>\n",
       "    </tr>\n",
       "    <tr>\n",
       "      <th>3</th>\n",
       "      <td>1535</td>\n",
       "      <td>7</td>\n",
       "      <td>47474</td>\n",
       "      <td>2004-08-04</td>\n",
       "      <td>5</td>\n",
       "      <td>Love them!! A quick &amp; easy recipe with ingredi...</td>\n",
       "    </tr>\n",
       "    <tr>\n",
       "      <th>4</th>\n",
       "      <td>1535</td>\n",
       "      <td>7</td>\n",
       "      <td>230720</td>\n",
       "      <td>2007-07-02</td>\n",
       "      <td>5</td>\n",
       "      <td>I was a little afraid this might not work very...</td>\n",
       "    </tr>\n",
       "  </tbody>\n",
       "</table>\n",
       "</div>"
      ],
      "text/plain": [
       "   user_id  community  recipe_id        date  rating  \\\n",
       "0     1535          7     349022  2010-02-11       4   \n",
       "1     1535          7      50022  2004-09-09       5   \n",
       "2     1535          7      78834  2005-02-02       5   \n",
       "3     1535          7      47474  2004-08-04       5   \n",
       "4     1535          7     230720  2007-07-02       5   \n",
       "\n",
       "                                              review  \n",
       "0  After being w/o power all day, it came back on...  \n",
       "1  This is an excellent recipe. Even my not-a-big...  \n",
       "2  Made these for my kids one day as a surprise a...  \n",
       "3  Love them!! A quick & easy recipe with ingredi...  \n",
       "4  I was a little afraid this might not work very...  "
      ]
     },
     "execution_count": 10,
     "metadata": {},
     "output_type": "execute_result"
    }
   ],
   "source": [
    "df_reviews2 = pd.merge(df_com_map, df_reviews, how=\"left\", on=[\"user_id\"]) # merging left is using only the keys on the left df, in this case df_com_map\n",
    "print(df_reviews2.shape)\n",
    "df_reviews2.head()"
   ]
  },
  {
   "cell_type": "markdown",
   "metadata": {},
   "source": [
    "## Clean text from reviews"
   ]
  },
  {
   "cell_type": "code",
   "execution_count": 21,
   "metadata": {},
   "outputs": [],
   "source": [
    "#///////// TODO Clean text, remove punctuationn, stopwords, and lowercase all. \n",
    "#///////// TODO Tokenize and lemmatize \n",
    "\n",
    "def text_cleaning(text):\n",
    "    \n",
    "    text = text.lower()\n",
    "    text = re.sub('\\[.*?\\]', '', text)\n",
    "    text = re.sub(\"\\\\W\",\" \",text) # remove special chars\n",
    "    text = re.sub('https?://\\S+|www\\.\\S+', '', text)\n",
    "    text = re.sub('<.*?>+', '', text)\n",
    "    text = re.sub('[%s]' % re.escape(string.punctuation), '', text)\n",
    "    text = re.sub('\\n', '', text)\n",
    "    text = re.sub('\\w*\\d\\w*', '', text)\n",
    "    \n",
    "    return text\n",
    "\n",
    "stopwords = nltk.corpus.stopwords.words('english')\n",
    "\n",
    "ps = PorterStemmer()\n",
    "wn = nltk.WordNetLemmatizer()\n",
    "\n",
    "def clean_stem (review): \n",
    "\n",
    "    temp1 =\"\".join(x for x in review if x not in string.punctuation)\n",
    "    temp2 = re.split('\\W+',temp1.lower())\n",
    "    temp3 = [ps.stem(x) for x in temp2 if x not in stopwords]\n",
    "    return temp3\n",
    "\n",
    "\n",
    "def clean_lemma (review):\n",
    "    \n",
    "    temp1 =\"\".join(x for x in review if x not in string.punctuation)\n",
    "    temp2 = re.split('\\W+',temp1.lower())\n",
    "    temp3 = [wn.lemmatize(x) for x in temp2 if x not in stopwords]\n",
    "    return temp3\n",
    "\n",
    "\n",
    "df_reviews2['review'] =df_reviews2['review'] .astype('str')  # object to string\n",
    "df_reviews2['review'] = df_reviews2['review'] .apply(text_cleaning) # cleaning \n",
    "df_reviews2['review_clean']= df_reviews2['review'].map(clean_lemma) # apply lemmatization for now\n",
    "\n"
   ]
  },
  {
   "cell_type": "code",
   "execution_count": 23,
   "metadata": {},
   "outputs": [
    {
     "data": {
      "text/html": [
       "<div>\n",
       "<style scoped>\n",
       "    .dataframe tbody tr th:only-of-type {\n",
       "        vertical-align: middle;\n",
       "    }\n",
       "\n",
       "    .dataframe tbody tr th {\n",
       "        vertical-align: top;\n",
       "    }\n",
       "\n",
       "    .dataframe thead th {\n",
       "        text-align: right;\n",
       "    }\n",
       "</style>\n",
       "<table border=\"1\" class=\"dataframe\">\n",
       "  <thead>\n",
       "    <tr style=\"text-align: right;\">\n",
       "      <th></th>\n",
       "      <th>user_id</th>\n",
       "      <th>community</th>\n",
       "      <th>recipe_id</th>\n",
       "      <th>date</th>\n",
       "      <th>rating</th>\n",
       "      <th>review</th>\n",
       "      <th>review_clean</th>\n",
       "    </tr>\n",
       "  </thead>\n",
       "  <tbody>\n",
       "    <tr>\n",
       "      <th>0</th>\n",
       "      <td>1535</td>\n",
       "      <td>7</td>\n",
       "      <td>349022</td>\n",
       "      <td>2010-02-11</td>\n",
       "      <td>4</td>\n",
       "      <td>after being w o power all day  it came back on...</td>\n",
       "      <td>[w, power, day, came, back, right, bedtime, qu...</td>\n",
       "    </tr>\n",
       "    <tr>\n",
       "      <th>1</th>\n",
       "      <td>1535</td>\n",
       "      <td>7</td>\n",
       "      <td>50022</td>\n",
       "      <td>2004-09-09</td>\n",
       "      <td>5</td>\n",
       "      <td>this is an excellent recipe  even my not a big...</td>\n",
       "      <td>[excellent, recipe, even, big, fan, banana, br...</td>\n",
       "    </tr>\n",
       "    <tr>\n",
       "      <th>2</th>\n",
       "      <td>1535</td>\n",
       "      <td>7</td>\n",
       "      <td>78834</td>\n",
       "      <td>2005-02-02</td>\n",
       "      <td>5</td>\n",
       "      <td>made these for my kids one day as a surprise a...</td>\n",
       "      <td>[made, kid, one, day, surprise, thought, reall...</td>\n",
       "    </tr>\n",
       "    <tr>\n",
       "      <th>3</th>\n",
       "      <td>1535</td>\n",
       "      <td>7</td>\n",
       "      <td>47474</td>\n",
       "      <td>2004-08-04</td>\n",
       "      <td>5</td>\n",
       "      <td>love them   a quick   easy recipe with ingredi...</td>\n",
       "      <td>[love, quick, easy, recipe, ingredient, always...</td>\n",
       "    </tr>\n",
       "    <tr>\n",
       "      <th>4</th>\n",
       "      <td>1535</td>\n",
       "      <td>7</td>\n",
       "      <td>230720</td>\n",
       "      <td>2007-07-02</td>\n",
       "      <td>5</td>\n",
       "      <td>i was a little afraid this might not work very...</td>\n",
       "      <td>[little, afraid, might, work, well, turned, lo...</td>\n",
       "    </tr>\n",
       "  </tbody>\n",
       "</table>\n",
       "</div>"
      ],
      "text/plain": [
       "   user_id  community  recipe_id        date  rating  \\\n",
       "0     1535          7     349022  2010-02-11       4   \n",
       "1     1535          7      50022  2004-09-09       5   \n",
       "2     1535          7      78834  2005-02-02       5   \n",
       "3     1535          7      47474  2004-08-04       5   \n",
       "4     1535          7     230720  2007-07-02       5   \n",
       "\n",
       "                                              review  \\\n",
       "0  after being w o power all day  it came back on...   \n",
       "1  this is an excellent recipe  even my not a big...   \n",
       "2  made these for my kids one day as a surprise a...   \n",
       "3  love them   a quick   easy recipe with ingredi...   \n",
       "4  i was a little afraid this might not work very...   \n",
       "\n",
       "                                        review_clean  \n",
       "0  [w, power, day, came, back, right, bedtime, qu...  \n",
       "1  [excellent, recipe, even, big, fan, banana, br...  \n",
       "2  [made, kid, one, day, surprise, thought, reall...  \n",
       "3  [love, quick, easy, recipe, ingredient, always...  \n",
       "4  [little, afraid, might, work, well, turned, lo...  "
      ]
     },
     "execution_count": 23,
     "metadata": {},
     "output_type": "execute_result"
    }
   ],
   "source": [
    "df_reviews2.head()"
   ]
  },
  {
   "cell_type": "code",
   "execution_count": 20,
   "metadata": {},
   "outputs": [
    {
     "name": "stdout",
     "output_type": "stream",
     "text": [
      "made these for my kids one day as a surprise and they thought they were really neat  being a perfectionist  i did have to make  legs but that s just me  an easy way to add some fun to lunch \n",
      "['made', 'kid', 'one', 'day', 'surprise', 'thought', 'really', 'neat', 'perfectionist', 'make', 'leg', 'easy', 'way', 'add', 'fun', 'lunch', '']\n",
      "\n",
      "made these for my kids one day as a surprise and they thought they were really neat  being a perfectionist  i did have to make  legs but that s just me  an easy way to add some fun to lunch \n",
      "['made', 'kid', 'one', 'day', 'surpris', 'thought', 'realli', 'neat', 'perfectionist', 'make', 'leg', 'easi', 'way', 'add', 'fun', 'lunch', '']\n"
     ]
    }
   ],
   "source": [
    "#//// Sanity check of differneces between lemmatizing and stemming\n",
    "print(df_reviews2['review'][2])\n",
    "print(clean_lemma(df_reviews2['review'][2]))\n",
    "print()\n",
    "print(df_reviews2['review'][2])\n",
    "print(clean_stem(df_reviews2['review'][2]))"
   ]
  },
  {
   "cell_type": "code",
   "execution_count": 28,
   "metadata": {},
   "outputs": [
    {
     "data": {
      "text/html": [
       "<div>\n",
       "<style scoped>\n",
       "    .dataframe tbody tr th:only-of-type {\n",
       "        vertical-align: middle;\n",
       "    }\n",
       "\n",
       "    .dataframe tbody tr th {\n",
       "        vertical-align: top;\n",
       "    }\n",
       "\n",
       "    .dataframe thead th {\n",
       "        text-align: right;\n",
       "    }\n",
       "</style>\n",
       "<table border=\"1\" class=\"dataframe\">\n",
       "  <thead>\n",
       "    <tr style=\"text-align: right;\">\n",
       "      <th></th>\n",
       "      <th>user_id</th>\n",
       "      <th>community</th>\n",
       "      <th>recipe_id</th>\n",
       "      <th>date</th>\n",
       "      <th>rating</th>\n",
       "      <th>review</th>\n",
       "      <th>review_clean</th>\n",
       "      <th>score</th>\n",
       "      <th>sentiment</th>\n",
       "    </tr>\n",
       "  </thead>\n",
       "  <tbody>\n",
       "    <tr>\n",
       "      <th>0</th>\n",
       "      <td>1535</td>\n",
       "      <td>7</td>\n",
       "      <td>349022</td>\n",
       "      <td>2010-02-11</td>\n",
       "      <td>4</td>\n",
       "      <td>after being w o power all day  it came back on...</td>\n",
       "      <td>[w, power, day, came, back, right, bedtime, qu...</td>\n",
       "      <td>0.8481</td>\n",
       "      <td>Positive</td>\n",
       "    </tr>\n",
       "    <tr>\n",
       "      <th>1</th>\n",
       "      <td>1535</td>\n",
       "      <td>7</td>\n",
       "      <td>50022</td>\n",
       "      <td>2004-09-09</td>\n",
       "      <td>5</td>\n",
       "      <td>this is an excellent recipe  even my not a big...</td>\n",
       "      <td>[excellent, recipe, even, big, fan, banana, br...</td>\n",
       "      <td>0.9707</td>\n",
       "      <td>Positive</td>\n",
       "    </tr>\n",
       "    <tr>\n",
       "      <th>2</th>\n",
       "      <td>1535</td>\n",
       "      <td>7</td>\n",
       "      <td>78834</td>\n",
       "      <td>2005-02-02</td>\n",
       "      <td>5</td>\n",
       "      <td>made these for my kids one day as a surprise a...</td>\n",
       "      <td>[made, kid, one, day, surprise, thought, reall...</td>\n",
       "      <td>0.9166</td>\n",
       "      <td>Positive</td>\n",
       "    </tr>\n",
       "    <tr>\n",
       "      <th>3</th>\n",
       "      <td>1535</td>\n",
       "      <td>7</td>\n",
       "      <td>47474</td>\n",
       "      <td>2004-08-04</td>\n",
       "      <td>5</td>\n",
       "      <td>love them   a quick   easy recipe with ingredi...</td>\n",
       "      <td>[love, quick, easy, recipe, ingredient, always...</td>\n",
       "      <td>0.6486</td>\n",
       "      <td>Positive</td>\n",
       "    </tr>\n",
       "    <tr>\n",
       "      <th>4</th>\n",
       "      <td>1535</td>\n",
       "      <td>7</td>\n",
       "      <td>230720</td>\n",
       "      <td>2007-07-02</td>\n",
       "      <td>5</td>\n",
       "      <td>i was a little afraid this might not work very...</td>\n",
       "      <td>[little, afraid, might, work, well, turned, lo...</td>\n",
       "      <td>0.9722</td>\n",
       "      <td>Positive</td>\n",
       "    </tr>\n",
       "  </tbody>\n",
       "</table>\n",
       "</div>"
      ],
      "text/plain": [
       "   user_id  community  recipe_id        date  rating  \\\n",
       "0     1535          7     349022  2010-02-11       4   \n",
       "1     1535          7      50022  2004-09-09       5   \n",
       "2     1535          7      78834  2005-02-02       5   \n",
       "3     1535          7      47474  2004-08-04       5   \n",
       "4     1535          7     230720  2007-07-02       5   \n",
       "\n",
       "                                              review  \\\n",
       "0  after being w o power all day  it came back on...   \n",
       "1  this is an excellent recipe  even my not a big...   \n",
       "2  made these for my kids one day as a surprise a...   \n",
       "3  love them   a quick   easy recipe with ingredi...   \n",
       "4  i was a little afraid this might not work very...   \n",
       "\n",
       "                                        review_clean   score sentiment  \n",
       "0  [w, power, day, came, back, right, bedtime, qu...  0.8481  Positive  \n",
       "1  [excellent, recipe, even, big, fan, banana, br...  0.9707  Positive  \n",
       "2  [made, kid, one, day, surprise, thought, reall...  0.9166  Positive  \n",
       "3  [love, quick, easy, recipe, ingredient, always...  0.6486  Positive  \n",
       "4  [little, afraid, might, work, well, turned, lo...  0.9722  Positive  "
      ]
     },
     "execution_count": 28,
     "metadata": {},
     "output_type": "execute_result"
    }
   ],
   "source": [
    "#/////// TODO Create sentiment calculator function \n",
    "sid = SentimentIntensityAnalyzer()\n",
    "\n",
    "\n",
    "# Sentiment compound value of reviews\n",
    "def sentiment(x):\n",
    "    score = sid.polarity_scores(x)\n",
    "    return score['compound']\n",
    "\n",
    "\n",
    "#  Add Positive y Negative tag \n",
    "def cls(x):\n",
    "    list1=[]\n",
    "    for i in x[\"score\"]:\n",
    "        if i>0:\n",
    "            list1.append(\"Positive\")\n",
    "        elif i==0:\n",
    "            list1.append(\"Neutral\")\n",
    "        else:\n",
    "            list1.append(\"Negative\")\n",
    "    x[\"sentiment\"]=list1\n",
    "\n",
    "\n",
    "\n",
    "df_reviews2['score']= df_reviews2['review'].apply(lambda x : sentiment(x)) #score\n",
    "cls(df_reviews2) # tag (for plotting)\n",
    "df_reviews2.head() \n"
   ]
  },
  {
   "cell_type": "code",
   "execution_count": 25,
   "metadata": {},
   "outputs": [
    {
     "data": {
      "text/html": [
       "<div>\n",
       "<style scoped>\n",
       "    .dataframe tbody tr th:only-of-type {\n",
       "        vertical-align: middle;\n",
       "    }\n",
       "\n",
       "    .dataframe tbody tr th {\n",
       "        vertical-align: top;\n",
       "    }\n",
       "\n",
       "    .dataframe thead th {\n",
       "        text-align: right;\n",
       "    }\n",
       "</style>\n",
       "<table border=\"1\" class=\"dataframe\">\n",
       "  <thead>\n",
       "    <tr style=\"text-align: right;\">\n",
       "      <th></th>\n",
       "      <th>user_id</th>\n",
       "      <th>community</th>\n",
       "      <th>recipe_id</th>\n",
       "      <th>date</th>\n",
       "      <th>rating</th>\n",
       "      <th>review</th>\n",
       "      <th>review_clean</th>\n",
       "      <th>score</th>\n",
       "    </tr>\n",
       "  </thead>\n",
       "  <tbody>\n",
       "    <tr>\n",
       "      <th>0</th>\n",
       "      <td>1535</td>\n",
       "      <td>7</td>\n",
       "      <td>349022</td>\n",
       "      <td>2010-02-11</td>\n",
       "      <td>4</td>\n",
       "      <td>after being w o power all day  it came back on...</td>\n",
       "      <td>[w, power, day, came, back, right, bedtime, qu...</td>\n",
       "      <td>0.8481</td>\n",
       "    </tr>\n",
       "    <tr>\n",
       "      <th>1</th>\n",
       "      <td>1535</td>\n",
       "      <td>7</td>\n",
       "      <td>50022</td>\n",
       "      <td>2004-09-09</td>\n",
       "      <td>5</td>\n",
       "      <td>this is an excellent recipe  even my not a big...</td>\n",
       "      <td>[excellent, recipe, even, big, fan, banana, br...</td>\n",
       "      <td>0.9707</td>\n",
       "    </tr>\n",
       "    <tr>\n",
       "      <th>2</th>\n",
       "      <td>1535</td>\n",
       "      <td>7</td>\n",
       "      <td>78834</td>\n",
       "      <td>2005-02-02</td>\n",
       "      <td>5</td>\n",
       "      <td>made these for my kids one day as a surprise a...</td>\n",
       "      <td>[made, kid, one, day, surprise, thought, reall...</td>\n",
       "      <td>0.9166</td>\n",
       "    </tr>\n",
       "    <tr>\n",
       "      <th>3</th>\n",
       "      <td>1535</td>\n",
       "      <td>7</td>\n",
       "      <td>47474</td>\n",
       "      <td>2004-08-04</td>\n",
       "      <td>5</td>\n",
       "      <td>love them   a quick   easy recipe with ingredi...</td>\n",
       "      <td>[love, quick, easy, recipe, ingredient, always...</td>\n",
       "      <td>0.6486</td>\n",
       "    </tr>\n",
       "    <tr>\n",
       "      <th>4</th>\n",
       "      <td>1535</td>\n",
       "      <td>7</td>\n",
       "      <td>230720</td>\n",
       "      <td>2007-07-02</td>\n",
       "      <td>5</td>\n",
       "      <td>i was a little afraid this might not work very...</td>\n",
       "      <td>[little, afraid, might, work, well, turned, lo...</td>\n",
       "      <td>0.9722</td>\n",
       "    </tr>\n",
       "  </tbody>\n",
       "</table>\n",
       "</div>"
      ],
      "text/plain": [
       "   user_id  community  recipe_id        date  rating  \\\n",
       "0     1535          7     349022  2010-02-11       4   \n",
       "1     1535          7      50022  2004-09-09       5   \n",
       "2     1535          7      78834  2005-02-02       5   \n",
       "3     1535          7      47474  2004-08-04       5   \n",
       "4     1535          7     230720  2007-07-02       5   \n",
       "\n",
       "                                              review  \\\n",
       "0  after being w o power all day  it came back on...   \n",
       "1  this is an excellent recipe  even my not a big...   \n",
       "2  made these for my kids one day as a surprise a...   \n",
       "3  love them   a quick   easy recipe with ingredi...   \n",
       "4  i was a little afraid this might not work very...   \n",
       "\n",
       "                                        review_clean   score  \n",
       "0  [w, power, day, came, back, right, bedtime, qu...  0.8481  \n",
       "1  [excellent, recipe, even, big, fan, banana, br...  0.9707  \n",
       "2  [made, kid, one, day, surprise, thought, reall...  0.9166  \n",
       "3  [love, quick, easy, recipe, ingredient, always...  0.6486  \n",
       "4  [little, afraid, might, work, well, turned, lo...  0.9722  "
      ]
     },
     "execution_count": 25,
     "metadata": {},
     "output_type": "execute_result"
    }
   ],
   "source": [
    "# Sentiment compound value of reviews\n",
    "def sentiment(x):\n",
    "    score = sid.polarity_scores(x)\n",
    "    return score['compound']\n",
    "\n",
    "df_reviews2['score']= df_reviews2['review'].apply(lambda x : sentiment(x))\n",
    "df_reviews2.head()"
   ]
  },
  {
   "cell_type": "code",
   "execution_count": 26,
   "metadata": {},
   "outputs": [
    {
     "data": {
      "text/html": [
       "<div>\n",
       "<style scoped>\n",
       "    .dataframe tbody tr th:only-of-type {\n",
       "        vertical-align: middle;\n",
       "    }\n",
       "\n",
       "    .dataframe tbody tr th {\n",
       "        vertical-align: top;\n",
       "    }\n",
       "\n",
       "    .dataframe thead th {\n",
       "        text-align: right;\n",
       "    }\n",
       "</style>\n",
       "<table border=\"1\" class=\"dataframe\">\n",
       "  <thead>\n",
       "    <tr style=\"text-align: right;\">\n",
       "      <th></th>\n",
       "      <th>user_id</th>\n",
       "      <th>community</th>\n",
       "      <th>recipe_id</th>\n",
       "      <th>date</th>\n",
       "      <th>rating</th>\n",
       "      <th>review</th>\n",
       "      <th>review_clean</th>\n",
       "      <th>score</th>\n",
       "      <th>sentiment</th>\n",
       "    </tr>\n",
       "  </thead>\n",
       "  <tbody>\n",
       "    <tr>\n",
       "      <th>0</th>\n",
       "      <td>1535</td>\n",
       "      <td>7</td>\n",
       "      <td>349022</td>\n",
       "      <td>2010-02-11</td>\n",
       "      <td>4</td>\n",
       "      <td>after being w o power all day  it came back on...</td>\n",
       "      <td>[w, power, day, came, back, right, bedtime, qu...</td>\n",
       "      <td>0.8481</td>\n",
       "      <td>Positive</td>\n",
       "    </tr>\n",
       "    <tr>\n",
       "      <th>1</th>\n",
       "      <td>1535</td>\n",
       "      <td>7</td>\n",
       "      <td>50022</td>\n",
       "      <td>2004-09-09</td>\n",
       "      <td>5</td>\n",
       "      <td>this is an excellent recipe  even my not a big...</td>\n",
       "      <td>[excellent, recipe, even, big, fan, banana, br...</td>\n",
       "      <td>0.9707</td>\n",
       "      <td>Positive</td>\n",
       "    </tr>\n",
       "    <tr>\n",
       "      <th>2</th>\n",
       "      <td>1535</td>\n",
       "      <td>7</td>\n",
       "      <td>78834</td>\n",
       "      <td>2005-02-02</td>\n",
       "      <td>5</td>\n",
       "      <td>made these for my kids one day as a surprise a...</td>\n",
       "      <td>[made, kid, one, day, surprise, thought, reall...</td>\n",
       "      <td>0.9166</td>\n",
       "      <td>Positive</td>\n",
       "    </tr>\n",
       "    <tr>\n",
       "      <th>3</th>\n",
       "      <td>1535</td>\n",
       "      <td>7</td>\n",
       "      <td>47474</td>\n",
       "      <td>2004-08-04</td>\n",
       "      <td>5</td>\n",
       "      <td>love them   a quick   easy recipe with ingredi...</td>\n",
       "      <td>[love, quick, easy, recipe, ingredient, always...</td>\n",
       "      <td>0.6486</td>\n",
       "      <td>Positive</td>\n",
       "    </tr>\n",
       "    <tr>\n",
       "      <th>4</th>\n",
       "      <td>1535</td>\n",
       "      <td>7</td>\n",
       "      <td>230720</td>\n",
       "      <td>2007-07-02</td>\n",
       "      <td>5</td>\n",
       "      <td>i was a little afraid this might not work very...</td>\n",
       "      <td>[little, afraid, might, work, well, turned, lo...</td>\n",
       "      <td>0.9722</td>\n",
       "      <td>Positive</td>\n",
       "    </tr>\n",
       "  </tbody>\n",
       "</table>\n",
       "</div>"
      ],
      "text/plain": [
       "   user_id  community  recipe_id        date  rating  \\\n",
       "0     1535          7     349022  2010-02-11       4   \n",
       "1     1535          7      50022  2004-09-09       5   \n",
       "2     1535          7      78834  2005-02-02       5   \n",
       "3     1535          7      47474  2004-08-04       5   \n",
       "4     1535          7     230720  2007-07-02       5   \n",
       "\n",
       "                                              review  \\\n",
       "0  after being w o power all day  it came back on...   \n",
       "1  this is an excellent recipe  even my not a big...   \n",
       "2  made these for my kids one day as a surprise a...   \n",
       "3  love them   a quick   easy recipe with ingredi...   \n",
       "4  i was a little afraid this might not work very...   \n",
       "\n",
       "                                        review_clean   score sentiment  \n",
       "0  [w, power, day, came, back, right, bedtime, qu...  0.8481  Positive  \n",
       "1  [excellent, recipe, even, big, fan, banana, br...  0.9707  Positive  \n",
       "2  [made, kid, one, day, surprise, thought, reall...  0.9166  Positive  \n",
       "3  [love, quick, easy, recipe, ingredient, always...  0.6486  Positive  \n",
       "4  [little, afraid, might, work, well, turned, lo...  0.9722  Positive  "
      ]
     },
     "execution_count": 26,
     "metadata": {},
     "output_type": "execute_result"
    }
   ],
   "source": [
    "#  Add Positive y Negative tag \n",
    "def cls(x):\n",
    "    list1=[]\n",
    "    for i in x[\"score\"]:\n",
    "        if i>0:\n",
    "            list1.append(\"Positive\")\n",
    "        elif i==0:\n",
    "            list1.append(\"Neutral\")\n",
    "        else:\n",
    "            list1.append(\"Negative\")\n",
    "    x[\"sentiment\"]=list1\n",
    "\n",
    "cls(df_reviews2)\n",
    "df_reviews2.head()"
   ]
  },
  {
   "cell_type": "code",
   "execution_count": 27,
   "metadata": {},
   "outputs": [
    {
     "data": {
      "application/vnd.plotly.v1+json": {
       "config": {
        "plotlyServerURL": "https://plot.ly"
       },
       "data": [
        {
         "hole": 0.4,
         "labels": [
          "Positive Comments",
          "Negative Comments",
          "Neutral Comments"
         ],
         "type": "pie",
         "values": [
          137231,
          3899,
          3165
         ]
        }
       ],
       "layout": {
        "template": {
         "data": {
          "bar": [
           {
            "error_x": {
             "color": "#2a3f5f"
            },
            "error_y": {
             "color": "#2a3f5f"
            },
            "marker": {
             "line": {
              "color": "#E5ECF6",
              "width": 0.5
             },
             "pattern": {
              "fillmode": "overlay",
              "size": 10,
              "solidity": 0.2
             }
            },
            "type": "bar"
           }
          ],
          "barpolar": [
           {
            "marker": {
             "line": {
              "color": "#E5ECF6",
              "width": 0.5
             },
             "pattern": {
              "fillmode": "overlay",
              "size": 10,
              "solidity": 0.2
             }
            },
            "type": "barpolar"
           }
          ],
          "carpet": [
           {
            "aaxis": {
             "endlinecolor": "#2a3f5f",
             "gridcolor": "white",
             "linecolor": "white",
             "minorgridcolor": "white",
             "startlinecolor": "#2a3f5f"
            },
            "baxis": {
             "endlinecolor": "#2a3f5f",
             "gridcolor": "white",
             "linecolor": "white",
             "minorgridcolor": "white",
             "startlinecolor": "#2a3f5f"
            },
            "type": "carpet"
           }
          ],
          "choropleth": [
           {
            "colorbar": {
             "outlinewidth": 0,
             "ticks": ""
            },
            "type": "choropleth"
           }
          ],
          "contour": [
           {
            "colorbar": {
             "outlinewidth": 0,
             "ticks": ""
            },
            "colorscale": [
             [
              0,
              "#0d0887"
             ],
             [
              0.1111111111111111,
              "#46039f"
             ],
             [
              0.2222222222222222,
              "#7201a8"
             ],
             [
              0.3333333333333333,
              "#9c179e"
             ],
             [
              0.4444444444444444,
              "#bd3786"
             ],
             [
              0.5555555555555556,
              "#d8576b"
             ],
             [
              0.6666666666666666,
              "#ed7953"
             ],
             [
              0.7777777777777778,
              "#fb9f3a"
             ],
             [
              0.8888888888888888,
              "#fdca26"
             ],
             [
              1,
              "#f0f921"
             ]
            ],
            "type": "contour"
           }
          ],
          "contourcarpet": [
           {
            "colorbar": {
             "outlinewidth": 0,
             "ticks": ""
            },
            "type": "contourcarpet"
           }
          ],
          "heatmap": [
           {
            "colorbar": {
             "outlinewidth": 0,
             "ticks": ""
            },
            "colorscale": [
             [
              0,
              "#0d0887"
             ],
             [
              0.1111111111111111,
              "#46039f"
             ],
             [
              0.2222222222222222,
              "#7201a8"
             ],
             [
              0.3333333333333333,
              "#9c179e"
             ],
             [
              0.4444444444444444,
              "#bd3786"
             ],
             [
              0.5555555555555556,
              "#d8576b"
             ],
             [
              0.6666666666666666,
              "#ed7953"
             ],
             [
              0.7777777777777778,
              "#fb9f3a"
             ],
             [
              0.8888888888888888,
              "#fdca26"
             ],
             [
              1,
              "#f0f921"
             ]
            ],
            "type": "heatmap"
           }
          ],
          "heatmapgl": [
           {
            "colorbar": {
             "outlinewidth": 0,
             "ticks": ""
            },
            "colorscale": [
             [
              0,
              "#0d0887"
             ],
             [
              0.1111111111111111,
              "#46039f"
             ],
             [
              0.2222222222222222,
              "#7201a8"
             ],
             [
              0.3333333333333333,
              "#9c179e"
             ],
             [
              0.4444444444444444,
              "#bd3786"
             ],
             [
              0.5555555555555556,
              "#d8576b"
             ],
             [
              0.6666666666666666,
              "#ed7953"
             ],
             [
              0.7777777777777778,
              "#fb9f3a"
             ],
             [
              0.8888888888888888,
              "#fdca26"
             ],
             [
              1,
              "#f0f921"
             ]
            ],
            "type": "heatmapgl"
           }
          ],
          "histogram": [
           {
            "marker": {
             "pattern": {
              "fillmode": "overlay",
              "size": 10,
              "solidity": 0.2
             }
            },
            "type": "histogram"
           }
          ],
          "histogram2d": [
           {
            "colorbar": {
             "outlinewidth": 0,
             "ticks": ""
            },
            "colorscale": [
             [
              0,
              "#0d0887"
             ],
             [
              0.1111111111111111,
              "#46039f"
             ],
             [
              0.2222222222222222,
              "#7201a8"
             ],
             [
              0.3333333333333333,
              "#9c179e"
             ],
             [
              0.4444444444444444,
              "#bd3786"
             ],
             [
              0.5555555555555556,
              "#d8576b"
             ],
             [
              0.6666666666666666,
              "#ed7953"
             ],
             [
              0.7777777777777778,
              "#fb9f3a"
             ],
             [
              0.8888888888888888,
              "#fdca26"
             ],
             [
              1,
              "#f0f921"
             ]
            ],
            "type": "histogram2d"
           }
          ],
          "histogram2dcontour": [
           {
            "colorbar": {
             "outlinewidth": 0,
             "ticks": ""
            },
            "colorscale": [
             [
              0,
              "#0d0887"
             ],
             [
              0.1111111111111111,
              "#46039f"
             ],
             [
              0.2222222222222222,
              "#7201a8"
             ],
             [
              0.3333333333333333,
              "#9c179e"
             ],
             [
              0.4444444444444444,
              "#bd3786"
             ],
             [
              0.5555555555555556,
              "#d8576b"
             ],
             [
              0.6666666666666666,
              "#ed7953"
             ],
             [
              0.7777777777777778,
              "#fb9f3a"
             ],
             [
              0.8888888888888888,
              "#fdca26"
             ],
             [
              1,
              "#f0f921"
             ]
            ],
            "type": "histogram2dcontour"
           }
          ],
          "mesh3d": [
           {
            "colorbar": {
             "outlinewidth": 0,
             "ticks": ""
            },
            "type": "mesh3d"
           }
          ],
          "parcoords": [
           {
            "line": {
             "colorbar": {
              "outlinewidth": 0,
              "ticks": ""
             }
            },
            "type": "parcoords"
           }
          ],
          "pie": [
           {
            "automargin": true,
            "type": "pie"
           }
          ],
          "scatter": [
           {
            "marker": {
             "colorbar": {
              "outlinewidth": 0,
              "ticks": ""
             }
            },
            "type": "scatter"
           }
          ],
          "scatter3d": [
           {
            "line": {
             "colorbar": {
              "outlinewidth": 0,
              "ticks": ""
             }
            },
            "marker": {
             "colorbar": {
              "outlinewidth": 0,
              "ticks": ""
             }
            },
            "type": "scatter3d"
           }
          ],
          "scattercarpet": [
           {
            "marker": {
             "colorbar": {
              "outlinewidth": 0,
              "ticks": ""
             }
            },
            "type": "scattercarpet"
           }
          ],
          "scattergeo": [
           {
            "marker": {
             "colorbar": {
              "outlinewidth": 0,
              "ticks": ""
             }
            },
            "type": "scattergeo"
           }
          ],
          "scattergl": [
           {
            "marker": {
             "colorbar": {
              "outlinewidth": 0,
              "ticks": ""
             }
            },
            "type": "scattergl"
           }
          ],
          "scattermapbox": [
           {
            "marker": {
             "colorbar": {
              "outlinewidth": 0,
              "ticks": ""
             }
            },
            "type": "scattermapbox"
           }
          ],
          "scatterpolar": [
           {
            "marker": {
             "colorbar": {
              "outlinewidth": 0,
              "ticks": ""
             }
            },
            "type": "scatterpolar"
           }
          ],
          "scatterpolargl": [
           {
            "marker": {
             "colorbar": {
              "outlinewidth": 0,
              "ticks": ""
             }
            },
            "type": "scatterpolargl"
           }
          ],
          "scatterternary": [
           {
            "marker": {
             "colorbar": {
              "outlinewidth": 0,
              "ticks": ""
             }
            },
            "type": "scatterternary"
           }
          ],
          "surface": [
           {
            "colorbar": {
             "outlinewidth": 0,
             "ticks": ""
            },
            "colorscale": [
             [
              0,
              "#0d0887"
             ],
             [
              0.1111111111111111,
              "#46039f"
             ],
             [
              0.2222222222222222,
              "#7201a8"
             ],
             [
              0.3333333333333333,
              "#9c179e"
             ],
             [
              0.4444444444444444,
              "#bd3786"
             ],
             [
              0.5555555555555556,
              "#d8576b"
             ],
             [
              0.6666666666666666,
              "#ed7953"
             ],
             [
              0.7777777777777778,
              "#fb9f3a"
             ],
             [
              0.8888888888888888,
              "#fdca26"
             ],
             [
              1,
              "#f0f921"
             ]
            ],
            "type": "surface"
           }
          ],
          "table": [
           {
            "cells": {
             "fill": {
              "color": "#EBF0F8"
             },
             "line": {
              "color": "white"
             }
            },
            "header": {
             "fill": {
              "color": "#C8D4E3"
             },
             "line": {
              "color": "white"
             }
            },
            "type": "table"
           }
          ]
         },
         "layout": {
          "annotationdefaults": {
           "arrowcolor": "#2a3f5f",
           "arrowhead": 0,
           "arrowwidth": 1
          },
          "autotypenumbers": "strict",
          "coloraxis": {
           "colorbar": {
            "outlinewidth": 0,
            "ticks": ""
           }
          },
          "colorscale": {
           "diverging": [
            [
             0,
             "#8e0152"
            ],
            [
             0.1,
             "#c51b7d"
            ],
            [
             0.2,
             "#de77ae"
            ],
            [
             0.3,
             "#f1b6da"
            ],
            [
             0.4,
             "#fde0ef"
            ],
            [
             0.5,
             "#f7f7f7"
            ],
            [
             0.6,
             "#e6f5d0"
            ],
            [
             0.7,
             "#b8e186"
            ],
            [
             0.8,
             "#7fbc41"
            ],
            [
             0.9,
             "#4d9221"
            ],
            [
             1,
             "#276419"
            ]
           ],
           "sequential": [
            [
             0,
             "#0d0887"
            ],
            [
             0.1111111111111111,
             "#46039f"
            ],
            [
             0.2222222222222222,
             "#7201a8"
            ],
            [
             0.3333333333333333,
             "#9c179e"
            ],
            [
             0.4444444444444444,
             "#bd3786"
            ],
            [
             0.5555555555555556,
             "#d8576b"
            ],
            [
             0.6666666666666666,
             "#ed7953"
            ],
            [
             0.7777777777777778,
             "#fb9f3a"
            ],
            [
             0.8888888888888888,
             "#fdca26"
            ],
            [
             1,
             "#f0f921"
            ]
           ],
           "sequentialminus": [
            [
             0,
             "#0d0887"
            ],
            [
             0.1111111111111111,
             "#46039f"
            ],
            [
             0.2222222222222222,
             "#7201a8"
            ],
            [
             0.3333333333333333,
             "#9c179e"
            ],
            [
             0.4444444444444444,
             "#bd3786"
            ],
            [
             0.5555555555555556,
             "#d8576b"
            ],
            [
             0.6666666666666666,
             "#ed7953"
            ],
            [
             0.7777777777777778,
             "#fb9f3a"
            ],
            [
             0.8888888888888888,
             "#fdca26"
            ],
            [
             1,
             "#f0f921"
            ]
           ]
          },
          "colorway": [
           "#636efa",
           "#EF553B",
           "#00cc96",
           "#ab63fa",
           "#FFA15A",
           "#19d3f3",
           "#FF6692",
           "#B6E880",
           "#FF97FF",
           "#FECB52"
          ],
          "font": {
           "color": "#2a3f5f"
          },
          "geo": {
           "bgcolor": "white",
           "lakecolor": "white",
           "landcolor": "#E5ECF6",
           "showlakes": true,
           "showland": true,
           "subunitcolor": "white"
          },
          "hoverlabel": {
           "align": "left"
          },
          "hovermode": "closest",
          "mapbox": {
           "style": "light"
          },
          "paper_bgcolor": "white",
          "plot_bgcolor": "#E5ECF6",
          "polar": {
           "angularaxis": {
            "gridcolor": "white",
            "linecolor": "white",
            "ticks": ""
           },
           "bgcolor": "#E5ECF6",
           "radialaxis": {
            "gridcolor": "white",
            "linecolor": "white",
            "ticks": ""
           }
          },
          "scene": {
           "xaxis": {
            "backgroundcolor": "#E5ECF6",
            "gridcolor": "white",
            "gridwidth": 2,
            "linecolor": "white",
            "showbackground": true,
            "ticks": "",
            "zerolinecolor": "white"
           },
           "yaxis": {
            "backgroundcolor": "#E5ECF6",
            "gridcolor": "white",
            "gridwidth": 2,
            "linecolor": "white",
            "showbackground": true,
            "ticks": "",
            "zerolinecolor": "white"
           },
           "zaxis": {
            "backgroundcolor": "#E5ECF6",
            "gridcolor": "white",
            "gridwidth": 2,
            "linecolor": "white",
            "showbackground": true,
            "ticks": "",
            "zerolinecolor": "white"
           }
          },
          "shapedefaults": {
           "line": {
            "color": "#2a3f5f"
           }
          },
          "ternary": {
           "aaxis": {
            "gridcolor": "white",
            "linecolor": "white",
            "ticks": ""
           },
           "baxis": {
            "gridcolor": "white",
            "linecolor": "white",
            "ticks": ""
           },
           "bgcolor": "#E5ECF6",
           "caxis": {
            "gridcolor": "white",
            "linecolor": "white",
            "ticks": ""
           }
          },
          "title": {
           "x": 0.05
          },
          "xaxis": {
           "automargin": true,
           "gridcolor": "white",
           "linecolor": "white",
           "ticks": "",
           "title": {
            "standoff": 15
           },
           "zerolinecolor": "white",
           "zerolinewidth": 2
          },
          "yaxis": {
           "automargin": true,
           "gridcolor": "white",
           "linecolor": "white",
           "ticks": "",
           "title": {
            "standoff": 15
           },
           "zerolinecolor": "white",
           "zerolinewidth": 2
          }
         }
        }
       }
      }
     },
     "metadata": {},
     "output_type": "display_data"
    }
   ],
   "source": [
    "import plotly as ply\n",
    "import plotly.graph_objs as go\n",
    "\n",
    "Mno=df_reviews2[df_reviews2.sentiment==\"Positive\"][\"score\"].count()\n",
    "Fno=df_reviews2[df_reviews2.sentiment==\"Negative\"][\"score\"].count()\n",
    "Nno=df_reviews2[df_reviews2.sentiment==\"Neutral\"][\"score\"].count()\n",
    "labels = [\"Positive Comments\",\"Negative Comments\",\"Neutral Comments\"]\n",
    "values = [Mno,Fno,Nno]\n",
    "fig = go.Figure(data=[go.Pie(labels=labels, values=values,hole=0.4)])\n",
    "fig.show()"
   ]
  },
  {
   "cell_type": "markdown",
   "metadata": {},
   "source": [
    "# Group by community \n"
   ]
  },
  {
   "cell_type": "code",
   "execution_count": 43,
   "metadata": {},
   "outputs": [
    {
     "name": "stderr",
     "output_type": "stream",
     "text": [
      "/var/folders/0l/b401ys7x3v303b2m4jkcr32r0000gn/T/ipykernel_42507/813050064.py:3: FutureWarning:\n",
      "\n",
      "Indexing with multiple keys (implicitly converted to a tuple of keys) will be deprecated, use a list instead.\n",
      "\n"
     ]
    },
    {
     "data": {
      "text/html": [
       "<div>\n",
       "<style scoped>\n",
       "    .dataframe tbody tr th:only-of-type {\n",
       "        vertical-align: middle;\n",
       "    }\n",
       "\n",
       "    .dataframe tbody tr th {\n",
       "        vertical-align: top;\n",
       "    }\n",
       "\n",
       "    .dataframe thead th {\n",
       "        text-align: right;\n",
       "    }\n",
       "</style>\n",
       "<table border=\"1\" class=\"dataframe\">\n",
       "  <thead>\n",
       "    <tr style=\"text-align: right;\">\n",
       "      <th></th>\n",
       "      <th>rating</th>\n",
       "      <th>score</th>\n",
       "    </tr>\n",
       "    <tr>\n",
       "      <th>community</th>\n",
       "      <th></th>\n",
       "      <th></th>\n",
       "    </tr>\n",
       "  </thead>\n",
       "  <tbody>\n",
       "    <tr>\n",
       "      <th>0</th>\n",
       "      <td>3.472727</td>\n",
       "      <td>0.629917</td>\n",
       "    </tr>\n",
       "    <tr>\n",
       "      <th>1</th>\n",
       "      <td>4.432631</td>\n",
       "      <td>0.788757</td>\n",
       "    </tr>\n",
       "    <tr>\n",
       "      <th>2</th>\n",
       "      <td>4.312182</td>\n",
       "      <td>0.713220</td>\n",
       "    </tr>\n",
       "    <tr>\n",
       "      <th>3</th>\n",
       "      <td>4.044586</td>\n",
       "      <td>0.680864</td>\n",
       "    </tr>\n",
       "    <tr>\n",
       "      <th>4</th>\n",
       "      <td>4.575132</td>\n",
       "      <td>0.530127</td>\n",
       "    </tr>\n",
       "    <tr>\n",
       "      <th>...</th>\n",
       "      <td>...</td>\n",
       "      <td>...</td>\n",
       "    </tr>\n",
       "    <tr>\n",
       "      <th>65</th>\n",
       "      <td>4.400000</td>\n",
       "      <td>0.612933</td>\n",
       "    </tr>\n",
       "    <tr>\n",
       "      <th>66</th>\n",
       "      <td>2.142857</td>\n",
       "      <td>0.297614</td>\n",
       "    </tr>\n",
       "    <tr>\n",
       "      <th>67</th>\n",
       "      <td>5.000000</td>\n",
       "      <td>0.713533</td>\n",
       "    </tr>\n",
       "    <tr>\n",
       "      <th>68</th>\n",
       "      <td>3.880952</td>\n",
       "      <td>0.746650</td>\n",
       "    </tr>\n",
       "    <tr>\n",
       "      <th>69</th>\n",
       "      <td>4.083333</td>\n",
       "      <td>0.709567</td>\n",
       "    </tr>\n",
       "  </tbody>\n",
       "</table>\n",
       "<p>70 rows × 2 columns</p>\n",
       "</div>"
      ],
      "text/plain": [
       "             rating     score\n",
       "community                    \n",
       "0          3.472727  0.629917\n",
       "1          4.432631  0.788757\n",
       "2          4.312182  0.713220\n",
       "3          4.044586  0.680864\n",
       "4          4.575132  0.530127\n",
       "...             ...       ...\n",
       "65         4.400000  0.612933\n",
       "66         2.142857  0.297614\n",
       "67         5.000000  0.713533\n",
       "68         3.880952  0.746650\n",
       "69         4.083333  0.709567\n",
       "\n",
       "[70 rows x 2 columns]"
      ]
     },
     "execution_count": 43,
     "metadata": {},
     "output_type": "execute_result"
    }
   ],
   "source": [
    "#////// TODO create graph with average recipe rating and review text sentiment per community\n",
    "\n",
    "df_mean_rating= pd.DataFrame(df_reviews2.groupby(by=[\"community\"])['rating','score'].mean())\n",
    "df_mean_rating"
   ]
  },
  {
   "cell_type": "code",
   "execution_count": 44,
   "metadata": {},
   "outputs": [],
   "source": [
    "# to access multiindex dataframes\n",
    "#com0 = df_mean_rating.loc[0, :]\n",
    "#com0.plot(kind='bar')"
   ]
  },
  {
   "cell_type": "code",
   "execution_count": null,
   "metadata": {},
   "outputs": [],
   "source": []
  }
 ],
 "metadata": {
  "kernelspec": {
   "display_name": "Python 3.8.12 ('base')",
   "language": "python",
   "name": "python3"
  },
  "language_info": {
   "codemirror_mode": {
    "name": "ipython",
    "version": 3
   },
   "file_extension": ".py",
   "mimetype": "text/x-python",
   "name": "python",
   "nbconvert_exporter": "python",
   "pygments_lexer": "ipython3",
   "version": "3.8.12"
  },
  "orig_nbformat": 4,
  "vscode": {
   "interpreter": {
    "hash": "dd67d5026f11b9bb6db4da73e555964d530e0e075e26b3ee03294e4d81583c06"
   }
  }
 },
 "nbformat": 4,
 "nbformat_minor": 2
}

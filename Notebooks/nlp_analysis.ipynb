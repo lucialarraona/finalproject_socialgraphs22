{
 "cells": [
  {
   "cell_type": "markdown",
   "metadata": {},
   "source": [
    "# NLP Analysis of reviews\n",
    "- Calculate sentiment and compare against the actual rating they user gave"
   ]
  },
  {
   "cell_type": "code",
   "execution_count": 42,
   "metadata": {},
   "outputs": [
    {
     "name": "stderr",
     "output_type": "stream",
     "text": [
      "[nltk_data] Downloading package omw-1.4 to\n",
      "[nltk_data]     /Users/lucialarraona/nltk_data...\n",
      "[nltk_data]   Package omw-1.4 is already up-to-date!\n",
      "[nltk_data] Downloading package vader_lexicon to\n",
      "[nltk_data]     /Users/lucialarraona/nltk_data...\n",
      "[nltk_data]   Package vader_lexicon is already up-to-date!\n"
     ]
    }
   ],
   "source": [
    "import pandas as pd\n",
    "import numpy as np\n",
    "import matplotlib.pyplot as plt \n",
    "\n",
    "import os\n",
    "import sys\n",
    "sys.path.append(os.path.abspath(\"/Users/lucialarraona/Desktop/finalproject_socialgraphs22/Notebooks\"))\n",
    "\n",
    "from helper_functions import  *\n",
    "\n",
    "import nltk \n",
    "from nltk.stem import PorterStemmer # para ver la raiz de las palabras(worker = work)\n",
    "from nltk.tokenize import sent_tokenize, word_tokenize # para tokenizar las frases y las palabras \n",
    "import re # regex\n",
    "import string\n",
    "\n",
    "nltk.download('omw-1.4') #needed for lemmatizing\n",
    "\n",
    "nltk.download('vader_lexicon')\n",
    "from nltk.sentiment.vader import SentimentIntensityAnalyzer # an nltk package for sentiment analysis :D\n",
    "\n",
    "import warnings\n",
    "warnings.filterwarnings(\"ignore\")\n",
    "\n",
    "import plotly.express as px\n",
    "from statistics import mean"
   ]
  },
  {
   "cell_type": "code",
   "execution_count": 2,
   "metadata": {},
   "outputs": [
    {
     "name": "stdout",
     "output_type": "stream",
     "text": [
      "(1132367, 5)\n"
     ]
    },
    {
     "data": {
      "text/html": [
       "<div>\n",
       "<style scoped>\n",
       "    .dataframe tbody tr th:only-of-type {\n",
       "        vertical-align: middle;\n",
       "    }\n",
       "\n",
       "    .dataframe tbody tr th {\n",
       "        vertical-align: top;\n",
       "    }\n",
       "\n",
       "    .dataframe thead th {\n",
       "        text-align: right;\n",
       "    }\n",
       "</style>\n",
       "<table border=\"1\" class=\"dataframe\">\n",
       "  <thead>\n",
       "    <tr style=\"text-align: right;\">\n",
       "      <th></th>\n",
       "      <th>user_id</th>\n",
       "      <th>recipe_id</th>\n",
       "      <th>date</th>\n",
       "      <th>rating</th>\n",
       "      <th>review</th>\n",
       "    </tr>\n",
       "  </thead>\n",
       "  <tbody>\n",
       "    <tr>\n",
       "      <th>0</th>\n",
       "      <td>38094</td>\n",
       "      <td>40893</td>\n",
       "      <td>2003-02-17</td>\n",
       "      <td>4</td>\n",
       "      <td>Great with a salad. Cooked on top of stove for...</td>\n",
       "    </tr>\n",
       "    <tr>\n",
       "      <th>1</th>\n",
       "      <td>1293707</td>\n",
       "      <td>40893</td>\n",
       "      <td>2011-12-21</td>\n",
       "      <td>5</td>\n",
       "      <td>So simple, so delicious! Great for chilly fall...</td>\n",
       "    </tr>\n",
       "    <tr>\n",
       "      <th>2</th>\n",
       "      <td>8937</td>\n",
       "      <td>44394</td>\n",
       "      <td>2002-12-01</td>\n",
       "      <td>4</td>\n",
       "      <td>This worked very well and is EASY.  I used not...</td>\n",
       "    </tr>\n",
       "    <tr>\n",
       "      <th>3</th>\n",
       "      <td>126440</td>\n",
       "      <td>85009</td>\n",
       "      <td>2010-02-27</td>\n",
       "      <td>5</td>\n",
       "      <td>I made the Mexican topping and took it to bunk...</td>\n",
       "    </tr>\n",
       "    <tr>\n",
       "      <th>4</th>\n",
       "      <td>57222</td>\n",
       "      <td>85009</td>\n",
       "      <td>2011-10-01</td>\n",
       "      <td>5</td>\n",
       "      <td>Made the cheddar bacon topping, adding a sprin...</td>\n",
       "    </tr>\n",
       "  </tbody>\n",
       "</table>\n",
       "</div>"
      ],
      "text/plain": [
       "   user_id  recipe_id        date  rating  \\\n",
       "0    38094      40893  2003-02-17       4   \n",
       "1  1293707      40893  2011-12-21       5   \n",
       "2     8937      44394  2002-12-01       4   \n",
       "3   126440      85009  2010-02-27       5   \n",
       "4    57222      85009  2011-10-01       5   \n",
       "\n",
       "                                              review  \n",
       "0  Great with a salad. Cooked on top of stove for...  \n",
       "1  So simple, so delicious! Great for chilly fall...  \n",
       "2  This worked very well and is EASY.  I used not...  \n",
       "3  I made the Mexican topping and took it to bunk...  \n",
       "4  Made the cheddar bacon topping, adding a sprin...  "
      ]
     },
     "execution_count": 2,
     "metadata": {},
     "output_type": "execute_result"
    }
   ],
   "source": [
    "# With the reviews dataset, map the community for each user \n",
    "df_reviews = decompress_pickle('../Data/reviews_zipped.pbz2') \n",
    "print(df_reviews.shape)\n",
    "df_reviews.head()"
   ]
  },
  {
   "cell_type": "code",
   "execution_count": 3,
   "metadata": {},
   "outputs": [
    {
     "name": "stdout",
     "output_type": "stream",
     "text": [
      "(15257, 2)\n"
     ]
    },
    {
     "data": {
      "text/html": [
       "<div>\n",
       "<style scoped>\n",
       "    .dataframe tbody tr th:only-of-type {\n",
       "        vertical-align: middle;\n",
       "    }\n",
       "\n",
       "    .dataframe tbody tr th {\n",
       "        vertical-align: top;\n",
       "    }\n",
       "\n",
       "    .dataframe thead th {\n",
       "        text-align: right;\n",
       "    }\n",
       "</style>\n",
       "<table border=\"1\" class=\"dataframe\">\n",
       "  <thead>\n",
       "    <tr style=\"text-align: right;\">\n",
       "      <th></th>\n",
       "      <th>user_id</th>\n",
       "      <th>community</th>\n",
       "    </tr>\n",
       "  </thead>\n",
       "  <tbody>\n",
       "    <tr>\n",
       "      <th>0</th>\n",
       "      <td>1535</td>\n",
       "      <td>43.0</td>\n",
       "    </tr>\n",
       "    <tr>\n",
       "      <th>1</th>\n",
       "      <td>3288</td>\n",
       "      <td>52.0</td>\n",
       "    </tr>\n",
       "    <tr>\n",
       "      <th>2</th>\n",
       "      <td>4439</td>\n",
       "      <td>16.0</td>\n",
       "    </tr>\n",
       "    <tr>\n",
       "      <th>3</th>\n",
       "      <td>4470</td>\n",
       "      <td>16.0</td>\n",
       "    </tr>\n",
       "    <tr>\n",
       "      <th>4</th>\n",
       "      <td>4769</td>\n",
       "      <td>36.0</td>\n",
       "    </tr>\n",
       "  </tbody>\n",
       "</table>\n",
       "</div>"
      ],
      "text/plain": [
       "   user_id  community\n",
       "0     1535       43.0\n",
       "1     3288       52.0\n",
       "2     4439       16.0\n",
       "3     4470       16.0\n",
       "4     4769       36.0"
      ]
     },
     "execution_count": 3,
     "metadata": {},
     "output_type": "execute_result"
    }
   ],
   "source": [
    "df_com_map = pd.read_csv('user_community_map.csv')\n",
    "print(df_com_map.shape)\n",
    "df_com_map.head()"
   ]
  },
  {
   "cell_type": "code",
   "execution_count": 4,
   "metadata": {},
   "outputs": [
    {
     "name": "stdout",
     "output_type": "stream",
     "text": [
      "(144295, 6)\n"
     ]
    },
    {
     "data": {
      "text/html": [
       "<div>\n",
       "<style scoped>\n",
       "    .dataframe tbody tr th:only-of-type {\n",
       "        vertical-align: middle;\n",
       "    }\n",
       "\n",
       "    .dataframe tbody tr th {\n",
       "        vertical-align: top;\n",
       "    }\n",
       "\n",
       "    .dataframe thead th {\n",
       "        text-align: right;\n",
       "    }\n",
       "</style>\n",
       "<table border=\"1\" class=\"dataframe\">\n",
       "  <thead>\n",
       "    <tr style=\"text-align: right;\">\n",
       "      <th></th>\n",
       "      <th>user_id</th>\n",
       "      <th>community</th>\n",
       "      <th>recipe_id</th>\n",
       "      <th>date</th>\n",
       "      <th>rating</th>\n",
       "      <th>review</th>\n",
       "    </tr>\n",
       "  </thead>\n",
       "  <tbody>\n",
       "    <tr>\n",
       "      <th>0</th>\n",
       "      <td>1535</td>\n",
       "      <td>43.0</td>\n",
       "      <td>349022</td>\n",
       "      <td>2010-02-11</td>\n",
       "      <td>4</td>\n",
       "      <td>After being w/o power all day, it came back on...</td>\n",
       "    </tr>\n",
       "    <tr>\n",
       "      <th>1</th>\n",
       "      <td>1535</td>\n",
       "      <td>43.0</td>\n",
       "      <td>50022</td>\n",
       "      <td>2004-09-09</td>\n",
       "      <td>5</td>\n",
       "      <td>This is an excellent recipe. Even my not-a-big...</td>\n",
       "    </tr>\n",
       "    <tr>\n",
       "      <th>2</th>\n",
       "      <td>1535</td>\n",
       "      <td>43.0</td>\n",
       "      <td>78834</td>\n",
       "      <td>2005-02-02</td>\n",
       "      <td>5</td>\n",
       "      <td>Made these for my kids one day as a surprise a...</td>\n",
       "    </tr>\n",
       "    <tr>\n",
       "      <th>3</th>\n",
       "      <td>1535</td>\n",
       "      <td>43.0</td>\n",
       "      <td>47474</td>\n",
       "      <td>2004-08-04</td>\n",
       "      <td>5</td>\n",
       "      <td>Love them!! A quick &amp; easy recipe with ingredi...</td>\n",
       "    </tr>\n",
       "    <tr>\n",
       "      <th>4</th>\n",
       "      <td>1535</td>\n",
       "      <td>43.0</td>\n",
       "      <td>230720</td>\n",
       "      <td>2007-07-02</td>\n",
       "      <td>5</td>\n",
       "      <td>I was a little afraid this might not work very...</td>\n",
       "    </tr>\n",
       "  </tbody>\n",
       "</table>\n",
       "</div>"
      ],
      "text/plain": [
       "   user_id  community  recipe_id        date  rating  \\\n",
       "0     1535       43.0     349022  2010-02-11       4   \n",
       "1     1535       43.0      50022  2004-09-09       5   \n",
       "2     1535       43.0      78834  2005-02-02       5   \n",
       "3     1535       43.0      47474  2004-08-04       5   \n",
       "4     1535       43.0     230720  2007-07-02       5   \n",
       "\n",
       "                                              review  \n",
       "0  After being w/o power all day, it came back on...  \n",
       "1  This is an excellent recipe. Even my not-a-big...  \n",
       "2  Made these for my kids one day as a surprise a...  \n",
       "3  Love them!! A quick & easy recipe with ingredi...  \n",
       "4  I was a little afraid this might not work very...  "
      ]
     },
     "execution_count": 4,
     "metadata": {},
     "output_type": "execute_result"
    }
   ],
   "source": [
    "df_reviews_raw = pd.merge(df_com_map, df_reviews, how=\"left\", on=[\"user_id\"]) # merging left is using only the keys on the left df, in this case df_com_map\n",
    "print(df_reviews_raw.shape)\n",
    "df_reviews_raw.head()"
   ]
  },
  {
   "cell_type": "code",
   "execution_count": 5,
   "metadata": {},
   "outputs": [],
   "source": [
    "# Make a copy to keep the raw dataframe for the future \n",
    "df_reviews2 = df_reviews_raw"
   ]
  },
  {
   "cell_type": "code",
   "execution_count": 72,
   "metadata": {},
   "outputs": [
    {
     "name": "stdout",
     "output_type": "stream",
     "text": [
      "After being w/o power all day, it came back on right before bedtime. I quickly threw all the fresh vegetables, raw chicken, broth and bouillon into the crock pot, so I could cook it overnight for the next day's lunch. The next morning, I added the tomatoes and beans and turned the crock pot down to \"warm\". Everything cooked up nice and tender. I really don't think you need to precook the chicken. It literally fell apart it was so tender. I skipped the butter and Tabasco sauce since I didn't need the fat, and I don't care for too much heat.\n"
     ]
    },
    {
     "data": {
      "text/plain": [
       "(0.050314285714285714,\n",
       " 0.06371428571428571,\n",
       " 0.019142857142857145,\n",
       " 0.9171428571428571)"
      ]
     },
     "execution_count": 72,
     "metadata": {},
     "output_type": "execute_result"
    }
   ],
   "source": [
    "# Sentiment analyzer .vader() without cleaning the sentences. .Vader() is prepared for analyzins short sentences like tweets. So It's better \n",
    "# split the long reviews in sentences. \n",
    "\n",
    "\"\"\"\"\n",
    "def scores2(text):\n",
    "    compound = [sid.polarity_scores(sentence)[\"compound\"] for sentence in nltk.sent_tokenize(text)]\n",
    "    pos = [sid.polarity_scores(sentence)[\"pos\"] for sentence in nltk.sent_tokenize(text)]\n",
    "    neg = [sid.polarity_scores(sentence)[\"neg\"] for sentence in nltk.sent_tokenize(text)]\n",
    "    neu = [sid.polarity_scores(sentence)[\"neu\"] for sentence in nltk.sent_tokenize(text)]\n",
    "    final_compound = np.mean(compound)\n",
    "    final_pos = np.mean(pos)\n",
    "    final_neg = np.mean(neg)\n",
    "    final_neu = np.mean(neu)\n",
    "    return final_compound, final_pos, final_neg, final_neu\n",
    "\n",
    "print(df_reviews2['review'][0])\n",
    "scores2(df_reviews2['review'][0])\n",
    "\n",
    "#df_reviews2['compound']= df_reviews2['review'].apply(lambda x : scores2(x))\n",
    "#df_reviews2\n",
    "\"\"\" "
   ]
  },
  {
   "cell_type": "code",
   "execution_count": null,
   "metadata": {},
   "outputs": [],
   "source": [
    "def check_rating_vs_score():\n",
    "    \n",
    "    \n",
    "\n",
    "    return None"
   ]
  },
  {
   "cell_type": "markdown",
   "metadata": {},
   "source": [
    "## Clean text from reviews"
   ]
  },
  {
   "cell_type": "code",
   "execution_count": 6,
   "metadata": {},
   "outputs": [],
   "source": [
    "def text_cleaning(text):\n",
    "    \n",
    "    text = text.lower()\n",
    "    text = re.sub('\\[.*?\\]', '', text)\n",
    "    text = re.sub(\"\\\\W\",\" \",text) # remove special chars\n",
    "    text = re.sub('https?://\\S+|www\\.\\S+', '', text)\n",
    "    text = re.sub('<.*?>+', '', text)\n",
    "    text = re.sub('[%s]' % re.escape(string.punctuation), '', text)\n",
    "    text = re.sub('\\n', '', text)\n",
    "    text = re.sub('\\w*\\d\\w*', '', text)\n",
    "    \n",
    "    return text\n",
    "\n",
    "stopwords = nltk.corpus.stopwords.words('english')\n",
    "\n",
    "ps = PorterStemmer()\n",
    "wn = nltk.WordNetLemmatizer()\n",
    "\n",
    "def clean_stem (review):\n",
    "\n",
    "    temp1 =\"\".join(x for x in review if x not in string.punctuation)\n",
    "    temp2 = re.split('\\W+',temp1.lower())\n",
    "    temp3 = [ps.stem(x) for x in temp2 if x not in stopwords]\n",
    "    return temp3\n",
    "\n",
    "\n",
    "def clean_lemma (review):\n",
    "    \n",
    "    temp1 =\"\".join(x for x in review if x not in string.punctuation)\n",
    "    temp2 = re.split('\\W+',temp1.lower())\n",
    "    temp3 = [wn.lemmatize(x) for x in temp2 if x not in stopwords]\n",
    "    return temp3\n",
    "\n",
    "\n",
    "df_reviews2['review'] =df_reviews2['review'] .astype('str')  # object to string\n",
    "df_reviews2['review'] = df_reviews2['review'] .apply(text_cleaning) # cleaning \n",
    "df_reviews2['review_tokens']= df_reviews2['review'].map(clean_lemma) # apply lemmatization for now\n",
    "\n"
   ]
  },
  {
   "cell_type": "code",
   "execution_count": 7,
   "metadata": {},
   "outputs": [
    {
     "data": {
      "text/html": [
       "<div>\n",
       "<style scoped>\n",
       "    .dataframe tbody tr th:only-of-type {\n",
       "        vertical-align: middle;\n",
       "    }\n",
       "\n",
       "    .dataframe tbody tr th {\n",
       "        vertical-align: top;\n",
       "    }\n",
       "\n",
       "    .dataframe thead th {\n",
       "        text-align: right;\n",
       "    }\n",
       "</style>\n",
       "<table border=\"1\" class=\"dataframe\">\n",
       "  <thead>\n",
       "    <tr style=\"text-align: right;\">\n",
       "      <th></th>\n",
       "      <th>user_id</th>\n",
       "      <th>community</th>\n",
       "      <th>recipe_id</th>\n",
       "      <th>date</th>\n",
       "      <th>rating</th>\n",
       "      <th>review</th>\n",
       "      <th>review_tokens</th>\n",
       "    </tr>\n",
       "  </thead>\n",
       "  <tbody>\n",
       "    <tr>\n",
       "      <th>0</th>\n",
       "      <td>1535</td>\n",
       "      <td>43.0</td>\n",
       "      <td>349022</td>\n",
       "      <td>2010-02-11</td>\n",
       "      <td>4</td>\n",
       "      <td>after being w o power all day  it came back on...</td>\n",
       "      <td>[w, power, day, came, back, right, bedtime, qu...</td>\n",
       "    </tr>\n",
       "    <tr>\n",
       "      <th>1</th>\n",
       "      <td>1535</td>\n",
       "      <td>43.0</td>\n",
       "      <td>50022</td>\n",
       "      <td>2004-09-09</td>\n",
       "      <td>5</td>\n",
       "      <td>this is an excellent recipe  even my not a big...</td>\n",
       "      <td>[excellent, recipe, even, big, fan, banana, br...</td>\n",
       "    </tr>\n",
       "    <tr>\n",
       "      <th>2</th>\n",
       "      <td>1535</td>\n",
       "      <td>43.0</td>\n",
       "      <td>78834</td>\n",
       "      <td>2005-02-02</td>\n",
       "      <td>5</td>\n",
       "      <td>made these for my kids one day as a surprise a...</td>\n",
       "      <td>[made, kid, one, day, surprise, thought, reall...</td>\n",
       "    </tr>\n",
       "    <tr>\n",
       "      <th>3</th>\n",
       "      <td>1535</td>\n",
       "      <td>43.0</td>\n",
       "      <td>47474</td>\n",
       "      <td>2004-08-04</td>\n",
       "      <td>5</td>\n",
       "      <td>love them   a quick   easy recipe with ingredi...</td>\n",
       "      <td>[love, quick, easy, recipe, ingredient, always...</td>\n",
       "    </tr>\n",
       "    <tr>\n",
       "      <th>4</th>\n",
       "      <td>1535</td>\n",
       "      <td>43.0</td>\n",
       "      <td>230720</td>\n",
       "      <td>2007-07-02</td>\n",
       "      <td>5</td>\n",
       "      <td>i was a little afraid this might not work very...</td>\n",
       "      <td>[little, afraid, might, work, well, turned, lo...</td>\n",
       "    </tr>\n",
       "  </tbody>\n",
       "</table>\n",
       "</div>"
      ],
      "text/plain": [
       "   user_id  community  recipe_id        date  rating  \\\n",
       "0     1535       43.0     349022  2010-02-11       4   \n",
       "1     1535       43.0      50022  2004-09-09       5   \n",
       "2     1535       43.0      78834  2005-02-02       5   \n",
       "3     1535       43.0      47474  2004-08-04       5   \n",
       "4     1535       43.0     230720  2007-07-02       5   \n",
       "\n",
       "                                              review  \\\n",
       "0  after being w o power all day  it came back on...   \n",
       "1  this is an excellent recipe  even my not a big...   \n",
       "2  made these for my kids one day as a surprise a...   \n",
       "3  love them   a quick   easy recipe with ingredi...   \n",
       "4  i was a little afraid this might not work very...   \n",
       "\n",
       "                                       review_tokens  \n",
       "0  [w, power, day, came, back, right, bedtime, qu...  \n",
       "1  [excellent, recipe, even, big, fan, banana, br...  \n",
       "2  [made, kid, one, day, surprise, thought, reall...  \n",
       "3  [love, quick, easy, recipe, ingredient, always...  \n",
       "4  [little, afraid, might, work, well, turned, lo...  "
      ]
     },
     "execution_count": 7,
     "metadata": {},
     "output_type": "execute_result"
    }
   ],
   "source": [
    "df_reviews2.head()"
   ]
  },
  {
   "cell_type": "code",
   "execution_count": 8,
   "metadata": {},
   "outputs": [
    {
     "name": "stdout",
     "output_type": "stream",
     "text": [
      "made these for my kids one day as a surprise and they thought they were really neat  being a perfectionist  i did have to make  legs but that s just me  an easy way to add some fun to lunch \n",
      "['made', 'kid', 'one', 'day', 'surprise', 'thought', 'really', 'neat', 'perfectionist', 'make', 'leg', 'easy', 'way', 'add', 'fun', 'lunch', '']\n",
      "\n",
      "made these for my kids one day as a surprise and they thought they were really neat  being a perfectionist  i did have to make  legs but that s just me  an easy way to add some fun to lunch \n",
      "['made', 'kid', 'one', 'day', 'surpris', 'thought', 'realli', 'neat', 'perfectionist', 'make', 'leg', 'easi', 'way', 'add', 'fun', 'lunch', '']\n"
     ]
    }
   ],
   "source": [
    "#//// Sanity check of differneces between lemmatizing and stemming\n",
    "print(df_reviews2['review'][2])\n",
    "print(clean_lemma(df_reviews2['review'][2]))\n",
    "print()\n",
    "print(df_reviews2['review'][2])\n",
    "print(clean_stem(df_reviews2['review'][2]))"
   ]
  },
  {
   "cell_type": "code",
   "execution_count": 9,
   "metadata": {},
   "outputs": [
    {
     "data": {
      "text/html": [
       "<div>\n",
       "<style scoped>\n",
       "    .dataframe tbody tr th:only-of-type {\n",
       "        vertical-align: middle;\n",
       "    }\n",
       "\n",
       "    .dataframe tbody tr th {\n",
       "        vertical-align: top;\n",
       "    }\n",
       "\n",
       "    .dataframe thead th {\n",
       "        text-align: right;\n",
       "    }\n",
       "</style>\n",
       "<table border=\"1\" class=\"dataframe\">\n",
       "  <thead>\n",
       "    <tr style=\"text-align: right;\">\n",
       "      <th></th>\n",
       "      <th>user_id</th>\n",
       "      <th>community</th>\n",
       "      <th>recipe_id</th>\n",
       "      <th>date</th>\n",
       "      <th>rating</th>\n",
       "      <th>review</th>\n",
       "      <th>review_tokens</th>\n",
       "      <th>score</th>\n",
       "      <th>sentiment</th>\n",
       "    </tr>\n",
       "  </thead>\n",
       "  <tbody>\n",
       "    <tr>\n",
       "      <th>0</th>\n",
       "      <td>1535</td>\n",
       "      <td>43.0</td>\n",
       "      <td>349022</td>\n",
       "      <td>2010-02-11</td>\n",
       "      <td>4</td>\n",
       "      <td>after being w o power all day  it came back on...</td>\n",
       "      <td>[w, power, day, came, back, right, bedtime, qu...</td>\n",
       "      <td>0.8481</td>\n",
       "      <td>Positive</td>\n",
       "    </tr>\n",
       "    <tr>\n",
       "      <th>1</th>\n",
       "      <td>1535</td>\n",
       "      <td>43.0</td>\n",
       "      <td>50022</td>\n",
       "      <td>2004-09-09</td>\n",
       "      <td>5</td>\n",
       "      <td>this is an excellent recipe  even my not a big...</td>\n",
       "      <td>[excellent, recipe, even, big, fan, banana, br...</td>\n",
       "      <td>0.9707</td>\n",
       "      <td>Positive</td>\n",
       "    </tr>\n",
       "    <tr>\n",
       "      <th>2</th>\n",
       "      <td>1535</td>\n",
       "      <td>43.0</td>\n",
       "      <td>78834</td>\n",
       "      <td>2005-02-02</td>\n",
       "      <td>5</td>\n",
       "      <td>made these for my kids one day as a surprise a...</td>\n",
       "      <td>[made, kid, one, day, surprise, thought, reall...</td>\n",
       "      <td>0.9166</td>\n",
       "      <td>Positive</td>\n",
       "    </tr>\n",
       "    <tr>\n",
       "      <th>3</th>\n",
       "      <td>1535</td>\n",
       "      <td>43.0</td>\n",
       "      <td>47474</td>\n",
       "      <td>2004-08-04</td>\n",
       "      <td>5</td>\n",
       "      <td>love them   a quick   easy recipe with ingredi...</td>\n",
       "      <td>[love, quick, easy, recipe, ingredient, always...</td>\n",
       "      <td>0.6486</td>\n",
       "      <td>Positive</td>\n",
       "    </tr>\n",
       "    <tr>\n",
       "      <th>4</th>\n",
       "      <td>1535</td>\n",
       "      <td>43.0</td>\n",
       "      <td>230720</td>\n",
       "      <td>2007-07-02</td>\n",
       "      <td>5</td>\n",
       "      <td>i was a little afraid this might not work very...</td>\n",
       "      <td>[little, afraid, might, work, well, turned, lo...</td>\n",
       "      <td>0.9722</td>\n",
       "      <td>Positive</td>\n",
       "    </tr>\n",
       "  </tbody>\n",
       "</table>\n",
       "</div>"
      ],
      "text/plain": [
       "   user_id  community  recipe_id        date  rating  \\\n",
       "0     1535       43.0     349022  2010-02-11       4   \n",
       "1     1535       43.0      50022  2004-09-09       5   \n",
       "2     1535       43.0      78834  2005-02-02       5   \n",
       "3     1535       43.0      47474  2004-08-04       5   \n",
       "4     1535       43.0     230720  2007-07-02       5   \n",
       "\n",
       "                                              review  \\\n",
       "0  after being w o power all day  it came back on...   \n",
       "1  this is an excellent recipe  even my not a big...   \n",
       "2  made these for my kids one day as a surprise a...   \n",
       "3  love them   a quick   easy recipe with ingredi...   \n",
       "4  i was a little afraid this might not work very...   \n",
       "\n",
       "                                       review_tokens   score sentiment  \n",
       "0  [w, power, day, came, back, right, bedtime, qu...  0.8481  Positive  \n",
       "1  [excellent, recipe, even, big, fan, banana, br...  0.9707  Positive  \n",
       "2  [made, kid, one, day, surprise, thought, reall...  0.9166  Positive  \n",
       "3  [love, quick, easy, recipe, ingredient, always...  0.6486  Positive  \n",
       "4  [little, afraid, might, work, well, turned, lo...  0.9722  Positive  "
      ]
     },
     "execution_count": 9,
     "metadata": {},
     "output_type": "execute_result"
    }
   ],
   "source": [
    "sid = SentimentIntensityAnalyzer()\n",
    "\n",
    "\n",
    "# Sentiment compound value of reviews\n",
    "def sentiment(x):\n",
    "    score = sid.polarity_scores(x)\n",
    "    return score['compound']\n",
    "\n",
    "\n",
    "#  Add Positive y Negative tag \n",
    "def cls(x):\n",
    "    list1=[]\n",
    "    for i in x[\"score\"]:\n",
    "        if i>0:\n",
    "            list1.append(\"Positive\")\n",
    "        elif i==0:\n",
    "            list1.append(\"Neutral\")\n",
    "        else:\n",
    "            list1.append(\"Negative\")\n",
    "    x[\"sentiment\"]=list1\n",
    "\n",
    "\n",
    "\n",
    "df_reviews2['score']= df_reviews2['review'].apply(lambda x : sentiment(x)) #score\n",
    "cls(df_reviews2) # tag (for plotting)\n",
    "df_reviews2.head() \n"
   ]
  },
  {
   "cell_type": "code",
   "execution_count": 10,
   "metadata": {},
   "outputs": [
    {
     "data": {
      "application/vnd.plotly.v1+json": {
       "config": {
        "plotlyServerURL": "https://plot.ly"
       },
       "data": [
        {
         "hole": 0.4,
         "labels": [
          "Positive Comments",
          "Negative Comments",
          "Neutral Comments"
         ],
         "type": "pie",
         "values": [
          137231,
          3899,
          3165
         ]
        }
       ],
       "layout": {
        "template": {
         "data": {
          "bar": [
           {
            "error_x": {
             "color": "#2a3f5f"
            },
            "error_y": {
             "color": "#2a3f5f"
            },
            "marker": {
             "line": {
              "color": "#E5ECF6",
              "width": 0.5
             },
             "pattern": {
              "fillmode": "overlay",
              "size": 10,
              "solidity": 0.2
             }
            },
            "type": "bar"
           }
          ],
          "barpolar": [
           {
            "marker": {
             "line": {
              "color": "#E5ECF6",
              "width": 0.5
             },
             "pattern": {
              "fillmode": "overlay",
              "size": 10,
              "solidity": 0.2
             }
            },
            "type": "barpolar"
           }
          ],
          "carpet": [
           {
            "aaxis": {
             "endlinecolor": "#2a3f5f",
             "gridcolor": "white",
             "linecolor": "white",
             "minorgridcolor": "white",
             "startlinecolor": "#2a3f5f"
            },
            "baxis": {
             "endlinecolor": "#2a3f5f",
             "gridcolor": "white",
             "linecolor": "white",
             "minorgridcolor": "white",
             "startlinecolor": "#2a3f5f"
            },
            "type": "carpet"
           }
          ],
          "choropleth": [
           {
            "colorbar": {
             "outlinewidth": 0,
             "ticks": ""
            },
            "type": "choropleth"
           }
          ],
          "contour": [
           {
            "colorbar": {
             "outlinewidth": 0,
             "ticks": ""
            },
            "colorscale": [
             [
              0,
              "#0d0887"
             ],
             [
              0.1111111111111111,
              "#46039f"
             ],
             [
              0.2222222222222222,
              "#7201a8"
             ],
             [
              0.3333333333333333,
              "#9c179e"
             ],
             [
              0.4444444444444444,
              "#bd3786"
             ],
             [
              0.5555555555555556,
              "#d8576b"
             ],
             [
              0.6666666666666666,
              "#ed7953"
             ],
             [
              0.7777777777777778,
              "#fb9f3a"
             ],
             [
              0.8888888888888888,
              "#fdca26"
             ],
             [
              1,
              "#f0f921"
             ]
            ],
            "type": "contour"
           }
          ],
          "contourcarpet": [
           {
            "colorbar": {
             "outlinewidth": 0,
             "ticks": ""
            },
            "type": "contourcarpet"
           }
          ],
          "heatmap": [
           {
            "colorbar": {
             "outlinewidth": 0,
             "ticks": ""
            },
            "colorscale": [
             [
              0,
              "#0d0887"
             ],
             [
              0.1111111111111111,
              "#46039f"
             ],
             [
              0.2222222222222222,
              "#7201a8"
             ],
             [
              0.3333333333333333,
              "#9c179e"
             ],
             [
              0.4444444444444444,
              "#bd3786"
             ],
             [
              0.5555555555555556,
              "#d8576b"
             ],
             [
              0.6666666666666666,
              "#ed7953"
             ],
             [
              0.7777777777777778,
              "#fb9f3a"
             ],
             [
              0.8888888888888888,
              "#fdca26"
             ],
             [
              1,
              "#f0f921"
             ]
            ],
            "type": "heatmap"
           }
          ],
          "heatmapgl": [
           {
            "colorbar": {
             "outlinewidth": 0,
             "ticks": ""
            },
            "colorscale": [
             [
              0,
              "#0d0887"
             ],
             [
              0.1111111111111111,
              "#46039f"
             ],
             [
              0.2222222222222222,
              "#7201a8"
             ],
             [
              0.3333333333333333,
              "#9c179e"
             ],
             [
              0.4444444444444444,
              "#bd3786"
             ],
             [
              0.5555555555555556,
              "#d8576b"
             ],
             [
              0.6666666666666666,
              "#ed7953"
             ],
             [
              0.7777777777777778,
              "#fb9f3a"
             ],
             [
              0.8888888888888888,
              "#fdca26"
             ],
             [
              1,
              "#f0f921"
             ]
            ],
            "type": "heatmapgl"
           }
          ],
          "histogram": [
           {
            "marker": {
             "pattern": {
              "fillmode": "overlay",
              "size": 10,
              "solidity": 0.2
             }
            },
            "type": "histogram"
           }
          ],
          "histogram2d": [
           {
            "colorbar": {
             "outlinewidth": 0,
             "ticks": ""
            },
            "colorscale": [
             [
              0,
              "#0d0887"
             ],
             [
              0.1111111111111111,
              "#46039f"
             ],
             [
              0.2222222222222222,
              "#7201a8"
             ],
             [
              0.3333333333333333,
              "#9c179e"
             ],
             [
              0.4444444444444444,
              "#bd3786"
             ],
             [
              0.5555555555555556,
              "#d8576b"
             ],
             [
              0.6666666666666666,
              "#ed7953"
             ],
             [
              0.7777777777777778,
              "#fb9f3a"
             ],
             [
              0.8888888888888888,
              "#fdca26"
             ],
             [
              1,
              "#f0f921"
             ]
            ],
            "type": "histogram2d"
           }
          ],
          "histogram2dcontour": [
           {
            "colorbar": {
             "outlinewidth": 0,
             "ticks": ""
            },
            "colorscale": [
             [
              0,
              "#0d0887"
             ],
             [
              0.1111111111111111,
              "#46039f"
             ],
             [
              0.2222222222222222,
              "#7201a8"
             ],
             [
              0.3333333333333333,
              "#9c179e"
             ],
             [
              0.4444444444444444,
              "#bd3786"
             ],
             [
              0.5555555555555556,
              "#d8576b"
             ],
             [
              0.6666666666666666,
              "#ed7953"
             ],
             [
              0.7777777777777778,
              "#fb9f3a"
             ],
             [
              0.8888888888888888,
              "#fdca26"
             ],
             [
              1,
              "#f0f921"
             ]
            ],
            "type": "histogram2dcontour"
           }
          ],
          "mesh3d": [
           {
            "colorbar": {
             "outlinewidth": 0,
             "ticks": ""
            },
            "type": "mesh3d"
           }
          ],
          "parcoords": [
           {
            "line": {
             "colorbar": {
              "outlinewidth": 0,
              "ticks": ""
             }
            },
            "type": "parcoords"
           }
          ],
          "pie": [
           {
            "automargin": true,
            "type": "pie"
           }
          ],
          "scatter": [
           {
            "marker": {
             "colorbar": {
              "outlinewidth": 0,
              "ticks": ""
             }
            },
            "type": "scatter"
           }
          ],
          "scatter3d": [
           {
            "line": {
             "colorbar": {
              "outlinewidth": 0,
              "ticks": ""
             }
            },
            "marker": {
             "colorbar": {
              "outlinewidth": 0,
              "ticks": ""
             }
            },
            "type": "scatter3d"
           }
          ],
          "scattercarpet": [
           {
            "marker": {
             "colorbar": {
              "outlinewidth": 0,
              "ticks": ""
             }
            },
            "type": "scattercarpet"
           }
          ],
          "scattergeo": [
           {
            "marker": {
             "colorbar": {
              "outlinewidth": 0,
              "ticks": ""
             }
            },
            "type": "scattergeo"
           }
          ],
          "scattergl": [
           {
            "marker": {
             "colorbar": {
              "outlinewidth": 0,
              "ticks": ""
             }
            },
            "type": "scattergl"
           }
          ],
          "scattermapbox": [
           {
            "marker": {
             "colorbar": {
              "outlinewidth": 0,
              "ticks": ""
             }
            },
            "type": "scattermapbox"
           }
          ],
          "scatterpolar": [
           {
            "marker": {
             "colorbar": {
              "outlinewidth": 0,
              "ticks": ""
             }
            },
            "type": "scatterpolar"
           }
          ],
          "scatterpolargl": [
           {
            "marker": {
             "colorbar": {
              "outlinewidth": 0,
              "ticks": ""
             }
            },
            "type": "scatterpolargl"
           }
          ],
          "scatterternary": [
           {
            "marker": {
             "colorbar": {
              "outlinewidth": 0,
              "ticks": ""
             }
            },
            "type": "scatterternary"
           }
          ],
          "surface": [
           {
            "colorbar": {
             "outlinewidth": 0,
             "ticks": ""
            },
            "colorscale": [
             [
              0,
              "#0d0887"
             ],
             [
              0.1111111111111111,
              "#46039f"
             ],
             [
              0.2222222222222222,
              "#7201a8"
             ],
             [
              0.3333333333333333,
              "#9c179e"
             ],
             [
              0.4444444444444444,
              "#bd3786"
             ],
             [
              0.5555555555555556,
              "#d8576b"
             ],
             [
              0.6666666666666666,
              "#ed7953"
             ],
             [
              0.7777777777777778,
              "#fb9f3a"
             ],
             [
              0.8888888888888888,
              "#fdca26"
             ],
             [
              1,
              "#f0f921"
             ]
            ],
            "type": "surface"
           }
          ],
          "table": [
           {
            "cells": {
             "fill": {
              "color": "#EBF0F8"
             },
             "line": {
              "color": "white"
             }
            },
            "header": {
             "fill": {
              "color": "#C8D4E3"
             },
             "line": {
              "color": "white"
             }
            },
            "type": "table"
           }
          ]
         },
         "layout": {
          "annotationdefaults": {
           "arrowcolor": "#2a3f5f",
           "arrowhead": 0,
           "arrowwidth": 1
          },
          "autotypenumbers": "strict",
          "coloraxis": {
           "colorbar": {
            "outlinewidth": 0,
            "ticks": ""
           }
          },
          "colorscale": {
           "diverging": [
            [
             0,
             "#8e0152"
            ],
            [
             0.1,
             "#c51b7d"
            ],
            [
             0.2,
             "#de77ae"
            ],
            [
             0.3,
             "#f1b6da"
            ],
            [
             0.4,
             "#fde0ef"
            ],
            [
             0.5,
             "#f7f7f7"
            ],
            [
             0.6,
             "#e6f5d0"
            ],
            [
             0.7,
             "#b8e186"
            ],
            [
             0.8,
             "#7fbc41"
            ],
            [
             0.9,
             "#4d9221"
            ],
            [
             1,
             "#276419"
            ]
           ],
           "sequential": [
            [
             0,
             "#0d0887"
            ],
            [
             0.1111111111111111,
             "#46039f"
            ],
            [
             0.2222222222222222,
             "#7201a8"
            ],
            [
             0.3333333333333333,
             "#9c179e"
            ],
            [
             0.4444444444444444,
             "#bd3786"
            ],
            [
             0.5555555555555556,
             "#d8576b"
            ],
            [
             0.6666666666666666,
             "#ed7953"
            ],
            [
             0.7777777777777778,
             "#fb9f3a"
            ],
            [
             0.8888888888888888,
             "#fdca26"
            ],
            [
             1,
             "#f0f921"
            ]
           ],
           "sequentialminus": [
            [
             0,
             "#0d0887"
            ],
            [
             0.1111111111111111,
             "#46039f"
            ],
            [
             0.2222222222222222,
             "#7201a8"
            ],
            [
             0.3333333333333333,
             "#9c179e"
            ],
            [
             0.4444444444444444,
             "#bd3786"
            ],
            [
             0.5555555555555556,
             "#d8576b"
            ],
            [
             0.6666666666666666,
             "#ed7953"
            ],
            [
             0.7777777777777778,
             "#fb9f3a"
            ],
            [
             0.8888888888888888,
             "#fdca26"
            ],
            [
             1,
             "#f0f921"
            ]
           ]
          },
          "colorway": [
           "#636efa",
           "#EF553B",
           "#00cc96",
           "#ab63fa",
           "#FFA15A",
           "#19d3f3",
           "#FF6692",
           "#B6E880",
           "#FF97FF",
           "#FECB52"
          ],
          "font": {
           "color": "#2a3f5f"
          },
          "geo": {
           "bgcolor": "white",
           "lakecolor": "white",
           "landcolor": "#E5ECF6",
           "showlakes": true,
           "showland": true,
           "subunitcolor": "white"
          },
          "hoverlabel": {
           "align": "left"
          },
          "hovermode": "closest",
          "mapbox": {
           "style": "light"
          },
          "paper_bgcolor": "white",
          "plot_bgcolor": "#E5ECF6",
          "polar": {
           "angularaxis": {
            "gridcolor": "white",
            "linecolor": "white",
            "ticks": ""
           },
           "bgcolor": "#E5ECF6",
           "radialaxis": {
            "gridcolor": "white",
            "linecolor": "white",
            "ticks": ""
           }
          },
          "scene": {
           "xaxis": {
            "backgroundcolor": "#E5ECF6",
            "gridcolor": "white",
            "gridwidth": 2,
            "linecolor": "white",
            "showbackground": true,
            "ticks": "",
            "zerolinecolor": "white"
           },
           "yaxis": {
            "backgroundcolor": "#E5ECF6",
            "gridcolor": "white",
            "gridwidth": 2,
            "linecolor": "white",
            "showbackground": true,
            "ticks": "",
            "zerolinecolor": "white"
           },
           "zaxis": {
            "backgroundcolor": "#E5ECF6",
            "gridcolor": "white",
            "gridwidth": 2,
            "linecolor": "white",
            "showbackground": true,
            "ticks": "",
            "zerolinecolor": "white"
           }
          },
          "shapedefaults": {
           "line": {
            "color": "#2a3f5f"
           }
          },
          "ternary": {
           "aaxis": {
            "gridcolor": "white",
            "linecolor": "white",
            "ticks": ""
           },
           "baxis": {
            "gridcolor": "white",
            "linecolor": "white",
            "ticks": ""
           },
           "bgcolor": "#E5ECF6",
           "caxis": {
            "gridcolor": "white",
            "linecolor": "white",
            "ticks": ""
           }
          },
          "title": {
           "x": 0.05
          },
          "xaxis": {
           "automargin": true,
           "gridcolor": "white",
           "linecolor": "white",
           "ticks": "",
           "title": {
            "standoff": 15
           },
           "zerolinecolor": "white",
           "zerolinewidth": 2
          },
          "yaxis": {
           "automargin": true,
           "gridcolor": "white",
           "linecolor": "white",
           "ticks": "",
           "title": {
            "standoff": 15
           },
           "zerolinecolor": "white",
           "zerolinewidth": 2
          }
         }
        }
       }
      }
     },
     "metadata": {},
     "output_type": "display_data"
    }
   ],
   "source": [
    "import plotly as ply\n",
    "import plotly.graph_objs as go\n",
    "\n",
    "Mno=df_reviews2[df_reviews2.sentiment==\"Positive\"][\"score\"].count()\n",
    "Fno=df_reviews2[df_reviews2.sentiment==\"Negative\"][\"score\"].count()\n",
    "Nno=df_reviews2[df_reviews2.sentiment==\"Neutral\"][\"score\"].count()\n",
    "labels = [\"Positive Comments\",\"Negative Comments\",\"Neutral Comments\"]\n",
    "values = [Mno,Fno,Nno]\n",
    "fig = go.Figure(data=[go.Pie(labels=labels, values=values,hole=0.4)])\n",
    "fig.show()"
   ]
  },
  {
   "cell_type": "code",
   "execution_count": 11,
   "metadata": {},
   "outputs": [
    {
     "data": {
      "text/html": [
       "<div>\n",
       "<style scoped>\n",
       "    .dataframe tbody tr th:only-of-type {\n",
       "        vertical-align: middle;\n",
       "    }\n",
       "\n",
       "    .dataframe tbody tr th {\n",
       "        vertical-align: top;\n",
       "    }\n",
       "\n",
       "    .dataframe thead th {\n",
       "        text-align: right;\n",
       "    }\n",
       "</style>\n",
       "<table border=\"1\" class=\"dataframe\">\n",
       "  <thead>\n",
       "    <tr style=\"text-align: right;\">\n",
       "      <th></th>\n",
       "      <th>user_id</th>\n",
       "      <th>community</th>\n",
       "      <th>recipe_id</th>\n",
       "      <th>date</th>\n",
       "      <th>rating</th>\n",
       "      <th>review</th>\n",
       "      <th>review_tokens</th>\n",
       "      <th>score</th>\n",
       "      <th>sentiment</th>\n",
       "      <th>score_scale</th>\n",
       "      <th>score_scale2</th>\n",
       "    </tr>\n",
       "  </thead>\n",
       "  <tbody>\n",
       "    <tr>\n",
       "      <th>0</th>\n",
       "      <td>1535</td>\n",
       "      <td>43.0</td>\n",
       "      <td>349022</td>\n",
       "      <td>2010-02-11</td>\n",
       "      <td>4</td>\n",
       "      <td>after being w o power all day  it came back on...</td>\n",
       "      <td>[w, power, day, came, back, right, bedtime, qu...</td>\n",
       "      <td>0.8481</td>\n",
       "      <td>Positive</td>\n",
       "      <td>0.923671</td>\n",
       "      <td>4.618357</td>\n",
       "    </tr>\n",
       "    <tr>\n",
       "      <th>1</th>\n",
       "      <td>1535</td>\n",
       "      <td>43.0</td>\n",
       "      <td>50022</td>\n",
       "      <td>2004-09-09</td>\n",
       "      <td>5</td>\n",
       "      <td>this is an excellent recipe  even my not a big...</td>\n",
       "      <td>[excellent, recipe, even, big, fan, banana, br...</td>\n",
       "      <td>0.9707</td>\n",
       "      <td>Positive</td>\n",
       "      <td>0.985603</td>\n",
       "      <td>4.928016</td>\n",
       "    </tr>\n",
       "    <tr>\n",
       "      <th>2</th>\n",
       "      <td>1535</td>\n",
       "      <td>43.0</td>\n",
       "      <td>78834</td>\n",
       "      <td>2005-02-02</td>\n",
       "      <td>5</td>\n",
       "      <td>made these for my kids one day as a surprise a...</td>\n",
       "      <td>[made, kid, one, day, surprise, thought, reall...</td>\n",
       "      <td>0.9166</td>\n",
       "      <td>Positive</td>\n",
       "      <td>0.958274</td>\n",
       "      <td>4.791372</td>\n",
       "    </tr>\n",
       "    <tr>\n",
       "      <th>3</th>\n",
       "      <td>1535</td>\n",
       "      <td>43.0</td>\n",
       "      <td>47474</td>\n",
       "      <td>2004-08-04</td>\n",
       "      <td>5</td>\n",
       "      <td>love them   a quick   easy recipe with ingredi...</td>\n",
       "      <td>[love, quick, easy, recipe, ingredient, always...</td>\n",
       "      <td>0.6486</td>\n",
       "      <td>Positive</td>\n",
       "      <td>0.822894</td>\n",
       "      <td>4.114468</td>\n",
       "    </tr>\n",
       "    <tr>\n",
       "      <th>4</th>\n",
       "      <td>1535</td>\n",
       "      <td>43.0</td>\n",
       "      <td>230720</td>\n",
       "      <td>2007-07-02</td>\n",
       "      <td>5</td>\n",
       "      <td>i was a little afraid this might not work very...</td>\n",
       "      <td>[little, afraid, might, work, well, turned, lo...</td>\n",
       "      <td>0.9722</td>\n",
       "      <td>Positive</td>\n",
       "      <td>0.986361</td>\n",
       "      <td>4.931804</td>\n",
       "    </tr>\n",
       "    <tr>\n",
       "      <th>...</th>\n",
       "      <td>...</td>\n",
       "      <td>...</td>\n",
       "      <td>...</td>\n",
       "      <td>...</td>\n",
       "      <td>...</td>\n",
       "      <td>...</td>\n",
       "      <td>...</td>\n",
       "      <td>...</td>\n",
       "      <td>...</td>\n",
       "      <td>...</td>\n",
       "      <td>...</td>\n",
       "    </tr>\n",
       "    <tr>\n",
       "      <th>144290</th>\n",
       "      <td>2002371420</td>\n",
       "      <td>41.0</td>\n",
       "      <td>50245</td>\n",
       "      <td>2018-12-18</td>\n",
       "      <td>5</td>\n",
       "      <td>made this with a slight variation  added the p...</td>\n",
       "      <td>[made, slight, variation, added, parmesan, che...</td>\n",
       "      <td>0.0000</td>\n",
       "      <td>Neutral</td>\n",
       "      <td>0.495252</td>\n",
       "      <td>2.476258</td>\n",
       "    </tr>\n",
       "    <tr>\n",
       "      <th>144291</th>\n",
       "      <td>2002371445</td>\n",
       "      <td>5.0</td>\n",
       "      <td>2886</td>\n",
       "      <td>2018-12-19</td>\n",
       "      <td>5</td>\n",
       "      <td>i ve been using this recipe for  years and its...</td>\n",
       "      <td>[using, recipe, year, one, use, tried, several...</td>\n",
       "      <td>0.1779</td>\n",
       "      <td>Positive</td>\n",
       "      <td>0.585118</td>\n",
       "      <td>2.925591</td>\n",
       "    </tr>\n",
       "    <tr>\n",
       "      <th>144292</th>\n",
       "      <td>2002371627</td>\n",
       "      <td>50.0</td>\n",
       "      <td>153647</td>\n",
       "      <td>2018-12-19</td>\n",
       "      <td>0</td>\n",
       "      <td>best thing about this recipe  i didn t have to...</td>\n",
       "      <td>[best, thing, recipe, scroll, past, rambling, ...</td>\n",
       "      <td>0.9572</td>\n",
       "      <td>Positive</td>\n",
       "      <td>0.978784</td>\n",
       "      <td>4.893918</td>\n",
       "    </tr>\n",
       "    <tr>\n",
       "      <th>144293</th>\n",
       "      <td>2002371843</td>\n",
       "      <td>60.0</td>\n",
       "      <td>516662</td>\n",
       "      <td>2018-12-19</td>\n",
       "      <td>5</td>\n",
       "      <td>this cake is incredible tasting and easy to ma...</td>\n",
       "      <td>[cake, incredible, tasting, easy, make, froste...</td>\n",
       "      <td>0.8519</td>\n",
       "      <td>Positive</td>\n",
       "      <td>0.925591</td>\n",
       "      <td>4.627955</td>\n",
       "    </tr>\n",
       "    <tr>\n",
       "      <th>144294</th>\n",
       "      <td>2002372706</td>\n",
       "      <td>33.0</td>\n",
       "      <td>63786</td>\n",
       "      <td>2018-12-20</td>\n",
       "      <td>5</td>\n",
       "      <td>finally i found a no nonsense fajita recipe</td>\n",
       "      <td>[finally, found, nonsense, fajita, recipe]</td>\n",
       "      <td>-0.5994</td>\n",
       "      <td>Negative</td>\n",
       "      <td>0.192463</td>\n",
       "      <td>0.962316</td>\n",
       "    </tr>\n",
       "  </tbody>\n",
       "</table>\n",
       "<p>144295 rows × 11 columns</p>\n",
       "</div>"
      ],
      "text/plain": [
       "           user_id  community  recipe_id        date  rating  \\\n",
       "0             1535       43.0     349022  2010-02-11       4   \n",
       "1             1535       43.0      50022  2004-09-09       5   \n",
       "2             1535       43.0      78834  2005-02-02       5   \n",
       "3             1535       43.0      47474  2004-08-04       5   \n",
       "4             1535       43.0     230720  2007-07-02       5   \n",
       "...            ...        ...        ...         ...     ...   \n",
       "144290  2002371420       41.0      50245  2018-12-18       5   \n",
       "144291  2002371445        5.0       2886  2018-12-19       5   \n",
       "144292  2002371627       50.0     153647  2018-12-19       0   \n",
       "144293  2002371843       60.0     516662  2018-12-19       5   \n",
       "144294  2002372706       33.0      63786  2018-12-20       5   \n",
       "\n",
       "                                                   review  \\\n",
       "0       after being w o power all day  it came back on...   \n",
       "1       this is an excellent recipe  even my not a big...   \n",
       "2       made these for my kids one day as a surprise a...   \n",
       "3       love them   a quick   easy recipe with ingredi...   \n",
       "4       i was a little afraid this might not work very...   \n",
       "...                                                   ...   \n",
       "144290  made this with a slight variation  added the p...   \n",
       "144291  i ve been using this recipe for  years and its...   \n",
       "144292  best thing about this recipe  i didn t have to...   \n",
       "144293  this cake is incredible tasting and easy to ma...   \n",
       "144294        finally i found a no nonsense fajita recipe   \n",
       "\n",
       "                                            review_tokens   score sentiment  \\\n",
       "0       [w, power, day, came, back, right, bedtime, qu...  0.8481  Positive   \n",
       "1       [excellent, recipe, even, big, fan, banana, br...  0.9707  Positive   \n",
       "2       [made, kid, one, day, surprise, thought, reall...  0.9166  Positive   \n",
       "3       [love, quick, easy, recipe, ingredient, always...  0.6486  Positive   \n",
       "4       [little, afraid, might, work, well, turned, lo...  0.9722  Positive   \n",
       "...                                                   ...     ...       ...   \n",
       "144290  [made, slight, variation, added, parmesan, che...  0.0000   Neutral   \n",
       "144291  [using, recipe, year, one, use, tried, several...  0.1779  Positive   \n",
       "144292  [best, thing, recipe, scroll, past, rambling, ...  0.9572  Positive   \n",
       "144293  [cake, incredible, tasting, easy, make, froste...  0.8519  Positive   \n",
       "144294         [finally, found, nonsense, fajita, recipe] -0.5994  Negative   \n",
       "\n",
       "        score_scale  score_scale2  \n",
       "0          0.923671      4.618357  \n",
       "1          0.985603      4.928016  \n",
       "2          0.958274      4.791372  \n",
       "3          0.822894      4.114468  \n",
       "4          0.986361      4.931804  \n",
       "...             ...           ...  \n",
       "144290     0.495252      2.476258  \n",
       "144291     0.585118      2.925591  \n",
       "144292     0.978784      4.893918  \n",
       "144293     0.925591      4.627955  \n",
       "144294     0.192463      0.962316  \n",
       "\n",
       "[144295 rows x 11 columns]"
      ]
     },
     "execution_count": 11,
     "metadata": {},
     "output_type": "execute_result"
    }
   ],
   "source": [
    "# Rescaling the score to 0-1 and then divinding by 5 to match the range of the rating and comapre\n",
    "\n",
    "from sklearn.preprocessing import minmax_scale\n",
    "\n",
    "df_reviews2[['score_scale']] = minmax_scale(df_reviews2[['score']])\n",
    "df_reviews2[['score_scale2']] = df_reviews2[['score_scale']]*5\n",
    "df_reviews2"
   ]
  },
  {
   "cell_type": "code",
   "execution_count": 12,
   "metadata": {},
   "outputs": [
    {
     "name": "stdout",
     "output_type": "stream",
     "text": [
      "The mean of the sentiment in the reviews: 4.452607672096389\n",
      "90th percentile of the sentiment:  4.939634269549405\n",
      "10th percentile of the sentiment:  3.588603758335018\n"
     ]
    }
   ],
   "source": [
    "# Mean, 10th and 90th percentile of the sentiment\n",
    "\n",
    "mean_rev= df_reviews2['score_scale2'].describe()['mean']\n",
    "\n",
    "print(f'The mean of the sentiment in the reviews: {mean_rev}')\n",
    "print(\"90th percentile of the sentiment: \",\n",
    "       np.percentile(df_reviews2['score_scale2'], 90))\n",
    "\n",
    "print(\"10th percentile of the sentiment: \",\n",
    "       np.percentile(df_reviews2['score_scale2'], 10))\n",
    "\n",
    "\n",
    "# Add the percentiles to a list for the plotting\n",
    "percentiles = [np.percentile(df_reviews2['score_scale2'], 90), np.percentile(df_reviews2['score_scale2'], 10)]"
   ]
  },
  {
   "cell_type": "code",
   "execution_count": 13,
   "metadata": {},
   "outputs": [],
   "source": [
    "list_sentiment = list(zip(df_reviews2['user_id'], df_reviews2['score_scale2']))"
   ]
  },
  {
   "cell_type": "code",
   "execution_count": 22,
   "metadata": {},
   "outputs": [],
   "source": [
    "def plot_pretty_hist(list_data, percentiles, mean, plot_perct = False, title = str, color=str):\n",
    "\n",
    "    x = [val for (node, val) in list_data]\n",
    "    fig,ax = plt.subplots(figsize = (10,6))\n",
    "    cnts, values, bars = ax.hist(x, edgecolor='black', \n",
    "                                        bins=10,\n",
    "                                        color=color,\n",
    "                                        alpha = 0.2)\n",
    "\n",
    "    if plot_perct == True:\n",
    "        # Plot mean\n",
    "        ax.axvline(mean, color='black', linestyle = '-', linewidth=4) \n",
    "        # Plot percentiles and mean lines\n",
    "        quants = [[percentiles[0], 0.8, 0.90], [percentiles[1], 0.8, 0.40]]\n",
    "        for i in quants:\n",
    "            ax.axvline(i[0], alpha = i[1], ymax = i[2], linestyle = \":\", color = 'Red' ,linewidth=3)  \n",
    "\n",
    "        \n",
    "        # Labels and titles\n",
    "        ax.set_ylabel(\"Review Count\")\n",
    "        ax.set_xlabel(\"Average Sentiment\")\n",
    "        ax.set_title(f\"{title}\")\n",
    "        ax.legend(['Mean','90th percentile','10th percentile'])\n",
    "        caption = (\"Figure: Histogram of the mean average of reviews for the user interactions dataset.\\n\"\n",
    "                    \"Black line represents the mean across pages and the red dotted lines the 10th and 90th percentile respectively.\")\n",
    "        fig.text(0.02,-0.1, caption, ha='left')\n",
    "        \n",
    "        # Remove ticks and spines\n",
    "        for ax, spine in ax.spines.items():\n",
    "            spine.set_visible(True)\n",
    "        plt.show()\n",
    "        \n",
    "        \n",
    "\n",
    "    else:\n",
    "        \n",
    "        # Plot the mean\n",
    "        ax.axvline(mean, color='black', linewidth=4) \n",
    "        \n",
    "        # Labels and titles\n",
    "        ax.set_ylabel(\"Page Count\")\n",
    "        ax.set_xlabel(\"Average Sentiment\")\n",
    "        ax.set_title(f\"{title}\")\n",
    "        ax.legend(['Mean'])\n",
    "        caption = ('haha')\n",
    "        fig.text(0.02,-0.1, caption, ha='left')\n",
    "        \n",
    "        # Remove ticks and spines\n",
    "        for ax, spine in ax.spines.items():\n",
    "            spine.set_visible(True)\n",
    "        plt.show()\n",
    "\n",
    "    return None"
   ]
  },
  {
   "cell_type": "code",
   "execution_count": 29,
   "metadata": {},
   "outputs": [
    {
     "data": {
      "image/png": "[encoded data removed]",
      "text/plain": [
       "<Figure size 720x432 with 1 Axes>"
      ]
     },
     "metadata": {
      "needs_background": "light"
     },
     "output_type": "display_data"
    }
   ],
   "source": [
    "plot_pretty_hist(list_sentiment,percentiles, mean_rev, plot_perct= True, \n",
    "                 title=\"Average Sentiment score in the reviews\",\n",
    "                 color = 'darkblue')"
   ]
  },
  {
   "cell_type": "markdown",
   "metadata": {},
   "source": [
    "> **Label permutation test to investigate the two hypotheses below**\n",
    ">* **H1: Good reviews (>4 rating) have a higher averge value for sentiment than a similarly sized set of randomly rated reviews.**\n",
    ">* **H2: Bad reviews (<4) have a lower average value for sentiment than a similarly sized set of randomly rated reviews.**\n",
    ">* **Write a short paragraph reflecting on your findings.**"
   ]
  },
  {
   "cell_type": "code",
   "execution_count": 49,
   "metadata": {},
   "outputs": [
    {
     "data": {
      "text/html": [
       "<div>\n",
       "<style scoped>\n",
       "    .dataframe tbody tr th:only-of-type {\n",
       "        vertical-align: middle;\n",
       "    }\n",
       "\n",
       "    .dataframe tbody tr th {\n",
       "        vertical-align: top;\n",
       "    }\n",
       "\n",
       "    .dataframe thead th {\n",
       "        text-align: right;\n",
       "    }\n",
       "</style>\n",
       "<table border=\"1\" class=\"dataframe\">\n",
       "  <thead>\n",
       "    <tr style=\"text-align: right;\">\n",
       "      <th></th>\n",
       "      <th>user_id</th>\n",
       "      <th>community</th>\n",
       "      <th>recipe_id</th>\n",
       "      <th>date</th>\n",
       "      <th>rating</th>\n",
       "      <th>review</th>\n",
       "      <th>review_tokens</th>\n",
       "      <th>score</th>\n",
       "      <th>sentiment</th>\n",
       "      <th>score_scale</th>\n",
       "      <th>score_scale2</th>\n",
       "      <th>true_labels</th>\n",
       "      <th>good</th>\n",
       "      <th>bad</th>\n",
       "      <th>good_shuffled</th>\n",
       "      <th>bad_shuffled</th>\n",
       "    </tr>\n",
       "  </thead>\n",
       "  <tbody>\n",
       "    <tr>\n",
       "      <th>0</th>\n",
       "      <td>1535</td>\n",
       "      <td>43.0</td>\n",
       "      <td>349022</td>\n",
       "      <td>2010-02-11</td>\n",
       "      <td>4</td>\n",
       "      <td>after being w o power all day  it came back on...</td>\n",
       "      <td>[w, power, day, came, back, right, bedtime, qu...</td>\n",
       "      <td>0.8481</td>\n",
       "      <td>Positive</td>\n",
       "      <td>0.923671</td>\n",
       "      <td>4.618357</td>\n",
       "      <td>1</td>\n",
       "      <td>1</td>\n",
       "      <td>0</td>\n",
       "      <td>1</td>\n",
       "      <td>0</td>\n",
       "    </tr>\n",
       "    <tr>\n",
       "      <th>1</th>\n",
       "      <td>1535</td>\n",
       "      <td>43.0</td>\n",
       "      <td>50022</td>\n",
       "      <td>2004-09-09</td>\n",
       "      <td>5</td>\n",
       "      <td>this is an excellent recipe  even my not a big...</td>\n",
       "      <td>[excellent, recipe, even, big, fan, banana, br...</td>\n",
       "      <td>0.9707</td>\n",
       "      <td>Positive</td>\n",
       "      <td>0.985603</td>\n",
       "      <td>4.928016</td>\n",
       "      <td>1</td>\n",
       "      <td>1</td>\n",
       "      <td>0</td>\n",
       "      <td>1</td>\n",
       "      <td>0</td>\n",
       "    </tr>\n",
       "    <tr>\n",
       "      <th>2</th>\n",
       "      <td>1535</td>\n",
       "      <td>43.0</td>\n",
       "      <td>78834</td>\n",
       "      <td>2005-02-02</td>\n",
       "      <td>5</td>\n",
       "      <td>made these for my kids one day as a surprise a...</td>\n",
       "      <td>[made, kid, one, day, surprise, thought, reall...</td>\n",
       "      <td>0.9166</td>\n",
       "      <td>Positive</td>\n",
       "      <td>0.958274</td>\n",
       "      <td>4.791372</td>\n",
       "      <td>1</td>\n",
       "      <td>1</td>\n",
       "      <td>0</td>\n",
       "      <td>1</td>\n",
       "      <td>0</td>\n",
       "    </tr>\n",
       "    <tr>\n",
       "      <th>3</th>\n",
       "      <td>1535</td>\n",
       "      <td>43.0</td>\n",
       "      <td>47474</td>\n",
       "      <td>2004-08-04</td>\n",
       "      <td>5</td>\n",
       "      <td>love them   a quick   easy recipe with ingredi...</td>\n",
       "      <td>[love, quick, easy, recipe, ingredient, always...</td>\n",
       "      <td>0.6486</td>\n",
       "      <td>Positive</td>\n",
       "      <td>0.822894</td>\n",
       "      <td>4.114468</td>\n",
       "      <td>1</td>\n",
       "      <td>1</td>\n",
       "      <td>0</td>\n",
       "      <td>1</td>\n",
       "      <td>0</td>\n",
       "    </tr>\n",
       "    <tr>\n",
       "      <th>4</th>\n",
       "      <td>1535</td>\n",
       "      <td>43.0</td>\n",
       "      <td>230720</td>\n",
       "      <td>2007-07-02</td>\n",
       "      <td>5</td>\n",
       "      <td>i was a little afraid this might not work very...</td>\n",
       "      <td>[little, afraid, might, work, well, turned, lo...</td>\n",
       "      <td>0.9722</td>\n",
       "      <td>Positive</td>\n",
       "      <td>0.986361</td>\n",
       "      <td>4.931804</td>\n",
       "      <td>1</td>\n",
       "      <td>1</td>\n",
       "      <td>0</td>\n",
       "      <td>1</td>\n",
       "      <td>1</td>\n",
       "    </tr>\n",
       "  </tbody>\n",
       "</table>\n",
       "</div>"
      ],
      "text/plain": [
       "   user_id  community  recipe_id        date  rating  \\\n",
       "0     1535       43.0     349022  2010-02-11       4   \n",
       "1     1535       43.0      50022  2004-09-09       5   \n",
       "2     1535       43.0      78834  2005-02-02       5   \n",
       "3     1535       43.0      47474  2004-08-04       5   \n",
       "4     1535       43.0     230720  2007-07-02       5   \n",
       "\n",
       "                                              review  \\\n",
       "0  after being w o power all day  it came back on...   \n",
       "1  this is an excellent recipe  even my not a big...   \n",
       "2  made these for my kids one day as a surprise a...   \n",
       "3  love them   a quick   easy recipe with ingredi...   \n",
       "4  i was a little afraid this might not work very...   \n",
       "\n",
       "                                       review_tokens   score sentiment  \\\n",
       "0  [w, power, day, came, back, right, bedtime, qu...  0.8481  Positive   \n",
       "1  [excellent, recipe, even, big, fan, banana, br...  0.9707  Positive   \n",
       "2  [made, kid, one, day, surprise, thought, reall...  0.9166  Positive   \n",
       "3  [love, quick, easy, recipe, ingredient, always...  0.6486  Positive   \n",
       "4  [little, afraid, might, work, well, turned, lo...  0.9722  Positive   \n",
       "\n",
       "   score_scale  score_scale2  true_labels  good  bad  good_shuffled  \\\n",
       "0     0.923671      4.618357            1     1    0              1   \n",
       "1     0.985603      4.928016            1     1    0              1   \n",
       "2     0.958274      4.791372            1     1    0              1   \n",
       "3     0.822894      4.114468            1     1    0              1   \n",
       "4     0.986361      4.931804            1     1    0              1   \n",
       "\n",
       "   bad_shuffled  \n",
       "0             0  \n",
       "1             0  \n",
       "2             0  \n",
       "3             0  \n",
       "4             1  "
      ]
     },
     "execution_count": 49,
     "metadata": {},
     "output_type": "execute_result"
    }
   ],
   "source": [
    "# We will relabel de dataset for easier permutation test analysis:\n",
    "threshold = 3.5\n",
    "df_reviews2['good'] = df_reviews2['score_scale2'].map(lambda x: 1 if x > threshold else 0)\n",
    "df_reviews2['bad'] = df_reviews2['score_scale2'].map(lambda x: 1 if x < threshold else 0 )\n",
    "df_reviews2.head()"
   ]
  },
  {
   "cell_type": "code",
   "execution_count": 41,
   "metadata": {},
   "outputs": [],
   "source": [
    "# Shuffle the good/bad attribute\n",
    "\n",
    "avg_score_shuffle_good = []\n",
    "avg_score_shuffle_bad = []\n",
    "avg_score_good = []\n",
    "avg_score_bad = []\n",
    "\n",
    "\n",
    "for _ in range(1000):\n",
    "    \n",
    "    # Create a list of shuffled good attribute and append it to the df_reviews2\n",
    "    df_reviews2['good_shuffled'] = np.random.permutation(df_reviews2['good'])\n",
    "    df_reviews2['bad_shuffled'] = np.random.permutation(df_reviews2['bad'])\n",
    "    \n",
    "    # Create a new df for every iteration on the loop \n",
    "    df_test = pd.DataFrame() \n",
    "    df_test['user_id'] = df_reviews2['user_id']       #character\n",
    "    df_test['good_true'] = df_reviews2['good']              #true labels\n",
    "    df_test['bad_true'] = df_reviews2['bad'] # true labels\n",
    "    df_test['good_shuffled'] = df_reviews2['good_shuffled'] #shuffled labels\n",
    "    df_test['bad_shuffled'] = df_reviews2['bad_shuffled']  #shuffled labels\n",
    "    df_test['score_scale2'] = df_reviews2['score_scale2']\n",
    "\n",
    "\n",
    "    # group with just characters and shuffled labels (random group)\n",
    "    shuffled_group_good = df_test[df_test['good_shuffled']== 1] # good characters\n",
    "    avg_score_shuffle_good.append(np.mean(shuffled_group_good['score_scale2'])) \n",
    "    \n",
    "    # group with just characters and shuffled labels (random group)\n",
    "    shuffled_group_bad = df_test[df_test['bad_shuffled']== 1] # bad characters\n",
    "    avg_score_shuffle_bad.append(np.mean(shuffled_group_bad['score_scale2']))\n",
    "\n",
    "# group with just characters and their true labels \n",
    "true_group_good = df_reviews2[df_reviews2['good'] == 1]\n",
    "avg_score_good = np.mean(true_group_good['score_scale2']) #it will always be the same number because of the true labels\n",
    "\n",
    "# group with just characters and their true labels \n",
    "true_group_bad = df_reviews2[df_reviews2['bad'] == 1]\n",
    "avg_score_bad = np.mean(true_group_bad['score_scale2']) #it will always be the same number because of the true labels"
   ]
  },
  {
   "cell_type": "code",
   "execution_count": 47,
   "metadata": {},
   "outputs": [],
   "source": [
    "def plot_pretty_hist_pair(shuffled_group_good, true_group_good, shuffled_group_bad, true_group_bad):\n",
    "    \n",
    "    fig, (ax1, ax2) = plt.subplots(1, 2, figsize = (20,6))\n",
    "\n",
    "\n",
    "    # H1\n",
    "    list_shuffle_good = list(zip(shuffled_group_good['user_id'], shuffled_group_good['score_scale2']))\n",
    "    x_good = [val for (node, val) in list_shuffle_good]\n",
    "    \n",
    "    cnts, values, bars = ax1.hist(x_good, edgecolor='black', \n",
    "                                     bins=20,\n",
    "                                     color='green',\n",
    "                                     alpha = 0.2)\n",
    "\n",
    "    # Mean of shuffled labels\n",
    "    ax1.axvline(mean(avg_score_shuffle_good), color='green', linewidth=2)\n",
    "    # Mean of true labels\n",
    "    ax1.axvline(avg_score_good, color='black', linewidth=2)\n",
    "\n",
    "    # Labels and titles\n",
    "    ax1.set_ylabel(\"Page Count\")\n",
    "    ax1.set_xlabel(\"Average Sentiment\")\n",
    "    ax1.set_title(\"Sentiment score in Good Reviews: True vs shuffled labels\")\n",
    "    ax1.legend(['Mean Shuffled Good Reviews','Mean True Good Reviews'])\n",
    "\n",
    "\n",
    "    \n",
    "    \n",
    "    # ----------------------------\n",
    "    \n",
    "    # H2\n",
    "    list_shuffle = list(zip(shuffled_group_bad['user_id'], shuffled_group_bad['score_scale2']))\n",
    "    x = [val for (node, val) in list_shuffle]\n",
    "    cnts, values, bars = ax2.hist(x, edgecolor='black', \n",
    "                                     bins=20,\n",
    "                                     color='red',\n",
    "                                     alpha = 0.2)\n",
    "    # Mean of shuffled labels\n",
    "    ax2.axvline(mean(avg_score_shuffle_bad), color='red', linewidth=2) \n",
    "    # Mean of true labels\n",
    "    ax2.axvline(avg_score_bad, color='black', linewidth=2) \n",
    "    \n",
    "\n",
    "    # Labels and titles\n",
    "    ax2.set_ylabel(\"Page Count\")\n",
    "    ax2.set_xlabel(\"Average Sentiment\")\n",
    "    ax2.set_title(\"Sentiment score in Bad Reviews: True vs shuffled labels\")\n",
    "    ax2.legend(['Mean Shuffled Bad Reviews','Mean True Bad Reviews'])\n",
    "\n",
    "\n",
    "    plt.show()\n",
    "\n",
    "    pass\n",
    "\n",
    "    return None"
   ]
  },
  {
   "cell_type": "code",
   "execution_count": 48,
   "metadata": {},
   "outputs": [
    {
     "data": {
      "image/png": "[encoded data removed]",
      "text/plain": [
       "<Figure size 1440x432 with 2 Axes>"
      ]
     },
     "metadata": {
      "needs_background": "light"
     },
     "output_type": "display_data"
    }
   ],
   "source": [
    "plot_pretty_hist_pair(shuffled_group_good, true_group_good, shuffled_group_bad, true_group_bad)"
   ]
  },
  {
   "cell_type": "markdown",
   "metadata": {},
   "source": [
    "> In conclusion, the average sentiment for the good reviews is lower than a random group of reviews with shuffled labels, determining which is expected as the number of good reviews and good words is higher in our dataset\n",
    "\n",
    "> The true average sentiment for the bad reviews is way lower than a random group of shuffled labels, also because of lower representation of the bad reviews. \n",
    "\n",
    "Both hypothesis are correct for the (unbalanced) good and bad reviews groups."
   ]
  },
  {
   "cell_type": "code",
   "execution_count": 50,
   "metadata": {},
   "outputs": [
    {
     "data": {
      "text/plain": [
       "1    131285\n",
       "0     13010\n",
       "Name: true_labels, dtype: int64"
      ]
     },
     "execution_count": 50,
     "metadata": {},
     "output_type": "execute_result"
    }
   ],
   "source": [
    "df_reviews2['true_labels'].value_counts()"
   ]
  },
  {
   "cell_type": "code",
   "execution_count": 87,
   "metadata": {},
   "outputs": [
    {
     "name": "stdout",
     "output_type": "stream",
     "text": [
      "1    13010\n",
      "0    13010\n",
      "Name: true_labels, dtype: int64\n"
     ]
    },
    {
     "data": {
      "text/html": [
       "<div>\n",
       "<style scoped>\n",
       "    .dataframe tbody tr th:only-of-type {\n",
       "        vertical-align: middle;\n",
       "    }\n",
       "\n",
       "    .dataframe tbody tr th {\n",
       "        vertical-align: top;\n",
       "    }\n",
       "\n",
       "    .dataframe thead th {\n",
       "        text-align: right;\n",
       "    }\n",
       "</style>\n",
       "<table border=\"1\" class=\"dataframe\">\n",
       "  <thead>\n",
       "    <tr style=\"text-align: right;\">\n",
       "      <th></th>\n",
       "      <th>user_id</th>\n",
       "      <th>community</th>\n",
       "      <th>recipe_id</th>\n",
       "      <th>date</th>\n",
       "      <th>rating</th>\n",
       "      <th>review</th>\n",
       "      <th>review_tokens</th>\n",
       "      <th>score</th>\n",
       "      <th>sentiment</th>\n",
       "      <th>score_scale</th>\n",
       "      <th>score_scale2</th>\n",
       "      <th>true_labels</th>\n",
       "      <th>good</th>\n",
       "      <th>bad</th>\n",
       "      <th>good_shuffled</th>\n",
       "      <th>bad_shuffled</th>\n",
       "    </tr>\n",
       "  </thead>\n",
       "  <tbody>\n",
       "    <tr>\n",
       "      <th>0</th>\n",
       "      <td>1535</td>\n",
       "      <td>43.0</td>\n",
       "      <td>349022</td>\n",
       "      <td>2010-02-11</td>\n",
       "      <td>4</td>\n",
       "      <td>after being w o power all day  it came back on...</td>\n",
       "      <td>[w, power, day, came, back, right, bedtime, qu...</td>\n",
       "      <td>0.8481</td>\n",
       "      <td>Positive</td>\n",
       "      <td>0.923671</td>\n",
       "      <td>4.618357</td>\n",
       "      <td>1</td>\n",
       "      <td>1</td>\n",
       "      <td>0</td>\n",
       "      <td>1</td>\n",
       "      <td>0</td>\n",
       "    </tr>\n",
       "    <tr>\n",
       "      <th>1</th>\n",
       "      <td>1535</td>\n",
       "      <td>43.0</td>\n",
       "      <td>50022</td>\n",
       "      <td>2004-09-09</td>\n",
       "      <td>5</td>\n",
       "      <td>this is an excellent recipe  even my not a big...</td>\n",
       "      <td>[excellent, recipe, even, big, fan, banana, br...</td>\n",
       "      <td>0.9707</td>\n",
       "      <td>Positive</td>\n",
       "      <td>0.985603</td>\n",
       "      <td>4.928016</td>\n",
       "      <td>1</td>\n",
       "      <td>1</td>\n",
       "      <td>0</td>\n",
       "      <td>1</td>\n",
       "      <td>0</td>\n",
       "    </tr>\n",
       "    <tr>\n",
       "      <th>2</th>\n",
       "      <td>1535</td>\n",
       "      <td>43.0</td>\n",
       "      <td>78834</td>\n",
       "      <td>2005-02-02</td>\n",
       "      <td>5</td>\n",
       "      <td>made these for my kids one day as a surprise a...</td>\n",
       "      <td>[made, kid, one, day, surprise, thought, reall...</td>\n",
       "      <td>0.9166</td>\n",
       "      <td>Positive</td>\n",
       "      <td>0.958274</td>\n",
       "      <td>4.791372</td>\n",
       "      <td>1</td>\n",
       "      <td>1</td>\n",
       "      <td>0</td>\n",
       "      <td>1</td>\n",
       "      <td>0</td>\n",
       "    </tr>\n",
       "    <tr>\n",
       "      <th>3</th>\n",
       "      <td>1535</td>\n",
       "      <td>43.0</td>\n",
       "      <td>47474</td>\n",
       "      <td>2004-08-04</td>\n",
       "      <td>5</td>\n",
       "      <td>love them   a quick   easy recipe with ingredi...</td>\n",
       "      <td>[love, quick, easy, recipe, ingredient, always...</td>\n",
       "      <td>0.6486</td>\n",
       "      <td>Positive</td>\n",
       "      <td>0.822894</td>\n",
       "      <td>4.114468</td>\n",
       "      <td>1</td>\n",
       "      <td>1</td>\n",
       "      <td>0</td>\n",
       "      <td>1</td>\n",
       "      <td>0</td>\n",
       "    </tr>\n",
       "    <tr>\n",
       "      <th>4</th>\n",
       "      <td>1535</td>\n",
       "      <td>43.0</td>\n",
       "      <td>230720</td>\n",
       "      <td>2007-07-02</td>\n",
       "      <td>5</td>\n",
       "      <td>i was a little afraid this might not work very...</td>\n",
       "      <td>[little, afraid, might, work, well, turned, lo...</td>\n",
       "      <td>0.9722</td>\n",
       "      <td>Positive</td>\n",
       "      <td>0.986361</td>\n",
       "      <td>4.931804</td>\n",
       "      <td>1</td>\n",
       "      <td>1</td>\n",
       "      <td>0</td>\n",
       "      <td>1</td>\n",
       "      <td>0</td>\n",
       "    </tr>\n",
       "  </tbody>\n",
       "</table>\n",
       "</div>"
      ],
      "text/plain": [
       "   user_id  community  recipe_id        date  rating  \\\n",
       "0     1535       43.0     349022  2010-02-11       4   \n",
       "1     1535       43.0      50022  2004-09-09       5   \n",
       "2     1535       43.0      78834  2005-02-02       5   \n",
       "3     1535       43.0      47474  2004-08-04       5   \n",
       "4     1535       43.0     230720  2007-07-02       5   \n",
       "\n",
       "                                              review  \\\n",
       "0  after being w o power all day  it came back on...   \n",
       "1  this is an excellent recipe  even my not a big...   \n",
       "2  made these for my kids one day as a surprise a...   \n",
       "3  love them   a quick   easy recipe with ingredi...   \n",
       "4  i was a little afraid this might not work very...   \n",
       "\n",
       "                                       review_tokens   score sentiment  \\\n",
       "0  [w, power, day, came, back, right, bedtime, qu...  0.8481  Positive   \n",
       "1  [excellent, recipe, even, big, fan, banana, br...  0.9707  Positive   \n",
       "2  [made, kid, one, day, surprise, thought, reall...  0.9166  Positive   \n",
       "3  [love, quick, easy, recipe, ingredient, always...  0.6486  Positive   \n",
       "4  [little, afraid, might, work, well, turned, lo...  0.9722  Positive   \n",
       "\n",
       "   score_scale  score_scale2  true_labels  good  bad  good_shuffled  \\\n",
       "0     0.923671      4.618357            1     1    0              1   \n",
       "1     0.985603      4.928016            1     1    0              1   \n",
       "2     0.958274      4.791372            1     1    0              1   \n",
       "3     0.822894      4.114468            1     1    0              1   \n",
       "4     0.986361      4.931804            1     1    0              1   \n",
       "\n",
       "   bad_shuffled  \n",
       "0             0  \n",
       "1             0  \n",
       "2             0  \n",
       "3             0  \n",
       "4             0  "
      ]
     },
     "execution_count": 87,
     "metadata": {},
     "output_type": "execute_result"
    }
   ],
   "source": [
    "df_slice1= df_reviews2[df_reviews2['true_labels'] == 1].head(13010)\n",
    "df_slice2 = df_reviews2[df_reviews2['true_labels'] == 0]\n",
    "new_df = pd.concat([df_slice1,df_slice2])\n",
    "print(new_df['true_labels'].value_counts())\n",
    "new_df.head()"
   ]
  },
  {
   "cell_type": "code",
   "execution_count": 88,
   "metadata": {},
   "outputs": [
    {
     "data": {
      "image/png": "[encoded data removed]",
      "text/plain": [
       "<Figure size 1440x432 with 2 Axes>"
      ]
     },
     "metadata": {
      "needs_background": "light"
     },
     "output_type": "display_data"
    }
   ],
   "source": [
    "# Shuffle the good/bad attribute\n",
    "\n",
    "avg_score_shuffle_good = []\n",
    "avg_score_shuffle_bad = []\n",
    "avg_score_good = []\n",
    "avg_score_bad = []\n",
    "\n",
    "\n",
    "for _ in range(1000):\n",
    "    \n",
    "    # Create a list of shuffled good attribute and append it to the new_df\n",
    "    new_df['good_shuffled'] = np.random.permutation(new_df['good'])\n",
    "    new_df['bad_shuffled'] = np.random.permutation(new_df['bad'])\n",
    "    \n",
    "    # Create a new df for every iteration on the loop \n",
    "    df_test = pd.DataFrame() \n",
    "    df_test['user_id'] = new_df['user_id']       #character\n",
    "    df_test['good_true'] = new_df['good']              #true labels\n",
    "    df_test['bad_true'] = new_df['bad'] # true labels\n",
    "    df_test['good_shuffled'] = new_df['good_shuffled'] #shuffled labels\n",
    "    df_test['bad_shuffled'] = new_df['bad_shuffled']  #shuffled labels\n",
    "    df_test['score_scale2'] = new_df['score_scale2']\n",
    "\n",
    "\n",
    "    # group with just characters and shuffled labels (random group)\n",
    "    shuffled_group_good = df_test[df_test['good_shuffled']== 1] # good characters\n",
    "    avg_score_shuffle_good.append(np.mean(shuffled_group_good['score_scale2'])) \n",
    "    \n",
    "    # group with just characters and shuffled labels (random group)\n",
    "    shuffled_group_bad = df_test[df_test['bad_shuffled']== 1] # bad characters\n",
    "    avg_score_shuffle_bad.append(np.mean(shuffled_group_bad['score_scale2']))\n",
    "\n",
    "# group with just characters and their true labels \n",
    "true_group_good = new_df[new_df['good'] == 1]\n",
    "avg_score_good = np.mean(true_group_good['score_scale2']) #it will always be the same number because of the true labels\n",
    "\n",
    "# group with just characters and their true labels \n",
    "true_group_bad = new_df[new_df['bad'] == 1]\n",
    "avg_score_bad = np.mean(true_group_bad['score_scale2']) #it will always be the same number because of the true labels\n",
    "\n",
    "\n",
    "plot_pretty_hist_pair(shuffled_group_good, true_group_good, shuffled_group_bad, true_group_bad)"
   ]
  },
  {
   "cell_type": "markdown",
   "metadata": {},
   "source": [
    "# Visualization of positive and negative words in reviews\n",
    "- Wordclouds of the positive and negative words found in the already grouped positive and negative reviews\n",
    "- Also group by community afterwards"
   ]
  },
  {
   "cell_type": "code",
   "execution_count": 89,
   "metadata": {},
   "outputs": [],
   "source": [
    "from wordcloud import WordCloud\n",
    "import nltk\n",
    "from nltk.corpus import stopwords\n",
    "from nltk import sent_tokenize, word_tokenize\n",
    "from wordcloud import WordCloud, STOPWORDS\n",
    "\n",
    "def wc(data,bgcolor,title):\n",
    "    plt.figure(figsize = (10,10))\n",
    "    wc = WordCloud(background_color = bgcolor, max_words = 100,  max_font_size = 50)\n",
    "    wc.generate(' '.join(data))\n",
    "    plt.imshow(wc)\n",
    "    plt.axis('off')"
   ]
  },
  {
   "cell_type": "code",
   "execution_count": 91,
   "metadata": {},
   "outputs": [
    {
     "data": {
      "image/png": "[encoded data removed]",
      "text/plain": [
       "<Figure size 720x720 with 1 Axes>"
      ]
     },
     "metadata": {
      "needs_background": "light"
     },
     "output_type": "display_data"
    }
   ],
   "source": [
    "# Good reviews \n",
    "\n",
    "df_good = new_df[new_df['true_labels'] == 1]\n",
    "list_words  = list(df_good[\"review_tokens\"])\n",
    "flat_list = [item for sublist in list_words for item in sublist]\n",
    "wc(flat_list,'black','Common Words' )"
   ]
  },
  {
   "cell_type": "code",
   "execution_count": 92,
   "metadata": {},
   "outputs": [
    {
     "data": {
      "image/png": "[encoded data removed]",
      "text/plain": [
       "<Figure size 720x720 with 1 Axes>"
      ]
     },
     "metadata": {
      "needs_background": "light"
     },
     "output_type": "display_data"
    }
   ],
   "source": [
    "df_bad= new_df[new_df['true_labels'] == 0]\n",
    "list_words  = list(df_bad[\"review_tokens\"])\n",
    "flat_list = [item for sublist in list_words for item in sublist]\n",
    "wc(flat_list,'black','Common Words' )"
   ]
  },
  {
   "cell_type": "markdown",
   "metadata": {},
   "source": [
    "# Community analysis of Actual Rating vs Calculated Score\n",
    "* a) Rating vs Sentiment score by community\n",
    "* b) Rating vs Sentiment score by recipe in each community\n",
    "    - How many recipes in each community have the same score?\n",
    "* c) Rating vs Sentiment score by user in each community\n",
    "    - How many recipes have each user rated?"
   ]
  },
  {
   "cell_type": "markdown",
   "metadata": {},
   "source": [
    "### a) **Average Rating vs Sentiment score by community**"
   ]
  },
  {
   "cell_type": "code",
   "execution_count": 31,
   "metadata": {},
   "outputs": [
    {
     "data": {
      "text/html": [
       "<div>\n",
       "<style scoped>\n",
       "    .dataframe tbody tr th:only-of-type {\n",
       "        vertical-align: middle;\n",
       "    }\n",
       "\n",
       "    .dataframe tbody tr th {\n",
       "        vertical-align: top;\n",
       "    }\n",
       "\n",
       "    .dataframe thead th {\n",
       "        text-align: right;\n",
       "    }\n",
       "</style>\n",
       "<table border=\"1\" class=\"dataframe\">\n",
       "  <thead>\n",
       "    <tr style=\"text-align: right;\">\n",
       "      <th></th>\n",
       "      <th>rating</th>\n",
       "      <th>score_scale2</th>\n",
       "    </tr>\n",
       "    <tr>\n",
       "      <th>community</th>\n",
       "      <th></th>\n",
       "      <th></th>\n",
       "    </tr>\n",
       "  </thead>\n",
       "  <tbody>\n",
       "    <tr>\n",
       "      <th>0.0</th>\n",
       "      <td>3.393665</td>\n",
       "      <td>4.041604</td>\n",
       "    </tr>\n",
       "    <tr>\n",
       "      <th>1.0</th>\n",
       "      <td>4.239961</td>\n",
       "      <td>4.363396</td>\n",
       "    </tr>\n",
       "    <tr>\n",
       "      <th>2.0</th>\n",
       "      <td>4.308029</td>\n",
       "      <td>4.281282</td>\n",
       "    </tr>\n",
       "    <tr>\n",
       "      <th>3.0</th>\n",
       "      <td>4.044586</td>\n",
       "      <td>4.195960</td>\n",
       "    </tr>\n",
       "    <tr>\n",
       "      <th>4.0</th>\n",
       "      <td>3.181818</td>\n",
       "      <td>4.436181</td>\n",
       "    </tr>\n",
       "    <tr>\n",
       "      <th>...</th>\n",
       "      <td>...</td>\n",
       "      <td>...</td>\n",
       "    </tr>\n",
       "    <tr>\n",
       "      <th>65.0</th>\n",
       "      <td>4.400000</td>\n",
       "      <td>4.024382</td>\n",
       "    </tr>\n",
       "    <tr>\n",
       "      <th>66.0</th>\n",
       "      <td>2.142857</td>\n",
       "      <td>3.227961</td>\n",
       "    </tr>\n",
       "    <tr>\n",
       "      <th>67.0</th>\n",
       "      <td>4.516129</td>\n",
       "      <td>4.402409</td>\n",
       "    </tr>\n",
       "    <tr>\n",
       "      <th>68.0</th>\n",
       "      <td>5.000000</td>\n",
       "      <td>4.278474</td>\n",
       "    </tr>\n",
       "    <tr>\n",
       "      <th>69.0</th>\n",
       "      <td>4.083333</td>\n",
       "      <td>4.268455</td>\n",
       "    </tr>\n",
       "  </tbody>\n",
       "</table>\n",
       "<p>70 rows × 2 columns</p>\n",
       "</div>"
      ],
      "text/plain": [
       "             rating  score_scale2\n",
       "community                        \n",
       "0.0        3.393665      4.041604\n",
       "1.0        4.239961      4.363396\n",
       "2.0        4.308029      4.281282\n",
       "3.0        4.044586      4.195960\n",
       "4.0        3.181818      4.436181\n",
       "...             ...           ...\n",
       "65.0       4.400000      4.024382\n",
       "66.0       2.142857      3.227961\n",
       "67.0       4.516129      4.402409\n",
       "68.0       5.000000      4.278474\n",
       "69.0       4.083333      4.268455\n",
       "\n",
       "[70 rows x 2 columns]"
      ]
     },
     "execution_count": 31,
     "metadata": {},
     "output_type": "execute_result"
    }
   ],
   "source": [
    "df_mean_rating= pd.DataFrame(df_reviews2.groupby(by=[\"community\"])['rating','score_scale2'].mean())\n",
    "df_mean_rating"
   ]
  },
  {
   "cell_type": "code",
   "execution_count": 32,
   "metadata": {},
   "outputs": [],
   "source": [
    "df_mean_rating = df_mean_rating.reset_index()"
   ]
  },
  {
   "cell_type": "code",
   "execution_count": 36,
   "metadata": {},
   "outputs": [
    {
     "name": "stdout",
     "output_type": "stream",
     "text": [
      "The mean of the sentiment in the reviews: 4.199637469675379\n",
      "90th percentile of the sentiment:  4.491394104499854\n",
      "10th percentile of the sentiment:  3.8474681906966213\n"
     ]
    },
    {
     "data": {
      "image/png": "[encoded data removed]",
      "text/plain": [
       "<Figure size 720x432 with 1 Axes>"
      ]
     },
     "metadata": {
      "needs_background": "light"
     },
     "output_type": "display_data"
    }
   ],
   "source": [
    "# Mean, 10th and 90th percentile of the sentiment\n",
    "\n",
    "mean_rev= df_mean_rating['score_scale2'].describe()['mean']\n",
    "\n",
    "print(f'The mean of the sentiment in the reviews across all communities: {mean_rev}')\n",
    "print(\"90th percentile of the sentiment: \",\n",
    "       np.percentile(df_mean_rating['score_scale2'], 90))\n",
    "\n",
    "print(\"10th percentile of the sentiment: \",\n",
    "       np.percentile(df_mean_rating['score_scale2'], 10))\n",
    "\n",
    "\n",
    "# Add the percentiles to a list for the plotting\n",
    "percentiles = [np.percentile(df_mean_rating['score_scale2'], 90), np.percentile(df_mean_rating['score_scale2'], 10)]\n",
    "\n",
    "\n",
    "list_sentiment = list(zip(df_mean_rating['community'], df_mean_rating['score_scale2']))\n",
    "\n",
    "plot_pretty_hist(list_sentiment,percentiles, mean_rev, plot_perct= True, \n",
    "                 title=\"Average Sentiment score in the reviews across all communities\",\n",
    "                 color = 'darkblue')"
   ]
  },
  {
   "cell_type": "code",
   "execution_count": 34,
   "metadata": {},
   "outputs": [
    {
     "data": {
      "application/vnd.plotly.v1+json": {
       "config": {
        "plotlyServerURL": "https://plot.ly"
       },
       "data": [
        {
         "alignmentgroup": "True",
         "hovertemplate": "variable=rating<br>community=%{x}<br>value=%{y}<extra></extra>",
         "legendgroup": "rating",
         "marker": {
          "color": "green",
          "opacity": 0.9,
          "pattern": {
           "shape": ""
          }
         },
         "name": "rating",
         "offsetgroup": "rating",
         "orientation": "v",
         "showlegend": true,
         "textposition": "auto",
         "type": "bar",
         "x": [
          0,
          1,
          2,
          3,
          4,
          5,
          6,
          7,
          8,
          9,
          10,
          11,
          12,
          13,
          14,
          15,
          16,
          17,
          18,
          19,
          20,
          21,
          22,
          23,
          24,
          25,
          26,
          27,
          28,
          29,
          30,
          31,
          32,
          33,
          34,
          35,
          36,
          37,
          38,
          39,
          40,
          41,
          42,
          43,
          44,
          45,
          46,
          47,
          48,
          49,
          50,
          51,
          52,
          53,
          54,
          55,
          56,
          57,
          58,
          59,
          60,
          61,
          62,
          63,
          64,
          65,
          66,
          67,
          68,
          69
         ],
         "xaxis": "x",
         "y": [
          3.3936651583710407,
          4.239961139896373,
          4.308029197080292,
          4.044585987261146,
          3.1818181818181817,
          4.190012970168612,
          3.8329853862212944,
          4.379786286731968,
          3.817470664928292,
          4.023758099352052,
          3.3812217194570136,
          4.021040974529346,
          4.2822128851540615,
          3.3333333333333335,
          3.8729281767955803,
          3.6470588235294117,
          4.713375697936268,
          4.064315352697095,
          4.294669009958993,
          3.7253521126760565,
          4.235920852359208,
          4.531400966183575,
          4.076669414674361,
          3.91412213740458,
          3.792452830188679,
          4,
          4.473867595818815,
          4.461935730680949,
          4.048421052631579,
          3.4,
          4.281152647975078,
          4.324549237170596,
          4.1,
          4.407632743362832,
          4.336759371221282,
          4.042430086788814,
          4.3612194257355545,
          4,
          4.5967359831534615,
          4.4508016347060675,
          3.6616702355460387,
          4.403927068723703,
          4.053249097472924,
          4.3582216549670285,
          3.8448275862068964,
          3.6386138613861387,
          4.070977917981073,
          4.5,
          4.2,
          3.3734939759036147,
          4.240112994350283,
          4.4792313664596275,
          4.199602780536246,
          4.5597189695550355,
          3.433333333333333,
          4.7185069984447905,
          4.54419154596512,
          2,
          4.74437627811861,
          4.0476190476190474,
          3,
          4.166666666666667,
          3.6,
          3.3448275862068964,
          4.5,
          4.4,
          2.142857142857143,
          4.516129032258065,
          5,
          4.083333333333333
         ],
         "yaxis": "y"
        },
        {
         "alignmentgroup": "True",
         "hovertemplate": "variable=score_scale2<br>community=%{x}<br>value=%{y}<extra></extra>",
         "legendgroup": "score_scale2",
         "marker": {
          "color": "orange",
          "opacity": 0.9,
          "pattern": {
           "shape": ""
          }
         },
         "name": "score_scale2",
         "offsetgroup": "score_scale2",
         "orientation": "v",
         "showlegend": true,
         "textposition": "auto",
         "type": "bar",
         "x": [
          0,
          1,
          2,
          3,
          4,
          5,
          6,
          7,
          8,
          9,
          10,
          11,
          12,
          13,
          14,
          15,
          16,
          17,
          18,
          19,
          20,
          21,
          22,
          23,
          24,
          25,
          26,
          27,
          28,
          29,
          30,
          31,
          32,
          33,
          34,
          35,
          36,
          37,
          38,
          39,
          40,
          41,
          42,
          43,
          44,
          45,
          46,
          47,
          48,
          49,
          50,
          51,
          52,
          53,
          54,
          55,
          56,
          57,
          58,
          59,
          60,
          61,
          62,
          63,
          64,
          65,
          66,
          67,
          68,
          69
         ],
         "xaxis": "x",
         "y": [
          4.041604455948412,
          4.363395804956673,
          4.2812819714862895,
          4.195959616109798,
          4.4361808629842585,
          4.325168927994206,
          3.9754520113508525,
          4.301325771309027,
          4.234409688075213,
          4.173162368469403,
          4.0009836760294375,
          4.233653923396273,
          4.446600245473014,
          4.0364214992927865,
          4.015770248802984,
          3.825505449704635,
          4.6193077494213695,
          4.094415877357065,
          4.444960299803159,
          4.00658370306706,
          4.408622054545405,
          4.621432492258395,
          4.4957667549482885,
          4.212353168347682,
          4.095621447252542,
          4.162126181220948,
          4.225561705000764,
          4.36446827456429,
          4.295253692931055,
          3.8460953238180964,
          4.251029110635649,
          4.5038508599083755,
          3.924126086077996,
          4.399752195848988,
          4.422942841041502,
          4.023288750656894,
          4.22235981058552,
          3.5977470195999195,
          4.2392012238972825,
          4.490908254450027,
          4.060437068375807,
          4.498451083945445,
          4.328691917486157,
          4.471694457256831,
          4.263165320754455,
          3.9451051717618726,
          4.360772067517703,
          4.451278035966863,
          4.245746757774369,
          3.837945234159512,
          4.258779691528475,
          3.9392906736444657,
          4.348146275726412,
          4.430529515815416,
          3.9176685525695434,
          4.6769462985908845,
          4.527943596962144,
          4.088654273590625,
          4.399391172371275,
          4.1681821243348836,
          4.341887249949485,
          3.7091247390045132,
          3.3970499090725403,
          4.403789340932686,
          3.8476207314609017,
          4.02438203003974,
          3.227960915625091,
          4.402408599977839,
          4.2784737657439225,
          4.268454906715162
         ],
         "yaxis": "y"
        }
       ],
       "layout": {
        "barmode": "group",
        "legend": {
         "title": {
          "text": "variable"
         },
         "tracegroupgap": 0
        },
        "template": {
         "data": {
          "bar": [
           {
            "error_x": {
             "color": "#2a3f5f"
            },
            "error_y": {
             "color": "#2a3f5f"
            },
            "marker": {
             "line": {
              "color": "#E5ECF6",
              "width": 0.5
             },
             "pattern": {
              "fillmode": "overlay",
              "size": 10,
              "solidity": 0.2
             }
            },
            "type": "bar"
           }
          ],
          "barpolar": [
           {
            "marker": {
             "line": {
              "color": "#E5ECF6",
              "width": 0.5
             },
             "pattern": {
              "fillmode": "overlay",
              "size": 10,
              "solidity": 0.2
             }
            },
            "type": "barpolar"
           }
          ],
          "carpet": [
           {
            "aaxis": {
             "endlinecolor": "#2a3f5f",
             "gridcolor": "white",
             "linecolor": "white",
             "minorgridcolor": "white",
             "startlinecolor": "#2a3f5f"
            },
            "baxis": {
             "endlinecolor": "#2a3f5f",
             "gridcolor": "white",
             "linecolor": "white",
             "minorgridcolor": "white",
             "startlinecolor": "#2a3f5f"
            },
            "type": "carpet"
           }
          ],
          "choropleth": [
           {
            "colorbar": {
             "outlinewidth": 0,
             "ticks": ""
            },
            "type": "choropleth"
           }
          ],
          "contour": [
           {
            "colorbar": {
             "outlinewidth": 0,
             "ticks": ""
            },
            "colorscale": [
             [
              0,
              "#0d0887"
             ],
             [
              0.1111111111111111,
              "#46039f"
             ],
             [
              0.2222222222222222,
              "#7201a8"
             ],
             [
              0.3333333333333333,
              "#9c179e"
             ],
             [
              0.4444444444444444,
              "#bd3786"
             ],
             [
              0.5555555555555556,
              "#d8576b"
             ],
             [
              0.6666666666666666,
              "#ed7953"
             ],
             [
              0.7777777777777778,
              "#fb9f3a"
             ],
             [
              0.8888888888888888,
              "#fdca26"
             ],
             [
              1,
              "#f0f921"
             ]
            ],
            "type": "contour"
           }
          ],
          "contourcarpet": [
           {
            "colorbar": {
             "outlinewidth": 0,
             "ticks": ""
            },
            "type": "contourcarpet"
           }
          ],
          "heatmap": [
           {
            "colorbar": {
             "outlinewidth": 0,
             "ticks": ""
            },
            "colorscale": [
             [
              0,
              "#0d0887"
             ],
             [
              0.1111111111111111,
              "#46039f"
             ],
             [
              0.2222222222222222,
              "#7201a8"
             ],
             [
              0.3333333333333333,
              "#9c179e"
             ],
             [
              0.4444444444444444,
              "#bd3786"
             ],
             [
              0.5555555555555556,
              "#d8576b"
             ],
             [
              0.6666666666666666,
              "#ed7953"
             ],
             [
              0.7777777777777778,
              "#fb9f3a"
             ],
             [
              0.8888888888888888,
              "#fdca26"
             ],
             [
              1,
              "#f0f921"
             ]
            ],
            "type": "heatmap"
           }
          ],
          "heatmapgl": [
           {
            "colorbar": {
             "outlinewidth": 0,
             "ticks": ""
            },
            "colorscale": [
             [
              0,
              "#0d0887"
             ],
             [
              0.1111111111111111,
              "#46039f"
             ],
             [
              0.2222222222222222,
              "#7201a8"
             ],
             [
              0.3333333333333333,
              "#9c179e"
             ],
             [
              0.4444444444444444,
              "#bd3786"
             ],
             [
              0.5555555555555556,
              "#d8576b"
             ],
             [
              0.6666666666666666,
              "#ed7953"
             ],
             [
              0.7777777777777778,
              "#fb9f3a"
             ],
             [
              0.8888888888888888,
              "#fdca26"
             ],
             [
              1,
              "#f0f921"
             ]
            ],
            "type": "heatmapgl"
           }
          ],
          "histogram": [
           {
            "marker": {
             "pattern": {
              "fillmode": "overlay",
              "size": 10,
              "solidity": 0.2
             }
            },
            "type": "histogram"
           }
          ],
          "histogram2d": [
           {
            "colorbar": {
             "outlinewidth": 0,
             "ticks": ""
            },
            "colorscale": [
             [
              0,
              "#0d0887"
             ],
             [
              0.1111111111111111,
              "#46039f"
             ],
             [
              0.2222222222222222,
              "#7201a8"
             ],
             [
              0.3333333333333333,
              "#9c179e"
             ],
             [
              0.4444444444444444,
              "#bd3786"
             ],
             [
              0.5555555555555556,
              "#d8576b"
             ],
             [
              0.6666666666666666,
              "#ed7953"
             ],
             [
              0.7777777777777778,
              "#fb9f3a"
             ],
             [
              0.8888888888888888,
              "#fdca26"
             ],
             [
              1,
              "#f0f921"
             ]
            ],
            "type": "histogram2d"
           }
          ],
          "histogram2dcontour": [
           {
            "colorbar": {
             "outlinewidth": 0,
             "ticks": ""
            },
            "colorscale": [
             [
              0,
              "#0d0887"
             ],
             [
              0.1111111111111111,
              "#46039f"
             ],
             [
              0.2222222222222222,
              "#7201a8"
             ],
             [
              0.3333333333333333,
              "#9c179e"
             ],
             [
              0.4444444444444444,
              "#bd3786"
             ],
             [
              0.5555555555555556,
              "#d8576b"
             ],
             [
              0.6666666666666666,
              "#ed7953"
             ],
             [
              0.7777777777777778,
              "#fb9f3a"
             ],
             [
              0.8888888888888888,
              "#fdca26"
             ],
             [
              1,
              "#f0f921"
             ]
            ],
            "type": "histogram2dcontour"
           }
          ],
          "mesh3d": [
           {
            "colorbar": {
             "outlinewidth": 0,
             "ticks": ""
            },
            "type": "mesh3d"
           }
          ],
          "parcoords": [
           {
            "line": {
             "colorbar": {
              "outlinewidth": 0,
              "ticks": ""
             }
            },
            "type": "parcoords"
           }
          ],
          "pie": [
           {
            "automargin": true,
            "type": "pie"
           }
          ],
          "scatter": [
           {
            "marker": {
             "colorbar": {
              "outlinewidth": 0,
              "ticks": ""
             }
            },
            "type": "scatter"
           }
          ],
          "scatter3d": [
           {
            "line": {
             "colorbar": {
              "outlinewidth": 0,
              "ticks": ""
             }
            },
            "marker": {
             "colorbar": {
              "outlinewidth": 0,
              "ticks": ""
             }
            },
            "type": "scatter3d"
           }
          ],
          "scattercarpet": [
           {
            "marker": {
             "colorbar": {
              "outlinewidth": 0,
              "ticks": ""
             }
            },
            "type": "scattercarpet"
           }
          ],
          "scattergeo": [
           {
            "marker": {
             "colorbar": {
              "outlinewidth": 0,
              "ticks": ""
             }
            },
            "type": "scattergeo"
           }
          ],
          "scattergl": [
           {
            "marker": {
             "colorbar": {
              "outlinewidth": 0,
              "ticks": ""
             }
            },
            "type": "scattergl"
           }
          ],
          "scattermapbox": [
           {
            "marker": {
             "colorbar": {
              "outlinewidth": 0,
              "ticks": ""
             }
            },
            "type": "scattermapbox"
           }
          ],
          "scatterpolar": [
           {
            "marker": {
             "colorbar": {
              "outlinewidth": 0,
              "ticks": ""
             }
            },
            "type": "scatterpolar"
           }
          ],
          "scatterpolargl": [
           {
            "marker": {
             "colorbar": {
              "outlinewidth": 0,
              "ticks": ""
             }
            },
            "type": "scatterpolargl"
           }
          ],
          "scatterternary": [
           {
            "marker": {
             "colorbar": {
              "outlinewidth": 0,
              "ticks": ""
             }
            },
            "type": "scatterternary"
           }
          ],
          "surface": [
           {
            "colorbar": {
             "outlinewidth": 0,
             "ticks": ""
            },
            "colorscale": [
             [
              0,
              "#0d0887"
             ],
             [
              0.1111111111111111,
              "#46039f"
             ],
             [
              0.2222222222222222,
              "#7201a8"
             ],
             [
              0.3333333333333333,
              "#9c179e"
             ],
             [
              0.4444444444444444,
              "#bd3786"
             ],
             [
              0.5555555555555556,
              "#d8576b"
             ],
             [
              0.6666666666666666,
              "#ed7953"
             ],
             [
              0.7777777777777778,
              "#fb9f3a"
             ],
             [
              0.8888888888888888,
              "#fdca26"
             ],
             [
              1,
              "#f0f921"
             ]
            ],
            "type": "surface"
           }
          ],
          "table": [
           {
            "cells": {
             "fill": {
              "color": "#EBF0F8"
             },
             "line": {
              "color": "white"
             }
            },
            "header": {
             "fill": {
              "color": "#C8D4E3"
             },
             "line": {
              "color": "white"
             }
            },
            "type": "table"
           }
          ]
         },
         "layout": {
          "annotationdefaults": {
           "arrowcolor": "#2a3f5f",
           "arrowhead": 0,
           "arrowwidth": 1
          },
          "autotypenumbers": "strict",
          "coloraxis": {
           "colorbar": {
            "outlinewidth": 0,
            "ticks": ""
           }
          },
          "colorscale": {
           "diverging": [
            [
             0,
             "#8e0152"
            ],
            [
             0.1,
             "#c51b7d"
            ],
            [
             0.2,
             "#de77ae"
            ],
            [
             0.3,
             "#f1b6da"
            ],
            [
             0.4,
             "#fde0ef"
            ],
            [
             0.5,
             "#f7f7f7"
            ],
            [
             0.6,
             "#e6f5d0"
            ],
            [
             0.7,
             "#b8e186"
            ],
            [
             0.8,
             "#7fbc41"
            ],
            [
             0.9,
             "#4d9221"
            ],
            [
             1,
             "#276419"
            ]
           ],
           "sequential": [
            [
             0,
             "#0d0887"
            ],
            [
             0.1111111111111111,
             "#46039f"
            ],
            [
             0.2222222222222222,
             "#7201a8"
            ],
            [
             0.3333333333333333,
             "#9c179e"
            ],
            [
             0.4444444444444444,
             "#bd3786"
            ],
            [
             0.5555555555555556,
             "#d8576b"
            ],
            [
             0.6666666666666666,
             "#ed7953"
            ],
            [
             0.7777777777777778,
             "#fb9f3a"
            ],
            [
             0.8888888888888888,
             "#fdca26"
            ],
            [
             1,
             "#f0f921"
            ]
           ],
           "sequentialminus": [
            [
             0,
             "#0d0887"
            ],
            [
             0.1111111111111111,
             "#46039f"
            ],
            [
             0.2222222222222222,
             "#7201a8"
            ],
            [
             0.3333333333333333,
             "#9c179e"
            ],
            [
             0.4444444444444444,
             "#bd3786"
            ],
            [
             0.5555555555555556,
             "#d8576b"
            ],
            [
             0.6666666666666666,
             "#ed7953"
            ],
            [
             0.7777777777777778,
             "#fb9f3a"
            ],
            [
             0.8888888888888888,
             "#fdca26"
            ],
            [
             1,
             "#f0f921"
            ]
           ]
          },
          "colorway": [
           "#636efa",
           "#EF553B",
           "#00cc96",
           "#ab63fa",
           "#FFA15A",
           "#19d3f3",
           "#FF6692",
           "#B6E880",
           "#FF97FF",
           "#FECB52"
          ],
          "font": {
           "color": "#2a3f5f"
          },
          "geo": {
           "bgcolor": "white",
           "lakecolor": "white",
           "landcolor": "#E5ECF6",
           "showlakes": true,
           "showland": true,
           "subunitcolor": "white"
          },
          "hoverlabel": {
           "align": "left"
          },
          "hovermode": "closest",
          "mapbox": {
           "style": "light"
          },
          "paper_bgcolor": "white",
          "plot_bgcolor": "#E5ECF6",
          "polar": {
           "angularaxis": {
            "gridcolor": "white",
            "linecolor": "white",
            "ticks": ""
           },
           "bgcolor": "#E5ECF6",
           "radialaxis": {
            "gridcolor": "white",
            "linecolor": "white",
            "ticks": ""
           }
          },
          "scene": {
           "xaxis": {
            "backgroundcolor": "#E5ECF6",
            "gridcolor": "white",
            "gridwidth": 2,
            "linecolor": "white",
            "showbackground": true,
            "ticks": "",
            "zerolinecolor": "white"
           },
           "yaxis": {
            "backgroundcolor": "#E5ECF6",
            "gridcolor": "white",
            "gridwidth": 2,
            "linecolor": "white",
            "showbackground": true,
            "ticks": "",
            "zerolinecolor": "white"
           },
           "zaxis": {
            "backgroundcolor": "#E5ECF6",
            "gridcolor": "white",
            "gridwidth": 2,
            "linecolor": "white",
            "showbackground": true,
            "ticks": "",
            "zerolinecolor": "white"
           }
          },
          "shapedefaults": {
           "line": {
            "color": "#2a3f5f"
           }
          },
          "ternary": {
           "aaxis": {
            "gridcolor": "white",
            "linecolor": "white",
            "ticks": ""
           },
           "baxis": {
            "gridcolor": "white",
            "linecolor": "white",
            "ticks": ""
           },
           "bgcolor": "#E5ECF6",
           "caxis": {
            "gridcolor": "white",
            "linecolor": "white",
            "ticks": ""
           }
          },
          "title": {
           "x": 0.05
          },
          "xaxis": {
           "automargin": true,
           "gridcolor": "white",
           "linecolor": "white",
           "ticks": "",
           "title": {
            "standoff": 15
           },
           "zerolinecolor": "white",
           "zerolinewidth": 2
          },
          "yaxis": {
           "automargin": true,
           "gridcolor": "white",
           "linecolor": "white",
           "ticks": "",
           "title": {
            "standoff": 15
           },
           "zerolinecolor": "white",
           "zerolinewidth": 2
          }
         }
        },
        "title": {
         "text": "Average Rating vs Average Calculated Sentiment Score (per community)"
        },
        "xaxis": {
         "anchor": "y",
         "domain": [
          0,
          1
         ],
         "title": {
          "text": "Community"
         }
        },
        "yaxis": {
         "anchor": "x",
         "domain": [
          0,
          1
         ],
         "title": {
          "text": "Score vs Rating"
         }
        }
       }
      }
     },
     "metadata": {},
     "output_type": "display_data"
    }
   ],
   "source": [
    "fig = px.bar(\n",
    "    data_frame = df_mean_rating,\n",
    "    x = \"community\",\n",
    "    y = [\"rating\",\"score_scale2\"],\n",
    "    opacity = 0.9,\n",
    "    orientation = \"v\",\n",
    "    barmode = 'group',\n",
    "    color_discrete_map={'rating':'green', 'score_scale2':'orange'},\n",
    "    title='Average Rating vs Average Calculated Sentiment Score (per community)',\n",
    ")\n",
    "\n",
    "fig.update_layout(\n",
    "\n",
    "  xaxis_title= 'Community',\n",
    "yaxis_title = 'Score vs Rating',\n",
    "\n",
    ")\n"
   ]
  },
  {
   "cell_type": "markdown",
   "metadata": {},
   "source": [
    "> **Label permutation test to investigate the two hypotheses below**\n",
    ">* **H1: Good reviews (>4 rating) have a higher averge value for sentiment than a similarly sized set of randomly selected reviews.**\n",
    ">* **H2: Bad reviews (<4) have a lower average value for sentiment than a similarly sized set of randomly selected reviews.**\n",
    ">* **Write a short paragraph reflecting on your findings.**"
   ]
  },
  {
   "cell_type": "code",
   "execution_count": null,
   "metadata": {},
   "outputs": [],
   "source": [
    "# First let's relabel the rating to create two groups (above 4 and below 4 rating)\n",
    "\n"
   ]
  },
  {
   "cell_type": "markdown",
   "metadata": {},
   "source": [
    "### b) **Average Rating vs Sentiment score per recipe by community**"
   ]
  },
  {
   "cell_type": "code",
   "execution_count": 92,
   "metadata": {},
   "outputs": [
    {
     "data": {
      "text/html": [
       "<div>\n",
       "<style scoped>\n",
       "    .dataframe tbody tr th:only-of-type {\n",
       "        vertical-align: middle;\n",
       "    }\n",
       "\n",
       "    .dataframe tbody tr th {\n",
       "        vertical-align: top;\n",
       "    }\n",
       "\n",
       "    .dataframe thead th {\n",
       "        text-align: right;\n",
       "    }\n",
       "</style>\n",
       "<table border=\"1\" class=\"dataframe\">\n",
       "  <thead>\n",
       "    <tr style=\"text-align: right;\">\n",
       "      <th></th>\n",
       "      <th></th>\n",
       "      <th>rating</th>\n",
       "      <th>score_scale2</th>\n",
       "    </tr>\n",
       "    <tr>\n",
       "      <th>community</th>\n",
       "      <th>recipe_id</th>\n",
       "      <th></th>\n",
       "      <th></th>\n",
       "    </tr>\n",
       "  </thead>\n",
       "  <tbody>\n",
       "    <tr>\n",
       "      <th rowspan=\"5\" valign=\"top\">0</th>\n",
       "      <th>2496</th>\n",
       "      <td>5.00</td>\n",
       "      <td>4.917660</td>\n",
       "    </tr>\n",
       "    <tr>\n",
       "      <th>2886</th>\n",
       "      <td>5.00</td>\n",
       "      <td>4.769398</td>\n",
       "    </tr>\n",
       "    <tr>\n",
       "      <th>4417</th>\n",
       "      <td>0.00</td>\n",
       "      <td>4.857800</td>\n",
       "    </tr>\n",
       "    <tr>\n",
       "      <th>4892</th>\n",
       "      <td>5.00</td>\n",
       "      <td>4.931552</td>\n",
       "    </tr>\n",
       "    <tr>\n",
       "      <th>7343</th>\n",
       "      <td>5.00</td>\n",
       "      <td>3.920742</td>\n",
       "    </tr>\n",
       "    <tr>\n",
       "      <th>...</th>\n",
       "      <th>...</th>\n",
       "      <td>...</td>\n",
       "      <td>...</td>\n",
       "    </tr>\n",
       "    <tr>\n",
       "      <th rowspan=\"5\" valign=\"top\">69</th>\n",
       "      <th>76043</th>\n",
       "      <td>3.00</td>\n",
       "      <td>4.763336</td>\n",
       "    </tr>\n",
       "    <tr>\n",
       "      <th>138708</th>\n",
       "      <td>2.00</td>\n",
       "      <td>3.845979</td>\n",
       "    </tr>\n",
       "    <tr>\n",
       "      <th>175091</th>\n",
       "      <td>3.75</td>\n",
       "      <td>3.380670</td>\n",
       "    </tr>\n",
       "    <tr>\n",
       "      <th>293133</th>\n",
       "      <td>5.00</td>\n",
       "      <td>4.897707</td>\n",
       "    </tr>\n",
       "    <tr>\n",
       "      <th>412064</th>\n",
       "      <td>5.00</td>\n",
       "      <td>4.712063</td>\n",
       "    </tr>\n",
       "  </tbody>\n",
       "</table>\n",
       "<p>107098 rows × 2 columns</p>\n",
       "</div>"
      ],
      "text/plain": [
       "                     rating  score_scale2\n",
       "community recipe_id                      \n",
       "0         2496         5.00      4.917660\n",
       "          2886         5.00      4.769398\n",
       "          4417         0.00      4.857800\n",
       "          4892         5.00      4.931552\n",
       "          7343         5.00      3.920742\n",
       "...                     ...           ...\n",
       "69        76043        3.00      4.763336\n",
       "          138708       2.00      3.845979\n",
       "          175091       3.75      3.380670\n",
       "          293133       5.00      4.897707\n",
       "          412064       5.00      4.712063\n",
       "\n",
       "[107098 rows x 2 columns]"
      ]
     },
     "execution_count": 92,
     "metadata": {},
     "output_type": "execute_result"
    }
   ],
   "source": [
    "df_mean_rating_recipe= pd.DataFrame(df_reviews2.groupby(by=[\"community\",'recipe_id'])['rating','score_scale2'].mean())\n",
    "df_mean_rating_recipe\n"
   ]
  },
  {
   "cell_type": "code",
   "execution_count": 93,
   "metadata": {},
   "outputs": [
    {
     "data": {
      "text/html": [
       "<div>\n",
       "<style scoped>\n",
       "    .dataframe tbody tr th:only-of-type {\n",
       "        vertical-align: middle;\n",
       "    }\n",
       "\n",
       "    .dataframe tbody tr th {\n",
       "        vertical-align: top;\n",
       "    }\n",
       "\n",
       "    .dataframe thead th {\n",
       "        text-align: right;\n",
       "    }\n",
       "</style>\n",
       "<table border=\"1\" class=\"dataframe\">\n",
       "  <thead>\n",
       "    <tr style=\"text-align: right;\">\n",
       "      <th></th>\n",
       "      <th>recipe_id</th>\n",
       "      <th>rating</th>\n",
       "      <th>score_scale2</th>\n",
       "    </tr>\n",
       "  </thead>\n",
       "  <tbody>\n",
       "    <tr>\n",
       "      <th>0</th>\n",
       "      <td>2496</td>\n",
       "      <td>5.000000</td>\n",
       "      <td>4.917660</td>\n",
       "    </tr>\n",
       "    <tr>\n",
       "      <th>1</th>\n",
       "      <td>2886</td>\n",
       "      <td>5.000000</td>\n",
       "      <td>4.769398</td>\n",
       "    </tr>\n",
       "    <tr>\n",
       "      <th>2</th>\n",
       "      <td>4417</td>\n",
       "      <td>0.000000</td>\n",
       "      <td>4.857800</td>\n",
       "    </tr>\n",
       "    <tr>\n",
       "      <th>3</th>\n",
       "      <td>4892</td>\n",
       "      <td>5.000000</td>\n",
       "      <td>4.931552</td>\n",
       "    </tr>\n",
       "    <tr>\n",
       "      <th>4</th>\n",
       "      <td>7343</td>\n",
       "      <td>5.000000</td>\n",
       "      <td>3.920742</td>\n",
       "    </tr>\n",
       "    <tr>\n",
       "      <th>...</th>\n",
       "      <td>...</td>\n",
       "      <td>...</td>\n",
       "      <td>...</td>\n",
       "    </tr>\n",
       "    <tr>\n",
       "      <th>265</th>\n",
       "      <td>508459</td>\n",
       "      <td>5.000000</td>\n",
       "      <td>4.873964</td>\n",
       "    </tr>\n",
       "    <tr>\n",
       "      <th>266</th>\n",
       "      <td>512762</td>\n",
       "      <td>4.000000</td>\n",
       "      <td>4.312235</td>\n",
       "    </tr>\n",
       "    <tr>\n",
       "      <th>267</th>\n",
       "      <td>527547</td>\n",
       "      <td>4.000000</td>\n",
       "      <td>4.937361</td>\n",
       "    </tr>\n",
       "    <tr>\n",
       "      <th>268</th>\n",
       "      <td>531223</td>\n",
       "      <td>4.000000</td>\n",
       "      <td>3.806577</td>\n",
       "    </tr>\n",
       "    <tr>\n",
       "      <th>269</th>\n",
       "      <td>533718</td>\n",
       "      <td>4.666667</td>\n",
       "      <td>4.481629</td>\n",
       "    </tr>\n",
       "  </tbody>\n",
       "</table>\n",
       "<p>270 rows × 3 columns</p>\n",
       "</div>"
      ],
      "text/plain": [
       "    recipe_id    rating  score_scale2\n",
       "0        2496  5.000000      4.917660\n",
       "1        2886  5.000000      4.769398\n",
       "2        4417  0.000000      4.857800\n",
       "3        4892  5.000000      4.931552\n",
       "4        7343  5.000000      3.920742\n",
       "..        ...       ...           ...\n",
       "265    508459  5.000000      4.873964\n",
       "266    512762  4.000000      4.312235\n",
       "267    527547  4.000000      4.937361\n",
       "268    531223  4.000000      3.806577\n",
       "269    533718  4.666667      4.481629\n",
       "\n",
       "[270 rows x 3 columns]"
      ]
     },
     "execution_count": 93,
     "metadata": {},
     "output_type": "execute_result"
    }
   ],
   "source": [
    "# Select community 0\n",
    "com0 = df_mean_rating_recipe.loc[0, :]\n",
    "com0\n",
    "com0 = com0.reset_index()\n",
    "com0['recipe_id'] = com0['recipe_id'].astype(str)\n",
    "com0"
   ]
  },
  {
   "cell_type": "code",
   "execution_count": 94,
   "metadata": {},
   "outputs": [
    {
     "data": {
      "application/vnd.plotly.v1+json": {
       "config": {
        "plotlyServerURL": "https://plot.ly"
       },
       "data": [
        {
         "alignmentgroup": "True",
         "hovertemplate": "variable=rating<br>recipe_id=%{x}<br>value=%{y}<extra></extra>",
         "legendgroup": "rating",
         "marker": {
          "color": "green",
          "opacity": 0.9,
          "pattern": {
           "shape": ""
          }
         },
         "name": "rating",
         "offsetgroup": "rating",
         "orientation": "v",
         "showlegend": true,
         "textposition": "auto",
         "type": "bar",
         "x": [
          "2496",
          "2886",
          "4417",
          "4892",
          "7343",
          "11530",
          "11716",
          "11923",
          "12157",
          "12591",
          "12794",
          "14261",
          "15843",
          "15865",
          "16611",
          "17776",
          "18816",
          "20643",
          "21761",
          "22058",
          "22782",
          "23081",
          "24155",
          "25999",
          "27275",
          "28768",
          "28927",
          "29805",
          "32833",
          "33130",
          "33323",
          "38846",
          "40497",
          "42031",
          "42322",
          "42402",
          "42780",
          "45940",
          "46739",
          "46877",
          "47453",
          "47637",
          "48165",
          "50342",
          "50722",
          "51948",
          "52035",
          "52039",
          "52300",
          "53133",
          "53516",
          "53878",
          "54257",
          "55936",
          "56698",
          "57505",
          "59273",
          "61723",
          "61881",
          "62581",
          "64015",
          "66861",
          "66947",
          "67023",
          "67256",
          "71187",
          "72646",
          "76003",
          "77136",
          "77554",
          "78897",
          "80129",
          "80353",
          "80728",
          "81319",
          "82023",
          "82102",
          "82985",
          "83772",
          "84516",
          "86316",
          "87782",
          "88564",
          "89925",
          "90295",
          "92494",
          "92994",
          "93324",
          "93651",
          "96143",
          "97590",
          "97674",
          "101954",
          "102274",
          "102416",
          "102596",
          "102617",
          "103865",
          "105786",
          "106160",
          "107358",
          "109283",
          "110130",
          "113198",
          "115100",
          "116903",
          "117776",
          "120090",
          "124176",
          "124336",
          "125406",
          "129203",
          "129926",
          "131833",
          "132680",
          "132849",
          "133448",
          "135048",
          "135630",
          "136834",
          "138691",
          "139612",
          "141983",
          "144169",
          "147237",
          "150490",
          "153294",
          "154224",
          "155442",
          "157686",
          "158643",
          "160337",
          "161457",
          "162386",
          "164741",
          "166118",
          "170554",
          "172618",
          "173585",
          "173875",
          "174930",
          "175769",
          "176261",
          "181318",
          "181385",
          "183399",
          "184607",
          "187731",
          "192133",
          "192218",
          "192623",
          "194129",
          "195326",
          "195497",
          "196233",
          "197922",
          "198139",
          "199299",
          "199963",
          "207533",
          "207626",
          "210647",
          "217322",
          "217963",
          "218856",
          "219903",
          "221240",
          "224855",
          "225484",
          "227439",
          "228348",
          "232287",
          "232928",
          "235183",
          "236634",
          "241728",
          "241784",
          "247595",
          "249180",
          "250498",
          "250949",
          "253580",
          "254347",
          "258922",
          "261495",
          "261827",
          "264631",
          "265591",
          "273166",
          "274333",
          "275854",
          "277678",
          "279110",
          "280012",
          "281637",
          "281791",
          "287183",
          "287888",
          "296507",
          "303128",
          "304233",
          "305322",
          "307027",
          "315943",
          "316304",
          "318998",
          "320658",
          "325042",
          "327822",
          "330186",
          "333836",
          "337211",
          "337449",
          "338863",
          "338883",
          "346701",
          "348783",
          "349246",
          "351631",
          "351699",
          "354238",
          "355687",
          "356881",
          "356975",
          "358910",
          "364496",
          "365088",
          "369156",
          "370291",
          "372087",
          "373217",
          "375073",
          "376569",
          "380657",
          "386902",
          "391209",
          "393795",
          "395141",
          "395448",
          "406219",
          "410347",
          "411513",
          "411821",
          "414467",
          "418124",
          "423314",
          "423955",
          "425176",
          "434019",
          "438624",
          "439473",
          "442230",
          "443917",
          "446687",
          "449167",
          "451098",
          "462731",
          "467871",
          "480215",
          "481206",
          "486641",
          "487364",
          "495401",
          "498959",
          "505491",
          "508459",
          "512762",
          "527547",
          "531223",
          "533718"
         ],
         "xaxis": "x",
         "y": [
          5,
          5,
          0,
          5,
          5,
          5,
          5,
          5,
          3,
          3,
          3,
          5,
          4,
          5,
          2,
          5,
          5,
          3,
          5,
          5,
          5,
          5,
          2.75,
          0,
          5,
          5,
          0,
          5,
          2,
          5,
          0,
          5,
          4,
          0,
          5,
          5,
          0,
          5,
          3,
          5,
          4,
          5,
          0,
          5,
          5,
          5,
          5,
          5,
          2,
          5,
          4,
          5,
          5,
          2.5,
          5,
          0,
          5,
          5,
          5,
          0.75,
          4,
          5,
          5,
          0,
          5,
          2.5,
          5,
          3.65,
          0,
          5,
          2,
          4,
          5,
          2.875,
          5,
          5,
          5,
          3.5555555555555554,
          4,
          5,
          5,
          5,
          5,
          2,
          0,
          3.3,
          3.75,
          5,
          5,
          0,
          5,
          0,
          5,
          5,
          4,
          2,
          5,
          5,
          3,
          0,
          0,
          5,
          5,
          5,
          0,
          5,
          5,
          0,
          5,
          0,
          0,
          4,
          5,
          5,
          5,
          2.142857142857143,
          3.625,
          5,
          5,
          5,
          4,
          5,
          4,
          5,
          2,
          4,
          5,
          5,
          5,
          5,
          4,
          0,
          5,
          4,
          5,
          5,
          5,
          5,
          0,
          5,
          3,
          0,
          5,
          3.75,
          5,
          5,
          5,
          3.8,
          5,
          5,
          0,
          0,
          5,
          4,
          3,
          3.6363636363636362,
          4,
          5,
          4.5,
          4,
          5,
          3.6551724137931036,
          2.25,
          5,
          4,
          5,
          5,
          5,
          0,
          5,
          5,
          5,
          4.666666666666667,
          1,
          5,
          1.6666666666666667,
          3.3333333333333335,
          0,
          4,
          2.5,
          4,
          0,
          0,
          5,
          5,
          2.5,
          5,
          4,
          5,
          0,
          5,
          0,
          5,
          5,
          4,
          3,
          0,
          1,
          5,
          2,
          4.266666666666667,
          4,
          5,
          5,
          3.2222222222222223,
          5,
          4,
          5,
          3,
          5,
          0,
          0,
          5,
          5,
          0,
          5,
          1,
          4,
          5,
          5,
          5,
          5,
          5,
          5,
          4,
          5,
          4.666666666666667,
          5,
          0,
          5,
          4,
          0.8333333333333334,
          5,
          5,
          5,
          5,
          0,
          5,
          3,
          5,
          5,
          0,
          0,
          0,
          0,
          5,
          5,
          5,
          2,
          3.727272727272727,
          5,
          3,
          5,
          0,
          3,
          5,
          3,
          5,
          0.5,
          3.8,
          5,
          0,
          5,
          5,
          5,
          5,
          4,
          4,
          4,
          4.666666666666667
         ],
         "yaxis": "y"
        },
        {
         "alignmentgroup": "True",
         "hovertemplate": "variable=score_scale2<br>recipe_id=%{x}<br>value=%{y}<extra></extra>",
         "legendgroup": "score_scale2",
         "marker": {
          "color": "orange",
          "opacity": 0.9,
          "pattern": {
           "shape": ""
          }
         },
         "name": "score_scale2",
         "offsetgroup": "score_scale2",
         "orientation": "v",
         "showlegend": true,
         "textposition": "auto",
         "type": "bar",
         "x": [
          "2496",
          "2886",
          "4417",
          "4892",
          "7343",
          "11530",
          "11716",
          "11923",
          "12157",
          "12591",
          "12794",
          "14261",
          "15843",
          "15865",
          "16611",
          "17776",
          "18816",
          "20643",
          "21761",
          "22058",
          "22782",
          "23081",
          "24155",
          "25999",
          "27275",
          "28768",
          "28927",
          "29805",
          "32833",
          "33130",
          "33323",
          "38846",
          "40497",
          "42031",
          "42322",
          "42402",
          "42780",
          "45940",
          "46739",
          "46877",
          "47453",
          "47637",
          "48165",
          "50342",
          "50722",
          "51948",
          "52035",
          "52039",
          "52300",
          "53133",
          "53516",
          "53878",
          "54257",
          "55936",
          "56698",
          "57505",
          "59273",
          "61723",
          "61881",
          "62581",
          "64015",
          "66861",
          "66947",
          "67023",
          "67256",
          "71187",
          "72646",
          "76003",
          "77136",
          "77554",
          "78897",
          "80129",
          "80353",
          "80728",
          "81319",
          "82023",
          "82102",
          "82985",
          "83772",
          "84516",
          "86316",
          "87782",
          "88564",
          "89925",
          "90295",
          "92494",
          "92994",
          "93324",
          "93651",
          "96143",
          "97590",
          "97674",
          "101954",
          "102274",
          "102416",
          "102596",
          "102617",
          "103865",
          "105786",
          "106160",
          "107358",
          "109283",
          "110130",
          "113198",
          "115100",
          "116903",
          "117776",
          "120090",
          "124176",
          "124336",
          "125406",
          "129203",
          "129926",
          "131833",
          "132680",
          "132849",
          "133448",
          "135048",
          "135630",
          "136834",
          "138691",
          "139612",
          "141983",
          "144169",
          "147237",
          "150490",
          "153294",
          "154224",
          "155442",
          "157686",
          "158643",
          "160337",
          "161457",
          "162386",
          "164741",
          "166118",
          "170554",
          "172618",
          "173585",
          "173875",
          "174930",
          "175769",
          "176261",
          "181318",
          "181385",
          "183399",
          "184607",
          "187731",
          "192133",
          "192218",
          "192623",
          "194129",
          "195326",
          "195497",
          "196233",
          "197922",
          "198139",
          "199299",
          "199963",
          "207533",
          "207626",
          "210647",
          "217322",
          "217963",
          "218856",
          "219903",
          "221240",
          "224855",
          "225484",
          "227439",
          "228348",
          "232287",
          "232928",
          "235183",
          "236634",
          "241728",
          "241784",
          "247595",
          "249180",
          "250498",
          "250949",
          "253580",
          "254347",
          "258922",
          "261495",
          "261827",
          "264631",
          "265591",
          "273166",
          "274333",
          "275854",
          "277678",
          "279110",
          "280012",
          "281637",
          "281791",
          "287183",
          "287888",
          "296507",
          "303128",
          "304233",
          "305322",
          "307027",
          "315943",
          "316304",
          "318998",
          "320658",
          "325042",
          "327822",
          "330186",
          "333836",
          "337211",
          "337449",
          "338863",
          "338883",
          "346701",
          "348783",
          "349246",
          "351631",
          "351699",
          "354238",
          "355687",
          "356881",
          "356975",
          "358910",
          "364496",
          "365088",
          "369156",
          "370291",
          "372087",
          "373217",
          "375073",
          "376569",
          "380657",
          "386902",
          "391209",
          "393795",
          "395141",
          "395448",
          "406219",
          "410347",
          "411513",
          "411821",
          "414467",
          "418124",
          "423314",
          "423955",
          "425176",
          "434019",
          "438624",
          "439473",
          "442230",
          "443917",
          "446687",
          "449167",
          "451098",
          "462731",
          "467871",
          "480215",
          "481206",
          "486641",
          "487364",
          "495401",
          "498959",
          "505491",
          "508459",
          "512762",
          "527547",
          "531223",
          "533718"
         ],
         "xaxis": "x",
         "y": [
          4.917660133360275,
          4.769397858153162,
          4.857799555465752,
          4.931551828652253,
          3.920741563952314,
          4.862345928470399,
          4.625681955950698,
          4.917660133360275,
          3.515272445611908,
          4.677712669226107,
          4.658769448373409,
          4.0849161446756925,
          3.7528414831279053,
          1.1487169125075778,
          2.4762578298646196,
          4.892907658112751,
          4.677207516670035,
          2.7356536674075578,
          4.818650232370176,
          4.878005657708629,
          4.860830470802183,
          4.536775106082037,
          3.6988533036977174,
          1.5119216003232983,
          4.841887249949485,
          4.515558698727016,
          4.857546979187715,
          4.873964437260053,
          3.3692412608607807,
          3.440594059405941,
          2.4762578298646196,
          3.588603758335018,
          4.706001212366136,
          4.743635077793495,
          4.828248130935543,
          4.851232572236817,
          4.904778743180441,
          4.934077591432613,
          4.440543544150334,
          4.925742574257427,
          4.870680945645586,
          4.707516670034351,
          1.049201858961407,
          4.792129723176401,
          4.693624974742373,
          4.950495049504951,
          4.760052535865832,
          4.0849161446756925,
          3.2557082238836133,
          2.152960193978582,
          4.456708425944636,
          4.915386946857952,
          4.515558698727016,
          4.476535663770459,
          4.779248332996565,
          4.801727621741766,
          4.425388967468177,
          4.790109112952113,
          4.8585572842998594,
          3.274840876944838,
          1.3174378662356034,
          4.798444130127299,
          4.083148110729441,
          4.2450495049504955,
          4.6453829056375024,
          3.442362093352193,
          4.937108506769045,
          4.4332819761568,
          4.327136795312185,
          3.664124065467772,
          4.142503536067893,
          4.480450596080017,
          4.575924429177612,
          3.8639434734289764,
          4.965397049909074,
          4.926500303091535,
          4.777480299050314,
          4.132905637502526,
          4.45771873105678,
          4.924732269145283,
          4.821933723984644,
          4.68630026267933,
          4.8375934532228735,
          2.7995554657506574,
          3.5408668417862197,
          3.6768286522529805,
          4.731132552030713,
          4.819155384926248,
          4.715346534653467,
          4.456708425944636,
          4.765104061426552,
          4.885330369771672,
          4.749696908466357,
          4.897454031117398,
          4.221054758537078,
          3.7464639321074973,
          3.388563346130532,
          4.821933723984644,
          3.273893715902203,
          4.915892099414024,
          2.7626793291574057,
          4.873711860982017,
          3.990200040412205,
          4.83405738533037,
          4.408466356839766,
          4.452162052939989,
          4.730501111335624,
          4.755001010305112,
          4.47211557890483,
          2.4762578298646196,
          4.581228531016367,
          3.638866437664175,
          4.783794706001213,
          4.831531622550011,
          4.945190947666196,
          3.2074661547787437,
          3.5422244392806634,
          4.8729541321479095,
          4.965397049909074,
          2.7626793291574057,
          3.2938472418670446,
          4.853758335017176,
          4.74641341685189,
          4.0849161446756925,
          3.392351990301071,
          4.88356233582542,
          4.7411093150131345,
          4.8585572842998594,
          4.729995958779552,
          4.565316225500101,
          4.632501515457669,
          4.744140230349566,
          4.1144675692059005,
          3.588603758335018,
          4.853758335017176,
          4.876995352596484,
          4.904021014346334,
          3.845978985653668,
          3.588603758335018,
          4.698255539839699,
          4.904021014346334,
          4.0849161446756925,
          2.4762578298646196,
          4.163719943422914,
          4.142503536067893,
          4.885330369771672,
          4.594867650030309,
          4.144549403919984,
          4.749696908466357,
          4.647656092139827,
          2.7356536674075578,
          3.5408668417862197,
          4.425388967468177,
          4.618357243887655,
          4.704485754697919,
          3.797484340270762,
          3.920741563952314,
          2.4762578298646196,
          4.657885431400284,
          3.6956961002222677,
          4.707516670034351,
          3.827018345747313,
          4.645382905637503,
          4.432461103253183,
          3.8265306122448983,
          4.5491513437058,
          4.945443523944232,
          4.7949080622347955,
          4.303899777732876,
          4.948727015558699,
          4.047787431804405,
          4.390533441099213,
          3.8542298107361765,
          4.62744998989695,
          4.254268539098808,
          3.035798477806965,
          3.3773657978042713,
          4.1144675692059005,
          4.130379874722166,
          2.885557688421904,
          2.4762578298646196,
          3.677005455647606,
          4.473125884016974,
          4.7706607395433425,
          4.903515861790261,
          3.561199232168115,
          4.408466356839766,
          2.42612143867448,
          3.6350777934936356,
          2.9255910284906044,
          4.927005455647606,
          0.7074661547787433,
          4.729743382501516,
          4.942665184885836,
          3.2496463932107504,
          4.343049100828451,
          3.0984794908062243,
          1.5715296019397862,
          4.833047080218227,
          4.602066073954335,
          4.515676567656766,
          4.70069711052738,
          4.564558496665994,
          4.565316225500101,
          4.219342852652613,
          4.811578096585169,
          2.4762578298646196,
          4.881794301879168,
          4.736562942008487,
          4.836077995554659,
          4.65624368559305,
          4.6708931097191355,
          4.761315417256012,
          4.916397251970095,
          3.588603758335018,
          4.6708931097191355,
          3.0084360476864016,
          4.667104465548596,
          4.494847443928068,
          4.57668215801172,
          4.92170135380885,
          4.054606991311377,
          4.0849161446756925,
          4.744140230349566,
          1.786219438270358,
          4.9267528793695705,
          4.221980871556544,
          3.72373206708426,
          4.637047888462317,
          3.920741563952314,
          4.560517276217419,
          3.582962888125548,
          4.8002121640735504,
          4.477672257021621,
          4.417053950292989,
          4.77899575671853,
          1.031774095776925,
          4.57668215801172,
          3.681652859163468,
          4.3329460497070125,
          4.683016771064862,
          4.68630026267933,
          1.1622297433825017,
          3.5408668417862197,
          3.7207011517478286,
          4.0849161446756925,
          4.678722974338251,
          4.7411093150131345,
          2.9791371994342297,
          4.649952240121972,
          4.44205900181855,
          4.703222873307739,
          4.906041624570621,
          2.4762578298646196,
          4.196302283289554,
          4.585269751464943,
          4.909325116185089,
          4.754495857749041,
          2.700924429177612,
          3.9617599515053556,
          4.663063245100021,
          4.054606991311377,
          2.4762578298646196,
          4.724691856940797,
          4.515558698727016,
          4.873964437260053,
          4.312234794908063,
          4.937361083047081,
          3.8065770862800568,
          4.481629285377518
         ],
         "yaxis": "y"
        }
       ],
       "layout": {
        "barmode": "group",
        "hovermode": "x unified",
        "legend": {
         "title": {
          "text": "variable"
         },
         "tracegroupgap": 0
        },
        "template": {
         "data": {
          "bar": [
           {
            "error_x": {
             "color": "#2a3f5f"
            },
            "error_y": {
             "color": "#2a3f5f"
            },
            "marker": {
             "line": {
              "color": "#E5ECF6",
              "width": 0.5
             },
             "pattern": {
              "fillmode": "overlay",
              "size": 10,
              "solidity": 0.2
             }
            },
            "type": "bar"
           }
          ],
          "barpolar": [
           {
            "marker": {
             "line": {
              "color": "#E5ECF6",
              "width": 0.5
             },
             "pattern": {
              "fillmode": "overlay",
              "size": 10,
              "solidity": 0.2
             }
            },
            "type": "barpolar"
           }
          ],
          "carpet": [
           {
            "aaxis": {
             "endlinecolor": "#2a3f5f",
             "gridcolor": "white",
             "linecolor": "white",
             "minorgridcolor": "white",
             "startlinecolor": "#2a3f5f"
            },
            "baxis": {
             "endlinecolor": "#2a3f5f",
             "gridcolor": "white",
             "linecolor": "white",
             "minorgridcolor": "white",
             "startlinecolor": "#2a3f5f"
            },
            "type": "carpet"
           }
          ],
          "choropleth": [
           {
            "colorbar": {
             "outlinewidth": 0,
             "ticks": ""
            },
            "type": "choropleth"
           }
          ],
          "contour": [
           {
            "colorbar": {
             "outlinewidth": 0,
             "ticks": ""
            },
            "colorscale": [
             [
              0,
              "#0d0887"
             ],
             [
              0.1111111111111111,
              "#46039f"
             ],
             [
              0.2222222222222222,
              "#7201a8"
             ],
             [
              0.3333333333333333,
              "#9c179e"
             ],
             [
              0.4444444444444444,
              "#bd3786"
             ],
             [
              0.5555555555555556,
              "#d8576b"
             ],
             [
              0.6666666666666666,
              "#ed7953"
             ],
             [
              0.7777777777777778,
              "#fb9f3a"
             ],
             [
              0.8888888888888888,
              "#fdca26"
             ],
             [
              1,
              "#f0f921"
             ]
            ],
            "type": "contour"
           }
          ],
          "contourcarpet": [
           {
            "colorbar": {
             "outlinewidth": 0,
             "ticks": ""
            },
            "type": "contourcarpet"
           }
          ],
          "heatmap": [
           {
            "colorbar": {
             "outlinewidth": 0,
             "ticks": ""
            },
            "colorscale": [
             [
              0,
              "#0d0887"
             ],
             [
              0.1111111111111111,
              "#46039f"
             ],
             [
              0.2222222222222222,
              "#7201a8"
             ],
             [
              0.3333333333333333,
              "#9c179e"
             ],
             [
              0.4444444444444444,
              "#bd3786"
             ],
             [
              0.5555555555555556,
              "#d8576b"
             ],
             [
              0.6666666666666666,
              "#ed7953"
             ],
             [
              0.7777777777777778,
              "#fb9f3a"
             ],
             [
              0.8888888888888888,
              "#fdca26"
             ],
             [
              1,
              "#f0f921"
             ]
            ],
            "type": "heatmap"
           }
          ],
          "heatmapgl": [
           {
            "colorbar": {
             "outlinewidth": 0,
             "ticks": ""
            },
            "colorscale": [
             [
              0,
              "#0d0887"
             ],
             [
              0.1111111111111111,
              "#46039f"
             ],
             [
              0.2222222222222222,
              "#7201a8"
             ],
             [
              0.3333333333333333,
              "#9c179e"
             ],
             [
              0.4444444444444444,
              "#bd3786"
             ],
             [
              0.5555555555555556,
              "#d8576b"
             ],
             [
              0.6666666666666666,
              "#ed7953"
             ],
             [
              0.7777777777777778,
              "#fb9f3a"
             ],
             [
              0.8888888888888888,
              "#fdca26"
             ],
             [
              1,
              "#f0f921"
             ]
            ],
            "type": "heatmapgl"
           }
          ],
          "histogram": [
           {
            "marker": {
             "pattern": {
              "fillmode": "overlay",
              "size": 10,
              "solidity": 0.2
             }
            },
            "type": "histogram"
           }
          ],
          "histogram2d": [
           {
            "colorbar": {
             "outlinewidth": 0,
             "ticks": ""
            },
            "colorscale": [
             [
              0,
              "#0d0887"
             ],
             [
              0.1111111111111111,
              "#46039f"
             ],
             [
              0.2222222222222222,
              "#7201a8"
             ],
             [
              0.3333333333333333,
              "#9c179e"
             ],
             [
              0.4444444444444444,
              "#bd3786"
             ],
             [
              0.5555555555555556,
              "#d8576b"
             ],
             [
              0.6666666666666666,
              "#ed7953"
             ],
             [
              0.7777777777777778,
              "#fb9f3a"
             ],
             [
              0.8888888888888888,
              "#fdca26"
             ],
             [
              1,
              "#f0f921"
             ]
            ],
            "type": "histogram2d"
           }
          ],
          "histogram2dcontour": [
           {
            "colorbar": {
             "outlinewidth": 0,
             "ticks": ""
            },
            "colorscale": [
             [
              0,
              "#0d0887"
             ],
             [
              0.1111111111111111,
              "#46039f"
             ],
             [
              0.2222222222222222,
              "#7201a8"
             ],
             [
              0.3333333333333333,
              "#9c179e"
             ],
             [
              0.4444444444444444,
              "#bd3786"
             ],
             [
              0.5555555555555556,
              "#d8576b"
             ],
             [
              0.6666666666666666,
              "#ed7953"
             ],
             [
              0.7777777777777778,
              "#fb9f3a"
             ],
             [
              0.8888888888888888,
              "#fdca26"
             ],
             [
              1,
              "#f0f921"
             ]
            ],
            "type": "histogram2dcontour"
           }
          ],
          "mesh3d": [
           {
            "colorbar": {
             "outlinewidth": 0,
             "ticks": ""
            },
            "type": "mesh3d"
           }
          ],
          "parcoords": [
           {
            "line": {
             "colorbar": {
              "outlinewidth": 0,
              "ticks": ""
             }
            },
            "type": "parcoords"
           }
          ],
          "pie": [
           {
            "automargin": true,
            "type": "pie"
           }
          ],
          "scatter": [
           {
            "marker": {
             "colorbar": {
              "outlinewidth": 0,
              "ticks": ""
             }
            },
            "type": "scatter"
           }
          ],
          "scatter3d": [
           {
            "line": {
             "colorbar": {
              "outlinewidth": 0,
              "ticks": ""
             }
            },
            "marker": {
             "colorbar": {
              "outlinewidth": 0,
              "ticks": ""
             }
            },
            "type": "scatter3d"
           }
          ],
          "scattercarpet": [
           {
            "marker": {
             "colorbar": {
              "outlinewidth": 0,
              "ticks": ""
             }
            },
            "type": "scattercarpet"
           }
          ],
          "scattergeo": [
           {
            "marker": {
             "colorbar": {
              "outlinewidth": 0,
              "ticks": ""
             }
            },
            "type": "scattergeo"
           }
          ],
          "scattergl": [
           {
            "marker": {
             "colorbar": {
              "outlinewidth": 0,
              "ticks": ""
             }
            },
            "type": "scattergl"
           }
          ],
          "scattermapbox": [
           {
            "marker": {
             "colorbar": {
              "outlinewidth": 0,
              "ticks": ""
             }
            },
            "type": "scattermapbox"
           }
          ],
          "scatterpolar": [
           {
            "marker": {
             "colorbar": {
              "outlinewidth": 0,
              "ticks": ""
             }
            },
            "type": "scatterpolar"
           }
          ],
          "scatterpolargl": [
           {
            "marker": {
             "colorbar": {
              "outlinewidth": 0,
              "ticks": ""
             }
            },
            "type": "scatterpolargl"
           }
          ],
          "scatterternary": [
           {
            "marker": {
             "colorbar": {
              "outlinewidth": 0,
              "ticks": ""
             }
            },
            "type": "scatterternary"
           }
          ],
          "surface": [
           {
            "colorbar": {
             "outlinewidth": 0,
             "ticks": ""
            },
            "colorscale": [
             [
              0,
              "#0d0887"
             ],
             [
              0.1111111111111111,
              "#46039f"
             ],
             [
              0.2222222222222222,
              "#7201a8"
             ],
             [
              0.3333333333333333,
              "#9c179e"
             ],
             [
              0.4444444444444444,
              "#bd3786"
             ],
             [
              0.5555555555555556,
              "#d8576b"
             ],
             [
              0.6666666666666666,
              "#ed7953"
             ],
             [
              0.7777777777777778,
              "#fb9f3a"
             ],
             [
              0.8888888888888888,
              "#fdca26"
             ],
             [
              1,
              "#f0f921"
             ]
            ],
            "type": "surface"
           }
          ],
          "table": [
           {
            "cells": {
             "fill": {
              "color": "#EBF0F8"
             },
             "line": {
              "color": "white"
             }
            },
            "header": {
             "fill": {
              "color": "#C8D4E3"
             },
             "line": {
              "color": "white"
             }
            },
            "type": "table"
           }
          ]
         },
         "layout": {
          "annotationdefaults": {
           "arrowcolor": "#2a3f5f",
           "arrowhead": 0,
           "arrowwidth": 1
          },
          "autotypenumbers": "strict",
          "coloraxis": {
           "colorbar": {
            "outlinewidth": 0,
            "ticks": ""
           }
          },
          "colorscale": {
           "diverging": [
            [
             0,
             "#8e0152"
            ],
            [
             0.1,
             "#c51b7d"
            ],
            [
             0.2,
             "#de77ae"
            ],
            [
             0.3,
             "#f1b6da"
            ],
            [
             0.4,
             "#fde0ef"
            ],
            [
             0.5,
             "#f7f7f7"
            ],
            [
             0.6,
             "#e6f5d0"
            ],
            [
             0.7,
             "#b8e186"
            ],
            [
             0.8,
             "#7fbc41"
            ],
            [
             0.9,
             "#4d9221"
            ],
            [
             1,
             "#276419"
            ]
           ],
           "sequential": [
            [
             0,
             "#0d0887"
            ],
            [
             0.1111111111111111,
             "#46039f"
            ],
            [
             0.2222222222222222,
             "#7201a8"
            ],
            [
             0.3333333333333333,
             "#9c179e"
            ],
            [
             0.4444444444444444,
             "#bd3786"
            ],
            [
             0.5555555555555556,
             "#d8576b"
            ],
            [
             0.6666666666666666,
             "#ed7953"
            ],
            [
             0.7777777777777778,
             "#fb9f3a"
            ],
            [
             0.8888888888888888,
             "#fdca26"
            ],
            [
             1,
             "#f0f921"
            ]
           ],
           "sequentialminus": [
            [
             0,
             "#0d0887"
            ],
            [
             0.1111111111111111,
             "#46039f"
            ],
            [
             0.2222222222222222,
             "#7201a8"
            ],
            [
             0.3333333333333333,
             "#9c179e"
            ],
            [
             0.4444444444444444,
             "#bd3786"
            ],
            [
             0.5555555555555556,
             "#d8576b"
            ],
            [
             0.6666666666666666,
             "#ed7953"
            ],
            [
             0.7777777777777778,
             "#fb9f3a"
            ],
            [
             0.8888888888888888,
             "#fdca26"
            ],
            [
             1,
             "#f0f921"
            ]
           ]
          },
          "colorway": [
           "#636efa",
           "#EF553B",
           "#00cc96",
           "#ab63fa",
           "#FFA15A",
           "#19d3f3",
           "#FF6692",
           "#B6E880",
           "#FF97FF",
           "#FECB52"
          ],
          "font": {
           "color": "#2a3f5f"
          },
          "geo": {
           "bgcolor": "white",
           "lakecolor": "white",
           "landcolor": "#E5ECF6",
           "showlakes": true,
           "showland": true,
           "subunitcolor": "white"
          },
          "hoverlabel": {
           "align": "left"
          },
          "hovermode": "closest",
          "mapbox": {
           "style": "light"
          },
          "paper_bgcolor": "white",
          "plot_bgcolor": "#E5ECF6",
          "polar": {
           "angularaxis": {
            "gridcolor": "white",
            "linecolor": "white",
            "ticks": ""
           },
           "bgcolor": "#E5ECF6",
           "radialaxis": {
            "gridcolor": "white",
            "linecolor": "white",
            "ticks": ""
           }
          },
          "scene": {
           "xaxis": {
            "backgroundcolor": "#E5ECF6",
            "gridcolor": "white",
            "gridwidth": 2,
            "linecolor": "white",
            "showbackground": true,
            "ticks": "",
            "zerolinecolor": "white"
           },
           "yaxis": {
            "backgroundcolor": "#E5ECF6",
            "gridcolor": "white",
            "gridwidth": 2,
            "linecolor": "white",
            "showbackground": true,
            "ticks": "",
            "zerolinecolor": "white"
           },
           "zaxis": {
            "backgroundcolor": "#E5ECF6",
            "gridcolor": "white",
            "gridwidth": 2,
            "linecolor": "white",
            "showbackground": true,
            "ticks": "",
            "zerolinecolor": "white"
           }
          },
          "shapedefaults": {
           "line": {
            "color": "#2a3f5f"
           }
          },
          "ternary": {
           "aaxis": {
            "gridcolor": "white",
            "linecolor": "white",
            "ticks": ""
           },
           "baxis": {
            "gridcolor": "white",
            "linecolor": "white",
            "ticks": ""
           },
           "bgcolor": "#E5ECF6",
           "caxis": {
            "gridcolor": "white",
            "linecolor": "white",
            "ticks": ""
           }
          },
          "title": {
           "x": 0.05
          },
          "xaxis": {
           "automargin": true,
           "gridcolor": "white",
           "linecolor": "white",
           "ticks": "",
           "title": {
            "standoff": 15
           },
           "zerolinecolor": "white",
           "zerolinewidth": 2
          },
          "yaxis": {
           "automargin": true,
           "gridcolor": "white",
           "linecolor": "white",
           "ticks": "",
           "title": {
            "standoff": 15
           },
           "zerolinecolor": "white",
           "zerolinewidth": 2
          }
         }
        },
        "title": {
         "text": "Average Rating vs Calculated Sentiment score (per recipe) in Community 0"
        },
        "xaxis": {
         "anchor": "y",
         "domain": [
          0,
          1
         ],
         "title": {
          "text": "Recipes in Community 0"
         }
        },
        "yaxis": {
         "anchor": "x",
         "domain": [
          0,
          1
         ],
         "title": {
          "text": "Score vs Rating"
         }
        }
       }
      }
     },
     "metadata": {},
     "output_type": "display_data"
    }
   ],
   "source": [
    "fig = px.bar(\n",
    "    data_frame = com0,\n",
    "    x = \"recipe_id\",\n",
    "    y = [\"rating\",\"score_scale2\"],\n",
    "    opacity = 0.9,\n",
    "    orientation = \"v\",\n",
    "    barmode = 'group',\n",
    "    color_discrete_map={'rating':'green', 'score_scale2':'orange'},\n",
    "    title='Average Rating vs Calculated Sentiment score (per recipe) in Community 0',\n",
    "   # hover_name= 'recipe_id',\n",
    ")\n",
    "\n",
    "fig.update_layout(\n",
    "\n",
    "  xaxis_title= 'Recipes in Community 0',\n",
    "  yaxis_title = 'Score vs Rating',\n",
    "  hovermode = 'x unified'\n",
    "\n",
    ")"
   ]
  },
  {
   "cell_type": "markdown",
   "metadata": {},
   "source": [
    "### c) **Average Rating vs Sentiment score per user by community**"
   ]
  },
  {
   "cell_type": "code",
   "execution_count": 107,
   "metadata": {},
   "outputs": [
    {
     "data": {
      "text/html": [
       "<div>\n",
       "<style scoped>\n",
       "    .dataframe tbody tr th:only-of-type {\n",
       "        vertical-align: middle;\n",
       "    }\n",
       "\n",
       "    .dataframe tbody tr th {\n",
       "        vertical-align: top;\n",
       "    }\n",
       "\n",
       "    .dataframe thead th {\n",
       "        text-align: right;\n",
       "    }\n",
       "</style>\n",
       "<table border=\"1\" class=\"dataframe\">\n",
       "  <thead>\n",
       "    <tr style=\"text-align: right;\">\n",
       "      <th></th>\n",
       "      <th></th>\n",
       "      <th>recipe_id</th>\n",
       "    </tr>\n",
       "    <tr>\n",
       "      <th>community</th>\n",
       "      <th>user_id</th>\n",
       "      <th></th>\n",
       "    </tr>\n",
       "  </thead>\n",
       "  <tbody>\n",
       "    <tr>\n",
       "      <th rowspan=\"5\" valign=\"top\">0</th>\n",
       "      <th>57993</th>\n",
       "      <td>9</td>\n",
       "    </tr>\n",
       "    <tr>\n",
       "      <th>63878</th>\n",
       "      <td>1</td>\n",
       "    </tr>\n",
       "    <tr>\n",
       "      <th>310313</th>\n",
       "      <td>7</td>\n",
       "    </tr>\n",
       "    <tr>\n",
       "      <th>315479</th>\n",
       "      <td>20</td>\n",
       "    </tr>\n",
       "    <tr>\n",
       "      <th>325879</th>\n",
       "      <td>2</td>\n",
       "    </tr>\n",
       "    <tr>\n",
       "      <th>...</th>\n",
       "      <th>...</th>\n",
       "      <td>...</td>\n",
       "    </tr>\n",
       "    <tr>\n",
       "      <th>68</th>\n",
       "      <th>2002302691</th>\n",
       "      <td>1</td>\n",
       "    </tr>\n",
       "    <tr>\n",
       "      <th rowspan=\"4\" valign=\"top\">69</th>\n",
       "      <th>1803099400</th>\n",
       "      <td>9</td>\n",
       "    </tr>\n",
       "    <tr>\n",
       "      <th>2001597635</th>\n",
       "      <td>1</td>\n",
       "    </tr>\n",
       "    <tr>\n",
       "      <th>2001640468</th>\n",
       "      <td>1</td>\n",
       "    </tr>\n",
       "    <tr>\n",
       "      <th>2002274344</th>\n",
       "      <td>1</td>\n",
       "    </tr>\n",
       "  </tbody>\n",
       "</table>\n",
       "<p>15257 rows × 1 columns</p>\n",
       "</div>"
      ],
      "text/plain": [
       "                      recipe_id\n",
       "community user_id              \n",
       "0         57993               9\n",
       "          63878               1\n",
       "          310313              7\n",
       "          315479             20\n",
       "          325879              2\n",
       "...                         ...\n",
       "68        2002302691          1\n",
       "69        1803099400          9\n",
       "          2001597635          1\n",
       "          2001640468          1\n",
       "          2002274344          1\n",
       "\n",
       "[15257 rows x 1 columns]"
      ]
     },
     "execution_count": 107,
     "metadata": {},
     "output_type": "execute_result"
    }
   ],
   "source": [
    "# How many recipes have each user reviewed in each community???? \n",
    "df_count= pd.DataFrame(df_reviews2.groupby(by=[\"community\",'user_id'])['recipe_id'].count())\n",
    "df_count\n"
   ]
  },
  {
   "cell_type": "code",
   "execution_count": 108,
   "metadata": {},
   "outputs": [
    {
     "data": {
      "application/vnd.plotly.v1+json": {
       "config": {
        "plotlyServerURL": "https://plot.ly"
       },
       "data": [
        {
         "alignmentgroup": "True",
         "hovertemplate": "variable=recipe_id<br>user_id=%{x}<br>value=%{y}<extra></extra>",
         "legendgroup": "recipe_id",
         "marker": {
          "color": "#636efa",
          "opacity": 0.9,
          "pattern": {
           "shape": ""
          }
         },
         "name": "recipe_id",
         "offsetgroup": "recipe_id",
         "orientation": "v",
         "showlegend": true,
         "textposition": "auto",
         "type": "bar",
         "x": [
          "20480",
          "52838",
          "63291",
          "79004",
          "186855",
          "250443",
          "389001",
          "430507",
          "496829",
          "529278",
          "536127",
          "641071",
          "675308",
          "696239",
          "885024",
          "931322",
          "1058984",
          "1093993",
          "1202698",
          "1207655",
          "1441804",
          "1467966",
          "1588275",
          "1723513",
          "1813790",
          "1874042",
          "1881490",
          "2061170",
          "2103403",
          "2303630",
          "2421378",
          "2425244",
          "2549711",
          "2583636",
          "2588180",
          "2749424",
          "2790208",
          "2832982",
          "2910728",
          "11673203",
          "46084354",
          "1800324154",
          "1802821179",
          "1803291363",
          "1803559483",
          "2000039714",
          "2000051489",
          "2000063557",
          "2000082350",
          "2000096247",
          "2000249961",
          "2000265767",
          "2000270096",
          "2000284647",
          "2000311473",
          "2000331248",
          "2000331570",
          "2000333591",
          "2000407119",
          "2000429993",
          "2000443508",
          "2000592169",
          "2000600112",
          "2000659917",
          "2000686836",
          "2000692928",
          "2000697206",
          "2000708324",
          "2000715303",
          "2000793289",
          "2000859716",
          "2000882720",
          "2000889684",
          "2000895005",
          "2000900316",
          "2000934547",
          "2000963074",
          "2000975403",
          "2000977552",
          "2000995814",
          "2001000472",
          "2001053789",
          "2001102036",
          "2001110421",
          "2001113983",
          "2001134836",
          "2001140998",
          "2001167084",
          "2001169689",
          "2001198178",
          "2001205445",
          "2001206360",
          "2001216626",
          "2001219444",
          "2001238684",
          "2001246372",
          "2001249331",
          "2001258524",
          "2001287839",
          "2001297534",
          "2001298543",
          "2001309256",
          "2001324278",
          "2001331318",
          "2001332339",
          "2001333225",
          "2001333228",
          "2001333807",
          "2001339410",
          "2001344771",
          "2001347791",
          "2001347941",
          "2001348256",
          "2001353992",
          "2001356255",
          "2001356544",
          "2001363059",
          "2001363559",
          "2001365799",
          "2001366716",
          "2001368950",
          "2001370865",
          "2001371900",
          "2001374029",
          "2001376584",
          "2001376684",
          "2001385831",
          "2001389012",
          "2001389744",
          "2001393412",
          "2001393594",
          "2001396025",
          "2001399188",
          "2001405285",
          "2001415962",
          "2001419549",
          "2001420370",
          "2001421927",
          "2001422126",
          "2001423686",
          "2001423940",
          "2001424747",
          "2001429861",
          "2001431935",
          "2001432068",
          "2001437621",
          "2001449459",
          "2001450615",
          "2001455535",
          "2001455874",
          "2001458655",
          "2001468578",
          "2001468785",
          "2001469944",
          "2001472738",
          "2001473503",
          "2001475794",
          "2001477218",
          "2001478707",
          "2001480689",
          "2001482613",
          "2001485661",
          "2001489384",
          "2001489642",
          "2001493162",
          "2001495163",
          "2001497509",
          "2001504695",
          "2001506031",
          "2001515095",
          "2001516705",
          "2001519358",
          "2001520190",
          "2001521816",
          "2001523162",
          "2001526559",
          "2001532089",
          "2001534470",
          "2001537431",
          "2001538101",
          "2001538344",
          "2001538636",
          "2001541499",
          "2001541931",
          "2001544502",
          "2001545326",
          "2001546774",
          "2001549544",
          "2001551667",
          "2001557221",
          "2001558974",
          "2001566290",
          "2001569166",
          "2001573771",
          "2001583204",
          "2001586155",
          "2001587656",
          "2001588457",
          "2001589027",
          "2001590408",
          "2001591688",
          "2001591867",
          "2001591888",
          "2001593859",
          "2001600463",
          "2001602042",
          "2001610187",
          "2001617885",
          "2001618862",
          "2001620405",
          "2001623277",
          "2001629381",
          "2001630213",
          "2001631466",
          "2001641441",
          "2001642110",
          "2001643407",
          "2001646258",
          "2001649842",
          "2001654837",
          "2001655230",
          "2001660494",
          "2001660739",
          "2001660778",
          "2001662231",
          "2001662293",
          "2001663543",
          "2001667594",
          "2001669802",
          "2001671998",
          "2001672885",
          "2001676990",
          "2001680492",
          "2001684117",
          "2001684702",
          "2001685520",
          "2001689825",
          "2001690782",
          "2001692869",
          "2001701267",
          "2001717963",
          "2001724001",
          "2001731215",
          "2001736189",
          "2001738277",
          "2001740211",
          "2001749775",
          "2001752779",
          "2001754352",
          "2001755546",
          "2001756716",
          "2001760903",
          "2001762829",
          "2001764654",
          "2001765439",
          "2001769708",
          "2001770814",
          "2001777046",
          "2001778558",
          "2001778822",
          "2001779681",
          "2001781116",
          "2001787586",
          "2001798610",
          "2001799817",
          "2001810541",
          "2001822319",
          "2001822702",
          "2001825557",
          "2001827433",
          "2001831580",
          "2001836059",
          "2001847833",
          "2001861325",
          "2001864769",
          "2001883174",
          "2001884249",
          "2001893191",
          "2001894701",
          "2001900425",
          "2001908373",
          "2001910812",
          "2001914461",
          "2001916558",
          "2001917542",
          "2001918778",
          "2001919168",
          "2001919195",
          "2001924668",
          "2001929863",
          "2001929959",
          "2001934880",
          "2001938478",
          "2001939346",
          "2001943755",
          "2001946376",
          "2001954363",
          "2001954429",
          "2001955171",
          "2001959587",
          "2001961425",
          "2001962081",
          "2001964480",
          "2001965447",
          "2001970694",
          "2001971174",
          "2001976295",
          "2001991074",
          "2001991444",
          "2001993730",
          "2002003478",
          "2002007738",
          "2002007953",
          "2002009699",
          "2002012541",
          "2002020694",
          "2002025856",
          "2002028300",
          "2002031425",
          "2002044359",
          "2002048009",
          "2002050167",
          "2002058237",
          "2002058759",
          "2002059611",
          "2002061564",
          "2002066955",
          "2002071638",
          "2002073522",
          "2002075238",
          "2002075397",
          "2002075813",
          "2002075957",
          "2002076131",
          "2002081486",
          "2002090002",
          "2002091085",
          "2002092950",
          "2002094555",
          "2002094746",
          "2002095670",
          "2002098559",
          "2002098988",
          "2002106277",
          "2002108243",
          "2002112126",
          "2002113891",
          "2002119722",
          "2002119764",
          "2002126155",
          "2002130900",
          "2002140367",
          "2002141028",
          "2002143765",
          "2002151910",
          "2002152271",
          "2002152636",
          "2002155102",
          "2002159852",
          "2002169508",
          "2002178475",
          "2002202360",
          "2002206225",
          "2002206542",
          "2002209507",
          "2002216300",
          "2002216395",
          "2002220042",
          "2002220916",
          "2002224710",
          "2002227784",
          "2002227842",
          "2002228233",
          "2002228311",
          "2002229518",
          "2002231846",
          "2002235103",
          "2002243827",
          "2002246340",
          "2002246526",
          "2002249602",
          "2002254785",
          "2002257565",
          "2002257730",
          "2002257796",
          "2002258074",
          "2002258744",
          "2002259221",
          "2002261625",
          "2002269955",
          "2002272863",
          "2002284253",
          "2002292140",
          "2002299391",
          "2002299778",
          "2002303743",
          "2002305919",
          "2002312928",
          "2002324871",
          "2002327139",
          "2002337577",
          "2002354675",
          "2002365515"
         ],
         "xaxis": "x",
         "y": [
          562,
          1,
          19,
          17,
          554,
          1,
          1,
          66,
          103,
          197,
          16,
          11,
          1,
          1,
          44,
          6,
          9,
          2,
          1,
          4,
          16,
          9,
          6,
          3,
          2,
          1,
          3,
          2,
          1,
          1,
          1,
          1,
          12,
          1,
          1,
          1,
          1,
          6,
          2,
          3,
          2,
          4,
          1,
          2,
          1,
          1,
          2,
          1,
          1,
          5,
          3,
          1,
          7,
          1,
          1,
          1,
          1,
          1,
          1,
          1,
          1,
          1,
          1,
          1,
          1,
          1,
          1,
          1,
          2,
          1,
          1,
          1,
          1,
          1,
          1,
          1,
          1,
          1,
          1,
          2,
          1,
          1,
          1,
          1,
          1,
          2,
          1,
          1,
          3,
          2,
          1,
          1,
          1,
          2,
          2,
          5,
          1,
          2,
          1,
          70,
          1,
          2,
          1,
          1,
          1,
          1,
          1,
          1,
          1,
          1,
          1,
          3,
          1,
          1,
          4,
          1,
          1,
          2,
          7,
          1,
          1,
          2,
          1,
          1,
          1,
          1,
          1,
          1,
          1,
          2,
          1,
          1,
          1,
          1,
          1,
          1,
          1,
          1,
          1,
          1,
          1,
          1,
          1,
          1,
          2,
          1,
          1,
          1,
          1,
          1,
          1,
          1,
          1,
          1,
          1,
          2,
          1,
          1,
          1,
          1,
          1,
          1,
          1,
          3,
          1,
          1,
          1,
          1,
          1,
          1,
          1,
          1,
          1,
          1,
          1,
          1,
          1,
          1,
          2,
          1,
          1,
          1,
          1,
          1,
          1,
          1,
          1,
          1,
          1,
          1,
          1,
          1,
          1,
          1,
          1,
          1,
          2,
          1,
          1,
          1,
          1,
          1,
          1,
          1,
          1,
          1,
          1,
          1,
          1,
          1,
          1,
          1,
          2,
          1,
          2,
          2,
          1,
          1,
          1,
          1,
          1,
          1,
          1,
          1,
          1,
          1,
          1,
          1,
          1,
          1,
          1,
          1,
          1,
          1,
          1,
          1,
          1,
          1,
          1,
          1,
          1,
          2,
          1,
          1,
          1,
          1,
          1,
          1,
          1,
          1,
          1,
          1,
          1,
          1,
          1,
          1,
          1,
          2,
          1,
          1,
          1,
          1,
          1,
          1,
          1,
          1,
          1,
          1,
          1,
          1,
          1,
          1,
          1,
          1,
          1,
          1,
          1,
          1,
          1,
          1,
          2,
          1,
          1,
          1,
          1,
          1,
          1,
          1,
          1,
          1,
          1,
          1,
          1,
          1,
          1,
          1,
          1,
          1,
          1,
          1,
          1,
          1,
          1,
          1,
          1,
          1,
          1,
          1,
          1,
          1,
          1,
          1,
          1,
          1,
          1,
          1,
          1,
          1,
          1,
          1,
          1,
          1,
          1,
          1,
          1,
          2,
          1,
          1,
          1,
          1,
          1,
          1,
          1,
          1,
          1,
          1,
          1,
          1,
          2,
          1,
          1,
          1,
          1,
          1,
          1,
          1,
          1,
          1,
          1,
          1,
          1,
          1,
          1,
          1,
          1,
          1,
          1,
          1,
          1,
          1,
          1,
          1,
          1,
          1,
          1,
          1,
          1,
          1,
          1,
          1,
          1,
          1,
          1,
          1,
          1,
          1,
          2,
          1,
          1,
          1,
          1,
          1,
          1,
          1,
          1,
          1,
          1,
          1,
          1,
          1,
          1,
          1,
          1,
          1,
          1,
          1,
          1,
          1,
          1,
          1,
          1,
          1,
          1
         ],
         "yaxis": "y"
        }
       ],
       "layout": {
        "barmode": "relative",
        "hovermode": "x unified",
        "legend": {
         "title": {
          "text": "variable"
         },
         "tracegroupgap": 0
        },
        "template": {
         "data": {
          "bar": [
           {
            "error_x": {
             "color": "#2a3f5f"
            },
            "error_y": {
             "color": "#2a3f5f"
            },
            "marker": {
             "line": {
              "color": "#E5ECF6",
              "width": 0.5
             },
             "pattern": {
              "fillmode": "overlay",
              "size": 10,
              "solidity": 0.2
             }
            },
            "type": "bar"
           }
          ],
          "barpolar": [
           {
            "marker": {
             "line": {
              "color": "#E5ECF6",
              "width": 0.5
             },
             "pattern": {
              "fillmode": "overlay",
              "size": 10,
              "solidity": 0.2
             }
            },
            "type": "barpolar"
           }
          ],
          "carpet": [
           {
            "aaxis": {
             "endlinecolor": "#2a3f5f",
             "gridcolor": "white",
             "linecolor": "white",
             "minorgridcolor": "white",
             "startlinecolor": "#2a3f5f"
            },
            "baxis": {
             "endlinecolor": "#2a3f5f",
             "gridcolor": "white",
             "linecolor": "white",
             "minorgridcolor": "white",
             "startlinecolor": "#2a3f5f"
            },
            "type": "carpet"
           }
          ],
          "choropleth": [
           {
            "colorbar": {
             "outlinewidth": 0,
             "ticks": ""
            },
            "type": "choropleth"
           }
          ],
          "contour": [
           {
            "colorbar": {
             "outlinewidth": 0,
             "ticks": ""
            },
            "colorscale": [
             [
              0,
              "#0d0887"
             ],
             [
              0.1111111111111111,
              "#46039f"
             ],
             [
              0.2222222222222222,
              "#7201a8"
             ],
             [
              0.3333333333333333,
              "#9c179e"
             ],
             [
              0.4444444444444444,
              "#bd3786"
             ],
             [
              0.5555555555555556,
              "#d8576b"
             ],
             [
              0.6666666666666666,
              "#ed7953"
             ],
             [
              0.7777777777777778,
              "#fb9f3a"
             ],
             [
              0.8888888888888888,
              "#fdca26"
             ],
             [
              1,
              "#f0f921"
             ]
            ],
            "type": "contour"
           }
          ],
          "contourcarpet": [
           {
            "colorbar": {
             "outlinewidth": 0,
             "ticks": ""
            },
            "type": "contourcarpet"
           }
          ],
          "heatmap": [
           {
            "colorbar": {
             "outlinewidth": 0,
             "ticks": ""
            },
            "colorscale": [
             [
              0,
              "#0d0887"
             ],
             [
              0.1111111111111111,
              "#46039f"
             ],
             [
              0.2222222222222222,
              "#7201a8"
             ],
             [
              0.3333333333333333,
              "#9c179e"
             ],
             [
              0.4444444444444444,
              "#bd3786"
             ],
             [
              0.5555555555555556,
              "#d8576b"
             ],
             [
              0.6666666666666666,
              "#ed7953"
             ],
             [
              0.7777777777777778,
              "#fb9f3a"
             ],
             [
              0.8888888888888888,
              "#fdca26"
             ],
             [
              1,
              "#f0f921"
             ]
            ],
            "type": "heatmap"
           }
          ],
          "heatmapgl": [
           {
            "colorbar": {
             "outlinewidth": 0,
             "ticks": ""
            },
            "colorscale": [
             [
              0,
              "#0d0887"
             ],
             [
              0.1111111111111111,
              "#46039f"
             ],
             [
              0.2222222222222222,
              "#7201a8"
             ],
             [
              0.3333333333333333,
              "#9c179e"
             ],
             [
              0.4444444444444444,
              "#bd3786"
             ],
             [
              0.5555555555555556,
              "#d8576b"
             ],
             [
              0.6666666666666666,
              "#ed7953"
             ],
             [
              0.7777777777777778,
              "#fb9f3a"
             ],
             [
              0.8888888888888888,
              "#fdca26"
             ],
             [
              1,
              "#f0f921"
             ]
            ],
            "type": "heatmapgl"
           }
          ],
          "histogram": [
           {
            "marker": {
             "pattern": {
              "fillmode": "overlay",
              "size": 10,
              "solidity": 0.2
             }
            },
            "type": "histogram"
           }
          ],
          "histogram2d": [
           {
            "colorbar": {
             "outlinewidth": 0,
             "ticks": ""
            },
            "colorscale": [
             [
              0,
              "#0d0887"
             ],
             [
              0.1111111111111111,
              "#46039f"
             ],
             [
              0.2222222222222222,
              "#7201a8"
             ],
             [
              0.3333333333333333,
              "#9c179e"
             ],
             [
              0.4444444444444444,
              "#bd3786"
             ],
             [
              0.5555555555555556,
              "#d8576b"
             ],
             [
              0.6666666666666666,
              "#ed7953"
             ],
             [
              0.7777777777777778,
              "#fb9f3a"
             ],
             [
              0.8888888888888888,
              "#fdca26"
             ],
             [
              1,
              "#f0f921"
             ]
            ],
            "type": "histogram2d"
           }
          ],
          "histogram2dcontour": [
           {
            "colorbar": {
             "outlinewidth": 0,
             "ticks": ""
            },
            "colorscale": [
             [
              0,
              "#0d0887"
             ],
             [
              0.1111111111111111,
              "#46039f"
             ],
             [
              0.2222222222222222,
              "#7201a8"
             ],
             [
              0.3333333333333333,
              "#9c179e"
             ],
             [
              0.4444444444444444,
              "#bd3786"
             ],
             [
              0.5555555555555556,
              "#d8576b"
             ],
             [
              0.6666666666666666,
              "#ed7953"
             ],
             [
              0.7777777777777778,
              "#fb9f3a"
             ],
             [
              0.8888888888888888,
              "#fdca26"
             ],
             [
              1,
              "#f0f921"
             ]
            ],
            "type": "histogram2dcontour"
           }
          ],
          "mesh3d": [
           {
            "colorbar": {
             "outlinewidth": 0,
             "ticks": ""
            },
            "type": "mesh3d"
           }
          ],
          "parcoords": [
           {
            "line": {
             "colorbar": {
              "outlinewidth": 0,
              "ticks": ""
             }
            },
            "type": "parcoords"
           }
          ],
          "pie": [
           {
            "automargin": true,
            "type": "pie"
           }
          ],
          "scatter": [
           {
            "marker": {
             "colorbar": {
              "outlinewidth": 0,
              "ticks": ""
             }
            },
            "type": "scatter"
           }
          ],
          "scatter3d": [
           {
            "line": {
             "colorbar": {
              "outlinewidth": 0,
              "ticks": ""
             }
            },
            "marker": {
             "colorbar": {
              "outlinewidth": 0,
              "ticks": ""
             }
            },
            "type": "scatter3d"
           }
          ],
          "scattercarpet": [
           {
            "marker": {
             "colorbar": {
              "outlinewidth": 0,
              "ticks": ""
             }
            },
            "type": "scattercarpet"
           }
          ],
          "scattergeo": [
           {
            "marker": {
             "colorbar": {
              "outlinewidth": 0,
              "ticks": ""
             }
            },
            "type": "scattergeo"
           }
          ],
          "scattergl": [
           {
            "marker": {
             "colorbar": {
              "outlinewidth": 0,
              "ticks": ""
             }
            },
            "type": "scattergl"
           }
          ],
          "scattermapbox": [
           {
            "marker": {
             "colorbar": {
              "outlinewidth": 0,
              "ticks": ""
             }
            },
            "type": "scattermapbox"
           }
          ],
          "scatterpolar": [
           {
            "marker": {
             "colorbar": {
              "outlinewidth": 0,
              "ticks": ""
             }
            },
            "type": "scatterpolar"
           }
          ],
          "scatterpolargl": [
           {
            "marker": {
             "colorbar": {
              "outlinewidth": 0,
              "ticks": ""
             }
            },
            "type": "scatterpolargl"
           }
          ],
          "scatterternary": [
           {
            "marker": {
             "colorbar": {
              "outlinewidth": 0,
              "ticks": ""
             }
            },
            "type": "scatterternary"
           }
          ],
          "surface": [
           {
            "colorbar": {
             "outlinewidth": 0,
             "ticks": ""
            },
            "colorscale": [
             [
              0,
              "#0d0887"
             ],
             [
              0.1111111111111111,
              "#46039f"
             ],
             [
              0.2222222222222222,
              "#7201a8"
             ],
             [
              0.3333333333333333,
              "#9c179e"
             ],
             [
              0.4444444444444444,
              "#bd3786"
             ],
             [
              0.5555555555555556,
              "#d8576b"
             ],
             [
              0.6666666666666666,
              "#ed7953"
             ],
             [
              0.7777777777777778,
              "#fb9f3a"
             ],
             [
              0.8888888888888888,
              "#fdca26"
             ],
             [
              1,
              "#f0f921"
             ]
            ],
            "type": "surface"
           }
          ],
          "table": [
           {
            "cells": {
             "fill": {
              "color": "#EBF0F8"
             },
             "line": {
              "color": "white"
             }
            },
            "header": {
             "fill": {
              "color": "#C8D4E3"
             },
             "line": {
              "color": "white"
             }
            },
            "type": "table"
           }
          ]
         },
         "layout": {
          "annotationdefaults": {
           "arrowcolor": "#2a3f5f",
           "arrowhead": 0,
           "arrowwidth": 1
          },
          "autotypenumbers": "strict",
          "coloraxis": {
           "colorbar": {
            "outlinewidth": 0,
            "ticks": ""
           }
          },
          "colorscale": {
           "diverging": [
            [
             0,
             "#8e0152"
            ],
            [
             0.1,
             "#c51b7d"
            ],
            [
             0.2,
             "#de77ae"
            ],
            [
             0.3,
             "#f1b6da"
            ],
            [
             0.4,
             "#fde0ef"
            ],
            [
             0.5,
             "#f7f7f7"
            ],
            [
             0.6,
             "#e6f5d0"
            ],
            [
             0.7,
             "#b8e186"
            ],
            [
             0.8,
             "#7fbc41"
            ],
            [
             0.9,
             "#4d9221"
            ],
            [
             1,
             "#276419"
            ]
           ],
           "sequential": [
            [
             0,
             "#0d0887"
            ],
            [
             0.1111111111111111,
             "#46039f"
            ],
            [
             0.2222222222222222,
             "#7201a8"
            ],
            [
             0.3333333333333333,
             "#9c179e"
            ],
            [
             0.4444444444444444,
             "#bd3786"
            ],
            [
             0.5555555555555556,
             "#d8576b"
            ],
            [
             0.6666666666666666,
             "#ed7953"
            ],
            [
             0.7777777777777778,
             "#fb9f3a"
            ],
            [
             0.8888888888888888,
             "#fdca26"
            ],
            [
             1,
             "#f0f921"
            ]
           ],
           "sequentialminus": [
            [
             0,
             "#0d0887"
            ],
            [
             0.1111111111111111,
             "#46039f"
            ],
            [
             0.2222222222222222,
             "#7201a8"
            ],
            [
             0.3333333333333333,
             "#9c179e"
            ],
            [
             0.4444444444444444,
             "#bd3786"
            ],
            [
             0.5555555555555556,
             "#d8576b"
            ],
            [
             0.6666666666666666,
             "#ed7953"
            ],
            [
             0.7777777777777778,
             "#fb9f3a"
            ],
            [
             0.8888888888888888,
             "#fdca26"
            ],
            [
             1,
             "#f0f921"
            ]
           ]
          },
          "colorway": [
           "#636efa",
           "#EF553B",
           "#00cc96",
           "#ab63fa",
           "#FFA15A",
           "#19d3f3",
           "#FF6692",
           "#B6E880",
           "#FF97FF",
           "#FECB52"
          ],
          "font": {
           "color": "#2a3f5f"
          },
          "geo": {
           "bgcolor": "white",
           "lakecolor": "white",
           "landcolor": "#E5ECF6",
           "showlakes": true,
           "showland": true,
           "subunitcolor": "white"
          },
          "hoverlabel": {
           "align": "left"
          },
          "hovermode": "closest",
          "mapbox": {
           "style": "light"
          },
          "paper_bgcolor": "white",
          "plot_bgcolor": "#E5ECF6",
          "polar": {
           "angularaxis": {
            "gridcolor": "white",
            "linecolor": "white",
            "ticks": ""
           },
           "bgcolor": "#E5ECF6",
           "radialaxis": {
            "gridcolor": "white",
            "linecolor": "white",
            "ticks": ""
           }
          },
          "scene": {
           "xaxis": {
            "backgroundcolor": "#E5ECF6",
            "gridcolor": "white",
            "gridwidth": 2,
            "linecolor": "white",
            "showbackground": true,
            "ticks": "",
            "zerolinecolor": "white"
           },
           "yaxis": {
            "backgroundcolor": "#E5ECF6",
            "gridcolor": "white",
            "gridwidth": 2,
            "linecolor": "white",
            "showbackground": true,
            "ticks": "",
            "zerolinecolor": "white"
           },
           "zaxis": {
            "backgroundcolor": "#E5ECF6",
            "gridcolor": "white",
            "gridwidth": 2,
            "linecolor": "white",
            "showbackground": true,
            "ticks": "",
            "zerolinecolor": "white"
           }
          },
          "shapedefaults": {
           "line": {
            "color": "#2a3f5f"
           }
          },
          "ternary": {
           "aaxis": {
            "gridcolor": "white",
            "linecolor": "white",
            "ticks": ""
           },
           "baxis": {
            "gridcolor": "white",
            "linecolor": "white",
            "ticks": ""
           },
           "bgcolor": "#E5ECF6",
           "caxis": {
            "gridcolor": "white",
            "linecolor": "white",
            "ticks": ""
           }
          },
          "title": {
           "x": 0.05
          },
          "xaxis": {
           "automargin": true,
           "gridcolor": "white",
           "linecolor": "white",
           "ticks": "",
           "title": {
            "standoff": 15
           },
           "zerolinecolor": "white",
           "zerolinewidth": 2
          },
          "yaxis": {
           "automargin": true,
           "gridcolor": "white",
           "linecolor": "white",
           "ticks": "",
           "title": {
            "standoff": 15
           },
           "zerolinecolor": "white",
           "zerolinewidth": 2
          }
         }
        },
        "title": {
         "text": "Nº of reviewd recipes per user in commnunity 0 "
        },
        "xaxis": {
         "anchor": "y",
         "domain": [
          0,
          1
         ],
         "title": {
          "text": "Users in Community 0"
         }
        },
        "yaxis": {
         "anchor": "x",
         "domain": [
          0,
          1
         ],
         "title": {
          "text": "Recipe count"
         }
        }
       }
      }
     },
     "metadata": {},
     "output_type": "display_data"
    }
   ],
   "source": [
    "df_count = df_count.loc[1, :]\n",
    "df_count = df_count.reset_index()\n",
    "df_count['user_id'] = df_count['user_id'].astype(str)\n",
    "\n",
    "fig = px.bar(\n",
    "    data_frame = df_count,\n",
    "    x = \"user_id\",\n",
    "    y = [\"recipe_id\"],\n",
    "    opacity = 0.9,\n",
    "    orientation = \"v\",\n",
    "    #barmode = 'group',\n",
    "    #color_discrete_map={'rating':'green', 'score_scale2':'orange'},\n",
    "    title='Nº of reviewd recipes per user in commnunity 0 ',\n",
    "   # hover_name= 'recipe_id',\n",
    ")\n",
    "\n",
    "fig.update_layout(\n",
    "\n",
    "  xaxis_title= 'Users in Community 0',\n",
    "  yaxis_title = 'Recipe count',\n",
    "  hovermode = 'x unified'\n",
    "\n",
    ")\n"
   ]
  },
  {
   "cell_type": "code",
   "execution_count": 109,
   "metadata": {},
   "outputs": [
    {
     "data": {
      "text/html": [
       "<div>\n",
       "<style scoped>\n",
       "    .dataframe tbody tr th:only-of-type {\n",
       "        vertical-align: middle;\n",
       "    }\n",
       "\n",
       "    .dataframe tbody tr th {\n",
       "        vertical-align: top;\n",
       "    }\n",
       "\n",
       "    .dataframe thead th {\n",
       "        text-align: right;\n",
       "    }\n",
       "</style>\n",
       "<table border=\"1\" class=\"dataframe\">\n",
       "  <thead>\n",
       "    <tr style=\"text-align: right;\">\n",
       "      <th></th>\n",
       "      <th></th>\n",
       "      <th>rating</th>\n",
       "      <th>score_scale2</th>\n",
       "    </tr>\n",
       "    <tr>\n",
       "      <th>community</th>\n",
       "      <th>user_id</th>\n",
       "      <th></th>\n",
       "      <th></th>\n",
       "    </tr>\n",
       "  </thead>\n",
       "  <tbody>\n",
       "    <tr>\n",
       "      <th rowspan=\"5\" valign=\"top\">0</th>\n",
       "      <th>57993</th>\n",
       "      <td>4.777778</td>\n",
       "      <td>4.353629</td>\n",
       "    </tr>\n",
       "    <tr>\n",
       "      <th>63878</th>\n",
       "      <td>5.000000</td>\n",
       "      <td>4.772681</td>\n",
       "    </tr>\n",
       "    <tr>\n",
       "      <th>310313</th>\n",
       "      <td>4.857143</td>\n",
       "      <td>4.692218</td>\n",
       "    </tr>\n",
       "    <tr>\n",
       "      <th>315479</th>\n",
       "      <td>4.650000</td>\n",
       "      <td>4.403541</td>\n",
       "    </tr>\n",
       "    <tr>\n",
       "      <th>325879</th>\n",
       "      <td>5.000000</td>\n",
       "      <td>4.600677</td>\n",
       "    </tr>\n",
       "    <tr>\n",
       "      <th>...</th>\n",
       "      <th>...</th>\n",
       "      <td>...</td>\n",
       "      <td>...</td>\n",
       "    </tr>\n",
       "    <tr>\n",
       "      <th>68</th>\n",
       "      <th>2002302691</th>\n",
       "      <td>5.000000</td>\n",
       "      <td>4.762831</td>\n",
       "    </tr>\n",
       "    <tr>\n",
       "      <th rowspan=\"4\" valign=\"top\">69</th>\n",
       "      <th>1803099400</th>\n",
       "      <td>4.333333</td>\n",
       "      <td>4.666712</td>\n",
       "    </tr>\n",
       "    <tr>\n",
       "      <th>2001597635</th>\n",
       "      <td>5.000000</td>\n",
       "      <td>4.268539</td>\n",
       "    </tr>\n",
       "    <tr>\n",
       "      <th>2001640468</th>\n",
       "      <td>3.000000</td>\n",
       "      <td>2.476258</td>\n",
       "    </tr>\n",
       "    <tr>\n",
       "      <th>2002274344</th>\n",
       "      <td>2.000000</td>\n",
       "      <td>2.476258</td>\n",
       "    </tr>\n",
       "  </tbody>\n",
       "</table>\n",
       "<p>15257 rows × 2 columns</p>\n",
       "</div>"
      ],
      "text/plain": [
       "                        rating  score_scale2\n",
       "community user_id                           \n",
       "0         57993       4.777778      4.353629\n",
       "          63878       5.000000      4.772681\n",
       "          310313      4.857143      4.692218\n",
       "          315479      4.650000      4.403541\n",
       "          325879      5.000000      4.600677\n",
       "...                        ...           ...\n",
       "68        2002302691  5.000000      4.762831\n",
       "69        1803099400  4.333333      4.666712\n",
       "          2001597635  5.000000      4.268539\n",
       "          2001640468  3.000000      2.476258\n",
       "          2002274344  2.000000      2.476258\n",
       "\n",
       "[15257 rows x 2 columns]"
      ]
     },
     "execution_count": 109,
     "metadata": {},
     "output_type": "execute_result"
    }
   ],
   "source": [
    "df_mean_rating_recipe_user= pd.DataFrame(df_reviews2.groupby(by=[\"community\",'user_id'])['rating','score_scale2'].mean())\n",
    "df_mean_rating_recipe_user"
   ]
  },
  {
   "cell_type": "code",
   "execution_count": 110,
   "metadata": {},
   "outputs": [
    {
     "data": {
      "text/html": [
       "<div>\n",
       "<style scoped>\n",
       "    .dataframe tbody tr th:only-of-type {\n",
       "        vertical-align: middle;\n",
       "    }\n",
       "\n",
       "    .dataframe tbody tr th {\n",
       "        vertical-align: top;\n",
       "    }\n",
       "\n",
       "    .dataframe thead th {\n",
       "        text-align: right;\n",
       "    }\n",
       "</style>\n",
       "<table border=\"1\" class=\"dataframe\">\n",
       "  <thead>\n",
       "    <tr style=\"text-align: right;\">\n",
       "      <th></th>\n",
       "      <th>user_id</th>\n",
       "      <th>rating</th>\n",
       "      <th>score_scale2</th>\n",
       "    </tr>\n",
       "  </thead>\n",
       "  <tbody>\n",
       "    <tr>\n",
       "      <th>0</th>\n",
       "      <td>57993</td>\n",
       "      <td>4.777778</td>\n",
       "      <td>4.353629</td>\n",
       "    </tr>\n",
       "    <tr>\n",
       "      <th>1</th>\n",
       "      <td>63878</td>\n",
       "      <td>5.000000</td>\n",
       "      <td>4.772681</td>\n",
       "    </tr>\n",
       "    <tr>\n",
       "      <th>2</th>\n",
       "      <td>310313</td>\n",
       "      <td>4.857143</td>\n",
       "      <td>4.692218</td>\n",
       "    </tr>\n",
       "    <tr>\n",
       "      <th>3</th>\n",
       "      <td>315479</td>\n",
       "      <td>4.650000</td>\n",
       "      <td>4.403541</td>\n",
       "    </tr>\n",
       "    <tr>\n",
       "      <th>4</th>\n",
       "      <td>325879</td>\n",
       "      <td>5.000000</td>\n",
       "      <td>4.600677</td>\n",
       "    </tr>\n",
       "    <tr>\n",
       "      <th>...</th>\n",
       "      <td>...</td>\n",
       "      <td>...</td>\n",
       "      <td>...</td>\n",
       "    </tr>\n",
       "    <tr>\n",
       "      <th>217</th>\n",
       "      <td>2002286265</td>\n",
       "      <td>4.000000</td>\n",
       "      <td>4.593100</td>\n",
       "    </tr>\n",
       "    <tr>\n",
       "      <th>218</th>\n",
       "      <td>2002298217</td>\n",
       "      <td>5.000000</td>\n",
       "      <td>4.598404</td>\n",
       "    </tr>\n",
       "    <tr>\n",
       "      <th>219</th>\n",
       "      <td>2002308604</td>\n",
       "      <td>5.000000</td>\n",
       "      <td>3.635078</td>\n",
       "    </tr>\n",
       "    <tr>\n",
       "      <th>220</th>\n",
       "      <td>2002319310</td>\n",
       "      <td>0.000000</td>\n",
       "      <td>4.836583</td>\n",
       "    </tr>\n",
       "    <tr>\n",
       "      <th>221</th>\n",
       "      <td>2002361401</td>\n",
       "      <td>4.000000</td>\n",
       "      <td>3.491362</td>\n",
       "    </tr>\n",
       "  </tbody>\n",
       "</table>\n",
       "<p>222 rows × 3 columns</p>\n",
       "</div>"
      ],
      "text/plain": [
       "        user_id    rating  score_scale2\n",
       "0         57993  4.777778      4.353629\n",
       "1         63878  5.000000      4.772681\n",
       "2        310313  4.857143      4.692218\n",
       "3        315479  4.650000      4.403541\n",
       "4        325879  5.000000      4.600677\n",
       "..          ...       ...           ...\n",
       "217  2002286265  4.000000      4.593100\n",
       "218  2002298217  5.000000      4.598404\n",
       "219  2002308604  5.000000      3.635078\n",
       "220  2002319310  0.000000      4.836583\n",
       "221  2002361401  4.000000      3.491362\n",
       "\n",
       "[222 rows x 3 columns]"
      ]
     },
     "execution_count": 110,
     "metadata": {},
     "output_type": "execute_result"
    }
   ],
   "source": [
    "# Select community\n",
    "com0_a = df_mean_rating_recipe_user.loc[0, :]\n",
    "com0_a = com0_a.reset_index()\n",
    "com0_a['user_id'] = com0_a['user_id'].astype(str)\n",
    "com0_a"
   ]
  },
  {
   "cell_type": "code",
   "execution_count": 104,
   "metadata": {},
   "outputs": [
    {
     "data": {
      "application/vnd.plotly.v1+json": {
       "config": {
        "plotlyServerURL": "https://plot.ly"
       },
       "data": [
        {
         "alignmentgroup": "True",
         "hovertemplate": "variable=rating<br>user_id=%{x}<br>value=%{y}<extra></extra>",
         "legendgroup": "rating",
         "marker": {
          "color": "green",
          "opacity": 0.9,
          "pattern": {
           "shape": ""
          }
         },
         "name": "rating",
         "offsetgroup": "rating",
         "orientation": "v",
         "showlegend": true,
         "textposition": "auto",
         "type": "bar",
         "x": [
          "57993",
          "63878",
          "310313",
          "315479",
          "325879",
          "337031",
          "426302",
          "430013",
          "463495",
          "590189",
          "680857",
          "737379",
          "801964",
          "1128445",
          "1235348",
          "1530765",
          "1609093",
          "1649787",
          "1677734",
          "1900559",
          "2149656",
          "2299973",
          "2871757",
          "2914146",
          "1802320244",
          "1802681644",
          "2000286577",
          "2000305496",
          "2000346391",
          "2000352749",
          "2000517601",
          "2000529329",
          "2000589504",
          "2000601514",
          "2000723217",
          "2000727144",
          "2000842640",
          "2000880745",
          "2000882058",
          "2000954777",
          "2000967571",
          "2000972969",
          "2001017528",
          "2001091484",
          "2001107548",
          "2001150551",
          "2001218045",
          "2001238221",
          "2001245825",
          "2001253549",
          "2001283484",
          "2001287676",
          "2001291339",
          "2001296363",
          "2001318730",
          "2001332788",
          "2001333261",
          "2001340540",
          "2001351833",
          "2001372837",
          "2001374917",
          "2001377548",
          "2001377927",
          "2001380955",
          "2001391512",
          "2001394012",
          "2001394767",
          "2001396649",
          "2001408549",
          "2001417728",
          "2001439300",
          "2001442387",
          "2001444452",
          "2001447941",
          "2001450132",
          "2001450998",
          "2001455120",
          "2001461041",
          "2001463345",
          "2001465392",
          "2001468766",
          "2001474795",
          "2001477259",
          "2001484032",
          "2001493091",
          "2001497311",
          "2001505753",
          "2001508973",
          "2001512680",
          "2001518955",
          "2001524046",
          "2001527511",
          "2001529504",
          "2001531717",
          "2001535923",
          "2001540030",
          "2001545138",
          "2001553110",
          "2001556550",
          "2001557063",
          "2001559030",
          "2001573144",
          "2001577658",
          "2001579219",
          "2001583050",
          "2001589053",
          "2001590711",
          "2001593151",
          "2001593804",
          "2001599942",
          "2001602264",
          "2001610858",
          "2001610911",
          "2001617418",
          "2001624803",
          "2001630504",
          "2001635903",
          "2001650701",
          "2001669204",
          "2001692012",
          "2001696613",
          "2001702556",
          "2001702854",
          "2001703663",
          "2001712142",
          "2001719460",
          "2001740466",
          "2001740552",
          "2001744166",
          "2001751015",
          "2001764075",
          "2001767070",
          "2001774797",
          "2001778905",
          "2001800052",
          "2001814292",
          "2001824082",
          "2001824299",
          "2001826245",
          "2001827848",
          "2001841852",
          "2001843457",
          "2001855655",
          "2001856267",
          "2001862812",
          "2001865110",
          "2001885895",
          "2001899921",
          "2001908714",
          "2001915028",
          "2001922959",
          "2001928193",
          "2001935571",
          "2001937736",
          "2001940737",
          "2001950344",
          "2001956279",
          "2001959066",
          "2001975255",
          "2001976020",
          "2001976071",
          "2001976280",
          "2001981335",
          "2001991270",
          "2002000303",
          "2002000400",
          "2002008367",
          "2002009426",
          "2002010624",
          "2002019193",
          "2002027955",
          "2002031684",
          "2002034744",
          "2002039866",
          "2002058194",
          "2002060409",
          "2002061478",
          "2002061535",
          "2002064619",
          "2002067399",
          "2002083717",
          "2002095462",
          "2002097460",
          "2002101352",
          "2002103391",
          "2002106786",
          "2002106969",
          "2002120223",
          "2002124207",
          "2002134703",
          "2002136249",
          "2002144271",
          "2002151506",
          "2002154601",
          "2002163506",
          "2002164639",
          "2002182388",
          "2002182983",
          "2002190788",
          "2002196307",
          "2002201259",
          "2002206003",
          "2002212288",
          "2002214363",
          "2002232110",
          "2002236801",
          "2002242900",
          "2002242997",
          "2002246049",
          "2002249188",
          "2002249190",
          "2002252850",
          "2002256195",
          "2002262088",
          "2002272056",
          "2002273340",
          "2002274759",
          "2002286265",
          "2002298217",
          "2002308604",
          "2002319310",
          "2002361401"
         ],
         "xaxis": "x",
         "y": [
          4.777777777777778,
          5,
          4.857142857142857,
          4.65,
          5,
          5,
          4.722222222222222,
          2.5,
          5,
          4.416666666666667,
          4.4,
          1.4285714285714286,
          5,
          5,
          0,
          3.103448275862069,
          5,
          5,
          4.166666666666667,
          4.551282051282051,
          5,
          4.875,
          1.6666666666666667,
          1,
          1.8,
          0,
          0,
          5,
          4.666666666666667,
          1,
          5,
          5,
          3.6666666666666665,
          4,
          5,
          4,
          2.5,
          2.5,
          5,
          0,
          0,
          4.5,
          0,
          5,
          0,
          3,
          0,
          0,
          4.5,
          0,
          0,
          0.3333333333333333,
          0,
          4,
          0,
          5,
          0,
          4,
          4.5,
          5,
          5,
          5,
          1,
          5,
          5,
          5,
          0,
          5,
          5,
          0,
          5,
          0,
          5,
          0,
          5,
          4,
          0,
          0,
          2.5,
          5,
          5,
          1,
          1.5,
          5,
          4,
          0,
          2.5,
          5,
          5,
          5,
          4.5,
          1.6,
          0,
          5,
          5,
          5,
          3,
          5,
          5,
          0,
          5,
          0,
          0,
          0,
          5,
          3,
          0,
          0,
          5,
          5,
          0,
          1,
          5,
          2.5,
          5,
          2.5,
          4,
          5,
          4,
          5,
          5,
          0,
          5,
          0,
          5,
          4,
          5,
          5,
          2.5,
          5,
          0,
          5,
          0,
          4,
          0,
          0,
          0,
          4,
          5,
          4,
          3,
          3.3333333333333335,
          5,
          2,
          5,
          4.666666666666667,
          4,
          5,
          5,
          5,
          4,
          0,
          2,
          4,
          0,
          5,
          3,
          0,
          5,
          5,
          5,
          0,
          5,
          3,
          5,
          5,
          5,
          5,
          4.5,
          4,
          0,
          0,
          5,
          4.75,
          1,
          5,
          5,
          5,
          0,
          5,
          0,
          5,
          0,
          5,
          0,
          5,
          5,
          0,
          4,
          5,
          5,
          5,
          5,
          5,
          2.5,
          2,
          5,
          4,
          5,
          5,
          3,
          4,
          1,
          5,
          5,
          5,
          0,
          0,
          5,
          5,
          5,
          5,
          5,
          4,
          4,
          5,
          0,
          4,
          5,
          5,
          0,
          4
         ],
         "yaxis": "y"
        },
        {
         "alignmentgroup": "True",
         "hovertemplate": "variable=score_scale2<br>user_id=%{x}<br>value=%{y}<extra></extra>",
         "legendgroup": "score_scale2",
         "marker": {
          "color": "orange",
          "opacity": 0.9,
          "pattern": {
           "shape": ""
          }
         },
         "name": "score_scale2",
         "offsetgroup": "score_scale2",
         "orientation": "v",
         "showlegend": true,
         "textposition": "auto",
         "type": "bar",
         "x": [
          "57993",
          "63878",
          "310313",
          "315479",
          "325879",
          "337031",
          "426302",
          "430013",
          "463495",
          "590189",
          "680857",
          "737379",
          "801964",
          "1128445",
          "1235348",
          "1530765",
          "1609093",
          "1649787",
          "1677734",
          "1900559",
          "2149656",
          "2299973",
          "2871757",
          "2914146",
          "1802320244",
          "1802681644",
          "2000286577",
          "2000305496",
          "2000346391",
          "2000352749",
          "2000517601",
          "2000529329",
          "2000589504",
          "2000601514",
          "2000723217",
          "2000727144",
          "2000842640",
          "2000880745",
          "2000882058",
          "2000954777",
          "2000967571",
          "2000972969",
          "2001017528",
          "2001091484",
          "2001107548",
          "2001150551",
          "2001218045",
          "2001238221",
          "2001245825",
          "2001253549",
          "2001283484",
          "2001287676",
          "2001291339",
          "2001296363",
          "2001318730",
          "2001332788",
          "2001333261",
          "2001340540",
          "2001351833",
          "2001372837",
          "2001374917",
          "2001377548",
          "2001377927",
          "2001380955",
          "2001391512",
          "2001394012",
          "2001394767",
          "2001396649",
          "2001408549",
          "2001417728",
          "2001439300",
          "2001442387",
          "2001444452",
          "2001447941",
          "2001450132",
          "2001450998",
          "2001455120",
          "2001461041",
          "2001463345",
          "2001465392",
          "2001468766",
          "2001474795",
          "2001477259",
          "2001484032",
          "2001493091",
          "2001497311",
          "2001505753",
          "2001508973",
          "2001512680",
          "2001518955",
          "2001524046",
          "2001527511",
          "2001529504",
          "2001531717",
          "2001535923",
          "2001540030",
          "2001545138",
          "2001553110",
          "2001556550",
          "2001557063",
          "2001559030",
          "2001573144",
          "2001577658",
          "2001579219",
          "2001583050",
          "2001589053",
          "2001590711",
          "2001593151",
          "2001593804",
          "2001599942",
          "2001602264",
          "2001610858",
          "2001610911",
          "2001617418",
          "2001624803",
          "2001630504",
          "2001635903",
          "2001650701",
          "2001669204",
          "2001692012",
          "2001696613",
          "2001702556",
          "2001702854",
          "2001703663",
          "2001712142",
          "2001719460",
          "2001740466",
          "2001740552",
          "2001744166",
          "2001751015",
          "2001764075",
          "2001767070",
          "2001774797",
          "2001778905",
          "2001800052",
          "2001814292",
          "2001824082",
          "2001824299",
          "2001826245",
          "2001827848",
          "2001841852",
          "2001843457",
          "2001855655",
          "2001856267",
          "2001862812",
          "2001865110",
          "2001885895",
          "2001899921",
          "2001908714",
          "2001915028",
          "2001922959",
          "2001928193",
          "2001935571",
          "2001937736",
          "2001940737",
          "2001950344",
          "2001956279",
          "2001959066",
          "2001975255",
          "2001976020",
          "2001976071",
          "2001976280",
          "2001981335",
          "2001991270",
          "2002000303",
          "2002000400",
          "2002008367",
          "2002009426",
          "2002010624",
          "2002019193",
          "2002027955",
          "2002031684",
          "2002034744",
          "2002039866",
          "2002058194",
          "2002060409",
          "2002061478",
          "2002061535",
          "2002064619",
          "2002067399",
          "2002083717",
          "2002095462",
          "2002097460",
          "2002101352",
          "2002103391",
          "2002106786",
          "2002106969",
          "2002120223",
          "2002124207",
          "2002134703",
          "2002136249",
          "2002144271",
          "2002151506",
          "2002154601",
          "2002163506",
          "2002164639",
          "2002182388",
          "2002182983",
          "2002190788",
          "2002196307",
          "2002201259",
          "2002206003",
          "2002212288",
          "2002214363",
          "2002232110",
          "2002236801",
          "2002242900",
          "2002242997",
          "2002246049",
          "2002249188",
          "2002249190",
          "2002252850",
          "2002256195",
          "2002262088",
          "2002272056",
          "2002273340",
          "2002274759",
          "2002286265",
          "2002298217",
          "2002308604",
          "2002319310",
          "2002361401"
         ],
         "xaxis": "x",
         "y": [
          4.353629240475069,
          4.77268134976763,
          4.692217764050459,
          4.4035411194180645,
          4.600676904425137,
          4.942160032329764,
          4.455010552075617,
          2.4533996767023645,
          4.654728227924833,
          4.586806257156328,
          4.330470802182259,
          4.350229483589759,
          4.6446251768033955,
          3.7207011517478286,
          4.054606991311377,
          3.9156116526501354,
          4.706674749107564,
          4.717619721155789,
          4.0983447834579385,
          4.356322308054982,
          2.4762578298646196,
          4.7770698625985055,
          3.374419074560518,
          0.21216407355021255,
          3.5460699131137607,
          2.571731662962215,
          4.749696908466357,
          1.5907253990705195,
          4.677965245504144,
          3.9172054960598106,
          4.054606991311377,
          4.7994544352394435,
          2.930305785680609,
          4.790614265508184,
          4.852495453626996,
          3.7207011517478286,
          4.522630834512023,
          3.794706001212367,
          3.198499696908467,
          3.3617902606587196,
          2.810079477335489,
          4.125833501717519,
          4.425388967468177,
          4.352899575671854,
          2.4762578298646196,
          4.222570216205295,
          4.646140634471611,
          2.4762578298646196,
          4.280157607597495,
          4.515558698727016,
          1.7540159628207723,
          3.1103926719202537,
          2.4762578298646196,
          2.7530814305920397,
          3.2238836128510817,
          2.4762578298646196,
          4.169781774095778,
          4.266771064861588,
          4.608127904627198,
          4.744140230349566,
          2.4762578298646196,
          4.312234794908063,
          2.4762578298646196,
          4.663820973934128,
          4.738583552232775,
          4.023034956556881,
          1.7286320468781577,
          4.087189331178016,
          3.438826025459689,
          4.781521519498889,
          4.904021014346334,
          3.920741563952314,
          3.920741563952314,
          2.4762578298646196,
          3.920741563952314,
          2.4762578298646196,
          2.4762578298646196,
          3.0478379470600125,
          4.924732269145283,
          4.569862598504749,
          4.9032632855122245,
          1.411648817943019,
          4.29922711658921,
          4.802232774297838,
          4.3925540513235,
          3.810353101636695,
          4.2561628611840785,
          4.960092948070319,
          4.528692665184886,
          1.2287835926449793,
          3.859239240250556,
          3.194231157809659,
          2.9872196403313804,
          4.510254596888261,
          4.9136189129117005,
          4.515558698727016,
          4.553697716710447,
          3.7659123055162667,
          4.646140634471611,
          3.307486360880987,
          4.783794706001213,
          3.251919579713074,
          0.49479692867245934,
          4.35997171145686,
          3.990200040412205,
          4.678722974338251,
          4.020761770054557,
          1.5119216003232983,
          4.882552030713276,
          4.569862598504749,
          1.8448171347747022,
          2.4762578298646196,
          4.417053950292989,
          3.0324307940998185,
          3.920741563952314,
          4.105753687613659,
          4.875985047484341,
          4.6708931097191355,
          4.7522226712467175,
          4.970195999191756,
          4.792129723176401,
          4.587795514245302,
          4.678217821782179,
          2.4762578298646196,
          4.9275106082036775,
          4.284451404324106,
          4.4865124267528795,
          4.9037684380682975,
          3.265432410587998,
          4.287734895938574,
          3.7207011517478286,
          4.8631036573045066,
          3.588603758335018,
          4.023034956556881,
          4.054606991311377,
          4.619114972721762,
          4.575924429177612,
          4.749191755910286,
          4.712063043038999,
          2.4762578298646196,
          4.6282077187310575,
          4.800548932444266,
          4.678722974338251,
          2.5323297635886046,
          4.769903010709235,
          4.844413012729845,
          4.893665386946858,
          4.707516670034351,
          4.8093049100828456,
          4.327389371590221,
          3.588603758335018,
          3.588603758335018,
          3.388563346130532,
          2.2812689432208533,
          4.841887249949485,
          4.884067488381492,
          0.9097797534855532,
          1.1211860982016573,
          4.922459082642959,
          4.922711658920996,
          4.779248332996565,
          2.4762578298646196,
          4.6708931097191355,
          3.4355425338452217,
          4.559506971105274,
          2.4762578298646196,
          3.920741563952314,
          4.541321479086685,
          4.204258436047687,
          4.528692665184886,
          2.4762578298646196,
          4.8113255203071335,
          3.8065770862800568,
          3.930276318448172,
          3.0389977773287535,
          4.940391998383513,
          4.471357850070722,
          4.5920893109719145,
          4.3099616084057395,
          3.920741563952314,
          2.4762578298646196,
          4.954788846231563,
          3.7207011517478286,
          4.735552636896343,
          3.2799555465750663,
          4.541321479086685,
          4.615326328551223,
          0.8380480905233384,
          4.447868256213377,
          4.738078399676703,
          4.905536472014549,
          4.68630026267933,
          3.588603758335018,
          2.9872196403313804,
          3.197236815518287,
          3.0556678116791276,
          4.565316225500101,
          4.948727015558699,
          2.4762578298646196,
          4.875985047484341,
          3.9190998181450802,
          2.4762578298646196,
          4.977773287532835,
          3.920741563952314,
          4.863356233582543,
          4.587795514245302,
          3.973277429783795,
          4.618357243887655,
          4.920691048696707,
          4.279652455041423,
          4.515558698727016,
          4.8487068094564565,
          4.982319660537483,
          4.726712467165084,
          3.0051525560719345,
          4.268539098807841,
          2.4762578298646196,
          4.593099616084057,
          4.598403717922813,
          3.6350777934936356,
          4.83658314811073,
          3.49136189129117
         ],
         "yaxis": "y"
        }
       ],
       "layout": {
        "barmode": "group",
        "hovermode": "x unified",
        "legend": {
         "title": {
          "text": "variable"
         },
         "tracegroupgap": 0
        },
        "template": {
         "data": {
          "bar": [
           {
            "error_x": {
             "color": "#2a3f5f"
            },
            "error_y": {
             "color": "#2a3f5f"
            },
            "marker": {
             "line": {
              "color": "#E5ECF6",
              "width": 0.5
             },
             "pattern": {
              "fillmode": "overlay",
              "size": 10,
              "solidity": 0.2
             }
            },
            "type": "bar"
           }
          ],
          "barpolar": [
           {
            "marker": {
             "line": {
              "color": "#E5ECF6",
              "width": 0.5
             },
             "pattern": {
              "fillmode": "overlay",
              "size": 10,
              "solidity": 0.2
             }
            },
            "type": "barpolar"
           }
          ],
          "carpet": [
           {
            "aaxis": {
             "endlinecolor": "#2a3f5f",
             "gridcolor": "white",
             "linecolor": "white",
             "minorgridcolor": "white",
             "startlinecolor": "#2a3f5f"
            },
            "baxis": {
             "endlinecolor": "#2a3f5f",
             "gridcolor": "white",
             "linecolor": "white",
             "minorgridcolor": "white",
             "startlinecolor": "#2a3f5f"
            },
            "type": "carpet"
           }
          ],
          "choropleth": [
           {
            "colorbar": {
             "outlinewidth": 0,
             "ticks": ""
            },
            "type": "choropleth"
           }
          ],
          "contour": [
           {
            "colorbar": {
             "outlinewidth": 0,
             "ticks": ""
            },
            "colorscale": [
             [
              0,
              "#0d0887"
             ],
             [
              0.1111111111111111,
              "#46039f"
             ],
             [
              0.2222222222222222,
              "#7201a8"
             ],
             [
              0.3333333333333333,
              "#9c179e"
             ],
             [
              0.4444444444444444,
              "#bd3786"
             ],
             [
              0.5555555555555556,
              "#d8576b"
             ],
             [
              0.6666666666666666,
              "#ed7953"
             ],
             [
              0.7777777777777778,
              "#fb9f3a"
             ],
             [
              0.8888888888888888,
              "#fdca26"
             ],
             [
              1,
              "#f0f921"
             ]
            ],
            "type": "contour"
           }
          ],
          "contourcarpet": [
           {
            "colorbar": {
             "outlinewidth": 0,
             "ticks": ""
            },
            "type": "contourcarpet"
           }
          ],
          "heatmap": [
           {
            "colorbar": {
             "outlinewidth": 0,
             "ticks": ""
            },
            "colorscale": [
             [
              0,
              "#0d0887"
             ],
             [
              0.1111111111111111,
              "#46039f"
             ],
             [
              0.2222222222222222,
              "#7201a8"
             ],
             [
              0.3333333333333333,
              "#9c179e"
             ],
             [
              0.4444444444444444,
              "#bd3786"
             ],
             [
              0.5555555555555556,
              "#d8576b"
             ],
             [
              0.6666666666666666,
              "#ed7953"
             ],
             [
              0.7777777777777778,
              "#fb9f3a"
             ],
             [
              0.8888888888888888,
              "#fdca26"
             ],
             [
              1,
              "#f0f921"
             ]
            ],
            "type": "heatmap"
           }
          ],
          "heatmapgl": [
           {
            "colorbar": {
             "outlinewidth": 0,
             "ticks": ""
            },
            "colorscale": [
             [
              0,
              "#0d0887"
             ],
             [
              0.1111111111111111,
              "#46039f"
             ],
             [
              0.2222222222222222,
              "#7201a8"
             ],
             [
              0.3333333333333333,
              "#9c179e"
             ],
             [
              0.4444444444444444,
              "#bd3786"
             ],
             [
              0.5555555555555556,
              "#d8576b"
             ],
             [
              0.6666666666666666,
              "#ed7953"
             ],
             [
              0.7777777777777778,
              "#fb9f3a"
             ],
             [
              0.8888888888888888,
              "#fdca26"
             ],
             [
              1,
              "#f0f921"
             ]
            ],
            "type": "heatmapgl"
           }
          ],
          "histogram": [
           {
            "marker": {
             "pattern": {
              "fillmode": "overlay",
              "size": 10,
              "solidity": 0.2
             }
            },
            "type": "histogram"
           }
          ],
          "histogram2d": [
           {
            "colorbar": {
             "outlinewidth": 0,
             "ticks": ""
            },
            "colorscale": [
             [
              0,
              "#0d0887"
             ],
             [
              0.1111111111111111,
              "#46039f"
             ],
             [
              0.2222222222222222,
              "#7201a8"
             ],
             [
              0.3333333333333333,
              "#9c179e"
             ],
             [
              0.4444444444444444,
              "#bd3786"
             ],
             [
              0.5555555555555556,
              "#d8576b"
             ],
             [
              0.6666666666666666,
              "#ed7953"
             ],
             [
              0.7777777777777778,
              "#fb9f3a"
             ],
             [
              0.8888888888888888,
              "#fdca26"
             ],
             [
              1,
              "#f0f921"
             ]
            ],
            "type": "histogram2d"
           }
          ],
          "histogram2dcontour": [
           {
            "colorbar": {
             "outlinewidth": 0,
             "ticks": ""
            },
            "colorscale": [
             [
              0,
              "#0d0887"
             ],
             [
              0.1111111111111111,
              "#46039f"
             ],
             [
              0.2222222222222222,
              "#7201a8"
             ],
             [
              0.3333333333333333,
              "#9c179e"
             ],
             [
              0.4444444444444444,
              "#bd3786"
             ],
             [
              0.5555555555555556,
              "#d8576b"
             ],
             [
              0.6666666666666666,
              "#ed7953"
             ],
             [
              0.7777777777777778,
              "#fb9f3a"
             ],
             [
              0.8888888888888888,
              "#fdca26"
             ],
             [
              1,
              "#f0f921"
             ]
            ],
            "type": "histogram2dcontour"
           }
          ],
          "mesh3d": [
           {
            "colorbar": {
             "outlinewidth": 0,
             "ticks": ""
            },
            "type": "mesh3d"
           }
          ],
          "parcoords": [
           {
            "line": {
             "colorbar": {
              "outlinewidth": 0,
              "ticks": ""
             }
            },
            "type": "parcoords"
           }
          ],
          "pie": [
           {
            "automargin": true,
            "type": "pie"
           }
          ],
          "scatter": [
           {
            "marker": {
             "colorbar": {
              "outlinewidth": 0,
              "ticks": ""
             }
            },
            "type": "scatter"
           }
          ],
          "scatter3d": [
           {
            "line": {
             "colorbar": {
              "outlinewidth": 0,
              "ticks": ""
             }
            },
            "marker": {
             "colorbar": {
              "outlinewidth": 0,
              "ticks": ""
             }
            },
            "type": "scatter3d"
           }
          ],
          "scattercarpet": [
           {
            "marker": {
             "colorbar": {
              "outlinewidth": 0,
              "ticks": ""
             }
            },
            "type": "scattercarpet"
           }
          ],
          "scattergeo": [
           {
            "marker": {
             "colorbar": {
              "outlinewidth": 0,
              "ticks": ""
             }
            },
            "type": "scattergeo"
           }
          ],
          "scattergl": [
           {
            "marker": {
             "colorbar": {
              "outlinewidth": 0,
              "ticks": ""
             }
            },
            "type": "scattergl"
           }
          ],
          "scattermapbox": [
           {
            "marker": {
             "colorbar": {
              "outlinewidth": 0,
              "ticks": ""
             }
            },
            "type": "scattermapbox"
           }
          ],
          "scatterpolar": [
           {
            "marker": {
             "colorbar": {
              "outlinewidth": 0,
              "ticks": ""
             }
            },
            "type": "scatterpolar"
           }
          ],
          "scatterpolargl": [
           {
            "marker": {
             "colorbar": {
              "outlinewidth": 0,
              "ticks": ""
             }
            },
            "type": "scatterpolargl"
           }
          ],
          "scatterternary": [
           {
            "marker": {
             "colorbar": {
              "outlinewidth": 0,
              "ticks": ""
             }
            },
            "type": "scatterternary"
           }
          ],
          "surface": [
           {
            "colorbar": {
             "outlinewidth": 0,
             "ticks": ""
            },
            "colorscale": [
             [
              0,
              "#0d0887"
             ],
             [
              0.1111111111111111,
              "#46039f"
             ],
             [
              0.2222222222222222,
              "#7201a8"
             ],
             [
              0.3333333333333333,
              "#9c179e"
             ],
             [
              0.4444444444444444,
              "#bd3786"
             ],
             [
              0.5555555555555556,
              "#d8576b"
             ],
             [
              0.6666666666666666,
              "#ed7953"
             ],
             [
              0.7777777777777778,
              "#fb9f3a"
             ],
             [
              0.8888888888888888,
              "#fdca26"
             ],
             [
              1,
              "#f0f921"
             ]
            ],
            "type": "surface"
           }
          ],
          "table": [
           {
            "cells": {
             "fill": {
              "color": "#EBF0F8"
             },
             "line": {
              "color": "white"
             }
            },
            "header": {
             "fill": {
              "color": "#C8D4E3"
             },
             "line": {
              "color": "white"
             }
            },
            "type": "table"
           }
          ]
         },
         "layout": {
          "annotationdefaults": {
           "arrowcolor": "#2a3f5f",
           "arrowhead": 0,
           "arrowwidth": 1
          },
          "autotypenumbers": "strict",
          "coloraxis": {
           "colorbar": {
            "outlinewidth": 0,
            "ticks": ""
           }
          },
          "colorscale": {
           "diverging": [
            [
             0,
             "#8e0152"
            ],
            [
             0.1,
             "#c51b7d"
            ],
            [
             0.2,
             "#de77ae"
            ],
            [
             0.3,
             "#f1b6da"
            ],
            [
             0.4,
             "#fde0ef"
            ],
            [
             0.5,
             "#f7f7f7"
            ],
            [
             0.6,
             "#e6f5d0"
            ],
            [
             0.7,
             "#b8e186"
            ],
            [
             0.8,
             "#7fbc41"
            ],
            [
             0.9,
             "#4d9221"
            ],
            [
             1,
             "#276419"
            ]
           ],
           "sequential": [
            [
             0,
             "#0d0887"
            ],
            [
             0.1111111111111111,
             "#46039f"
            ],
            [
             0.2222222222222222,
             "#7201a8"
            ],
            [
             0.3333333333333333,
             "#9c179e"
            ],
            [
             0.4444444444444444,
             "#bd3786"
            ],
            [
             0.5555555555555556,
             "#d8576b"
            ],
            [
             0.6666666666666666,
             "#ed7953"
            ],
            [
             0.7777777777777778,
             "#fb9f3a"
            ],
            [
             0.8888888888888888,
             "#fdca26"
            ],
            [
             1,
             "#f0f921"
            ]
           ],
           "sequentialminus": [
            [
             0,
             "#0d0887"
            ],
            [
             0.1111111111111111,
             "#46039f"
            ],
            [
             0.2222222222222222,
             "#7201a8"
            ],
            [
             0.3333333333333333,
             "#9c179e"
            ],
            [
             0.4444444444444444,
             "#bd3786"
            ],
            [
             0.5555555555555556,
             "#d8576b"
            ],
            [
             0.6666666666666666,
             "#ed7953"
            ],
            [
             0.7777777777777778,
             "#fb9f3a"
            ],
            [
             0.8888888888888888,
             "#fdca26"
            ],
            [
             1,
             "#f0f921"
            ]
           ]
          },
          "colorway": [
           "#636efa",
           "#EF553B",
           "#00cc96",
           "#ab63fa",
           "#FFA15A",
           "#19d3f3",
           "#FF6692",
           "#B6E880",
           "#FF97FF",
           "#FECB52"
          ],
          "font": {
           "color": "#2a3f5f"
          },
          "geo": {
           "bgcolor": "white",
           "lakecolor": "white",
           "landcolor": "#E5ECF6",
           "showlakes": true,
           "showland": true,
           "subunitcolor": "white"
          },
          "hoverlabel": {
           "align": "left"
          },
          "hovermode": "closest",
          "mapbox": {
           "style": "light"
          },
          "paper_bgcolor": "white",
          "plot_bgcolor": "#E5ECF6",
          "polar": {
           "angularaxis": {
            "gridcolor": "white",
            "linecolor": "white",
            "ticks": ""
           },
           "bgcolor": "#E5ECF6",
           "radialaxis": {
            "gridcolor": "white",
            "linecolor": "white",
            "ticks": ""
           }
          },
          "scene": {
           "xaxis": {
            "backgroundcolor": "#E5ECF6",
            "gridcolor": "white",
            "gridwidth": 2,
            "linecolor": "white",
            "showbackground": true,
            "ticks": "",
            "zerolinecolor": "white"
           },
           "yaxis": {
            "backgroundcolor": "#E5ECF6",
            "gridcolor": "white",
            "gridwidth": 2,
            "linecolor": "white",
            "showbackground": true,
            "ticks": "",
            "zerolinecolor": "white"
           },
           "zaxis": {
            "backgroundcolor": "#E5ECF6",
            "gridcolor": "white",
            "gridwidth": 2,
            "linecolor": "white",
            "showbackground": true,
            "ticks": "",
            "zerolinecolor": "white"
           }
          },
          "shapedefaults": {
           "line": {
            "color": "#2a3f5f"
           }
          },
          "ternary": {
           "aaxis": {
            "gridcolor": "white",
            "linecolor": "white",
            "ticks": ""
           },
           "baxis": {
            "gridcolor": "white",
            "linecolor": "white",
            "ticks": ""
           },
           "bgcolor": "#E5ECF6",
           "caxis": {
            "gridcolor": "white",
            "linecolor": "white",
            "ticks": ""
           }
          },
          "title": {
           "x": 0.05
          },
          "xaxis": {
           "automargin": true,
           "gridcolor": "white",
           "linecolor": "white",
           "ticks": "",
           "title": {
            "standoff": 15
           },
           "zerolinecolor": "white",
           "zerolinewidth": 2
          },
          "yaxis": {
           "automargin": true,
           "gridcolor": "white",
           "linecolor": "white",
           "ticks": "",
           "title": {
            "standoff": 15
           },
           "zerolinecolor": "white",
           "zerolinewidth": 2
          }
         }
        },
        "title": {
         "text": "Average Rating vs Calculated Sentiment score (per user) in Community 0"
        },
        "xaxis": {
         "anchor": "y",
         "domain": [
          0,
          1
         ],
         "title": {
          "text": "Users in Community 0"
         }
        },
        "yaxis": {
         "anchor": "x",
         "domain": [
          0,
          1
         ],
         "title": {
          "text": "Score  vs Rating"
         }
        }
       }
      }
     },
     "metadata": {},
     "output_type": "display_data"
    }
   ],
   "source": [
    "fig = px.bar(\n",
    "    data_frame = com0_a,\n",
    "    x = \"user_id\",\n",
    "    y = [\"rating\",\"score_scale2\"],\n",
    "    opacity = 0.9,\n",
    "    orientation = \"v\",\n",
    "    barmode = 'group',\n",
    "    color_discrete_map={'rating':'green', 'score_scale2':'orange'},\n",
    "    title='Average Rating vs Calculated Sentiment score (per user) in Community 0',\n",
    "   # hover_name= 'recipe_id',\n",
    ")\n",
    "\n",
    "fig.update_layout(\n",
    "\n",
    "  xaxis_title= 'Users in Community 0',\n",
    "  yaxis_title = 'Score  vs Rating',\n",
    "  hovermode = 'x unified'\n",
    "\n",
    ")"
   ]
  },
  {
   "cell_type": "code",
   "execution_count": null,
   "metadata": {},
   "outputs": [],
   "source": []
  }
 ],
 "metadata": {
  "kernelspec": {
   "display_name": "Python 3.8.12 ('base')",
   "language": "python",
   "name": "python3"
  },
  "language_info": {
   "codemirror_mode": {
    "name": "ipython",
    "version": 3
   },
   "file_extension": ".py",
   "mimetype": "text/x-python",
   "name": "python",
   "nbconvert_exporter": "python",
   "pygments_lexer": "ipython3",
   "version": "3.8.12"
  },
  "orig_nbformat": 4,
  "vscode": {
   "interpreter": {
    "hash": "dd67d5026f11b9bb6db4da73e555964d530e0e075e26b3ee03294e4d81583c06"
   }
  }
 },
 "nbformat": 4,
 "nbformat_minor": 2
}

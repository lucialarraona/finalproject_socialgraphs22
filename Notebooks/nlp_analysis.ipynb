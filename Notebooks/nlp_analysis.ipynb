{
 "cells": [
  {
   "cell_type": "markdown",
   "metadata": {},
   "source": [
    "# NLP Analysis of reviews\n",
    "- Calculate sentiment and compare against the actual rating they user gave"
   ]
  },
  {
   "cell_type": "code",
   "execution_count": 1,
   "metadata": {},
   "outputs": [
    {
     "name": "stderr",
     "output_type": "stream",
     "text": [
      "[nltk_data] Downloading package omw-1.4 to\n",
      "[nltk_data]     /Users/lucialarraona/nltk_data...\n",
      "[nltk_data]   Package omw-1.4 is already up-to-date!\n",
      "[nltk_data] Downloading package vader_lexicon to\n",
      "[nltk_data]     /Users/lucialarraona/nltk_data...\n",
      "[nltk_data]   Package vader_lexicon is already up-to-date!\n"
     ]
    }
   ],
   "source": [
    "import pandas as pd\n",
    "import numpy as np\n",
    "import matplotlib.pyplot as plt \n",
    "\n",
    "import os\n",
    "import sys\n",
    "sys.path.append(os.path.abspath(\"/Users/lucialarraona/Desktop/finalproject_socialgraphs22/Notebooks\"))\n",
    "\n",
    "from helper_functions import  *\n",
    "\n",
    "import nltk \n",
    "from nltk.stem import PorterStemmer # para ver la raiz de las palabras(worker = work)\n",
    "from nltk.tokenize import sent_tokenize, word_tokenize # para tokenizar las frases y las palabras \n",
    "import re # regex\n",
    "import string\n",
    "\n",
    "nltk.download('omw-1.4') #needed for lemmatizing\n",
    "\n",
    "nltk.download('vader_lexicon')\n",
    "from nltk.sentiment.vader import SentimentIntensityAnalyzer # an nltk package for sentiment analysis :D\n",
    "\n",
    "import warnings\n",
    "warnings.filterwarnings(\"ignore\")\n",
    "\n",
    "import plotly.express as px\n",
    "from statistics import mean"
   ]
  },
  {
   "cell_type": "code",
   "execution_count": 3,
   "metadata": {},
   "outputs": [
    {
     "name": "stdout",
     "output_type": "stream",
     "text": [
      "(1132367, 5)\n"
     ]
    },
    {
     "data": {
      "text/html": [
       "<div>\n",
       "<style scoped>\n",
       "    .dataframe tbody tr th:only-of-type {\n",
       "        vertical-align: middle;\n",
       "    }\n",
       "\n",
       "    .dataframe tbody tr th {\n",
       "        vertical-align: top;\n",
       "    }\n",
       "\n",
       "    .dataframe thead th {\n",
       "        text-align: right;\n",
       "    }\n",
       "</style>\n",
       "<table border=\"1\" class=\"dataframe\">\n",
       "  <thead>\n",
       "    <tr style=\"text-align: right;\">\n",
       "      <th></th>\n",
       "      <th>user_id</th>\n",
       "      <th>recipe_id</th>\n",
       "      <th>date</th>\n",
       "      <th>rating</th>\n",
       "      <th>review</th>\n",
       "    </tr>\n",
       "  </thead>\n",
       "  <tbody>\n",
       "    <tr>\n",
       "      <th>0</th>\n",
       "      <td>38094</td>\n",
       "      <td>40893</td>\n",
       "      <td>2003-02-17</td>\n",
       "      <td>4</td>\n",
       "      <td>Great with a salad. Cooked on top of stove for...</td>\n",
       "    </tr>\n",
       "    <tr>\n",
       "      <th>1</th>\n",
       "      <td>1293707</td>\n",
       "      <td>40893</td>\n",
       "      <td>2011-12-21</td>\n",
       "      <td>5</td>\n",
       "      <td>So simple, so delicious! Great for chilly fall...</td>\n",
       "    </tr>\n",
       "    <tr>\n",
       "      <th>2</th>\n",
       "      <td>8937</td>\n",
       "      <td>44394</td>\n",
       "      <td>2002-12-01</td>\n",
       "      <td>4</td>\n",
       "      <td>This worked very well and is EASY.  I used not...</td>\n",
       "    </tr>\n",
       "    <tr>\n",
       "      <th>3</th>\n",
       "      <td>126440</td>\n",
       "      <td>85009</td>\n",
       "      <td>2010-02-27</td>\n",
       "      <td>5</td>\n",
       "      <td>I made the Mexican topping and took it to bunk...</td>\n",
       "    </tr>\n",
       "    <tr>\n",
       "      <th>4</th>\n",
       "      <td>57222</td>\n",
       "      <td>85009</td>\n",
       "      <td>2011-10-01</td>\n",
       "      <td>5</td>\n",
       "      <td>Made the cheddar bacon topping, adding a sprin...</td>\n",
       "    </tr>\n",
       "  </tbody>\n",
       "</table>\n",
       "</div>"
      ],
      "text/plain": [
       "   user_id  recipe_id        date  rating  \\\n",
       "0    38094      40893  2003-02-17       4   \n",
       "1  1293707      40893  2011-12-21       5   \n",
       "2     8937      44394  2002-12-01       4   \n",
       "3   126440      85009  2010-02-27       5   \n",
       "4    57222      85009  2011-10-01       5   \n",
       "\n",
       "                                              review  \n",
       "0  Great with a salad. Cooked on top of stove for...  \n",
       "1  So simple, so delicious! Great for chilly fall...  \n",
       "2  This worked very well and is EASY.  I used not...  \n",
       "3  I made the Mexican topping and took it to bunk...  \n",
       "4  Made the cheddar bacon topping, adding a sprin...  "
      ]
     },
     "execution_count": 3,
     "metadata": {},
     "output_type": "execute_result"
    }
   ],
   "source": [
    "# With the reviews dataset, map the community for each user \n",
    "df_reviews = decompress_pickle('../Data/reviews_zipped.pbz2') \n",
    "print(df_reviews.shape)\n",
    "df_reviews.head()"
   ]
  },
  {
   "cell_type": "code",
   "execution_count": 4,
   "metadata": {},
   "outputs": [],
   "source": [
    "df_recipes = decompress_pickle('../Data/file4.pbz2') \n",
    "df_ingredients = pd.read_csv('../Data/ingredients_with_recipies.csv')"
   ]
  },
  {
   "cell_type": "code",
   "execution_count": 5,
   "metadata": {},
   "outputs": [],
   "source": [
    "df_recipes = df_recipes.rename(columns={'id':'recipe_id'})\n"
   ]
  },
  {
   "cell_type": "code",
   "execution_count": 6,
   "metadata": {},
   "outputs": [
    {
     "data": {
      "text/html": [
       "<div>\n",
       "<style scoped>\n",
       "    .dataframe tbody tr th:only-of-type {\n",
       "        vertical-align: middle;\n",
       "    }\n",
       "\n",
       "    .dataframe tbody tr th {\n",
       "        vertical-align: top;\n",
       "    }\n",
       "\n",
       "    .dataframe thead th {\n",
       "        text-align: right;\n",
       "    }\n",
       "</style>\n",
       "<table border=\"1\" class=\"dataframe\">\n",
       "  <thead>\n",
       "    <tr style=\"text-align: right;\">\n",
       "      <th></th>\n",
       "      <th>name</th>\n",
       "      <th>recipe_id</th>\n",
       "      <th>minutes</th>\n",
       "      <th>ingredients</th>\n",
       "      <th>n_ingredients</th>\n",
       "      <th>ingredient_ids</th>\n",
       "    </tr>\n",
       "  </thead>\n",
       "  <tbody>\n",
       "    <tr>\n",
       "      <th>0</th>\n",
       "      <td>arriba   baked winter squash mexican style</td>\n",
       "      <td>137739</td>\n",
       "      <td>55</td>\n",
       "      <td>[winter squash, mexican seasoning, mixed spice...</td>\n",
       "      <td>7</td>\n",
       "      <td>[7933, 4694, 4795, 3723, 840, 5006, 6270]</td>\n",
       "    </tr>\n",
       "    <tr>\n",
       "      <th>1</th>\n",
       "      <td>a bit different  breakfast pizza</td>\n",
       "      <td>31490</td>\n",
       "      <td>30</td>\n",
       "      <td>[prepared pizza crust, sausage patty, eggs, mi...</td>\n",
       "      <td>6</td>\n",
       "      <td>[5481, 6324, 2499, 4717, 6276, 1170]</td>\n",
       "    </tr>\n",
       "    <tr>\n",
       "      <th>2</th>\n",
       "      <td>alouette  potatoes</td>\n",
       "      <td>59389</td>\n",
       "      <td>45</td>\n",
       "      <td>[spreadable cheese with garlic and herbs, new ...</td>\n",
       "      <td>11</td>\n",
       "      <td>[1170, 4918, 6426, 5185, 7099, 5006, 6009, 627...</td>\n",
       "    </tr>\n",
       "    <tr>\n",
       "      <th>3</th>\n",
       "      <td>apple a day  milk shake</td>\n",
       "      <td>5289</td>\n",
       "      <td>0</td>\n",
       "      <td>[milk, vanilla ice cream, frozen apple juice c...</td>\n",
       "      <td>4</td>\n",
       "      <td>[4717, 7474, 2946, 150]</td>\n",
       "    </tr>\n",
       "    <tr>\n",
       "      <th>4</th>\n",
       "      <td>aww  marinated olives</td>\n",
       "      <td>25274</td>\n",
       "      <td>15</td>\n",
       "      <td>[fennel seeds, green olives, ripe olives, garl...</td>\n",
       "      <td>9</td>\n",
       "      <td>[2587, 3437, 5002, 3184, 5324, 5068, 5058, 131...</td>\n",
       "    </tr>\n",
       "  </tbody>\n",
       "</table>\n",
       "</div>"
      ],
      "text/plain": [
       "                                         name  recipe_id  minutes  \\\n",
       "0  arriba   baked winter squash mexican style     137739       55   \n",
       "1            a bit different  breakfast pizza      31490       30   \n",
       "2                          alouette  potatoes      59389       45   \n",
       "3                     apple a day  milk shake       5289        0   \n",
       "4                       aww  marinated olives      25274       15   \n",
       "\n",
       "                                         ingredients  n_ingredients  \\\n",
       "0  [winter squash, mexican seasoning, mixed spice...              7   \n",
       "1  [prepared pizza crust, sausage patty, eggs, mi...              6   \n",
       "2  [spreadable cheese with garlic and herbs, new ...             11   \n",
       "3  [milk, vanilla ice cream, frozen apple juice c...              4   \n",
       "4  [fennel seeds, green olives, ripe olives, garl...              9   \n",
       "\n",
       "                                      ingredient_ids  \n",
       "0          [7933, 4694, 4795, 3723, 840, 5006, 6270]  \n",
       "1               [5481, 6324, 2499, 4717, 6276, 1170]  \n",
       "2  [1170, 4918, 6426, 5185, 7099, 5006, 6009, 627...  \n",
       "3                            [4717, 7474, 2946, 150]  \n",
       "4  [2587, 3437, 5002, 3184, 5324, 5068, 5058, 131...  "
      ]
     },
     "execution_count": 6,
     "metadata": {},
     "output_type": "execute_result"
    }
   ],
   "source": [
    "df_recipes.head()"
   ]
  },
  {
   "cell_type": "code",
   "execution_count": 17,
   "metadata": {},
   "outputs": [
    {
     "name": "stdout",
     "output_type": "stream",
     "text": [
      "5    816364\n",
      "4    187360\n",
      "0     60847\n",
      "3     40855\n",
      "2     14123\n",
      "1     12818\n",
      "Name: rating, dtype: int64\n"
     ]
    },
    {
     "data": {
      "image/png": "[encoded data removed]",
      "text/plain": [
       "<Figure size 432x288 with 1 Axes>"
      ]
     },
     "metadata": {
      "needs_background": "light"
     },
     "output_type": "display_data"
    }
   ],
   "source": [
    "import seaborn as sns\n",
    "sns.countplot(x='rating', data=df_reviews)\n",
    "None\n",
    "print(df_reviews['rating'].value_counts())"
   ]
  },
  {
   "cell_type": "code",
   "execution_count": 18,
   "metadata": {},
   "outputs": [
    {
     "name": "stdout",
     "output_type": "stream",
     "text": [
      "(15257, 2)\n"
     ]
    },
    {
     "data": {
      "text/html": [
       "<div>\n",
       "<style scoped>\n",
       "    .dataframe tbody tr th:only-of-type {\n",
       "        vertical-align: middle;\n",
       "    }\n",
       "\n",
       "    .dataframe tbody tr th {\n",
       "        vertical-align: top;\n",
       "    }\n",
       "\n",
       "    .dataframe thead th {\n",
       "        text-align: right;\n",
       "    }\n",
       "</style>\n",
       "<table border=\"1\" class=\"dataframe\">\n",
       "  <thead>\n",
       "    <tr style=\"text-align: right;\">\n",
       "      <th></th>\n",
       "      <th>user_id</th>\n",
       "      <th>community</th>\n",
       "    </tr>\n",
       "  </thead>\n",
       "  <tbody>\n",
       "    <tr>\n",
       "      <th>0</th>\n",
       "      <td>1535</td>\n",
       "      <td>3.0</td>\n",
       "    </tr>\n",
       "    <tr>\n",
       "      <th>1</th>\n",
       "      <td>3288</td>\n",
       "      <td>2.0</td>\n",
       "    </tr>\n",
       "    <tr>\n",
       "      <th>2</th>\n",
       "      <td>4439</td>\n",
       "      <td>3.0</td>\n",
       "    </tr>\n",
       "    <tr>\n",
       "      <th>3</th>\n",
       "      <td>4470</td>\n",
       "      <td>3.0</td>\n",
       "    </tr>\n",
       "    <tr>\n",
       "      <th>4</th>\n",
       "      <td>4769</td>\n",
       "      <td>35.0</td>\n",
       "    </tr>\n",
       "  </tbody>\n",
       "</table>\n",
       "</div>"
      ],
      "text/plain": [
       "   user_id  community\n",
       "0     1535        3.0\n",
       "1     3288        2.0\n",
       "2     4439        3.0\n",
       "3     4470        3.0\n",
       "4     4769       35.0"
      ]
     },
     "execution_count": 18,
     "metadata": {},
     "output_type": "execute_result"
    }
   ],
   "source": [
    "df_com_map = pd.read_csv('user_community_map.csv')\n",
    "print(df_com_map.shape)\n",
    "df_com_map.head()"
   ]
  },
  {
   "cell_type": "code",
   "execution_count": 19,
   "metadata": {},
   "outputs": [
    {
     "name": "stdout",
     "output_type": "stream",
     "text": [
      "(144295, 6)\n"
     ]
    },
    {
     "data": {
      "text/html": [
       "<div>\n",
       "<style scoped>\n",
       "    .dataframe tbody tr th:only-of-type {\n",
       "        vertical-align: middle;\n",
       "    }\n",
       "\n",
       "    .dataframe tbody tr th {\n",
       "        vertical-align: top;\n",
       "    }\n",
       "\n",
       "    .dataframe thead th {\n",
       "        text-align: right;\n",
       "    }\n",
       "</style>\n",
       "<table border=\"1\" class=\"dataframe\">\n",
       "  <thead>\n",
       "    <tr style=\"text-align: right;\">\n",
       "      <th></th>\n",
       "      <th>user_id</th>\n",
       "      <th>community</th>\n",
       "      <th>recipe_id</th>\n",
       "      <th>date</th>\n",
       "      <th>rating</th>\n",
       "      <th>review</th>\n",
       "    </tr>\n",
       "  </thead>\n",
       "  <tbody>\n",
       "    <tr>\n",
       "      <th>0</th>\n",
       "      <td>1535</td>\n",
       "      <td>3.0</td>\n",
       "      <td>349022</td>\n",
       "      <td>2010-02-11</td>\n",
       "      <td>4</td>\n",
       "      <td>After being w/o power all day, it came back on...</td>\n",
       "    </tr>\n",
       "    <tr>\n",
       "      <th>1</th>\n",
       "      <td>1535</td>\n",
       "      <td>3.0</td>\n",
       "      <td>50022</td>\n",
       "      <td>2004-09-09</td>\n",
       "      <td>5</td>\n",
       "      <td>This is an excellent recipe. Even my not-a-big...</td>\n",
       "    </tr>\n",
       "    <tr>\n",
       "      <th>2</th>\n",
       "      <td>1535</td>\n",
       "      <td>3.0</td>\n",
       "      <td>78834</td>\n",
       "      <td>2005-02-02</td>\n",
       "      <td>5</td>\n",
       "      <td>Made these for my kids one day as a surprise a...</td>\n",
       "    </tr>\n",
       "    <tr>\n",
       "      <th>3</th>\n",
       "      <td>1535</td>\n",
       "      <td>3.0</td>\n",
       "      <td>47474</td>\n",
       "      <td>2004-08-04</td>\n",
       "      <td>5</td>\n",
       "      <td>Love them!! A quick &amp; easy recipe with ingredi...</td>\n",
       "    </tr>\n",
       "    <tr>\n",
       "      <th>4</th>\n",
       "      <td>1535</td>\n",
       "      <td>3.0</td>\n",
       "      <td>230720</td>\n",
       "      <td>2007-07-02</td>\n",
       "      <td>5</td>\n",
       "      <td>I was a little afraid this might not work very...</td>\n",
       "    </tr>\n",
       "  </tbody>\n",
       "</table>\n",
       "</div>"
      ],
      "text/plain": [
       "   user_id  community  recipe_id        date  rating  \\\n",
       "0     1535        3.0     349022  2010-02-11       4   \n",
       "1     1535        3.0      50022  2004-09-09       5   \n",
       "2     1535        3.0      78834  2005-02-02       5   \n",
       "3     1535        3.0      47474  2004-08-04       5   \n",
       "4     1535        3.0     230720  2007-07-02       5   \n",
       "\n",
       "                                              review  \n",
       "0  After being w/o power all day, it came back on...  \n",
       "1  This is an excellent recipe. Even my not-a-big...  \n",
       "2  Made these for my kids one day as a surprise a...  \n",
       "3  Love them!! A quick & easy recipe with ingredi...  \n",
       "4  I was a little afraid this might not work very...  "
      ]
     },
     "execution_count": 19,
     "metadata": {},
     "output_type": "execute_result"
    }
   ],
   "source": [
    "df_reviews_raw = pd.merge(df_com_map, df_reviews, how=\"left\", on=[\"user_id\"]) # merging left is using only the keys on the left df, in this case df_com_map\n",
    "print(df_reviews_raw.shape)\n",
    "df_reviews_raw.head()"
   ]
  },
  {
   "cell_type": "code",
   "execution_count": 20,
   "metadata": {},
   "outputs": [
    {
     "data": {
      "text/html": [
       "<div>\n",
       "<style scoped>\n",
       "    .dataframe tbody tr th:only-of-type {\n",
       "        vertical-align: middle;\n",
       "    }\n",
       "\n",
       "    .dataframe tbody tr th {\n",
       "        vertical-align: top;\n",
       "    }\n",
       "\n",
       "    .dataframe thead th {\n",
       "        text-align: right;\n",
       "    }\n",
       "</style>\n",
       "<table border=\"1\" class=\"dataframe\">\n",
       "  <thead>\n",
       "    <tr style=\"text-align: right;\">\n",
       "      <th></th>\n",
       "      <th>user_id</th>\n",
       "      <th>community</th>\n",
       "      <th>recipe_id</th>\n",
       "      <th>date</th>\n",
       "      <th>rating</th>\n",
       "      <th>review</th>\n",
       "      <th>name</th>\n",
       "      <th>minutes</th>\n",
       "      <th>ingredients</th>\n",
       "      <th>n_ingredients</th>\n",
       "      <th>ingredient_ids</th>\n",
       "    </tr>\n",
       "  </thead>\n",
       "  <tbody>\n",
       "    <tr>\n",
       "      <th>0</th>\n",
       "      <td>1535</td>\n",
       "      <td>3.0</td>\n",
       "      <td>349022</td>\n",
       "      <td>2010-02-11</td>\n",
       "      <td>4</td>\n",
       "      <td>After being w/o power all day, it came back on...</td>\n",
       "      <td>slow cooker chicken  tomato and white bean soup</td>\n",
       "      <td>495.0</td>\n",
       "      <td>[onion, celery ribs, carrots, garlic, salt, bl...</td>\n",
       "      <td>14.0</td>\n",
       "      <td>[5010, 1130, 1093, 3184, 6270, 590, 1708, 840,...</td>\n",
       "    </tr>\n",
       "    <tr>\n",
       "      <th>1</th>\n",
       "      <td>1535</td>\n",
       "      <td>3.0</td>\n",
       "      <td>50022</td>\n",
       "      <td>2004-09-09</td>\n",
       "      <td>5</td>\n",
       "      <td>This is an excellent recipe. Even my not-a-big...</td>\n",
       "      <td>the best banana bread</td>\n",
       "      <td>85.0</td>\n",
       "      <td>[butter, sugar, bananas, eggs, vanilla, baking...</td>\n",
       "      <td>10.0</td>\n",
       "      <td>[840, 6906, 342, 2499, 7449, 335, 2683, 6270, ...</td>\n",
       "    </tr>\n",
       "    <tr>\n",
       "      <th>3</th>\n",
       "      <td>1535</td>\n",
       "      <td>3.0</td>\n",
       "      <td>47474</td>\n",
       "      <td>2004-08-04</td>\n",
       "      <td>5</td>\n",
       "      <td>Love them!! A quick &amp; easy recipe with ingredi...</td>\n",
       "      <td>lemon cooler cookies</td>\n",
       "      <td>33.0</td>\n",
       "      <td>[powdered sugar, sugar, shortening, egg, vanil...</td>\n",
       "      <td>10.0</td>\n",
       "      <td>[5695, 6906, 6473, 2499, 7449, 6270, 911, 332,...</td>\n",
       "    </tr>\n",
       "    <tr>\n",
       "      <th>4</th>\n",
       "      <td>1535</td>\n",
       "      <td>3.0</td>\n",
       "      <td>230720</td>\n",
       "      <td>2007-07-02</td>\n",
       "      <td>5</td>\n",
       "      <td>I was a little afraid this might not work very...</td>\n",
       "      <td>red  white  and  blue jello flag</td>\n",
       "      <td>260.0</td>\n",
       "      <td>[boiling water, berry blue gelatin mix, gelati...</td>\n",
       "      <td>6.0</td>\n",
       "      <td>[673, 525, 3234, 1645, 4249, 1792]</td>\n",
       "    </tr>\n",
       "    <tr>\n",
       "      <th>6</th>\n",
       "      <td>1535</td>\n",
       "      <td>3.0</td>\n",
       "      <td>87461</td>\n",
       "      <td>2004-10-26</td>\n",
       "      <td>5</td>\n",
       "      <td>This was incredible!! It is the best garlic br...</td>\n",
       "      <td>my own garlic bread</td>\n",
       "      <td>30.0</td>\n",
       "      <td>[french bread, margarine, mayonnaise, garlic s...</td>\n",
       "      <td>5.0</td>\n",
       "      <td>[2718, 4574, 4623, 3219, 5180]</td>\n",
       "    </tr>\n",
       "    <tr>\n",
       "      <th>...</th>\n",
       "      <td>...</td>\n",
       "      <td>...</td>\n",
       "      <td>...</td>\n",
       "      <td>...</td>\n",
       "      <td>...</td>\n",
       "      <td>...</td>\n",
       "      <td>...</td>\n",
       "      <td>...</td>\n",
       "      <td>...</td>\n",
       "      <td>...</td>\n",
       "      <td>...</td>\n",
       "    </tr>\n",
       "    <tr>\n",
       "      <th>144290</th>\n",
       "      <td>2002371420</td>\n",
       "      <td>39.0</td>\n",
       "      <td>50245</td>\n",
       "      <td>2018-12-18</td>\n",
       "      <td>5</td>\n",
       "      <td>Made this with a slight variation. Added the p...</td>\n",
       "      <td>chicken francese</td>\n",
       "      <td>35.0</td>\n",
       "      <td>[boneless skinless chicken breasts, condensed ...</td>\n",
       "      <td>11.0</td>\n",
       "      <td>[1252, 1257, 7801, 4287, 2499, 5180, 2683, 320...</td>\n",
       "    </tr>\n",
       "    <tr>\n",
       "      <th>144291</th>\n",
       "      <td>2002371445</td>\n",
       "      <td>5.0</td>\n",
       "      <td>2886</td>\n",
       "      <td>2018-12-19</td>\n",
       "      <td>5</td>\n",
       "      <td>I've been using this recipe for 2 years and it...</td>\n",
       "      <td>best banana bread</td>\n",
       "      <td>65.0</td>\n",
       "      <td>[butter, granulated sugar, eggs, bananas, all-...</td>\n",
       "      <td>8.0</td>\n",
       "      <td>[840, 3355, 2499, 342, 63, 335, 6270, 7449]</td>\n",
       "    </tr>\n",
       "    <tr>\n",
       "      <th>144292</th>\n",
       "      <td>2002371627</td>\n",
       "      <td>3.0</td>\n",
       "      <td>153647</td>\n",
       "      <td>2018-12-19</td>\n",
       "      <td>0</td>\n",
       "      <td>Best thing about this recipe? I didn't have to...</td>\n",
       "      <td>tortilla crusted tilapia</td>\n",
       "      <td>30.0</td>\n",
       "      <td>[tilapia fillets, corn tortillas, jalapeno pep...</td>\n",
       "      <td>9.0</td>\n",
       "      <td>[7178, 7258, 3957, 4384, 2777, 1329, 3502, 637...</td>\n",
       "    </tr>\n",
       "    <tr>\n",
       "      <th>144293</th>\n",
       "      <td>2002371843</td>\n",
       "      <td>60.0</td>\n",
       "      <td>516662</td>\n",
       "      <td>2018-12-19</td>\n",
       "      <td>5</td>\n",
       "      <td>This cake is incredible tasting and easy to ma...</td>\n",
       "      <td>black bean chocolate cake</td>\n",
       "      <td>65.0</td>\n",
       "      <td>[black beans, eggs, pure vanilla extract, sea ...</td>\n",
       "      <td>9.0</td>\n",
       "      <td>[553, 2499, 5767, 6352, 1609, 3723, 2485, 332,...</td>\n",
       "    </tr>\n",
       "    <tr>\n",
       "      <th>144294</th>\n",
       "      <td>2002372706</td>\n",
       "      <td>51.0</td>\n",
       "      <td>63786</td>\n",
       "      <td>2018-12-20</td>\n",
       "      <td>5</td>\n",
       "      <td>Finally I found a no nonsense fajita recipe</td>\n",
       "      <td>steak  or chicken  fajitas</td>\n",
       "      <td>20.0</td>\n",
       "      <td>[top sirloin steak, olive oil, lime juice, gar...</td>\n",
       "      <td>16.0</td>\n",
       "      <td>[7253, 5006, 4384, 3203, 1329, 2007, 3794, 590...</td>\n",
       "    </tr>\n",
       "  </tbody>\n",
       "</table>\n",
       "<p>123668 rows × 11 columns</p>\n",
       "</div>"
      ],
      "text/plain": [
       "           user_id  community  recipe_id        date  rating  \\\n",
       "0             1535        3.0     349022  2010-02-11       4   \n",
       "1             1535        3.0      50022  2004-09-09       5   \n",
       "3             1535        3.0      47474  2004-08-04       5   \n",
       "4             1535        3.0     230720  2007-07-02       5   \n",
       "6             1535        3.0      87461  2004-10-26       5   \n",
       "...            ...        ...        ...         ...     ...   \n",
       "144290  2002371420       39.0      50245  2018-12-18       5   \n",
       "144291  2002371445        5.0       2886  2018-12-19       5   \n",
       "144292  2002371627        3.0     153647  2018-12-19       0   \n",
       "144293  2002371843       60.0     516662  2018-12-19       5   \n",
       "144294  2002372706       51.0      63786  2018-12-20       5   \n",
       "\n",
       "                                                   review  \\\n",
       "0       After being w/o power all day, it came back on...   \n",
       "1       This is an excellent recipe. Even my not-a-big...   \n",
       "3       Love them!! A quick & easy recipe with ingredi...   \n",
       "4       I was a little afraid this might not work very...   \n",
       "6       This was incredible!! It is the best garlic br...   \n",
       "...                                                   ...   \n",
       "144290  Made this with a slight variation. Added the p...   \n",
       "144291  I've been using this recipe for 2 years and it...   \n",
       "144292  Best thing about this recipe? I didn't have to...   \n",
       "144293  This cake is incredible tasting and easy to ma...   \n",
       "144294        Finally I found a no nonsense fajita recipe   \n",
       "\n",
       "                                                   name  minutes  \\\n",
       "0       slow cooker chicken  tomato and white bean soup    495.0   \n",
       "1                                 the best banana bread     85.0   \n",
       "3                                  lemon cooler cookies     33.0   \n",
       "4                      red  white  and  blue jello flag    260.0   \n",
       "6                                   my own garlic bread     30.0   \n",
       "...                                                 ...      ...   \n",
       "144290                                 chicken francese     35.0   \n",
       "144291                                best banana bread     65.0   \n",
       "144292                         tortilla crusted tilapia     30.0   \n",
       "144293                        black bean chocolate cake     65.0   \n",
       "144294                       steak  or chicken  fajitas     20.0   \n",
       "\n",
       "                                              ingredients  n_ingredients  \\\n",
       "0       [onion, celery ribs, carrots, garlic, salt, bl...           14.0   \n",
       "1       [butter, sugar, bananas, eggs, vanilla, baking...           10.0   \n",
       "3       [powdered sugar, sugar, shortening, egg, vanil...           10.0   \n",
       "4       [boiling water, berry blue gelatin mix, gelati...            6.0   \n",
       "6       [french bread, margarine, mayonnaise, garlic s...            5.0   \n",
       "...                                                   ...            ...   \n",
       "144290  [boneless skinless chicken breasts, condensed ...           11.0   \n",
       "144291  [butter, granulated sugar, eggs, bananas, all-...            8.0   \n",
       "144292  [tilapia fillets, corn tortillas, jalapeno pep...            9.0   \n",
       "144293  [black beans, eggs, pure vanilla extract, sea ...            9.0   \n",
       "144294  [top sirloin steak, olive oil, lime juice, gar...           16.0   \n",
       "\n",
       "                                           ingredient_ids  \n",
       "0       [5010, 1130, 1093, 3184, 6270, 590, 1708, 840,...  \n",
       "1       [840, 6906, 342, 2499, 7449, 335, 2683, 6270, ...  \n",
       "3       [5695, 6906, 6473, 2499, 7449, 6270, 911, 332,...  \n",
       "4                      [673, 525, 3234, 1645, 4249, 1792]  \n",
       "6                          [2718, 4574, 4623, 3219, 5180]  \n",
       "...                                                   ...  \n",
       "144290  [1252, 1257, 7801, 4287, 2499, 5180, 2683, 320...  \n",
       "144291        [840, 3355, 2499, 342, 63, 335, 6270, 7449]  \n",
       "144292  [7178, 7258, 3957, 4384, 2777, 1329, 3502, 637...  \n",
       "144293  [553, 2499, 5767, 6352, 1609, 3723, 2485, 332,...  \n",
       "144294  [7253, 5006, 4384, 3203, 1329, 2007, 3794, 590...  \n",
       "\n",
       "[123668 rows x 11 columns]"
      ]
     },
     "execution_count": 20,
     "metadata": {},
     "output_type": "execute_result"
    }
   ],
   "source": [
    "df_reviews_raw = pd.merge(df_reviews_raw, df_recipes, how='left',on =['recipe_id'])\n",
    "df_reviews_raw = df_reviews_raw.dropna()\n",
    "df_reviews_raw"
   ]
  },
  {
   "cell_type": "code",
   "execution_count": 21,
   "metadata": {},
   "outputs": [],
   "source": [
    "# Make a copy to keep the raw dataframe for the future \n",
    "df_reviews2 = df_reviews_raw.reset_index(drop=True)"
   ]
  },
  {
   "cell_type": "code",
   "execution_count": 22,
   "metadata": {},
   "outputs": [
    {
     "data": {
      "text/html": [
       "<div>\n",
       "<style scoped>\n",
       "    .dataframe tbody tr th:only-of-type {\n",
       "        vertical-align: middle;\n",
       "    }\n",
       "\n",
       "    .dataframe tbody tr th {\n",
       "        vertical-align: top;\n",
       "    }\n",
       "\n",
       "    .dataframe thead th {\n",
       "        text-align: right;\n",
       "    }\n",
       "</style>\n",
       "<table border=\"1\" class=\"dataframe\">\n",
       "  <thead>\n",
       "    <tr style=\"text-align: right;\">\n",
       "      <th></th>\n",
       "      <th>user_id</th>\n",
       "      <th>community</th>\n",
       "      <th>recipe_id</th>\n",
       "      <th>date</th>\n",
       "      <th>rating</th>\n",
       "      <th>review</th>\n",
       "      <th>name</th>\n",
       "      <th>minutes</th>\n",
       "      <th>ingredients</th>\n",
       "      <th>n_ingredients</th>\n",
       "      <th>ingredient_ids</th>\n",
       "    </tr>\n",
       "  </thead>\n",
       "  <tbody>\n",
       "    <tr>\n",
       "      <th>0</th>\n",
       "      <td>1535</td>\n",
       "      <td>3.0</td>\n",
       "      <td>349022</td>\n",
       "      <td>2010-02-11</td>\n",
       "      <td>4</td>\n",
       "      <td>After being w/o power all day, it came back on...</td>\n",
       "      <td>slow cooker chicken  tomato and white bean soup</td>\n",
       "      <td>495.0</td>\n",
       "      <td>[onion, celery ribs, carrots, garlic, salt, bl...</td>\n",
       "      <td>14.0</td>\n",
       "      <td>[5010, 1130, 1093, 3184, 6270, 590, 1708, 840,...</td>\n",
       "    </tr>\n",
       "    <tr>\n",
       "      <th>1</th>\n",
       "      <td>1535</td>\n",
       "      <td>3.0</td>\n",
       "      <td>50022</td>\n",
       "      <td>2004-09-09</td>\n",
       "      <td>5</td>\n",
       "      <td>This is an excellent recipe. Even my not-a-big...</td>\n",
       "      <td>the best banana bread</td>\n",
       "      <td>85.0</td>\n",
       "      <td>[butter, sugar, bananas, eggs, vanilla, baking...</td>\n",
       "      <td>10.0</td>\n",
       "      <td>[840, 6906, 342, 2499, 7449, 335, 2683, 6270, ...</td>\n",
       "    </tr>\n",
       "    <tr>\n",
       "      <th>2</th>\n",
       "      <td>1535</td>\n",
       "      <td>3.0</td>\n",
       "      <td>47474</td>\n",
       "      <td>2004-08-04</td>\n",
       "      <td>5</td>\n",
       "      <td>Love them!! A quick &amp; easy recipe with ingredi...</td>\n",
       "      <td>lemon cooler cookies</td>\n",
       "      <td>33.0</td>\n",
       "      <td>[powdered sugar, sugar, shortening, egg, vanil...</td>\n",
       "      <td>10.0</td>\n",
       "      <td>[5695, 6906, 6473, 2499, 7449, 6270, 911, 332,...</td>\n",
       "    </tr>\n",
       "    <tr>\n",
       "      <th>3</th>\n",
       "      <td>1535</td>\n",
       "      <td>3.0</td>\n",
       "      <td>230720</td>\n",
       "      <td>2007-07-02</td>\n",
       "      <td>5</td>\n",
       "      <td>I was a little afraid this might not work very...</td>\n",
       "      <td>red  white  and  blue jello flag</td>\n",
       "      <td>260.0</td>\n",
       "      <td>[boiling water, berry blue gelatin mix, gelati...</td>\n",
       "      <td>6.0</td>\n",
       "      <td>[673, 525, 3234, 1645, 4249, 1792]</td>\n",
       "    </tr>\n",
       "    <tr>\n",
       "      <th>4</th>\n",
       "      <td>1535</td>\n",
       "      <td>3.0</td>\n",
       "      <td>87461</td>\n",
       "      <td>2004-10-26</td>\n",
       "      <td>5</td>\n",
       "      <td>This was incredible!! It is the best garlic br...</td>\n",
       "      <td>my own garlic bread</td>\n",
       "      <td>30.0</td>\n",
       "      <td>[french bread, margarine, mayonnaise, garlic s...</td>\n",
       "      <td>5.0</td>\n",
       "      <td>[2718, 4574, 4623, 3219, 5180]</td>\n",
       "    </tr>\n",
       "    <tr>\n",
       "      <th>...</th>\n",
       "      <td>...</td>\n",
       "      <td>...</td>\n",
       "      <td>...</td>\n",
       "      <td>...</td>\n",
       "      <td>...</td>\n",
       "      <td>...</td>\n",
       "      <td>...</td>\n",
       "      <td>...</td>\n",
       "      <td>...</td>\n",
       "      <td>...</td>\n",
       "      <td>...</td>\n",
       "    </tr>\n",
       "    <tr>\n",
       "      <th>123663</th>\n",
       "      <td>2002371420</td>\n",
       "      <td>39.0</td>\n",
       "      <td>50245</td>\n",
       "      <td>2018-12-18</td>\n",
       "      <td>5</td>\n",
       "      <td>Made this with a slight variation. Added the p...</td>\n",
       "      <td>chicken francese</td>\n",
       "      <td>35.0</td>\n",
       "      <td>[boneless skinless chicken breasts, condensed ...</td>\n",
       "      <td>11.0</td>\n",
       "      <td>[1252, 1257, 7801, 4287, 2499, 5180, 2683, 320...</td>\n",
       "    </tr>\n",
       "    <tr>\n",
       "      <th>123664</th>\n",
       "      <td>2002371445</td>\n",
       "      <td>5.0</td>\n",
       "      <td>2886</td>\n",
       "      <td>2018-12-19</td>\n",
       "      <td>5</td>\n",
       "      <td>I've been using this recipe for 2 years and it...</td>\n",
       "      <td>best banana bread</td>\n",
       "      <td>65.0</td>\n",
       "      <td>[butter, granulated sugar, eggs, bananas, all-...</td>\n",
       "      <td>8.0</td>\n",
       "      <td>[840, 3355, 2499, 342, 63, 335, 6270, 7449]</td>\n",
       "    </tr>\n",
       "    <tr>\n",
       "      <th>123665</th>\n",
       "      <td>2002371627</td>\n",
       "      <td>3.0</td>\n",
       "      <td>153647</td>\n",
       "      <td>2018-12-19</td>\n",
       "      <td>0</td>\n",
       "      <td>Best thing about this recipe? I didn't have to...</td>\n",
       "      <td>tortilla crusted tilapia</td>\n",
       "      <td>30.0</td>\n",
       "      <td>[tilapia fillets, corn tortillas, jalapeno pep...</td>\n",
       "      <td>9.0</td>\n",
       "      <td>[7178, 7258, 3957, 4384, 2777, 1329, 3502, 637...</td>\n",
       "    </tr>\n",
       "    <tr>\n",
       "      <th>123666</th>\n",
       "      <td>2002371843</td>\n",
       "      <td>60.0</td>\n",
       "      <td>516662</td>\n",
       "      <td>2018-12-19</td>\n",
       "      <td>5</td>\n",
       "      <td>This cake is incredible tasting and easy to ma...</td>\n",
       "      <td>black bean chocolate cake</td>\n",
       "      <td>65.0</td>\n",
       "      <td>[black beans, eggs, pure vanilla extract, sea ...</td>\n",
       "      <td>9.0</td>\n",
       "      <td>[553, 2499, 5767, 6352, 1609, 3723, 2485, 332,...</td>\n",
       "    </tr>\n",
       "    <tr>\n",
       "      <th>123667</th>\n",
       "      <td>2002372706</td>\n",
       "      <td>51.0</td>\n",
       "      <td>63786</td>\n",
       "      <td>2018-12-20</td>\n",
       "      <td>5</td>\n",
       "      <td>Finally I found a no nonsense fajita recipe</td>\n",
       "      <td>steak  or chicken  fajitas</td>\n",
       "      <td>20.0</td>\n",
       "      <td>[top sirloin steak, olive oil, lime juice, gar...</td>\n",
       "      <td>16.0</td>\n",
       "      <td>[7253, 5006, 4384, 3203, 1329, 2007, 3794, 590...</td>\n",
       "    </tr>\n",
       "  </tbody>\n",
       "</table>\n",
       "<p>123668 rows × 11 columns</p>\n",
       "</div>"
      ],
      "text/plain": [
       "           user_id  community  recipe_id        date  rating  \\\n",
       "0             1535        3.0     349022  2010-02-11       4   \n",
       "1             1535        3.0      50022  2004-09-09       5   \n",
       "2             1535        3.0      47474  2004-08-04       5   \n",
       "3             1535        3.0     230720  2007-07-02       5   \n",
       "4             1535        3.0      87461  2004-10-26       5   \n",
       "...            ...        ...        ...         ...     ...   \n",
       "123663  2002371420       39.0      50245  2018-12-18       5   \n",
       "123664  2002371445        5.0       2886  2018-12-19       5   \n",
       "123665  2002371627        3.0     153647  2018-12-19       0   \n",
       "123666  2002371843       60.0     516662  2018-12-19       5   \n",
       "123667  2002372706       51.0      63786  2018-12-20       5   \n",
       "\n",
       "                                                   review  \\\n",
       "0       After being w/o power all day, it came back on...   \n",
       "1       This is an excellent recipe. Even my not-a-big...   \n",
       "2       Love them!! A quick & easy recipe with ingredi...   \n",
       "3       I was a little afraid this might not work very...   \n",
       "4       This was incredible!! It is the best garlic br...   \n",
       "...                                                   ...   \n",
       "123663  Made this with a slight variation. Added the p...   \n",
       "123664  I've been using this recipe for 2 years and it...   \n",
       "123665  Best thing about this recipe? I didn't have to...   \n",
       "123666  This cake is incredible tasting and easy to ma...   \n",
       "123667        Finally I found a no nonsense fajita recipe   \n",
       "\n",
       "                                                   name  minutes  \\\n",
       "0       slow cooker chicken  tomato and white bean soup    495.0   \n",
       "1                                 the best banana bread     85.0   \n",
       "2                                  lemon cooler cookies     33.0   \n",
       "3                      red  white  and  blue jello flag    260.0   \n",
       "4                                   my own garlic bread     30.0   \n",
       "...                                                 ...      ...   \n",
       "123663                                 chicken francese     35.0   \n",
       "123664                                best banana bread     65.0   \n",
       "123665                         tortilla crusted tilapia     30.0   \n",
       "123666                        black bean chocolate cake     65.0   \n",
       "123667                       steak  or chicken  fajitas     20.0   \n",
       "\n",
       "                                              ingredients  n_ingredients  \\\n",
       "0       [onion, celery ribs, carrots, garlic, salt, bl...           14.0   \n",
       "1       [butter, sugar, bananas, eggs, vanilla, baking...           10.0   \n",
       "2       [powdered sugar, sugar, shortening, egg, vanil...           10.0   \n",
       "3       [boiling water, berry blue gelatin mix, gelati...            6.0   \n",
       "4       [french bread, margarine, mayonnaise, garlic s...            5.0   \n",
       "...                                                   ...            ...   \n",
       "123663  [boneless skinless chicken breasts, condensed ...           11.0   \n",
       "123664  [butter, granulated sugar, eggs, bananas, all-...            8.0   \n",
       "123665  [tilapia fillets, corn tortillas, jalapeno pep...            9.0   \n",
       "123666  [black beans, eggs, pure vanilla extract, sea ...            9.0   \n",
       "123667  [top sirloin steak, olive oil, lime juice, gar...           16.0   \n",
       "\n",
       "                                           ingredient_ids  \n",
       "0       [5010, 1130, 1093, 3184, 6270, 590, 1708, 840,...  \n",
       "1       [840, 6906, 342, 2499, 7449, 335, 2683, 6270, ...  \n",
       "2       [5695, 6906, 6473, 2499, 7449, 6270, 911, 332,...  \n",
       "3                      [673, 525, 3234, 1645, 4249, 1792]  \n",
       "4                          [2718, 4574, 4623, 3219, 5180]  \n",
       "...                                                   ...  \n",
       "123663  [1252, 1257, 7801, 4287, 2499, 5180, 2683, 320...  \n",
       "123664        [840, 3355, 2499, 342, 63, 335, 6270, 7449]  \n",
       "123665  [7178, 7258, 3957, 4384, 2777, 1329, 3502, 637...  \n",
       "123666  [553, 2499, 5767, 6352, 1609, 3723, 2485, 332,...  \n",
       "123667  [7253, 5006, 4384, 3203, 1329, 2007, 3794, 590...  \n",
       "\n",
       "[123668 rows x 11 columns]"
      ]
     },
     "execution_count": 22,
     "metadata": {},
     "output_type": "execute_result"
    }
   ],
   "source": [
    "df_reviews2"
   ]
  },
  {
   "cell_type": "code",
   "execution_count": 13,
   "metadata": {},
   "outputs": [
    {
     "data": {
      "text/plain": [
       "'\"\\ndef scores2(text):\\n    compound = [sid.polarity_scores(sentence)[\"compound\"] for sentence in nltk.sent_tokenize(text)]\\n    pos = [sid.polarity_scores(sentence)[\"pos\"] for sentence in nltk.sent_tokenize(text)]\\n    neg = [sid.polarity_scores(sentence)[\"neg\"] for sentence in nltk.sent_tokenize(text)]\\n    neu = [sid.polarity_scores(sentence)[\"neu\"] for sentence in nltk.sent_tokenize(text)]\\n    final_compound = np.mean(compound)\\n    final_pos = np.mean(pos)\\n    final_neg = np.mean(neg)\\n    final_neu = np.mean(neu)\\n    return final_compound, final_pos, final_neg, final_neu\\n\\nprint(df_reviews2[\\'review\\'][0])\\nscores2(df_reviews2[\\'review\\'][0])\\n\\n#df_reviews2[\\'compound\\']= df_reviews2[\\'review\\'].apply(lambda x : scores2(x))\\n#df_reviews2\\n'"
      ]
     },
     "execution_count": 13,
     "metadata": {},
     "output_type": "execute_result"
    }
   ],
   "source": [
    "# Sentiment analyzer .vader() without cleaning the sentences. .Vader() is prepared for analyzins short sentences like tweets. So It's better \n",
    "# split the long reviews in sentences. \n",
    "\n",
    "\"\"\"\"\n",
    "def scores2(text):\n",
    "    compound = [sid.polarity_scores(sentence)[\"compound\"] for sentence in nltk.sent_tokenize(text)]\n",
    "    pos = [sid.polarity_scores(sentence)[\"pos\"] for sentence in nltk.sent_tokenize(text)]\n",
    "    neg = [sid.polarity_scores(sentence)[\"neg\"] for sentence in nltk.sent_tokenize(text)]\n",
    "    neu = [sid.polarity_scores(sentence)[\"neu\"] for sentence in nltk.sent_tokenize(text)]\n",
    "    final_compound = np.mean(compound)\n",
    "    final_pos = np.mean(pos)\n",
    "    final_neg = np.mean(neg)\n",
    "    final_neu = np.mean(neu)\n",
    "    return final_compound, final_pos, final_neg, final_neu\n",
    "\n",
    "print(df_reviews2['review'][0])\n",
    "scores2(df_reviews2['review'][0])\n",
    "\n",
    "#df_reviews2['compound']= df_reviews2['review'].apply(lambda x : scores2(x))\n",
    "#df_reviews2\n",
    "\"\"\" "
   ]
  },
  {
   "cell_type": "markdown",
   "metadata": {},
   "source": [
    "## Clean text from reviews"
   ]
  },
  {
   "cell_type": "code",
   "execution_count": 23,
   "metadata": {},
   "outputs": [],
   "source": [
    "def text_cleaning(text):\n",
    "    \n",
    "    text = text.lower()\n",
    "    text = re.sub('\\[.*?\\]', '', text)\n",
    "    text = re.sub(\"\\\\W\",\" \",text) # remove special chars\n",
    "    text = re.sub('https?://\\S+|www\\.\\S+', '', text)\n",
    "    text = re.sub('<.*?>+', '', text)\n",
    "    text = re.sub('[%s]' % re.escape(string.punctuation), '', text)\n",
    "    text = re.sub('\\n', '', text)\n",
    "    text = re.sub('\\w*\\d\\w*', '', text)\n",
    "    \n",
    "    return text\n",
    "\n",
    "stopwords = nltk.corpus.stopwords.words('english')\n",
    "\n",
    "ps = PorterStemmer()\n",
    "wn = nltk.WordNetLemmatizer()\n",
    "\n",
    "def clean_stem (review):\n",
    "\n",
    "    temp1 =\"\".join(x for x in review if x not in string.punctuation)\n",
    "    temp2 = re.split('\\W+',temp1.lower())\n",
    "    temp3 = [ps.stem(x) for x in temp2 if x not in stopwords]\n",
    "    return temp3\n",
    "\n",
    "\n",
    "def clean_lemma (review):\n",
    "    \n",
    "    temp1 =\"\".join(x for x in review if x not in string.punctuation)\n",
    "    temp2 = re.split('\\W+',temp1.lower())\n",
    "    temp3 = [wn.lemmatize(x) for x in temp2 if x not in stopwords]\n",
    "    return temp3\n",
    "\n",
    "\n",
    "df_reviews2['review'] =df_reviews2['review'] .astype('str')  # object to string\n",
    "df_reviews2['review'] = df_reviews2['review'] .apply(text_cleaning) # cleaning \n",
    "df_reviews2['review_tokens']= df_reviews2['review'].map(clean_lemma) # apply lemmatization for now"
   ]
  },
  {
   "cell_type": "code",
   "execution_count": 24,
   "metadata": {},
   "outputs": [
    {
     "data": {
      "text/html": [
       "<div>\n",
       "<style scoped>\n",
       "    .dataframe tbody tr th:only-of-type {\n",
       "        vertical-align: middle;\n",
       "    }\n",
       "\n",
       "    .dataframe tbody tr th {\n",
       "        vertical-align: top;\n",
       "    }\n",
       "\n",
       "    .dataframe thead th {\n",
       "        text-align: right;\n",
       "    }\n",
       "</style>\n",
       "<table border=\"1\" class=\"dataframe\">\n",
       "  <thead>\n",
       "    <tr style=\"text-align: right;\">\n",
       "      <th></th>\n",
       "      <th>user_id</th>\n",
       "      <th>community</th>\n",
       "      <th>recipe_id</th>\n",
       "      <th>date</th>\n",
       "      <th>rating</th>\n",
       "      <th>review</th>\n",
       "      <th>name</th>\n",
       "      <th>minutes</th>\n",
       "      <th>ingredients</th>\n",
       "      <th>n_ingredients</th>\n",
       "      <th>ingredient_ids</th>\n",
       "      <th>review_tokens</th>\n",
       "    </tr>\n",
       "  </thead>\n",
       "  <tbody>\n",
       "    <tr>\n",
       "      <th>0</th>\n",
       "      <td>1535</td>\n",
       "      <td>3.0</td>\n",
       "      <td>349022</td>\n",
       "      <td>2010-02-11</td>\n",
       "      <td>4</td>\n",
       "      <td>after being w o power all day  it came back on...</td>\n",
       "      <td>slow cooker chicken  tomato and white bean soup</td>\n",
       "      <td>495.0</td>\n",
       "      <td>[onion, celery ribs, carrots, garlic, salt, bl...</td>\n",
       "      <td>14.0</td>\n",
       "      <td>[5010, 1130, 1093, 3184, 6270, 590, 1708, 840,...</td>\n",
       "      <td>[w, power, day, came, back, right, bedtime, qu...</td>\n",
       "    </tr>\n",
       "    <tr>\n",
       "      <th>1</th>\n",
       "      <td>1535</td>\n",
       "      <td>3.0</td>\n",
       "      <td>50022</td>\n",
       "      <td>2004-09-09</td>\n",
       "      <td>5</td>\n",
       "      <td>this is an excellent recipe  even my not a big...</td>\n",
       "      <td>the best banana bread</td>\n",
       "      <td>85.0</td>\n",
       "      <td>[butter, sugar, bananas, eggs, vanilla, baking...</td>\n",
       "      <td>10.0</td>\n",
       "      <td>[840, 6906, 342, 2499, 7449, 335, 2683, 6270, ...</td>\n",
       "      <td>[excellent, recipe, even, big, fan, banana, br...</td>\n",
       "    </tr>\n",
       "    <tr>\n",
       "      <th>2</th>\n",
       "      <td>1535</td>\n",
       "      <td>3.0</td>\n",
       "      <td>47474</td>\n",
       "      <td>2004-08-04</td>\n",
       "      <td>5</td>\n",
       "      <td>love them   a quick   easy recipe with ingredi...</td>\n",
       "      <td>lemon cooler cookies</td>\n",
       "      <td>33.0</td>\n",
       "      <td>[powdered sugar, sugar, shortening, egg, vanil...</td>\n",
       "      <td>10.0</td>\n",
       "      <td>[5695, 6906, 6473, 2499, 7449, 6270, 911, 332,...</td>\n",
       "      <td>[love, quick, easy, recipe, ingredient, always...</td>\n",
       "    </tr>\n",
       "    <tr>\n",
       "      <th>3</th>\n",
       "      <td>1535</td>\n",
       "      <td>3.0</td>\n",
       "      <td>230720</td>\n",
       "      <td>2007-07-02</td>\n",
       "      <td>5</td>\n",
       "      <td>i was a little afraid this might not work very...</td>\n",
       "      <td>red  white  and  blue jello flag</td>\n",
       "      <td>260.0</td>\n",
       "      <td>[boiling water, berry blue gelatin mix, gelati...</td>\n",
       "      <td>6.0</td>\n",
       "      <td>[673, 525, 3234, 1645, 4249, 1792]</td>\n",
       "      <td>[little, afraid, might, work, well, turned, lo...</td>\n",
       "    </tr>\n",
       "    <tr>\n",
       "      <th>4</th>\n",
       "      <td>1535</td>\n",
       "      <td>3.0</td>\n",
       "      <td>87461</td>\n",
       "      <td>2004-10-26</td>\n",
       "      <td>5</td>\n",
       "      <td>this was incredible   it is the best garlic br...</td>\n",
       "      <td>my own garlic bread</td>\n",
       "      <td>30.0</td>\n",
       "      <td>[french bread, margarine, mayonnaise, garlic s...</td>\n",
       "      <td>5.0</td>\n",
       "      <td>[2718, 4574, 4623, 3219, 5180]</td>\n",
       "      <td>[incredible, best, garlic, bread, ever, made, ...</td>\n",
       "    </tr>\n",
       "  </tbody>\n",
       "</table>\n",
       "</div>"
      ],
      "text/plain": [
       "   user_id  community  recipe_id        date  rating  \\\n",
       "0     1535        3.0     349022  2010-02-11       4   \n",
       "1     1535        3.0      50022  2004-09-09       5   \n",
       "2     1535        3.0      47474  2004-08-04       5   \n",
       "3     1535        3.0     230720  2007-07-02       5   \n",
       "4     1535        3.0      87461  2004-10-26       5   \n",
       "\n",
       "                                              review  \\\n",
       "0  after being w o power all day  it came back on...   \n",
       "1  this is an excellent recipe  even my not a big...   \n",
       "2  love them   a quick   easy recipe with ingredi...   \n",
       "3  i was a little afraid this might not work very...   \n",
       "4  this was incredible   it is the best garlic br...   \n",
       "\n",
       "                                              name  minutes  \\\n",
       "0  slow cooker chicken  tomato and white bean soup    495.0   \n",
       "1                            the best banana bread     85.0   \n",
       "2                             lemon cooler cookies     33.0   \n",
       "3                 red  white  and  blue jello flag    260.0   \n",
       "4                              my own garlic bread     30.0   \n",
       "\n",
       "                                         ingredients  n_ingredients  \\\n",
       "0  [onion, celery ribs, carrots, garlic, salt, bl...           14.0   \n",
       "1  [butter, sugar, bananas, eggs, vanilla, baking...           10.0   \n",
       "2  [powdered sugar, sugar, shortening, egg, vanil...           10.0   \n",
       "3  [boiling water, berry blue gelatin mix, gelati...            6.0   \n",
       "4  [french bread, margarine, mayonnaise, garlic s...            5.0   \n",
       "\n",
       "                                      ingredient_ids  \\\n",
       "0  [5010, 1130, 1093, 3184, 6270, 590, 1708, 840,...   \n",
       "1  [840, 6906, 342, 2499, 7449, 335, 2683, 6270, ...   \n",
       "2  [5695, 6906, 6473, 2499, 7449, 6270, 911, 332,...   \n",
       "3                 [673, 525, 3234, 1645, 4249, 1792]   \n",
       "4                     [2718, 4574, 4623, 3219, 5180]   \n",
       "\n",
       "                                       review_tokens  \n",
       "0  [w, power, day, came, back, right, bedtime, qu...  \n",
       "1  [excellent, recipe, even, big, fan, banana, br...  \n",
       "2  [love, quick, easy, recipe, ingredient, always...  \n",
       "3  [little, afraid, might, work, well, turned, lo...  \n",
       "4  [incredible, best, garlic, bread, ever, made, ...  "
      ]
     },
     "execution_count": 24,
     "metadata": {},
     "output_type": "execute_result"
    }
   ],
   "source": [
    "df_reviews2.head()"
   ]
  },
  {
   "cell_type": "code",
   "execution_count": 25,
   "metadata": {},
   "outputs": [
    {
     "name": "stdout",
     "output_type": "stream",
     "text": [
      "after being w o power all day  it came back on right before bedtime  i quickly threw all the fresh vegetables  raw chicken  broth and bouillon into the crock pot  so i could cook it overnight for the next day s lunch  the next morning  i added the tomatoes and beans and turned the crock pot down to  warm   everything cooked up nice and tender  i really don t think you need to precook the chicken  it literally fell apart it was so tender  i skipped the butter and tabasco sauce since i didn t need the fat  and i don t care for too much heat \n",
      "['w', 'power', 'day', 'came', 'back', 'right', 'bedtime', 'quickly', 'threw', 'fresh', 'vegetable', 'raw', 'chicken', 'broth', 'bouillon', 'crock', 'pot', 'could', 'cook', 'overnight', 'next', 'day', 'lunch', 'next', 'morning', 'added', 'tomato', 'bean', 'turned', 'crock', 'pot', 'warm', 'everything', 'cooked', 'nice', 'tender', 'really', 'think', 'need', 'precook', 'chicken', 'literally', 'fell', 'apart', 'tender', 'skipped', 'butter', 'tabasco', 'sauce', 'since', 'need', 'fat', 'care', 'much', 'heat', '']\n",
      "\n",
      "after being w o power all day  it came back on right before bedtime  i quickly threw all the fresh vegetables  raw chicken  broth and bouillon into the crock pot  so i could cook it overnight for the next day s lunch  the next morning  i added the tomatoes and beans and turned the crock pot down to  warm   everything cooked up nice and tender  i really don t think you need to precook the chicken  it literally fell apart it was so tender  i skipped the butter and tabasco sauce since i didn t need the fat  and i don t care for too much heat \n",
      "['w', 'power', 'day', 'came', 'back', 'right', 'bedtim', 'quickli', 'threw', 'fresh', 'veget', 'raw', 'chicken', 'broth', 'bouillon', 'crock', 'pot', 'could', 'cook', 'overnight', 'next', 'day', 'lunch', 'next', 'morn', 'ad', 'tomato', 'bean', 'turn', 'crock', 'pot', 'warm', 'everyth', 'cook', 'nice', 'tender', 'realli', 'think', 'need', 'precook', 'chicken', 'liter', 'fell', 'apart', 'tender', 'skip', 'butter', 'tabasco', 'sauc', 'sinc', 'need', 'fat', 'care', 'much', 'heat', '']\n"
     ]
    }
   ],
   "source": [
    "#//// Sanity check of differneces between lemmatizing and stemming\n",
    "print(df_reviews2['review'][0])\n",
    "print(clean_lemma(df_reviews2['review'][0]))\n",
    "print()\n",
    "print(df_reviews2['review'][0])\n",
    "print(clean_stem(df_reviews2['review'][0]))"
   ]
  },
  {
   "cell_type": "code",
   "execution_count": 26,
   "metadata": {},
   "outputs": [
    {
     "data": {
      "text/html": [
       "<div>\n",
       "<style scoped>\n",
       "    .dataframe tbody tr th:only-of-type {\n",
       "        vertical-align: middle;\n",
       "    }\n",
       "\n",
       "    .dataframe tbody tr th {\n",
       "        vertical-align: top;\n",
       "    }\n",
       "\n",
       "    .dataframe thead th {\n",
       "        text-align: right;\n",
       "    }\n",
       "</style>\n",
       "<table border=\"1\" class=\"dataframe\">\n",
       "  <thead>\n",
       "    <tr style=\"text-align: right;\">\n",
       "      <th></th>\n",
       "      <th>user_id</th>\n",
       "      <th>community</th>\n",
       "      <th>recipe_id</th>\n",
       "      <th>date</th>\n",
       "      <th>rating</th>\n",
       "      <th>review</th>\n",
       "      <th>name</th>\n",
       "      <th>minutes</th>\n",
       "      <th>ingredients</th>\n",
       "      <th>n_ingredients</th>\n",
       "      <th>ingredient_ids</th>\n",
       "      <th>review_tokens</th>\n",
       "      <th>score</th>\n",
       "      <th>sentiment</th>\n",
       "    </tr>\n",
       "  </thead>\n",
       "  <tbody>\n",
       "    <tr>\n",
       "      <th>0</th>\n",
       "      <td>1535</td>\n",
       "      <td>3.0</td>\n",
       "      <td>349022</td>\n",
       "      <td>2010-02-11</td>\n",
       "      <td>4</td>\n",
       "      <td>after being w o power all day  it came back on...</td>\n",
       "      <td>slow cooker chicken  tomato and white bean soup</td>\n",
       "      <td>495.0</td>\n",
       "      <td>[onion, celery ribs, carrots, garlic, salt, bl...</td>\n",
       "      <td>14.0</td>\n",
       "      <td>[5010, 1130, 1093, 3184, 6270, 590, 1708, 840,...</td>\n",
       "      <td>[w, power, day, came, back, right, bedtime, qu...</td>\n",
       "      <td>0.8481</td>\n",
       "      <td>Positive</td>\n",
       "    </tr>\n",
       "    <tr>\n",
       "      <th>1</th>\n",
       "      <td>1535</td>\n",
       "      <td>3.0</td>\n",
       "      <td>50022</td>\n",
       "      <td>2004-09-09</td>\n",
       "      <td>5</td>\n",
       "      <td>this is an excellent recipe  even my not a big...</td>\n",
       "      <td>the best banana bread</td>\n",
       "      <td>85.0</td>\n",
       "      <td>[butter, sugar, bananas, eggs, vanilla, baking...</td>\n",
       "      <td>10.0</td>\n",
       "      <td>[840, 6906, 342, 2499, 7449, 335, 2683, 6270, ...</td>\n",
       "      <td>[excellent, recipe, even, big, fan, banana, br...</td>\n",
       "      <td>0.9707</td>\n",
       "      <td>Positive</td>\n",
       "    </tr>\n",
       "    <tr>\n",
       "      <th>2</th>\n",
       "      <td>1535</td>\n",
       "      <td>3.0</td>\n",
       "      <td>47474</td>\n",
       "      <td>2004-08-04</td>\n",
       "      <td>5</td>\n",
       "      <td>love them   a quick   easy recipe with ingredi...</td>\n",
       "      <td>lemon cooler cookies</td>\n",
       "      <td>33.0</td>\n",
       "      <td>[powdered sugar, sugar, shortening, egg, vanil...</td>\n",
       "      <td>10.0</td>\n",
       "      <td>[5695, 6906, 6473, 2499, 7449, 6270, 911, 332,...</td>\n",
       "      <td>[love, quick, easy, recipe, ingredient, always...</td>\n",
       "      <td>0.6486</td>\n",
       "      <td>Positive</td>\n",
       "    </tr>\n",
       "    <tr>\n",
       "      <th>3</th>\n",
       "      <td>1535</td>\n",
       "      <td>3.0</td>\n",
       "      <td>230720</td>\n",
       "      <td>2007-07-02</td>\n",
       "      <td>5</td>\n",
       "      <td>i was a little afraid this might not work very...</td>\n",
       "      <td>red  white  and  blue jello flag</td>\n",
       "      <td>260.0</td>\n",
       "      <td>[boiling water, berry blue gelatin mix, gelati...</td>\n",
       "      <td>6.0</td>\n",
       "      <td>[673, 525, 3234, 1645, 4249, 1792]</td>\n",
       "      <td>[little, afraid, might, work, well, turned, lo...</td>\n",
       "      <td>0.9722</td>\n",
       "      <td>Positive</td>\n",
       "    </tr>\n",
       "    <tr>\n",
       "      <th>4</th>\n",
       "      <td>1535</td>\n",
       "      <td>3.0</td>\n",
       "      <td>87461</td>\n",
       "      <td>2004-10-26</td>\n",
       "      <td>5</td>\n",
       "      <td>this was incredible   it is the best garlic br...</td>\n",
       "      <td>my own garlic bread</td>\n",
       "      <td>30.0</td>\n",
       "      <td>[french bread, margarine, mayonnaise, garlic s...</td>\n",
       "      <td>5.0</td>\n",
       "      <td>[2718, 4574, 4623, 3219, 5180]</td>\n",
       "      <td>[incredible, best, garlic, bread, ever, made, ...</td>\n",
       "      <td>0.8860</td>\n",
       "      <td>Positive</td>\n",
       "    </tr>\n",
       "  </tbody>\n",
       "</table>\n",
       "</div>"
      ],
      "text/plain": [
       "   user_id  community  recipe_id        date  rating  \\\n",
       "0     1535        3.0     349022  2010-02-11       4   \n",
       "1     1535        3.0      50022  2004-09-09       5   \n",
       "2     1535        3.0      47474  2004-08-04       5   \n",
       "3     1535        3.0     230720  2007-07-02       5   \n",
       "4     1535        3.0      87461  2004-10-26       5   \n",
       "\n",
       "                                              review  \\\n",
       "0  after being w o power all day  it came back on...   \n",
       "1  this is an excellent recipe  even my not a big...   \n",
       "2  love them   a quick   easy recipe with ingredi...   \n",
       "3  i was a little afraid this might not work very...   \n",
       "4  this was incredible   it is the best garlic br...   \n",
       "\n",
       "                                              name  minutes  \\\n",
       "0  slow cooker chicken  tomato and white bean soup    495.0   \n",
       "1                            the best banana bread     85.0   \n",
       "2                             lemon cooler cookies     33.0   \n",
       "3                 red  white  and  blue jello flag    260.0   \n",
       "4                              my own garlic bread     30.0   \n",
       "\n",
       "                                         ingredients  n_ingredients  \\\n",
       "0  [onion, celery ribs, carrots, garlic, salt, bl...           14.0   \n",
       "1  [butter, sugar, bananas, eggs, vanilla, baking...           10.0   \n",
       "2  [powdered sugar, sugar, shortening, egg, vanil...           10.0   \n",
       "3  [boiling water, berry blue gelatin mix, gelati...            6.0   \n",
       "4  [french bread, margarine, mayonnaise, garlic s...            5.0   \n",
       "\n",
       "                                      ingredient_ids  \\\n",
       "0  [5010, 1130, 1093, 3184, 6270, 590, 1708, 840,...   \n",
       "1  [840, 6906, 342, 2499, 7449, 335, 2683, 6270, ...   \n",
       "2  [5695, 6906, 6473, 2499, 7449, 6270, 911, 332,...   \n",
       "3                 [673, 525, 3234, 1645, 4249, 1792]   \n",
       "4                     [2718, 4574, 4623, 3219, 5180]   \n",
       "\n",
       "                                       review_tokens   score sentiment  \n",
       "0  [w, power, day, came, back, right, bedtime, qu...  0.8481  Positive  \n",
       "1  [excellent, recipe, even, big, fan, banana, br...  0.9707  Positive  \n",
       "2  [love, quick, easy, recipe, ingredient, always...  0.6486  Positive  \n",
       "3  [little, afraid, might, work, well, turned, lo...  0.9722  Positive  \n",
       "4  [incredible, best, garlic, bread, ever, made, ...  0.8860  Positive  "
      ]
     },
     "execution_count": 26,
     "metadata": {},
     "output_type": "execute_result"
    }
   ],
   "source": [
    "sid = SentimentIntensityAnalyzer()\n",
    "\n",
    "\n",
    "# Sentiment compound value of reviews\n",
    "def sentiment(x):\n",
    "    score = sid.polarity_scores(x)\n",
    "    return score['compound']\n",
    "\n",
    "\n",
    "#  Add Positive y Negative tag \n",
    "def cls(x):\n",
    "    list1=[]\n",
    "    for i in x[\"score\"]:\n",
    "        if i>0:\n",
    "            list1.append(\"Positive\")\n",
    "        elif i==0:\n",
    "            list1.append(\"Neutral\")\n",
    "        else:\n",
    "            list1.append(\"Negative\")\n",
    "    x[\"sentiment\"]=list1\n",
    "\n",
    "\n",
    "\n",
    "df_reviews2['score']= df_reviews2['review'].apply(lambda x : sentiment(x)) #score\n",
    "cls(df_reviews2) # tag (for plotting)\n",
    "df_reviews2.head() \n"
   ]
  },
  {
   "cell_type": "code",
   "execution_count": 27,
   "metadata": {},
   "outputs": [
    {
     "data": {
      "application/vnd.plotly.v1+json": {
       "config": {
        "plotlyServerURL": "https://plot.ly"
       },
       "data": [
        {
         "hole": 0.4,
         "labels": [
          "Positive Comments",
          "Negative Comments",
          "Neutral Comments"
         ],
         "type": "pie",
         "values": [
          117514,
          3410,
          2744
         ]
        }
       ],
       "layout": {
        "template": {
         "data": {
          "bar": [
           {
            "error_x": {
             "color": "#2a3f5f"
            },
            "error_y": {
             "color": "#2a3f5f"
            },
            "marker": {
             "line": {
              "color": "#E5ECF6",
              "width": 0.5
             },
             "pattern": {
              "fillmode": "overlay",
              "size": 10,
              "solidity": 0.2
             }
            },
            "type": "bar"
           }
          ],
          "barpolar": [
           {
            "marker": {
             "line": {
              "color": "#E5ECF6",
              "width": 0.5
             },
             "pattern": {
              "fillmode": "overlay",
              "size": 10,
              "solidity": 0.2
             }
            },
            "type": "barpolar"
           }
          ],
          "carpet": [
           {
            "aaxis": {
             "endlinecolor": "#2a3f5f",
             "gridcolor": "white",
             "linecolor": "white",
             "minorgridcolor": "white",
             "startlinecolor": "#2a3f5f"
            },
            "baxis": {
             "endlinecolor": "#2a3f5f",
             "gridcolor": "white",
             "linecolor": "white",
             "minorgridcolor": "white",
             "startlinecolor": "#2a3f5f"
            },
            "type": "carpet"
           }
          ],
          "choropleth": [
           {
            "colorbar": {
             "outlinewidth": 0,
             "ticks": ""
            },
            "type": "choropleth"
           }
          ],
          "contour": [
           {
            "colorbar": {
             "outlinewidth": 0,
             "ticks": ""
            },
            "colorscale": [
             [
              0,
              "#0d0887"
             ],
             [
              0.1111111111111111,
              "#46039f"
             ],
             [
              0.2222222222222222,
              "#7201a8"
             ],
             [
              0.3333333333333333,
              "#9c179e"
             ],
             [
              0.4444444444444444,
              "#bd3786"
             ],
             [
              0.5555555555555556,
              "#d8576b"
             ],
             [
              0.6666666666666666,
              "#ed7953"
             ],
             [
              0.7777777777777778,
              "#fb9f3a"
             ],
             [
              0.8888888888888888,
              "#fdca26"
             ],
             [
              1,
              "#f0f921"
             ]
            ],
            "type": "contour"
           }
          ],
          "contourcarpet": [
           {
            "colorbar": {
             "outlinewidth": 0,
             "ticks": ""
            },
            "type": "contourcarpet"
           }
          ],
          "heatmap": [
           {
            "colorbar": {
             "outlinewidth": 0,
             "ticks": ""
            },
            "colorscale": [
             [
              0,
              "#0d0887"
             ],
             [
              0.1111111111111111,
              "#46039f"
             ],
             [
              0.2222222222222222,
              "#7201a8"
             ],
             [
              0.3333333333333333,
              "#9c179e"
             ],
             [
              0.4444444444444444,
              "#bd3786"
             ],
             [
              0.5555555555555556,
              "#d8576b"
             ],
             [
              0.6666666666666666,
              "#ed7953"
             ],
             [
              0.7777777777777778,
              "#fb9f3a"
             ],
             [
              0.8888888888888888,
              "#fdca26"
             ],
             [
              1,
              "#f0f921"
             ]
            ],
            "type": "heatmap"
           }
          ],
          "heatmapgl": [
           {
            "colorbar": {
             "outlinewidth": 0,
             "ticks": ""
            },
            "colorscale": [
             [
              0,
              "#0d0887"
             ],
             [
              0.1111111111111111,
              "#46039f"
             ],
             [
              0.2222222222222222,
              "#7201a8"
             ],
             [
              0.3333333333333333,
              "#9c179e"
             ],
             [
              0.4444444444444444,
              "#bd3786"
             ],
             [
              0.5555555555555556,
              "#d8576b"
             ],
             [
              0.6666666666666666,
              "#ed7953"
             ],
             [
              0.7777777777777778,
              "#fb9f3a"
             ],
             [
              0.8888888888888888,
              "#fdca26"
             ],
             [
              1,
              "#f0f921"
             ]
            ],
            "type": "heatmapgl"
           }
          ],
          "histogram": [
           {
            "marker": {
             "pattern": {
              "fillmode": "overlay",
              "size": 10,
              "solidity": 0.2
             }
            },
            "type": "histogram"
           }
          ],
          "histogram2d": [
           {
            "colorbar": {
             "outlinewidth": 0,
             "ticks": ""
            },
            "colorscale": [
             [
              0,
              "#0d0887"
             ],
             [
              0.1111111111111111,
              "#46039f"
             ],
             [
              0.2222222222222222,
              "#7201a8"
             ],
             [
              0.3333333333333333,
              "#9c179e"
             ],
             [
              0.4444444444444444,
              "#bd3786"
             ],
             [
              0.5555555555555556,
              "#d8576b"
             ],
             [
              0.6666666666666666,
              "#ed7953"
             ],
             [
              0.7777777777777778,
              "#fb9f3a"
             ],
             [
              0.8888888888888888,
              "#fdca26"
             ],
             [
              1,
              "#f0f921"
             ]
            ],
            "type": "histogram2d"
           }
          ],
          "histogram2dcontour": [
           {
            "colorbar": {
             "outlinewidth": 0,
             "ticks": ""
            },
            "colorscale": [
             [
              0,
              "#0d0887"
             ],
             [
              0.1111111111111111,
              "#46039f"
             ],
             [
              0.2222222222222222,
              "#7201a8"
             ],
             [
              0.3333333333333333,
              "#9c179e"
             ],
             [
              0.4444444444444444,
              "#bd3786"
             ],
             [
              0.5555555555555556,
              "#d8576b"
             ],
             [
              0.6666666666666666,
              "#ed7953"
             ],
             [
              0.7777777777777778,
              "#fb9f3a"
             ],
             [
              0.8888888888888888,
              "#fdca26"
             ],
             [
              1,
              "#f0f921"
             ]
            ],
            "type": "histogram2dcontour"
           }
          ],
          "mesh3d": [
           {
            "colorbar": {
             "outlinewidth": 0,
             "ticks": ""
            },
            "type": "mesh3d"
           }
          ],
          "parcoords": [
           {
            "line": {
             "colorbar": {
              "outlinewidth": 0,
              "ticks": ""
             }
            },
            "type": "parcoords"
           }
          ],
          "pie": [
           {
            "automargin": true,
            "type": "pie"
           }
          ],
          "scatter": [
           {
            "marker": {
             "colorbar": {
              "outlinewidth": 0,
              "ticks": ""
             }
            },
            "type": "scatter"
           }
          ],
          "scatter3d": [
           {
            "line": {
             "colorbar": {
              "outlinewidth": 0,
              "ticks": ""
             }
            },
            "marker": {
             "colorbar": {
              "outlinewidth": 0,
              "ticks": ""
             }
            },
            "type": "scatter3d"
           }
          ],
          "scattercarpet": [
           {
            "marker": {
             "colorbar": {
              "outlinewidth": 0,
              "ticks": ""
             }
            },
            "type": "scattercarpet"
           }
          ],
          "scattergeo": [
           {
            "marker": {
             "colorbar": {
              "outlinewidth": 0,
              "ticks": ""
             }
            },
            "type": "scattergeo"
           }
          ],
          "scattergl": [
           {
            "marker": {
             "colorbar": {
              "outlinewidth": 0,
              "ticks": ""
             }
            },
            "type": "scattergl"
           }
          ],
          "scattermapbox": [
           {
            "marker": {
             "colorbar": {
              "outlinewidth": 0,
              "ticks": ""
             }
            },
            "type": "scattermapbox"
           }
          ],
          "scatterpolar": [
           {
            "marker": {
             "colorbar": {
              "outlinewidth": 0,
              "ticks": ""
             }
            },
            "type": "scatterpolar"
           }
          ],
          "scatterpolargl": [
           {
            "marker": {
             "colorbar": {
              "outlinewidth": 0,
              "ticks": ""
             }
            },
            "type": "scatterpolargl"
           }
          ],
          "scatterternary": [
           {
            "marker": {
             "colorbar": {
              "outlinewidth": 0,
              "ticks": ""
             }
            },
            "type": "scatterternary"
           }
          ],
          "surface": [
           {
            "colorbar": {
             "outlinewidth": 0,
             "ticks": ""
            },
            "colorscale": [
             [
              0,
              "#0d0887"
             ],
             [
              0.1111111111111111,
              "#46039f"
             ],
             [
              0.2222222222222222,
              "#7201a8"
             ],
             [
              0.3333333333333333,
              "#9c179e"
             ],
             [
              0.4444444444444444,
              "#bd3786"
             ],
             [
              0.5555555555555556,
              "#d8576b"
             ],
             [
              0.6666666666666666,
              "#ed7953"
             ],
             [
              0.7777777777777778,
              "#fb9f3a"
             ],
             [
              0.8888888888888888,
              "#fdca26"
             ],
             [
              1,
              "#f0f921"
             ]
            ],
            "type": "surface"
           }
          ],
          "table": [
           {
            "cells": {
             "fill": {
              "color": "#EBF0F8"
             },
             "line": {
              "color": "white"
             }
            },
            "header": {
             "fill": {
              "color": "#C8D4E3"
             },
             "line": {
              "color": "white"
             }
            },
            "type": "table"
           }
          ]
         },
         "layout": {
          "annotationdefaults": {
           "arrowcolor": "#2a3f5f",
           "arrowhead": 0,
           "arrowwidth": 1
          },
          "autotypenumbers": "strict",
          "coloraxis": {
           "colorbar": {
            "outlinewidth": 0,
            "ticks": ""
           }
          },
          "colorscale": {
           "diverging": [
            [
             0,
             "#8e0152"
            ],
            [
             0.1,
             "#c51b7d"
            ],
            [
             0.2,
             "#de77ae"
            ],
            [
             0.3,
             "#f1b6da"
            ],
            [
             0.4,
             "#fde0ef"
            ],
            [
             0.5,
             "#f7f7f7"
            ],
            [
             0.6,
             "#e6f5d0"
            ],
            [
             0.7,
             "#b8e186"
            ],
            [
             0.8,
             "#7fbc41"
            ],
            [
             0.9,
             "#4d9221"
            ],
            [
             1,
             "#276419"
            ]
           ],
           "sequential": [
            [
             0,
             "#0d0887"
            ],
            [
             0.1111111111111111,
             "#46039f"
            ],
            [
             0.2222222222222222,
             "#7201a8"
            ],
            [
             0.3333333333333333,
             "#9c179e"
            ],
            [
             0.4444444444444444,
             "#bd3786"
            ],
            [
             0.5555555555555556,
             "#d8576b"
            ],
            [
             0.6666666666666666,
             "#ed7953"
            ],
            [
             0.7777777777777778,
             "#fb9f3a"
            ],
            [
             0.8888888888888888,
             "#fdca26"
            ],
            [
             1,
             "#f0f921"
            ]
           ],
           "sequentialminus": [
            [
             0,
             "#0d0887"
            ],
            [
             0.1111111111111111,
             "#46039f"
            ],
            [
             0.2222222222222222,
             "#7201a8"
            ],
            [
             0.3333333333333333,
             "#9c179e"
            ],
            [
             0.4444444444444444,
             "#bd3786"
            ],
            [
             0.5555555555555556,
             "#d8576b"
            ],
            [
             0.6666666666666666,
             "#ed7953"
            ],
            [
             0.7777777777777778,
             "#fb9f3a"
            ],
            [
             0.8888888888888888,
             "#fdca26"
            ],
            [
             1,
             "#f0f921"
            ]
           ]
          },
          "colorway": [
           "#636efa",
           "#EF553B",
           "#00cc96",
           "#ab63fa",
           "#FFA15A",
           "#19d3f3",
           "#FF6692",
           "#B6E880",
           "#FF97FF",
           "#FECB52"
          ],
          "font": {
           "color": "#2a3f5f"
          },
          "geo": {
           "bgcolor": "white",
           "lakecolor": "white",
           "landcolor": "#E5ECF6",
           "showlakes": true,
           "showland": true,
           "subunitcolor": "white"
          },
          "hoverlabel": {
           "align": "left"
          },
          "hovermode": "closest",
          "mapbox": {
           "style": "light"
          },
          "paper_bgcolor": "white",
          "plot_bgcolor": "#E5ECF6",
          "polar": {
           "angularaxis": {
            "gridcolor": "white",
            "linecolor": "white",
            "ticks": ""
           },
           "bgcolor": "#E5ECF6",
           "radialaxis": {
            "gridcolor": "white",
            "linecolor": "white",
            "ticks": ""
           }
          },
          "scene": {
           "xaxis": {
            "backgroundcolor": "#E5ECF6",
            "gridcolor": "white",
            "gridwidth": 2,
            "linecolor": "white",
            "showbackground": true,
            "ticks": "",
            "zerolinecolor": "white"
           },
           "yaxis": {
            "backgroundcolor": "#E5ECF6",
            "gridcolor": "white",
            "gridwidth": 2,
            "linecolor": "white",
            "showbackground": true,
            "ticks": "",
            "zerolinecolor": "white"
           },
           "zaxis": {
            "backgroundcolor": "#E5ECF6",
            "gridcolor": "white",
            "gridwidth": 2,
            "linecolor": "white",
            "showbackground": true,
            "ticks": "",
            "zerolinecolor": "white"
           }
          },
          "shapedefaults": {
           "line": {
            "color": "#2a3f5f"
           }
          },
          "ternary": {
           "aaxis": {
            "gridcolor": "white",
            "linecolor": "white",
            "ticks": ""
           },
           "baxis": {
            "gridcolor": "white",
            "linecolor": "white",
            "ticks": ""
           },
           "bgcolor": "#E5ECF6",
           "caxis": {
            "gridcolor": "white",
            "linecolor": "white",
            "ticks": ""
           }
          },
          "title": {
           "x": 0.05
          },
          "xaxis": {
           "automargin": true,
           "gridcolor": "white",
           "linecolor": "white",
           "ticks": "",
           "title": {
            "standoff": 15
           },
           "zerolinecolor": "white",
           "zerolinewidth": 2
          },
          "yaxis": {
           "automargin": true,
           "gridcolor": "white",
           "linecolor": "white",
           "ticks": "",
           "title": {
            "standoff": 15
           },
           "zerolinecolor": "white",
           "zerolinewidth": 2
          }
         }
        }
       }
      }
     },
     "metadata": {},
     "output_type": "display_data"
    }
   ],
   "source": [
    "import plotly as ply\n",
    "import plotly.graph_objs as go\n",
    "\n",
    "Mno=df_reviews2[df_reviews2.sentiment==\"Positive\"][\"score\"].count()\n",
    "Fno=df_reviews2[df_reviews2.sentiment==\"Negative\"][\"score\"].count()\n",
    "Nno=df_reviews2[df_reviews2.sentiment==\"Neutral\"][\"score\"].count()\n",
    "labels = [\"Positive Comments\",\"Negative Comments\",\"Neutral Comments\"]\n",
    "values = [Mno,Fno,Nno]\n",
    "fig = go.Figure(data=[go.Pie(labels=labels, values=values,hole=0.4)])\n",
    "fig.show()"
   ]
  },
  {
   "cell_type": "code",
   "execution_count": 28,
   "metadata": {},
   "outputs": [
    {
     "data": {
      "text/html": [
       "<div>\n",
       "<style scoped>\n",
       "    .dataframe tbody tr th:only-of-type {\n",
       "        vertical-align: middle;\n",
       "    }\n",
       "\n",
       "    .dataframe tbody tr th {\n",
       "        vertical-align: top;\n",
       "    }\n",
       "\n",
       "    .dataframe thead th {\n",
       "        text-align: right;\n",
       "    }\n",
       "</style>\n",
       "<table border=\"1\" class=\"dataframe\">\n",
       "  <thead>\n",
       "    <tr style=\"text-align: right;\">\n",
       "      <th></th>\n",
       "      <th>user_id</th>\n",
       "      <th>community</th>\n",
       "      <th>recipe_id</th>\n",
       "      <th>date</th>\n",
       "      <th>rating</th>\n",
       "      <th>review</th>\n",
       "      <th>name</th>\n",
       "      <th>minutes</th>\n",
       "      <th>ingredients</th>\n",
       "      <th>n_ingredients</th>\n",
       "      <th>ingredient_ids</th>\n",
       "      <th>review_tokens</th>\n",
       "      <th>score</th>\n",
       "      <th>sentiment</th>\n",
       "      <th>score_scale</th>\n",
       "      <th>score_scale2</th>\n",
       "    </tr>\n",
       "  </thead>\n",
       "  <tbody>\n",
       "    <tr>\n",
       "      <th>0</th>\n",
       "      <td>1535</td>\n",
       "      <td>3.0</td>\n",
       "      <td>349022</td>\n",
       "      <td>2010-02-11</td>\n",
       "      <td>4</td>\n",
       "      <td>after being w o power all day  it came back on...</td>\n",
       "      <td>slow cooker chicken  tomato and white bean soup</td>\n",
       "      <td>495.0</td>\n",
       "      <td>[onion, celery ribs, carrots, garlic, salt, bl...</td>\n",
       "      <td>14.0</td>\n",
       "      <td>[5010, 1130, 1093, 3184, 6270, 590, 1708, 840,...</td>\n",
       "      <td>[w, power, day, came, back, right, bedtime, qu...</td>\n",
       "      <td>0.8481</td>\n",
       "      <td>Positive</td>\n",
       "      <td>0.923671</td>\n",
       "      <td>4.618357</td>\n",
       "    </tr>\n",
       "    <tr>\n",
       "      <th>1</th>\n",
       "      <td>1535</td>\n",
       "      <td>3.0</td>\n",
       "      <td>50022</td>\n",
       "      <td>2004-09-09</td>\n",
       "      <td>5</td>\n",
       "      <td>this is an excellent recipe  even my not a big...</td>\n",
       "      <td>the best banana bread</td>\n",
       "      <td>85.0</td>\n",
       "      <td>[butter, sugar, bananas, eggs, vanilla, baking...</td>\n",
       "      <td>10.0</td>\n",
       "      <td>[840, 6906, 342, 2499, 7449, 335, 2683, 6270, ...</td>\n",
       "      <td>[excellent, recipe, even, big, fan, banana, br...</td>\n",
       "      <td>0.9707</td>\n",
       "      <td>Positive</td>\n",
       "      <td>0.985603</td>\n",
       "      <td>4.928016</td>\n",
       "    </tr>\n",
       "    <tr>\n",
       "      <th>2</th>\n",
       "      <td>1535</td>\n",
       "      <td>3.0</td>\n",
       "      <td>47474</td>\n",
       "      <td>2004-08-04</td>\n",
       "      <td>5</td>\n",
       "      <td>love them   a quick   easy recipe with ingredi...</td>\n",
       "      <td>lemon cooler cookies</td>\n",
       "      <td>33.0</td>\n",
       "      <td>[powdered sugar, sugar, shortening, egg, vanil...</td>\n",
       "      <td>10.0</td>\n",
       "      <td>[5695, 6906, 6473, 2499, 7449, 6270, 911, 332,...</td>\n",
       "      <td>[love, quick, easy, recipe, ingredient, always...</td>\n",
       "      <td>0.6486</td>\n",
       "      <td>Positive</td>\n",
       "      <td>0.822894</td>\n",
       "      <td>4.114468</td>\n",
       "    </tr>\n",
       "    <tr>\n",
       "      <th>3</th>\n",
       "      <td>1535</td>\n",
       "      <td>3.0</td>\n",
       "      <td>230720</td>\n",
       "      <td>2007-07-02</td>\n",
       "      <td>5</td>\n",
       "      <td>i was a little afraid this might not work very...</td>\n",
       "      <td>red  white  and  blue jello flag</td>\n",
       "      <td>260.0</td>\n",
       "      <td>[boiling water, berry blue gelatin mix, gelati...</td>\n",
       "      <td>6.0</td>\n",
       "      <td>[673, 525, 3234, 1645, 4249, 1792]</td>\n",
       "      <td>[little, afraid, might, work, well, turned, lo...</td>\n",
       "      <td>0.9722</td>\n",
       "      <td>Positive</td>\n",
       "      <td>0.986361</td>\n",
       "      <td>4.931804</td>\n",
       "    </tr>\n",
       "    <tr>\n",
       "      <th>4</th>\n",
       "      <td>1535</td>\n",
       "      <td>3.0</td>\n",
       "      <td>87461</td>\n",
       "      <td>2004-10-26</td>\n",
       "      <td>5</td>\n",
       "      <td>this was incredible   it is the best garlic br...</td>\n",
       "      <td>my own garlic bread</td>\n",
       "      <td>30.0</td>\n",
       "      <td>[french bread, margarine, mayonnaise, garlic s...</td>\n",
       "      <td>5.0</td>\n",
       "      <td>[2718, 4574, 4623, 3219, 5180]</td>\n",
       "      <td>[incredible, best, garlic, bread, ever, made, ...</td>\n",
       "      <td>0.8860</td>\n",
       "      <td>Positive</td>\n",
       "      <td>0.942817</td>\n",
       "      <td>4.714084</td>\n",
       "    </tr>\n",
       "    <tr>\n",
       "      <th>...</th>\n",
       "      <td>...</td>\n",
       "      <td>...</td>\n",
       "      <td>...</td>\n",
       "      <td>...</td>\n",
       "      <td>...</td>\n",
       "      <td>...</td>\n",
       "      <td>...</td>\n",
       "      <td>...</td>\n",
       "      <td>...</td>\n",
       "      <td>...</td>\n",
       "      <td>...</td>\n",
       "      <td>...</td>\n",
       "      <td>...</td>\n",
       "      <td>...</td>\n",
       "      <td>...</td>\n",
       "      <td>...</td>\n",
       "    </tr>\n",
       "    <tr>\n",
       "      <th>123663</th>\n",
       "      <td>2002371420</td>\n",
       "      <td>39.0</td>\n",
       "      <td>50245</td>\n",
       "      <td>2018-12-18</td>\n",
       "      <td>5</td>\n",
       "      <td>made this with a slight variation  added the p...</td>\n",
       "      <td>chicken francese</td>\n",
       "      <td>35.0</td>\n",
       "      <td>[boneless skinless chicken breasts, condensed ...</td>\n",
       "      <td>11.0</td>\n",
       "      <td>[1252, 1257, 7801, 4287, 2499, 5180, 2683, 320...</td>\n",
       "      <td>[made, slight, variation, added, parmesan, che...</td>\n",
       "      <td>0.0000</td>\n",
       "      <td>Neutral</td>\n",
       "      <td>0.495252</td>\n",
       "      <td>2.476258</td>\n",
       "    </tr>\n",
       "    <tr>\n",
       "      <th>123664</th>\n",
       "      <td>2002371445</td>\n",
       "      <td>5.0</td>\n",
       "      <td>2886</td>\n",
       "      <td>2018-12-19</td>\n",
       "      <td>5</td>\n",
       "      <td>i ve been using this recipe for  years and its...</td>\n",
       "      <td>best banana bread</td>\n",
       "      <td>65.0</td>\n",
       "      <td>[butter, granulated sugar, eggs, bananas, all-...</td>\n",
       "      <td>8.0</td>\n",
       "      <td>[840, 3355, 2499, 342, 63, 335, 6270, 7449]</td>\n",
       "      <td>[using, recipe, year, one, use, tried, several...</td>\n",
       "      <td>0.1779</td>\n",
       "      <td>Positive</td>\n",
       "      <td>0.585118</td>\n",
       "      <td>2.925591</td>\n",
       "    </tr>\n",
       "    <tr>\n",
       "      <th>123665</th>\n",
       "      <td>2002371627</td>\n",
       "      <td>3.0</td>\n",
       "      <td>153647</td>\n",
       "      <td>2018-12-19</td>\n",
       "      <td>0</td>\n",
       "      <td>best thing about this recipe  i didn t have to...</td>\n",
       "      <td>tortilla crusted tilapia</td>\n",
       "      <td>30.0</td>\n",
       "      <td>[tilapia fillets, corn tortillas, jalapeno pep...</td>\n",
       "      <td>9.0</td>\n",
       "      <td>[7178, 7258, 3957, 4384, 2777, 1329, 3502, 637...</td>\n",
       "      <td>[best, thing, recipe, scroll, past, rambling, ...</td>\n",
       "      <td>0.9572</td>\n",
       "      <td>Positive</td>\n",
       "      <td>0.978784</td>\n",
       "      <td>4.893918</td>\n",
       "    </tr>\n",
       "    <tr>\n",
       "      <th>123666</th>\n",
       "      <td>2002371843</td>\n",
       "      <td>60.0</td>\n",
       "      <td>516662</td>\n",
       "      <td>2018-12-19</td>\n",
       "      <td>5</td>\n",
       "      <td>this cake is incredible tasting and easy to ma...</td>\n",
       "      <td>black bean chocolate cake</td>\n",
       "      <td>65.0</td>\n",
       "      <td>[black beans, eggs, pure vanilla extract, sea ...</td>\n",
       "      <td>9.0</td>\n",
       "      <td>[553, 2499, 5767, 6352, 1609, 3723, 2485, 332,...</td>\n",
       "      <td>[cake, incredible, tasting, easy, make, froste...</td>\n",
       "      <td>0.8519</td>\n",
       "      <td>Positive</td>\n",
       "      <td>0.925591</td>\n",
       "      <td>4.627955</td>\n",
       "    </tr>\n",
       "    <tr>\n",
       "      <th>123667</th>\n",
       "      <td>2002372706</td>\n",
       "      <td>51.0</td>\n",
       "      <td>63786</td>\n",
       "      <td>2018-12-20</td>\n",
       "      <td>5</td>\n",
       "      <td>finally i found a no nonsense fajita recipe</td>\n",
       "      <td>steak  or chicken  fajitas</td>\n",
       "      <td>20.0</td>\n",
       "      <td>[top sirloin steak, olive oil, lime juice, gar...</td>\n",
       "      <td>16.0</td>\n",
       "      <td>[7253, 5006, 4384, 3203, 1329, 2007, 3794, 590...</td>\n",
       "      <td>[finally, found, nonsense, fajita, recipe]</td>\n",
       "      <td>-0.5994</td>\n",
       "      <td>Negative</td>\n",
       "      <td>0.192463</td>\n",
       "      <td>0.962316</td>\n",
       "    </tr>\n",
       "  </tbody>\n",
       "</table>\n",
       "<p>123668 rows × 16 columns</p>\n",
       "</div>"
      ],
      "text/plain": [
       "           user_id  community  recipe_id        date  rating  \\\n",
       "0             1535        3.0     349022  2010-02-11       4   \n",
       "1             1535        3.0      50022  2004-09-09       5   \n",
       "2             1535        3.0      47474  2004-08-04       5   \n",
       "3             1535        3.0     230720  2007-07-02       5   \n",
       "4             1535        3.0      87461  2004-10-26       5   \n",
       "...            ...        ...        ...         ...     ...   \n",
       "123663  2002371420       39.0      50245  2018-12-18       5   \n",
       "123664  2002371445        5.0       2886  2018-12-19       5   \n",
       "123665  2002371627        3.0     153647  2018-12-19       0   \n",
       "123666  2002371843       60.0     516662  2018-12-19       5   \n",
       "123667  2002372706       51.0      63786  2018-12-20       5   \n",
       "\n",
       "                                                   review  \\\n",
       "0       after being w o power all day  it came back on...   \n",
       "1       this is an excellent recipe  even my not a big...   \n",
       "2       love them   a quick   easy recipe with ingredi...   \n",
       "3       i was a little afraid this might not work very...   \n",
       "4       this was incredible   it is the best garlic br...   \n",
       "...                                                   ...   \n",
       "123663  made this with a slight variation  added the p...   \n",
       "123664  i ve been using this recipe for  years and its...   \n",
       "123665  best thing about this recipe  i didn t have to...   \n",
       "123666  this cake is incredible tasting and easy to ma...   \n",
       "123667        finally i found a no nonsense fajita recipe   \n",
       "\n",
       "                                                   name  minutes  \\\n",
       "0       slow cooker chicken  tomato and white bean soup    495.0   \n",
       "1                                 the best banana bread     85.0   \n",
       "2                                  lemon cooler cookies     33.0   \n",
       "3                      red  white  and  blue jello flag    260.0   \n",
       "4                                   my own garlic bread     30.0   \n",
       "...                                                 ...      ...   \n",
       "123663                                 chicken francese     35.0   \n",
       "123664                                best banana bread     65.0   \n",
       "123665                         tortilla crusted tilapia     30.0   \n",
       "123666                        black bean chocolate cake     65.0   \n",
       "123667                       steak  or chicken  fajitas     20.0   \n",
       "\n",
       "                                              ingredients  n_ingredients  \\\n",
       "0       [onion, celery ribs, carrots, garlic, salt, bl...           14.0   \n",
       "1       [butter, sugar, bananas, eggs, vanilla, baking...           10.0   \n",
       "2       [powdered sugar, sugar, shortening, egg, vanil...           10.0   \n",
       "3       [boiling water, berry blue gelatin mix, gelati...            6.0   \n",
       "4       [french bread, margarine, mayonnaise, garlic s...            5.0   \n",
       "...                                                   ...            ...   \n",
       "123663  [boneless skinless chicken breasts, condensed ...           11.0   \n",
       "123664  [butter, granulated sugar, eggs, bananas, all-...            8.0   \n",
       "123665  [tilapia fillets, corn tortillas, jalapeno pep...            9.0   \n",
       "123666  [black beans, eggs, pure vanilla extract, sea ...            9.0   \n",
       "123667  [top sirloin steak, olive oil, lime juice, gar...           16.0   \n",
       "\n",
       "                                           ingredient_ids  \\\n",
       "0       [5010, 1130, 1093, 3184, 6270, 590, 1708, 840,...   \n",
       "1       [840, 6906, 342, 2499, 7449, 335, 2683, 6270, ...   \n",
       "2       [5695, 6906, 6473, 2499, 7449, 6270, 911, 332,...   \n",
       "3                      [673, 525, 3234, 1645, 4249, 1792]   \n",
       "4                          [2718, 4574, 4623, 3219, 5180]   \n",
       "...                                                   ...   \n",
       "123663  [1252, 1257, 7801, 4287, 2499, 5180, 2683, 320...   \n",
       "123664        [840, 3355, 2499, 342, 63, 335, 6270, 7449]   \n",
       "123665  [7178, 7258, 3957, 4384, 2777, 1329, 3502, 637...   \n",
       "123666  [553, 2499, 5767, 6352, 1609, 3723, 2485, 332,...   \n",
       "123667  [7253, 5006, 4384, 3203, 1329, 2007, 3794, 590...   \n",
       "\n",
       "                                            review_tokens   score sentiment  \\\n",
       "0       [w, power, day, came, back, right, bedtime, qu...  0.8481  Positive   \n",
       "1       [excellent, recipe, even, big, fan, banana, br...  0.9707  Positive   \n",
       "2       [love, quick, easy, recipe, ingredient, always...  0.6486  Positive   \n",
       "3       [little, afraid, might, work, well, turned, lo...  0.9722  Positive   \n",
       "4       [incredible, best, garlic, bread, ever, made, ...  0.8860  Positive   \n",
       "...                                                   ...     ...       ...   \n",
       "123663  [made, slight, variation, added, parmesan, che...  0.0000   Neutral   \n",
       "123664  [using, recipe, year, one, use, tried, several...  0.1779  Positive   \n",
       "123665  [best, thing, recipe, scroll, past, rambling, ...  0.9572  Positive   \n",
       "123666  [cake, incredible, tasting, easy, make, froste...  0.8519  Positive   \n",
       "123667         [finally, found, nonsense, fajita, recipe] -0.5994  Negative   \n",
       "\n",
       "        score_scale  score_scale2  \n",
       "0          0.923671      4.618357  \n",
       "1          0.985603      4.928016  \n",
       "2          0.822894      4.114468  \n",
       "3          0.986361      4.931804  \n",
       "4          0.942817      4.714084  \n",
       "...             ...           ...  \n",
       "123663     0.495252      2.476258  \n",
       "123664     0.585118      2.925591  \n",
       "123665     0.978784      4.893918  \n",
       "123666     0.925591      4.627955  \n",
       "123667     0.192463      0.962316  \n",
       "\n",
       "[123668 rows x 16 columns]"
      ]
     },
     "execution_count": 28,
     "metadata": {},
     "output_type": "execute_result"
    }
   ],
   "source": [
    "# Rescaling the score to 0-1 and then divinding by 5 to match the range of the rating and comapre\n",
    "\n",
    "from sklearn.preprocessing import minmax_scale\n",
    "\n",
    "df_reviews2[['score_scale']] = minmax_scale(df_reviews2[['score']])\n",
    "df_reviews2[['score_scale2']] = df_reviews2[['score_scale']]*5\n",
    "df_reviews2"
   ]
  },
  {
   "cell_type": "code",
   "execution_count": 30,
   "metadata": {},
   "outputs": [
    {
     "name": "stdout",
     "output_type": "stream",
     "text": [
      "The mean of the sentiment in the reviews: 4.464267231620144\n",
      "90th percentile of the sentiment:  5.0\n",
      "10th percentile of the sentiment:  4.0\n"
     ]
    }
   ],
   "source": [
    "# Mean, 10th and 90th percentile of the sentiment\n",
    "\n",
    "mean_rev= df_reviews2['rating'].describe()['mean']\n",
    "\n",
    "print(f'The mean of the sentiment in the reviews: {mean_rev}')\n",
    "print(\"90th percentile of the sentiment: \",\n",
    "       np.percentile(df_reviews2['rating'], 90))\n",
    "\n",
    "print(\"10th percentile of the sentiment: \",\n",
    "       np.percentile(df_reviews2['rating'], 10))\n",
    "\n",
    "\n",
    "# Add the percentiles to a list for the plotting\n",
    "percentiles = [np.percentile(df_reviews2['rating'], 90), np.percentile(df_reviews2['rating'], 10)]"
   ]
  },
  {
   "cell_type": "code",
   "execution_count": 31,
   "metadata": {},
   "outputs": [
    {
     "data": {
      "image/png": "[encoded data removed]",
      "text/plain": [
       "<Figure size 720x432 with 1 Axes>"
      ]
     },
     "metadata": {
      "needs_background": "light"
     },
     "output_type": "display_data"
    }
   ],
   "source": [
    "list_sentiment = list(zip(df_reviews2['user_id'], df_reviews2['rating']))\n",
    "\n",
    "def plot_pretty_hist(list_data, percentiles, mean, plot_perct = False, title = str, color=str):\n",
    "\n",
    "    x = [val for (node, val) in list_data]\n",
    "    fig,ax = plt.subplots(figsize = (10,6))\n",
    "    cnts, values, bars = ax.hist(x, edgecolor='black', \n",
    "                                        bins=10,\n",
    "                                        color=color,\n",
    "                                        alpha = 0.2)\n",
    "\n",
    "    if plot_perct == True:\n",
    "        # Plot mean\n",
    "        ax.axvline(mean, color='black', linestyle = '-', linewidth=4) \n",
    "        # Plot percentiles and mean lines\n",
    "        quants = [[percentiles[0], 0.8, 0.90], [percentiles[1], 0.8, 0.40]]\n",
    "        for i in quants:\n",
    "            ax.axvline(i[0], alpha = i[1], ymax = i[2], linestyle = \":\", color = 'Red' ,linewidth=3)  \n",
    "\n",
    "        \n",
    "        # Labels and titles\n",
    "        ax.set_ylabel(\"Review Count\")\n",
    "        ax.set_xlabel(\"Average Sentiment\")\n",
    "        ax.set_title(f\"{title}\")\n",
    "        ax.legend(['Mean','90th percentile','10th percentile'])\n",
    "        caption = (\"Figure: Histogram of the mean average of reviews for the user interactions dataset.\\n\"\n",
    "                    \"Black line represents the mean across pages and the red dotted lines the 10th and 90th percentile respectively.\")\n",
    "        fig.text(0.02,-0.1, caption, ha='left')\n",
    "        \n",
    "        # Remove ticks and spines\n",
    "        for ax, spine in ax.spines.items():\n",
    "            spine.set_visible(True)\n",
    "        plt.show()\n",
    "        \n",
    "        \n",
    "\n",
    "    else:\n",
    "        \n",
    "        # Plot the mean\n",
    "        ax.axvline(mean, color='black', linewidth=4) \n",
    "        \n",
    "        # Labels and titles\n",
    "        ax.set_ylabel(\"Page Count\")\n",
    "        ax.set_xlabel(\"Average Sentiment\")\n",
    "        ax.set_title(f\"{title}\")\n",
    "        ax.legend(['Mean'])\n",
    "        caption = ('haha')\n",
    "        fig.text(0.02,-0.1, caption, ha='left')\n",
    "        \n",
    "        # Remove ticks and spines\n",
    "        for ax, spine in ax.spines.items():\n",
    "            spine.set_visible(True)\n",
    "        plt.show()\n",
    "\n",
    "    return None\n",
    "\n",
    "plot_pretty_hist(list_sentiment,percentiles, mean_rev, plot_perct= True, \n",
    "                 title=\"Rating score across the reviews\",\n",
    "                 color = 'darkblue')"
   ]
  },
  {
   "cell_type": "code",
   "execution_count": 21,
   "metadata": {},
   "outputs": [
    {
     "name": "stdout",
     "output_type": "stream",
     "text": [
      "The mean of the sentiment in the reviews: 4.447517539791296\n",
      "90th percentile of the sentiment:  4.938876540715297\n",
      "10th percentile of the sentiment:  3.588603758335018\n"
     ]
    }
   ],
   "source": [
    "# Mean, 10th and 90th percentile of the sentiment\n",
    "\n",
    "mean_rev= df_reviews2['score_scale2'].describe()['mean']\n",
    "\n",
    "print(f'The mean of the sentiment in the reviews: {mean_rev}')\n",
    "print(\"90th percentile of the sentiment: \",\n",
    "       np.percentile(df_reviews2['score_scale2'], 90))\n",
    "\n",
    "print(\"10th percentile of the sentiment: \",\n",
    "       np.percentile(df_reviews2['score_scale2'], 10))\n",
    "\n",
    "\n",
    "# Add the percentiles to a list for the plotting\n",
    "percentiles = [np.percentile(df_reviews2['score_scale2'], 90), np.percentile(df_reviews2['score_scale2'], 10)]"
   ]
  },
  {
   "cell_type": "code",
   "execution_count": 22,
   "metadata": {},
   "outputs": [],
   "source": [
    "list_sentiment = list(zip(df_reviews2['user_id'], df_reviews2['score_scale2']))"
   ]
  },
  {
   "cell_type": "code",
   "execution_count": 23,
   "metadata": {},
   "outputs": [],
   "source": [
    "def plot_pretty_hist(list_data, percentiles, mean, plot_perct = False, title = str, color=str):\n",
    "\n",
    "    x = [val for (node, val) in list_data]\n",
    "    fig,ax = plt.subplots(figsize = (10,6))\n",
    "    cnts, values, bars = ax.hist(x, edgecolor='black', \n",
    "                                        bins=10,\n",
    "                                        color=color,\n",
    "                                        alpha = 0.2)\n",
    "\n",
    "    if plot_perct == True:\n",
    "        # Plot mean\n",
    "        ax.axvline(mean, color='black', linestyle = '-', linewidth=4) \n",
    "        # Plot percentiles and mean lines\n",
    "        quants = [[percentiles[0], 0.8, 0.90], [percentiles[1], 0.8, 0.40]]\n",
    "        for i in quants:\n",
    "            ax.axvline(i[0], alpha = i[1], ymax = i[2], linestyle = \":\", color = 'Red' ,linewidth=3)  \n",
    "\n",
    "        \n",
    "        # Labels and titles\n",
    "        ax.set_ylabel(\"Review Count\")\n",
    "        ax.set_xlabel(\"Average Sentiment\")\n",
    "        ax.set_title(f\"{title}\")\n",
    "        ax.legend(['Mean','90th percentile','10th percentile'])\n",
    "        caption = (\"Figure: Histogram of the mean average of reviews for the user interactions dataset.\\n\"\n",
    "                    \"Black line represents the mean across pages and the red dotted lines the 10th and 90th percentile respectively.\")\n",
    "        fig.text(0.02,-0.1, caption, ha='left')\n",
    "        \n",
    "        # Remove ticks and spines\n",
    "        for ax, spine in ax.spines.items():\n",
    "            spine.set_visible(True)\n",
    "        plt.show()\n",
    "        \n",
    "        \n",
    "\n",
    "    else:\n",
    "        \n",
    "        # Plot the mean\n",
    "        ax.axvline(mean, color='black', linewidth=4) \n",
    "        \n",
    "        # Labels and titles\n",
    "        ax.set_ylabel(\"Page Count\")\n",
    "        ax.set_xlabel(\"Average Sentiment\")\n",
    "        ax.set_title(f\"{title}\")\n",
    "        ax.legend(['Mean'])\n",
    "        caption = ('haha')\n",
    "        fig.text(0.02,-0.1, caption, ha='left')\n",
    "        \n",
    "        # Remove ticks and spines\n",
    "        for ax, spine in ax.spines.items():\n",
    "            spine.set_visible(True)\n",
    "        plt.show()\n",
    "\n",
    "    return None"
   ]
  },
  {
   "cell_type": "code",
   "execution_count": 24,
   "metadata": {},
   "outputs": [
    {
     "data": {
      "image/png": "[encoded data removed]",
      "text/plain": [
       "<Figure size 720x432 with 1 Axes>"
      ]
     },
     "metadata": {
      "needs_background": "light"
     },
     "output_type": "display_data"
    }
   ],
   "source": [
    "plot_pretty_hist(list_sentiment,percentiles, mean_rev, plot_perct= True, \n",
    "                 title=\"Average Sentiment score in the reviews\",\n",
    "                 color = 'darkblue')"
   ]
  },
  {
   "cell_type": "markdown",
   "metadata": {},
   "source": [
    "> **Label permutation test to investigate the two hypotheses below**\n",
    ">* **H1: Good reviews (>4 rating) have a higher averge value for sentiment than a similarly sized set of randomly rated reviews.**\n",
    ">* **H2: Bad reviews (<4) have a lower average value for sentiment than a similarly sized set of randomly rated reviews.**\n",
    ">* **Write a short paragraph reflecting on your findings.**"
   ]
  },
  {
   "cell_type": "code",
   "execution_count": 25,
   "metadata": {},
   "outputs": [
    {
     "data": {
      "text/html": [
       "<div>\n",
       "<style scoped>\n",
       "    .dataframe tbody tr th:only-of-type {\n",
       "        vertical-align: middle;\n",
       "    }\n",
       "\n",
       "    .dataframe tbody tr th {\n",
       "        vertical-align: top;\n",
       "    }\n",
       "\n",
       "    .dataframe thead th {\n",
       "        text-align: right;\n",
       "    }\n",
       "</style>\n",
       "<table border=\"1\" class=\"dataframe\">\n",
       "  <thead>\n",
       "    <tr style=\"text-align: right;\">\n",
       "      <th></th>\n",
       "      <th>user_id</th>\n",
       "      <th>community</th>\n",
       "      <th>recipe_id</th>\n",
       "      <th>date</th>\n",
       "      <th>rating</th>\n",
       "      <th>review</th>\n",
       "      <th>name</th>\n",
       "      <th>minutes</th>\n",
       "      <th>ingredients</th>\n",
       "      <th>n_ingredients</th>\n",
       "      <th>ingredient_ids</th>\n",
       "      <th>review_tokens</th>\n",
       "      <th>score</th>\n",
       "      <th>sentiment</th>\n",
       "      <th>score_scale</th>\n",
       "      <th>score_scale2</th>\n",
       "      <th>good</th>\n",
       "      <th>bad</th>\n",
       "    </tr>\n",
       "  </thead>\n",
       "  <tbody>\n",
       "    <tr>\n",
       "      <th>0</th>\n",
       "      <td>1535</td>\n",
       "      <td>43.0</td>\n",
       "      <td>349022</td>\n",
       "      <td>2010-02-11</td>\n",
       "      <td>4</td>\n",
       "      <td>after being w o power all day  it came back on...</td>\n",
       "      <td>slow cooker chicken  tomato and white bean soup</td>\n",
       "      <td>495.0</td>\n",
       "      <td>[onion, celery ribs, carrots, garlic, salt, bl...</td>\n",
       "      <td>14.0</td>\n",
       "      <td>[5010, 1130, 1093, 3184, 6270, 590, 1708, 840,...</td>\n",
       "      <td>[w, power, day, came, back, right, bedtime, qu...</td>\n",
       "      <td>0.8481</td>\n",
       "      <td>Positive</td>\n",
       "      <td>0.923671</td>\n",
       "      <td>4.618357</td>\n",
       "      <td>1</td>\n",
       "      <td>0</td>\n",
       "    </tr>\n",
       "    <tr>\n",
       "      <th>1</th>\n",
       "      <td>1535</td>\n",
       "      <td>43.0</td>\n",
       "      <td>50022</td>\n",
       "      <td>2004-09-09</td>\n",
       "      <td>5</td>\n",
       "      <td>this is an excellent recipe  even my not a big...</td>\n",
       "      <td>the best banana bread</td>\n",
       "      <td>85.0</td>\n",
       "      <td>[butter, sugar, bananas, eggs, vanilla, baking...</td>\n",
       "      <td>10.0</td>\n",
       "      <td>[840, 6906, 342, 2499, 7449, 335, 2683, 6270, ...</td>\n",
       "      <td>[excellent, recipe, even, big, fan, banana, br...</td>\n",
       "      <td>0.9707</td>\n",
       "      <td>Positive</td>\n",
       "      <td>0.985603</td>\n",
       "      <td>4.928016</td>\n",
       "      <td>1</td>\n",
       "      <td>0</td>\n",
       "    </tr>\n",
       "    <tr>\n",
       "      <th>2</th>\n",
       "      <td>1535</td>\n",
       "      <td>43.0</td>\n",
       "      <td>47474</td>\n",
       "      <td>2004-08-04</td>\n",
       "      <td>5</td>\n",
       "      <td>love them   a quick   easy recipe with ingredi...</td>\n",
       "      <td>lemon cooler cookies</td>\n",
       "      <td>33.0</td>\n",
       "      <td>[powdered sugar, sugar, shortening, egg, vanil...</td>\n",
       "      <td>10.0</td>\n",
       "      <td>[5695, 6906, 6473, 2499, 7449, 6270, 911, 332,...</td>\n",
       "      <td>[love, quick, easy, recipe, ingredient, always...</td>\n",
       "      <td>0.6486</td>\n",
       "      <td>Positive</td>\n",
       "      <td>0.822894</td>\n",
       "      <td>4.114468</td>\n",
       "      <td>1</td>\n",
       "      <td>0</td>\n",
       "    </tr>\n",
       "    <tr>\n",
       "      <th>3</th>\n",
       "      <td>1535</td>\n",
       "      <td>43.0</td>\n",
       "      <td>230720</td>\n",
       "      <td>2007-07-02</td>\n",
       "      <td>5</td>\n",
       "      <td>i was a little afraid this might not work very...</td>\n",
       "      <td>red  white  and  blue jello flag</td>\n",
       "      <td>260.0</td>\n",
       "      <td>[boiling water, berry blue gelatin mix, gelati...</td>\n",
       "      <td>6.0</td>\n",
       "      <td>[673, 525, 3234, 1645, 4249, 1792]</td>\n",
       "      <td>[little, afraid, might, work, well, turned, lo...</td>\n",
       "      <td>0.9722</td>\n",
       "      <td>Positive</td>\n",
       "      <td>0.986361</td>\n",
       "      <td>4.931804</td>\n",
       "      <td>1</td>\n",
       "      <td>0</td>\n",
       "    </tr>\n",
       "    <tr>\n",
       "      <th>4</th>\n",
       "      <td>1535</td>\n",
       "      <td>43.0</td>\n",
       "      <td>87461</td>\n",
       "      <td>2004-10-26</td>\n",
       "      <td>5</td>\n",
       "      <td>this was incredible   it is the best garlic br...</td>\n",
       "      <td>my own garlic bread</td>\n",
       "      <td>30.0</td>\n",
       "      <td>[french bread, margarine, mayonnaise, garlic s...</td>\n",
       "      <td>5.0</td>\n",
       "      <td>[2718, 4574, 4623, 3219, 5180]</td>\n",
       "      <td>[incredible, best, garlic, bread, ever, made, ...</td>\n",
       "      <td>0.8860</td>\n",
       "      <td>Positive</td>\n",
       "      <td>0.942817</td>\n",
       "      <td>4.714084</td>\n",
       "      <td>1</td>\n",
       "      <td>0</td>\n",
       "    </tr>\n",
       "  </tbody>\n",
       "</table>\n",
       "</div>"
      ],
      "text/plain": [
       "   user_id  community  recipe_id        date  rating  \\\n",
       "0     1535       43.0     349022  2010-02-11       4   \n",
       "1     1535       43.0      50022  2004-09-09       5   \n",
       "2     1535       43.0      47474  2004-08-04       5   \n",
       "3     1535       43.0     230720  2007-07-02       5   \n",
       "4     1535       43.0      87461  2004-10-26       5   \n",
       "\n",
       "                                              review  \\\n",
       "0  after being w o power all day  it came back on...   \n",
       "1  this is an excellent recipe  even my not a big...   \n",
       "2  love them   a quick   easy recipe with ingredi...   \n",
       "3  i was a little afraid this might not work very...   \n",
       "4  this was incredible   it is the best garlic br...   \n",
       "\n",
       "                                              name  minutes  \\\n",
       "0  slow cooker chicken  tomato and white bean soup    495.0   \n",
       "1                            the best banana bread     85.0   \n",
       "2                             lemon cooler cookies     33.0   \n",
       "3                 red  white  and  blue jello flag    260.0   \n",
       "4                              my own garlic bread     30.0   \n",
       "\n",
       "                                         ingredients  n_ingredients  \\\n",
       "0  [onion, celery ribs, carrots, garlic, salt, bl...           14.0   \n",
       "1  [butter, sugar, bananas, eggs, vanilla, baking...           10.0   \n",
       "2  [powdered sugar, sugar, shortening, egg, vanil...           10.0   \n",
       "3  [boiling water, berry blue gelatin mix, gelati...            6.0   \n",
       "4  [french bread, margarine, mayonnaise, garlic s...            5.0   \n",
       "\n",
       "                                      ingredient_ids  \\\n",
       "0  [5010, 1130, 1093, 3184, 6270, 590, 1708, 840,...   \n",
       "1  [840, 6906, 342, 2499, 7449, 335, 2683, 6270, ...   \n",
       "2  [5695, 6906, 6473, 2499, 7449, 6270, 911, 332,...   \n",
       "3                 [673, 525, 3234, 1645, 4249, 1792]   \n",
       "4                     [2718, 4574, 4623, 3219, 5180]   \n",
       "\n",
       "                                       review_tokens   score sentiment  \\\n",
       "0  [w, power, day, came, back, right, bedtime, qu...  0.8481  Positive   \n",
       "1  [excellent, recipe, even, big, fan, banana, br...  0.9707  Positive   \n",
       "2  [love, quick, easy, recipe, ingredient, always...  0.6486  Positive   \n",
       "3  [little, afraid, might, work, well, turned, lo...  0.9722  Positive   \n",
       "4  [incredible, best, garlic, bread, ever, made, ...  0.8860  Positive   \n",
       "\n",
       "   score_scale  score_scale2  good  bad  \n",
       "0     0.923671      4.618357     1    0  \n",
       "1     0.985603      4.928016     1    0  \n",
       "2     0.822894      4.114468     1    0  \n",
       "3     0.986361      4.931804     1    0  \n",
       "4     0.942817      4.714084     1    0  "
      ]
     },
     "execution_count": 25,
     "metadata": {},
     "output_type": "execute_result"
    }
   ],
   "source": [
    "# We will relabel de dataset for easier permutation test analysis:\n",
    "threshold = 3.5\n",
    "df_reviews2['good'] = df_reviews2['score_scale2'].map(lambda x: 1 if x > threshold else 0)\n",
    "df_reviews2['bad'] = df_reviews2['score_scale2'].map(lambda x: 1 if x < threshold else 0 )\n",
    "df_reviews2.head()"
   ]
  },
  {
   "cell_type": "code",
   "execution_count": 26,
   "metadata": {},
   "outputs": [],
   "source": [
    "# Shuffle the good/bad attribute\n",
    "\n",
    "avg_score_shuffle_good = []\n",
    "avg_score_shuffle_bad = []\n",
    "avg_score_good = []\n",
    "avg_score_bad = []\n",
    "\n",
    "\n",
    "for _ in range(1000):\n",
    "    \n",
    "    # Create a list of shuffled good attribute and append it to the df_reviews2\n",
    "    df_reviews2['good_shuffled'] = np.random.permutation(df_reviews2['good'])\n",
    "    df_reviews2['bad_shuffled'] = np.random.permutation(df_reviews2['bad'])\n",
    "    \n",
    "    # Create a new df for every iteration on the loop \n",
    "    df_test = pd.DataFrame() \n",
    "    df_test['user_id'] = df_reviews2['user_id']       #character\n",
    "    df_test['good_true'] = df_reviews2['good']              #true labels\n",
    "    df_test['bad_true'] = df_reviews2['bad'] # true labels\n",
    "    df_test['good_shuffled'] = df_reviews2['good_shuffled'] #shuffled labels\n",
    "    df_test['bad_shuffled'] = df_reviews2['bad_shuffled']  #shuffled labels\n",
    "    df_test['score_scale2'] = df_reviews2['score_scale2']\n",
    "\n",
    "\n",
    "    # group with just characters and shuffled labels (random group)\n",
    "    shuffled_group_good = df_test[df_test['good_shuffled']== 1] # good characters\n",
    "    avg_score_shuffle_good.append(np.mean(shuffled_group_good['score_scale2'])) \n",
    "    \n",
    "    # group with just characters and shuffled labels (random group)\n",
    "    shuffled_group_bad = df_test[df_test['bad_shuffled']== 1] # bad characters\n",
    "    avg_score_shuffle_bad.append(np.mean(shuffled_group_bad['score_scale2']))\n",
    "\n",
    "# group with just characters and their true labels \n",
    "true_group_good = df_reviews2[df_reviews2['good'] == 1]\n",
    "avg_score_good = np.mean(true_group_good['score_scale2']) #it will always be the same number because of the true labels\n",
    "\n",
    "# group with just characters and their true labels \n",
    "true_group_bad = df_reviews2[df_reviews2['bad'] == 1]\n",
    "avg_score_bad = np.mean(true_group_bad['score_scale2']) #it will always be the same number because of the true labels"
   ]
  },
  {
   "cell_type": "code",
   "execution_count": 27,
   "metadata": {},
   "outputs": [],
   "source": [
    "def plot_pretty_hist_pair(shuffled_group_good, true_group_good, shuffled_group_bad, true_group_bad):\n",
    "    \n",
    "    fig, (ax1, ax2) = plt.subplots(1, 2, figsize = (20,6))\n",
    "\n",
    "\n",
    "    # H1\n",
    "    list_shuffle_good = list(zip(shuffled_group_good['user_id'], shuffled_group_good['score_scale2']))\n",
    "    x_good = [val for (node, val) in list_shuffle_good]\n",
    "    \n",
    "    cnts, values, bars = ax1.hist(x_good, edgecolor='black', \n",
    "                                     bins=20,\n",
    "                                     color='green',\n",
    "                                     alpha = 0.2)\n",
    "\n",
    "    # Mean of shuffled labels\n",
    "    ax1.axvline(mean(avg_score_shuffle_good), color='green', linewidth=2)\n",
    "    # Mean of true labels\n",
    "    ax1.axvline(avg_score_good, color='black', linewidth=2)\n",
    "\n",
    "    # Labels and titles\n",
    "    ax1.set_ylabel(\"Page Count\")\n",
    "    ax1.set_xlabel(\"Average Sentiment\")\n",
    "    ax1.set_title(\"Sentiment score in Good Reviews: True vs shuffled labels\")\n",
    "    ax1.legend(['Mean Shuffled Good Reviews','Mean True Good Reviews'])\n",
    "\n",
    "\n",
    "    \n",
    "    \n",
    "    # ----------------------------\n",
    "    \n",
    "    # H2\n",
    "    list_shuffle = list(zip(shuffled_group_bad['user_id'], shuffled_group_bad['score_scale2']))\n",
    "    x = [val for (node, val) in list_shuffle]\n",
    "    cnts, values, bars = ax2.hist(x, edgecolor='black', \n",
    "                                     bins=20,\n",
    "                                     color='red',\n",
    "                                     alpha = 0.2)\n",
    "    # Mean of shuffled labels\n",
    "    ax2.axvline(mean(avg_score_shuffle_bad), color='red', linewidth=2) \n",
    "    # Mean of true labels\n",
    "    ax2.axvline(avg_score_bad, color='black', linewidth=2) \n",
    "    \n",
    "\n",
    "    # Labels and titles\n",
    "    ax2.set_ylabel(\"Page Count\")\n",
    "    ax2.set_xlabel(\"Average Sentiment\")\n",
    "    ax2.set_title(\"Sentiment score in Bad Reviews: True vs shuffled labels\")\n",
    "    ax2.legend(['Mean Shuffled Bad Reviews','Mean True Bad Reviews'])\n",
    "\n",
    "\n",
    "    plt.show()\n",
    "\n",
    "    pass\n",
    "\n",
    "    return None"
   ]
  },
  {
   "cell_type": "code",
   "execution_count": 28,
   "metadata": {},
   "outputs": [
    {
     "data": {
      "image/png": "[encoded data removed]",
      "text/plain": [
       "<Figure size 1440x432 with 2 Axes>"
      ]
     },
     "metadata": {
      "needs_background": "light"
     },
     "output_type": "display_data"
    }
   ],
   "source": [
    "plot_pretty_hist_pair(shuffled_group_good, true_group_good, shuffled_group_bad, true_group_bad)"
   ]
  },
  {
   "cell_type": "markdown",
   "metadata": {},
   "source": [
    "> In conclusion, the average sentiment for the good reviews is lower than a random group of reviews with shuffled labels, determining which is expected as the number of good reviews and good words is higher in our dataset\n",
    "\n",
    "> The true average sentiment for the bad reviews is way lower than a random group of shuffled labels, also because of lower representation of the bad reviews. \n",
    "\n",
    "Both hypothesis are correct for the (unbalanced) good and bad reviews groups."
   ]
  },
  {
   "cell_type": "code",
   "execution_count": 29,
   "metadata": {},
   "outputs": [
    {
     "data": {
      "text/plain": [
       "1    112354\n",
       "0     11314\n",
       "Name: true_labels, dtype: int64"
      ]
     },
     "execution_count": 29,
     "metadata": {},
     "output_type": "execute_result"
    }
   ],
   "source": [
    "df_reviews2['true_labels'] = df_reviews2['score_scale2'].map(lambda x: 1 if x > threshold else 0)\n",
    "df_reviews2['true_labels'].value_counts()"
   ]
  },
  {
   "cell_type": "code",
   "execution_count": 30,
   "metadata": {},
   "outputs": [
    {
     "name": "stdout",
     "output_type": "stream",
     "text": [
      "1    11314\n",
      "0    11314\n",
      "Name: true_labels, dtype: int64\n"
     ]
    },
    {
     "data": {
      "text/html": [
       "<div>\n",
       "<style scoped>\n",
       "    .dataframe tbody tr th:only-of-type {\n",
       "        vertical-align: middle;\n",
       "    }\n",
       "\n",
       "    .dataframe tbody tr th {\n",
       "        vertical-align: top;\n",
       "    }\n",
       "\n",
       "    .dataframe thead th {\n",
       "        text-align: right;\n",
       "    }\n",
       "</style>\n",
       "<table border=\"1\" class=\"dataframe\">\n",
       "  <thead>\n",
       "    <tr style=\"text-align: right;\">\n",
       "      <th></th>\n",
       "      <th>user_id</th>\n",
       "      <th>community</th>\n",
       "      <th>recipe_id</th>\n",
       "      <th>date</th>\n",
       "      <th>rating</th>\n",
       "      <th>review</th>\n",
       "      <th>name</th>\n",
       "      <th>minutes</th>\n",
       "      <th>ingredients</th>\n",
       "      <th>n_ingredients</th>\n",
       "      <th>...</th>\n",
       "      <th>review_tokens</th>\n",
       "      <th>score</th>\n",
       "      <th>sentiment</th>\n",
       "      <th>score_scale</th>\n",
       "      <th>score_scale2</th>\n",
       "      <th>good</th>\n",
       "      <th>bad</th>\n",
       "      <th>good_shuffled</th>\n",
       "      <th>bad_shuffled</th>\n",
       "      <th>true_labels</th>\n",
       "    </tr>\n",
       "  </thead>\n",
       "  <tbody>\n",
       "    <tr>\n",
       "      <th>0</th>\n",
       "      <td>1535</td>\n",
       "      <td>43.0</td>\n",
       "      <td>349022</td>\n",
       "      <td>2010-02-11</td>\n",
       "      <td>4</td>\n",
       "      <td>after being w o power all day  it came back on...</td>\n",
       "      <td>slow cooker chicken  tomato and white bean soup</td>\n",
       "      <td>495.0</td>\n",
       "      <td>[onion, celery ribs, carrots, garlic, salt, bl...</td>\n",
       "      <td>14.0</td>\n",
       "      <td>...</td>\n",
       "      <td>[w, power, day, came, back, right, bedtime, qu...</td>\n",
       "      <td>0.8481</td>\n",
       "      <td>Positive</td>\n",
       "      <td>0.923671</td>\n",
       "      <td>4.618357</td>\n",
       "      <td>1</td>\n",
       "      <td>0</td>\n",
       "      <td>1</td>\n",
       "      <td>0</td>\n",
       "      <td>1</td>\n",
       "    </tr>\n",
       "    <tr>\n",
       "      <th>1</th>\n",
       "      <td>1535</td>\n",
       "      <td>43.0</td>\n",
       "      <td>50022</td>\n",
       "      <td>2004-09-09</td>\n",
       "      <td>5</td>\n",
       "      <td>this is an excellent recipe  even my not a big...</td>\n",
       "      <td>the best banana bread</td>\n",
       "      <td>85.0</td>\n",
       "      <td>[butter, sugar, bananas, eggs, vanilla, baking...</td>\n",
       "      <td>10.0</td>\n",
       "      <td>...</td>\n",
       "      <td>[excellent, recipe, even, big, fan, banana, br...</td>\n",
       "      <td>0.9707</td>\n",
       "      <td>Positive</td>\n",
       "      <td>0.985603</td>\n",
       "      <td>4.928016</td>\n",
       "      <td>1</td>\n",
       "      <td>0</td>\n",
       "      <td>1</td>\n",
       "      <td>0</td>\n",
       "      <td>1</td>\n",
       "    </tr>\n",
       "    <tr>\n",
       "      <th>2</th>\n",
       "      <td>1535</td>\n",
       "      <td>43.0</td>\n",
       "      <td>47474</td>\n",
       "      <td>2004-08-04</td>\n",
       "      <td>5</td>\n",
       "      <td>love them   a quick   easy recipe with ingredi...</td>\n",
       "      <td>lemon cooler cookies</td>\n",
       "      <td>33.0</td>\n",
       "      <td>[powdered sugar, sugar, shortening, egg, vanil...</td>\n",
       "      <td>10.0</td>\n",
       "      <td>...</td>\n",
       "      <td>[love, quick, easy, recipe, ingredient, always...</td>\n",
       "      <td>0.6486</td>\n",
       "      <td>Positive</td>\n",
       "      <td>0.822894</td>\n",
       "      <td>4.114468</td>\n",
       "      <td>1</td>\n",
       "      <td>0</td>\n",
       "      <td>1</td>\n",
       "      <td>1</td>\n",
       "      <td>1</td>\n",
       "    </tr>\n",
       "    <tr>\n",
       "      <th>3</th>\n",
       "      <td>1535</td>\n",
       "      <td>43.0</td>\n",
       "      <td>230720</td>\n",
       "      <td>2007-07-02</td>\n",
       "      <td>5</td>\n",
       "      <td>i was a little afraid this might not work very...</td>\n",
       "      <td>red  white  and  blue jello flag</td>\n",
       "      <td>260.0</td>\n",
       "      <td>[boiling water, berry blue gelatin mix, gelati...</td>\n",
       "      <td>6.0</td>\n",
       "      <td>...</td>\n",
       "      <td>[little, afraid, might, work, well, turned, lo...</td>\n",
       "      <td>0.9722</td>\n",
       "      <td>Positive</td>\n",
       "      <td>0.986361</td>\n",
       "      <td>4.931804</td>\n",
       "      <td>1</td>\n",
       "      <td>0</td>\n",
       "      <td>1</td>\n",
       "      <td>0</td>\n",
       "      <td>1</td>\n",
       "    </tr>\n",
       "    <tr>\n",
       "      <th>4</th>\n",
       "      <td>1535</td>\n",
       "      <td>43.0</td>\n",
       "      <td>87461</td>\n",
       "      <td>2004-10-26</td>\n",
       "      <td>5</td>\n",
       "      <td>this was incredible   it is the best garlic br...</td>\n",
       "      <td>my own garlic bread</td>\n",
       "      <td>30.0</td>\n",
       "      <td>[french bread, margarine, mayonnaise, garlic s...</td>\n",
       "      <td>5.0</td>\n",
       "      <td>...</td>\n",
       "      <td>[incredible, best, garlic, bread, ever, made, ...</td>\n",
       "      <td>0.8860</td>\n",
       "      <td>Positive</td>\n",
       "      <td>0.942817</td>\n",
       "      <td>4.714084</td>\n",
       "      <td>1</td>\n",
       "      <td>0</td>\n",
       "      <td>1</td>\n",
       "      <td>0</td>\n",
       "      <td>1</td>\n",
       "    </tr>\n",
       "  </tbody>\n",
       "</table>\n",
       "<p>5 rows × 21 columns</p>\n",
       "</div>"
      ],
      "text/plain": [
       "   user_id  community  recipe_id        date  rating  \\\n",
       "0     1535       43.0     349022  2010-02-11       4   \n",
       "1     1535       43.0      50022  2004-09-09       5   \n",
       "2     1535       43.0      47474  2004-08-04       5   \n",
       "3     1535       43.0     230720  2007-07-02       5   \n",
       "4     1535       43.0      87461  2004-10-26       5   \n",
       "\n",
       "                                              review  \\\n",
       "0  after being w o power all day  it came back on...   \n",
       "1  this is an excellent recipe  even my not a big...   \n",
       "2  love them   a quick   easy recipe with ingredi...   \n",
       "3  i was a little afraid this might not work very...   \n",
       "4  this was incredible   it is the best garlic br...   \n",
       "\n",
       "                                              name  minutes  \\\n",
       "0  slow cooker chicken  tomato and white bean soup    495.0   \n",
       "1                            the best banana bread     85.0   \n",
       "2                             lemon cooler cookies     33.0   \n",
       "3                 red  white  and  blue jello flag    260.0   \n",
       "4                              my own garlic bread     30.0   \n",
       "\n",
       "                                         ingredients  n_ingredients  ...  \\\n",
       "0  [onion, celery ribs, carrots, garlic, salt, bl...           14.0  ...   \n",
       "1  [butter, sugar, bananas, eggs, vanilla, baking...           10.0  ...   \n",
       "2  [powdered sugar, sugar, shortening, egg, vanil...           10.0  ...   \n",
       "3  [boiling water, berry blue gelatin mix, gelati...            6.0  ...   \n",
       "4  [french bread, margarine, mayonnaise, garlic s...            5.0  ...   \n",
       "\n",
       "                                       review_tokens   score  sentiment  \\\n",
       "0  [w, power, day, came, back, right, bedtime, qu...  0.8481   Positive   \n",
       "1  [excellent, recipe, even, big, fan, banana, br...  0.9707   Positive   \n",
       "2  [love, quick, easy, recipe, ingredient, always...  0.6486   Positive   \n",
       "3  [little, afraid, might, work, well, turned, lo...  0.9722   Positive   \n",
       "4  [incredible, best, garlic, bread, ever, made, ...  0.8860   Positive   \n",
       "\n",
       "  score_scale  score_scale2  good  bad  good_shuffled  bad_shuffled  \\\n",
       "0    0.923671      4.618357     1    0              1             0   \n",
       "1    0.985603      4.928016     1    0              1             0   \n",
       "2    0.822894      4.114468     1    0              1             1   \n",
       "3    0.986361      4.931804     1    0              1             0   \n",
       "4    0.942817      4.714084     1    0              1             0   \n",
       "\n",
       "   true_labels  \n",
       "0            1  \n",
       "1            1  \n",
       "2            1  \n",
       "3            1  \n",
       "4            1  \n",
       "\n",
       "[5 rows x 21 columns]"
      ]
     },
     "execution_count": 30,
     "metadata": {},
     "output_type": "execute_result"
    }
   ],
   "source": [
    "df_slice1= df_reviews2[df_reviews2['true_labels'] == 1].head(11314)\n",
    "df_slice2 = df_reviews2[df_reviews2['true_labels'] == 0]\n",
    "new_df = pd.concat([df_slice1,df_slice2])\n",
    "print(new_df['true_labels'].value_counts())\n",
    "new_df.head()"
   ]
  },
  {
   "cell_type": "code",
   "execution_count": 31,
   "metadata": {},
   "outputs": [
    {
     "data": {
      "image/png": "[encoded data removed]",
      "text/plain": [
       "<Figure size 1440x432 with 2 Axes>"
      ]
     },
     "metadata": {
      "needs_background": "light"
     },
     "output_type": "display_data"
    }
   ],
   "source": [
    "# Shuffle the good/bad attribute\n",
    "\n",
    "avg_score_shuffle_good = []\n",
    "avg_score_shuffle_bad = []\n",
    "avg_score_good = []\n",
    "avg_score_bad = []\n",
    "\n",
    "\n",
    "for _ in range(1000):\n",
    "    \n",
    "    # Create a list of shuffled good attribute and append it to the new_df\n",
    "    new_df['good_shuffled'] = np.random.permutation(new_df['good'])\n",
    "    new_df['bad_shuffled'] = np.random.permutation(new_df['bad'])\n",
    "    \n",
    "    # Create a new df for every iteration on the loop \n",
    "    df_test = pd.DataFrame() \n",
    "    df_test['user_id'] = new_df['user_id']       #character\n",
    "    df_test['good_true'] = new_df['good']              #true labels\n",
    "    df_test['bad_true'] = new_df['bad'] # true labels\n",
    "    df_test['good_shuffled'] = new_df['good_shuffled'] #shuffled labels\n",
    "    df_test['bad_shuffled'] = new_df['bad_shuffled']  #shuffled labels\n",
    "    df_test['score_scale2'] = new_df['score_scale2']\n",
    "\n",
    "\n",
    "    # group with just characters and shuffled labels (random group)\n",
    "    shuffled_group_good = df_test[df_test['good_shuffled']== 1] # good characters\n",
    "    avg_score_shuffle_good.append(np.mean(shuffled_group_good['score_scale2'])) \n",
    "    \n",
    "    # group with just characters and shuffled labels (random group)\n",
    "    shuffled_group_bad = df_test[df_test['bad_shuffled']== 1] # bad characters\n",
    "    avg_score_shuffle_bad.append(np.mean(shuffled_group_bad['score_scale2']))\n",
    "\n",
    "# group with just characters and their true labels \n",
    "true_group_good = new_df[new_df['good'] == 1]\n",
    "avg_score_good = np.mean(true_group_good['score_scale2']) #it will always be the same number because of the true labels\n",
    "\n",
    "# group with just characters and their true labels \n",
    "true_group_bad = new_df[new_df['bad'] == 1]\n",
    "avg_score_bad = np.mean(true_group_bad['score_scale2']) #it will always be the same number because of the true labels\n",
    "\n",
    "\n",
    "plot_pretty_hist_pair(shuffled_group_good, true_group_good, shuffled_group_bad, true_group_bad)"
   ]
  },
  {
   "cell_type": "markdown",
   "metadata": {},
   "source": [
    "# Visualization of wordcloud for positive and negative reviews\n",
    "- Wordclouds of the positive and negative words found in the already grouped positive and negative reviews"
   ]
  },
  {
   "cell_type": "code",
   "execution_count": 32,
   "metadata": {},
   "outputs": [],
   "source": [
    "from wordcloud import WordCloud\n",
    "import nltk\n",
    "from nltk.corpus import stopwords\n",
    "from nltk import sent_tokenize, word_tokenize\n",
    "from wordcloud import WordCloud, STOPWORDS\n",
    "\n",
    "def wc(data,bgcolor,title):\n",
    "    plt.figure(figsize = (10,10))\n",
    "    wc = WordCloud(background_color = bgcolor, max_words = 100,  max_font_size = 50)\n",
    "    wc.generate(' '.join(data))\n",
    "    plt.imshow(wc)\n",
    "    plt.axis('off')"
   ]
  },
  {
   "cell_type": "code",
   "execution_count": 35,
   "metadata": {},
   "outputs": [
    {
     "data": {
      "image/png": "[encoded data removed]",
      "text/plain": [
       "<Figure size 720x720 with 1 Axes>"
      ]
     },
     "metadata": {
      "needs_background": "light"
     },
     "output_type": "display_data"
    }
   ],
   "source": [
    "# Good reviews \n",
    "\n",
    "df_good = new_df[new_df['rating'] == 5]\n",
    "list_words  = list(df_good[\"review_tokens\"])\n",
    "flat_list = [item for sublist in list_words for item in sublist]\n",
    "wc(flat_list,'black','Common Words' )"
   ]
  },
  {
   "cell_type": "code",
   "execution_count": 40,
   "metadata": {},
   "outputs": [
    {
     "ename": "AttributeError",
     "evalue": "'set' object has no attribute 'words'",
     "output_type": "error",
     "traceback": [
      "\u001b[0;31m---------------------------------------------------------------------------\u001b[0m",
      "\u001b[0;31mAttributeError\u001b[0m                            Traceback (most recent call last)",
      "\u001b[1;32m/Users/lucialarraona/Desktop/finalproject_socialgraphs22/Notebooks/nlp_analysis.ipynb Celda 37\u001b[0m in \u001b[0;36m<cell line: 3>\u001b[0;34m()\u001b[0m\n\u001b[1;32m      <a href='vscode-notebook-cell:/Users/lucialarraona/Desktop/finalproject_socialgraphs22/Notebooks/nlp_analysis.ipynb#Y115sZmlsZQ%3D%3D?line=0'>1</a>\u001b[0m \u001b[39mfrom\u001b[39;00m \u001b[39msklearn\u001b[39;00m\u001b[39m.\u001b[39;00m\u001b[39mfeature_extraction\u001b[39;00m\u001b[39m.\u001b[39;00m\u001b[39mtext\u001b[39;00m \u001b[39mimport\u001b[39;00m TfidfVectorizer\n\u001b[0;32m----> <a href='vscode-notebook-cell:/Users/lucialarraona/Desktop/finalproject_socialgraphs22/Notebooks/nlp_analysis.ipynb#Y115sZmlsZQ%3D%3D?line=2'>3</a>\u001b[0m stopwords \u001b[39m=\u001b[39m \u001b[39mset\u001b[39m(stopwords\u001b[39m.\u001b[39;49mwords(\u001b[39m\"\u001b[39m\u001b[39menglish\u001b[39m\u001b[39m\"\u001b[39m))\n\u001b[1;32m      <a href='vscode-notebook-cell:/Users/lucialarraona/Desktop/finalproject_socialgraphs22/Notebooks/nlp_analysis.ipynb#Y115sZmlsZQ%3D%3D?line=4'>5</a>\u001b[0m vectlemm \u001b[39m=\u001b[39m TfidfVectorizer(analyzer\u001b[39m=\u001b[39mclean_lemma,sublinear_tf\u001b[39m=\u001b[39m\u001b[39mTrue\u001b[39;00m, min_df\u001b[39m=\u001b[39m\u001b[39m50\u001b[39m,ngram_range\u001b[39m=\u001b[39m(\u001b[39m1\u001b[39m, \u001b[39m2\u001b[39m), stop_words\u001b[39m=\u001b[39m\u001b[39m'\u001b[39m\u001b[39menglish\u001b[39m\u001b[39m'\u001b[39m)\n\u001b[1;32m      <a href='vscode-notebook-cell:/Users/lucialarraona/Desktop/finalproject_socialgraphs22/Notebooks/nlp_analysis.ipynb#Y115sZmlsZQ%3D%3D?line=6'>7</a>\u001b[0m textfeatures\u001b[39m=\u001b[39m vectlemm\u001b[39m.\u001b[39mfit_transform(new_df[\u001b[39m'\u001b[39m\u001b[39mreview\u001b[39m\u001b[39m'\u001b[39m])\n",
      "\u001b[0;31mAttributeError\u001b[0m: 'set' object has no attribute 'words'"
     ]
    }
   ],
   "source": [
    "from sklearn.feature_extraction.text import TfidfVectorizer\n",
    "\n",
    "stopwords = set(stopwords.words(\"english\"))\n",
    "\n",
    "vectlemm = TfidfVectorizer(analyzer=clean_lemma,sublinear_tf=True, min_df=50,ngram_range=(1, 2), stop_words='english')\n",
    "\n",
    "textfeatures= vectlemm.fit_transform(new_df['review'])"
   ]
  },
  {
   "cell_type": "code",
   "execution_count": 42,
   "metadata": {},
   "outputs": [
    {
     "name": "stdout",
     "output_type": "stream",
     "text": [
      "VOCABULARY\n"
     ]
    },
    {
     "data": {
      "text/html": [
       "<div>\n",
       "<style scoped>\n",
       "    .dataframe tbody tr th:only-of-type {\n",
       "        vertical-align: middle;\n",
       "    }\n",
       "\n",
       "    .dataframe tbody tr th {\n",
       "        vertical-align: top;\n",
       "    }\n",
       "\n",
       "    .dataframe thead th {\n",
       "        text-align: right;\n",
       "    }\n",
       "</style>\n",
       "<table border=\"1\" class=\"dataframe\">\n",
       "  <thead>\n",
       "    <tr style=\"text-align: right;\">\n",
       "      <th></th>\n",
       "      <th>w</th>\n",
       "      <th>day</th>\n",
       "      <th>came</th>\n",
       "      <th>back</th>\n",
       "      <th>right</th>\n",
       "      <th>quickly</th>\n",
       "      <th>threw</th>\n",
       "      <th>fresh</th>\n",
       "      <th>vegetable</th>\n",
       "      <th>raw</th>\n",
       "      <th>...</th>\n",
       "      <th>september</th>\n",
       "      <th>nz</th>\n",
       "      <th>weeknight</th>\n",
       "      <th>horrible</th>\n",
       "      <th>cg</th>\n",
       "      <th>na</th>\n",
       "      <th>oregon</th>\n",
       "      <th>csa</th>\n",
       "      <th>worst</th>\n",
       "      <th>prmr</th>\n",
       "    </tr>\n",
       "  </thead>\n",
       "  <tbody>\n",
       "    <tr>\n",
       "      <th>0</th>\n",
       "      <td>0.033245</td>\n",
       "      <td>0.000000</td>\n",
       "      <td>0.0</td>\n",
       "      <td>0.0</td>\n",
       "      <td>0.0</td>\n",
       "      <td>0.000000</td>\n",
       "      <td>0.083004</td>\n",
       "      <td>0.0</td>\n",
       "      <td>0.0</td>\n",
       "      <td>0.0</td>\n",
       "      <td>...</td>\n",
       "      <td>0.0</td>\n",
       "      <td>0.0</td>\n",
       "      <td>0.0</td>\n",
       "      <td>0.0</td>\n",
       "      <td>0.0</td>\n",
       "      <td>0.0</td>\n",
       "      <td>0.0</td>\n",
       "      <td>0.0</td>\n",
       "      <td>0.0</td>\n",
       "      <td>0.0</td>\n",
       "    </tr>\n",
       "    <tr>\n",
       "      <th>1</th>\n",
       "      <td>0.028398</td>\n",
       "      <td>0.000000</td>\n",
       "      <td>0.0</td>\n",
       "      <td>0.0</td>\n",
       "      <td>0.0</td>\n",
       "      <td>0.000000</td>\n",
       "      <td>0.070902</td>\n",
       "      <td>0.0</td>\n",
       "      <td>0.0</td>\n",
       "      <td>0.0</td>\n",
       "      <td>...</td>\n",
       "      <td>0.0</td>\n",
       "      <td>0.0</td>\n",
       "      <td>0.0</td>\n",
       "      <td>0.0</td>\n",
       "      <td>0.0</td>\n",
       "      <td>0.0</td>\n",
       "      <td>0.0</td>\n",
       "      <td>0.0</td>\n",
       "      <td>0.0</td>\n",
       "      <td>0.0</td>\n",
       "    </tr>\n",
       "    <tr>\n",
       "      <th>2</th>\n",
       "      <td>0.041513</td>\n",
       "      <td>0.000000</td>\n",
       "      <td>0.0</td>\n",
       "      <td>0.0</td>\n",
       "      <td>0.0</td>\n",
       "      <td>0.000000</td>\n",
       "      <td>0.000000</td>\n",
       "      <td>0.0</td>\n",
       "      <td>0.0</td>\n",
       "      <td>0.0</td>\n",
       "      <td>...</td>\n",
       "      <td>0.0</td>\n",
       "      <td>0.0</td>\n",
       "      <td>0.0</td>\n",
       "      <td>0.0</td>\n",
       "      <td>0.0</td>\n",
       "      <td>0.0</td>\n",
       "      <td>0.0</td>\n",
       "      <td>0.0</td>\n",
       "      <td>0.0</td>\n",
       "      <td>0.0</td>\n",
       "    </tr>\n",
       "    <tr>\n",
       "      <th>3</th>\n",
       "      <td>0.033684</td>\n",
       "      <td>0.166675</td>\n",
       "      <td>0.0</td>\n",
       "      <td>0.0</td>\n",
       "      <td>0.0</td>\n",
       "      <td>0.095143</td>\n",
       "      <td>0.084100</td>\n",
       "      <td>0.0</td>\n",
       "      <td>0.0</td>\n",
       "      <td>0.0</td>\n",
       "      <td>...</td>\n",
       "      <td>0.0</td>\n",
       "      <td>0.0</td>\n",
       "      <td>0.0</td>\n",
       "      <td>0.0</td>\n",
       "      <td>0.0</td>\n",
       "      <td>0.0</td>\n",
       "      <td>0.0</td>\n",
       "      <td>0.0</td>\n",
       "      <td>0.0</td>\n",
       "      <td>0.0</td>\n",
       "    </tr>\n",
       "    <tr>\n",
       "      <th>4</th>\n",
       "      <td>0.042968</td>\n",
       "      <td>0.000000</td>\n",
       "      <td>0.0</td>\n",
       "      <td>0.0</td>\n",
       "      <td>0.0</td>\n",
       "      <td>0.000000</td>\n",
       "      <td>0.000000</td>\n",
       "      <td>0.0</td>\n",
       "      <td>0.0</td>\n",
       "      <td>0.0</td>\n",
       "      <td>...</td>\n",
       "      <td>0.0</td>\n",
       "      <td>0.0</td>\n",
       "      <td>0.0</td>\n",
       "      <td>0.0</td>\n",
       "      <td>0.0</td>\n",
       "      <td>0.0</td>\n",
       "      <td>0.0</td>\n",
       "      <td>0.0</td>\n",
       "      <td>0.0</td>\n",
       "      <td>0.0</td>\n",
       "    </tr>\n",
       "  </tbody>\n",
       "</table>\n",
       "<p>5 rows × 1399 columns</p>\n",
       "</div>"
      ],
      "text/plain": [
       "          w       day  came  back  right   quickly     threw  fresh  \\\n",
       "0  0.033245  0.000000   0.0   0.0    0.0  0.000000  0.083004    0.0   \n",
       "1  0.028398  0.000000   0.0   0.0    0.0  0.000000  0.070902    0.0   \n",
       "2  0.041513  0.000000   0.0   0.0    0.0  0.000000  0.000000    0.0   \n",
       "3  0.033684  0.166675   0.0   0.0    0.0  0.095143  0.084100    0.0   \n",
       "4  0.042968  0.000000   0.0   0.0    0.0  0.000000  0.000000    0.0   \n",
       "\n",
       "   vegetable  raw  ...  september   nz  weeknight  horrible   cg   na  oregon  \\\n",
       "0        0.0  0.0  ...        0.0  0.0        0.0       0.0  0.0  0.0     0.0   \n",
       "1        0.0  0.0  ...        0.0  0.0        0.0       0.0  0.0  0.0     0.0   \n",
       "2        0.0  0.0  ...        0.0  0.0        0.0       0.0  0.0  0.0     0.0   \n",
       "3        0.0  0.0  ...        0.0  0.0        0.0       0.0  0.0  0.0     0.0   \n",
       "4        0.0  0.0  ...        0.0  0.0        0.0       0.0  0.0  0.0     0.0   \n",
       "\n",
       "   csa  worst  prmr  \n",
       "0  0.0    0.0   0.0  \n",
       "1  0.0    0.0   0.0  \n",
       "2  0.0    0.0   0.0  \n",
       "3  0.0    0.0   0.0  \n",
       "4  0.0    0.0   0.0  \n",
       "\n",
       "[5 rows x 1399 columns]"
      ]
     },
     "execution_count": 42,
     "metadata": {},
     "output_type": "execute_result"
    }
   ],
   "source": [
    "textmatrix = pd.DataFrame(textfeatures.toarray(),columns=vectlemm.vocabulary_)\n",
    "print ('VOCABULARY')\n",
    "textmatrix.head()"
   ]
  },
  {
   "cell_type": "code",
   "execution_count": 43,
   "metadata": {},
   "outputs": [
    {
     "data": {
      "text/html": [
       "<div>\n",
       "<style scoped>\n",
       "    .dataframe tbody tr th:only-of-type {\n",
       "        vertical-align: middle;\n",
       "    }\n",
       "\n",
       "    .dataframe tbody tr th {\n",
       "        vertical-align: top;\n",
       "    }\n",
       "\n",
       "    .dataframe thead th {\n",
       "        text-align: right;\n",
       "    }\n",
       "</style>\n",
       "<table border=\"1\" class=\"dataframe\">\n",
       "  <thead>\n",
       "    <tr style=\"text-align: right;\">\n",
       "      <th></th>\n",
       "      <th>sum_scores_TFIDF</th>\n",
       "    </tr>\n",
       "  </thead>\n",
       "  <tbody>\n",
       "    <tr>\n",
       "      <th>w</th>\n",
       "      <td>1327.878393</td>\n",
       "    </tr>\n",
       "    <tr>\n",
       "      <th>portion</th>\n",
       "      <td>1052.793322</td>\n",
       "    </tr>\n",
       "    <tr>\n",
       "      <th>mushroom</th>\n",
       "      <td>784.930315</td>\n",
       "    </tr>\n",
       "    <tr>\n",
       "      <th>saturday</th>\n",
       "      <td>731.083000</td>\n",
       "    </tr>\n",
       "    <tr>\n",
       "      <th>perfection</th>\n",
       "      <td>652.591699</td>\n",
       "    </tr>\n",
       "  </tbody>\n",
       "</table>\n",
       "</div>"
      ],
      "text/plain": [
       "            sum_scores_TFIDF\n",
       "w                1327.878393\n",
       "portion          1052.793322\n",
       "mushroom          784.930315\n",
       "saturday          731.083000\n",
       "perfection        652.591699"
      ]
     },
     "execution_count": 43,
     "metadata": {},
     "output_type": "execute_result"
    }
   ],
   "source": [
    "# probability sum\n",
    "sum_scores = pd.DataFrame(textmatrix.sum(),columns=['sum_scores_TFIDF'])\n",
    "\n",
    "#high usage of words in reviews\n",
    "sum_scores.sort_values(by='sum_scores_TFIDF',ascending=False)[:5]"
   ]
  },
  {
   "cell_type": "code",
   "execution_count": 44,
   "metadata": {},
   "outputs": [
    {
     "data": {
      "text/html": [
       "<div>\n",
       "<style scoped>\n",
       "    .dataframe tbody tr th:only-of-type {\n",
       "        vertical-align: middle;\n",
       "    }\n",
       "\n",
       "    .dataframe tbody tr th {\n",
       "        vertical-align: top;\n",
       "    }\n",
       "\n",
       "    .dataframe thead th {\n",
       "        text-align: right;\n",
       "    }\n",
       "</style>\n",
       "<table border=\"1\" class=\"dataframe\">\n",
       "  <thead>\n",
       "    <tr style=\"text-align: right;\">\n",
       "      <th></th>\n",
       "      <th>sum_scores_TFIDF</th>\n",
       "    </tr>\n",
       "  </thead>\n",
       "  <tbody>\n",
       "    <tr>\n",
       "      <th>light</th>\n",
       "      <td>11.930452</td>\n",
       "    </tr>\n",
       "    <tr>\n",
       "      <th>banana</th>\n",
       "      <td>11.946802</td>\n",
       "    </tr>\n",
       "    <tr>\n",
       "      <th>comment</th>\n",
       "      <td>12.167782</td>\n",
       "    </tr>\n",
       "    <tr>\n",
       "      <th>totally</th>\n",
       "      <td>12.284513</td>\n",
       "    </tr>\n",
       "    <tr>\n",
       "      <th>mexican</th>\n",
       "      <td>12.569210</td>\n",
       "    </tr>\n",
       "  </tbody>\n",
       "</table>\n",
       "</div>"
      ],
      "text/plain": [
       "         sum_scores_TFIDF\n",
       "light           11.930452\n",
       "banana          11.946802\n",
       "comment         12.167782\n",
       "totally         12.284513\n",
       "mexican         12.569210"
      ]
     },
     "execution_count": 44,
     "metadata": {},
     "output_type": "execute_result"
    }
   ],
   "source": [
    "#  words used by many people or less frequent in sentences\n",
    "x = sum_scores.sort_values(by='sum_scores_TFIDF',ascending = True)\n",
    "x.head(5)"
   ]
  },
  {
   "cell_type": "code",
   "execution_count": 34,
   "metadata": {},
   "outputs": [
    {
     "data": {
      "image/png": "[encoded data removed]",
      "text/plain": [
       "<Figure size 720x720 with 1 Axes>"
      ]
     },
     "metadata": {
      "needs_background": "light"
     },
     "output_type": "display_data"
    }
   ],
   "source": [
    "df_bad= new_df[new_df['rating'] == 0]\n",
    "list_words  = list(df_bad[\"review_tokens\"])\n",
    "flat_list = [item for sublist in list_words for item in sublist]\n",
    "wc(flat_list,'black','Common Words' )"
   ]
  },
  {
   "cell_type": "markdown",
   "metadata": {},
   "source": [
    "# Highest rated ingredients and worst rated ingredients\n",
    "- 10 most popular ingredients from highest rated reviews\n",
    "- 10 least popular ingredients from lowest rated reviews"
   ]
  },
  {
   "cell_type": "code",
   "execution_count": 70,
   "metadata": {},
   "outputs": [
    {
     "data": {
      "text/plain": [
       "[('salt', 38268),\n",
       " ('butter', 24508),\n",
       " ('sugar', 17416),\n",
       " ('onion', 15379),\n",
       " ('olive oil', 14640),\n",
       " ('eggs', 13217),\n",
       " ('water', 12812),\n",
       " ('flour', 11430),\n",
       " ('garlic cloves', 11074),\n",
       " ('milk', 10477),\n",
       " ('pepper', 9894),\n",
       " ('brown sugar', 7985),\n",
       " ('baking powder', 7194),\n",
       " ('garlic', 7157),\n",
       " ('all-purpose flour', 7128),\n",
       " ('parmesan cheese', 7015),\n",
       " ('egg', 6826),\n",
       " ('salt and pepper', 6704),\n",
       " ('baking soda', 6430),\n",
       " ('black pepper', 6357),\n",
       " ('garlic powder', 6030),\n",
       " ('vegetable oil', 5991),\n",
       " ('vanilla', 5659),\n",
       " ('lemon juice', 5541),\n",
       " ('tomatoes', 4701),\n",
       " ('cinnamon', 4467),\n",
       " ('sour cream', 4463),\n",
       " ('garlic clove', 4370),\n",
       " ('paprika', 4225),\n",
       " ('soy sauce', 4139)]"
      ]
     },
     "execution_count": 70,
     "metadata": {},
     "output_type": "execute_result"
    }
   ],
   "source": [
    "# Take 10 most popular recipes (sort daframe by rating)\n",
    "\n",
    "#top_rated = df_reviews2.sort_values(by=['rating'], ascending=False).head(10)\n",
    "top_rated = df_reviews2[df_reviews2['rating'] == 5]\n",
    "list_ing  = list(top_rated[\"ingredients\"])\n",
    "flat_list_ing = [item for sublist in list_ing for item in sublist]\n",
    "freq_ing_top_rated = nltk.FreqDist(flat_list_ing).most_common(30)\n",
    "freq_ing_top_rated"
   ]
  },
  {
   "cell_type": "code",
   "execution_count": 69,
   "metadata": {},
   "outputs": [
    {
     "data": {
      "text/plain": [
       "[('salt', 3035),\n",
       " ('butter', 1907),\n",
       " ('sugar', 1451),\n",
       " ('eggs', 1251),\n",
       " ('flour', 1172),\n",
       " ('onion', 1142),\n",
       " ('water', 1089),\n",
       " ('milk', 924),\n",
       " ('baking powder', 811),\n",
       " ('olive oil', 751),\n",
       " ('baking soda', 709),\n",
       " ('all-purpose flour', 709),\n",
       " ('vanilla', 682),\n",
       " ('egg', 650),\n",
       " ('garlic cloves', 642),\n",
       " ('pepper', 605),\n",
       " ('brown sugar', 578),\n",
       " ('garlic powder', 517),\n",
       " ('black pepper', 495),\n",
       " ('vegetable oil', 474),\n",
       " ('garlic', 455),\n",
       " ('parmesan cheese', 450),\n",
       " ('vanilla extract', 390),\n",
       " ('salt and pepper', 347),\n",
       " ('cinnamon', 338),\n",
       " ('chicken broth', 336),\n",
       " ('granulated sugar', 323),\n",
       " ('paprika', 306),\n",
       " ('bananas', 298),\n",
       " ('celery', 290)]"
      ]
     },
     "execution_count": 69,
     "metadata": {},
     "output_type": "execute_result"
    }
   ],
   "source": [
    "worst_rated = df_reviews2[df_reviews2['rating'] == 0]\n",
    "list_ing  = list(worst_rated[\"ingredients\"])\n",
    "flat_list_ing = [item for sublist in list_ing for item in sublist]\n",
    "freq_ing_worst_rated = nltk.FreqDist(flat_list_ing).most_common(30)\n",
    "freq_ing_worst_rated"
   ]
  },
  {
   "cell_type": "code",
   "execution_count": null,
   "metadata": {},
   "outputs": [],
   "source": []
  },
  {
   "cell_type": "code",
   "execution_count": null,
   "metadata": {},
   "outputs": [],
   "source": []
  },
  {
   "cell_type": "markdown",
   "metadata": {},
   "source": [
    "# Community analysis of Actual Rating vs Calculated Score\n",
    "* a) Rating vs Sentiment score by community\n",
    "* b) Rating vs Sentiment score by recipe in each community\n",
    "    - How many recipes in each community have the same score?\n",
    "* c) Rating vs Sentiment score by user in each community\n",
    "    - How many recipes have each user rated?"
   ]
  },
  {
   "cell_type": "markdown",
   "metadata": {},
   "source": [
    "### a) **Average Rating vs Sentiment score by community**"
   ]
  },
  {
   "cell_type": "code",
   "execution_count": 75,
   "metadata": {},
   "outputs": [
    {
     "data": {
      "text/html": [
       "<div>\n",
       "<style scoped>\n",
       "    .dataframe tbody tr th:only-of-type {\n",
       "        vertical-align: middle;\n",
       "    }\n",
       "\n",
       "    .dataframe tbody tr th {\n",
       "        vertical-align: top;\n",
       "    }\n",
       "\n",
       "    .dataframe thead th {\n",
       "        text-align: right;\n",
       "    }\n",
       "</style>\n",
       "<table border=\"1\" class=\"dataframe\">\n",
       "  <thead>\n",
       "    <tr style=\"text-align: right;\">\n",
       "      <th></th>\n",
       "      <th></th>\n",
       "      <th></th>\n",
       "      <th>rating</th>\n",
       "      <th>score_scale2</th>\n",
       "    </tr>\n",
       "    <tr>\n",
       "      <th>community</th>\n",
       "      <th>user_id</th>\n",
       "      <th>recipe_id</th>\n",
       "      <th></th>\n",
       "      <th></th>\n",
       "    </tr>\n",
       "  </thead>\n",
       "  <tbody>\n",
       "    <tr>\n",
       "      <th rowspan=\"5\" valign=\"top\">0.0</th>\n",
       "      <th rowspan=\"5\" valign=\"top\">57993</th>\n",
       "      <th>66947</th>\n",
       "      <td>5.0</td>\n",
       "      <td>4.083148</td>\n",
       "    </tr>\n",
       "    <tr>\n",
       "      <th>67256</th>\n",
       "      <td>5.0</td>\n",
       "      <td>4.645383</td>\n",
       "    </tr>\n",
       "    <tr>\n",
       "      <th>80353</th>\n",
       "      <td>5.0</td>\n",
       "      <td>4.575924</td>\n",
       "    </tr>\n",
       "    <tr>\n",
       "      <th>102416</th>\n",
       "      <td>4.0</td>\n",
       "      <td>4.221055</td>\n",
       "    </tr>\n",
       "    <tr>\n",
       "      <th>138691</th>\n",
       "      <td>4.0</td>\n",
       "      <td>3.293847</td>\n",
       "    </tr>\n",
       "    <tr>\n",
       "      <th>...</th>\n",
       "      <th>...</th>\n",
       "      <th>...</th>\n",
       "      <td>...</td>\n",
       "      <td>...</td>\n",
       "    </tr>\n",
       "    <tr>\n",
       "      <th rowspan=\"5\" valign=\"top\">69.0</th>\n",
       "      <th rowspan=\"2\" valign=\"top\">1803099400</th>\n",
       "      <th>293133</th>\n",
       "      <td>5.0</td>\n",
       "      <td>4.897707</td>\n",
       "    </tr>\n",
       "    <tr>\n",
       "      <th>412064</th>\n",
       "      <td>5.0</td>\n",
       "      <td>4.712063</td>\n",
       "    </tr>\n",
       "    <tr>\n",
       "      <th>2001597635</th>\n",
       "      <th>175091</th>\n",
       "      <td>5.0</td>\n",
       "      <td>4.268539</td>\n",
       "    </tr>\n",
       "    <tr>\n",
       "      <th>2001640468</th>\n",
       "      <th>175091</th>\n",
       "      <td>3.0</td>\n",
       "      <td>2.476258</td>\n",
       "    </tr>\n",
       "    <tr>\n",
       "      <th>2002274344</th>\n",
       "      <th>175091</th>\n",
       "      <td>2.0</td>\n",
       "      <td>2.476258</td>\n",
       "    </tr>\n",
       "  </tbody>\n",
       "</table>\n",
       "<p>123668 rows × 2 columns</p>\n",
       "</div>"
      ],
      "text/plain": [
       "                                rating  score_scale2\n",
       "community user_id    recipe_id                      \n",
       "0.0       57993      66947         5.0      4.083148\n",
       "                     67256         5.0      4.645383\n",
       "                     80353         5.0      4.575924\n",
       "                     102416        4.0      4.221055\n",
       "                     138691        4.0      3.293847\n",
       "...                                ...           ...\n",
       "69.0      1803099400 293133        5.0      4.897707\n",
       "                     412064        5.0      4.712063\n",
       "          2001597635 175091        5.0      4.268539\n",
       "          2001640468 175091        3.0      2.476258\n",
       "          2002274344 175091        2.0      2.476258\n",
       "\n",
       "[123668 rows x 2 columns]"
      ]
     },
     "execution_count": 75,
     "metadata": {},
     "output_type": "execute_result"
    }
   ],
   "source": [
    "df_mean_rating= pd.DataFrame(df_reviews2.groupby(by=[\"community\"])['rating','score_scale2'].mean())\n",
    "df_mean_rating"
   ]
  },
  {
   "cell_type": "code",
   "execution_count": 1,
   "metadata": {},
   "outputs": [
    {
     "ename": "NameError",
     "evalue": "name 'df_mean_rating' is not defined",
     "output_type": "error",
     "traceback": [
      "\u001b[0;31m---------------------------------------------------------------------------\u001b[0m",
      "\u001b[0;31mNameError\u001b[0m                                 Traceback (most recent call last)",
      "\u001b[1;32m/Users/lucialarraona/Desktop/finalproject_socialgraphs22/Notebooks/nlp_analysis.ipynb Celda 46\u001b[0m in \u001b[0;36m<cell line: 1>\u001b[0;34m()\u001b[0m\n\u001b[0;32m----> <a href='vscode-notebook-cell:/Users/lucialarraona/Desktop/finalproject_socialgraphs22/Notebooks/nlp_analysis.ipynb#X63sZmlsZQ%3D%3D?line=0'>1</a>\u001b[0m df_mean_rating \u001b[39m=\u001b[39m df_mean_rating\u001b[39m.\u001b[39mreset_index()\n",
      "\u001b[0;31mNameError\u001b[0m: name 'df_mean_rating' is not defined"
     ]
    }
   ],
   "source": [
    "df_mean_rating = df_mean_rating.reset_index()"
   ]
  },
  {
   "cell_type": "code",
   "execution_count": null,
   "metadata": {},
   "outputs": [],
   "source": [
    "fig = px.bar(\n",
    "    data_frame = df_mean_rating,\n",
    "    x = \"community\",\n",
    "    y = [\"rating\",\"score_scale2\"],\n",
    "    opacity = 0.9,\n",
    "    orientation = \"v\",\n",
    "    barmode = 'group',\n",
    "    color_discrete_map={'rating':'green', 'score_scale2':'orange'},\n",
    "    title='Average Rating vs Average Calculated Sentiment Score (per community)',\n",
    ")\n",
    "\n",
    "fig.update_layout(\n",
    "\n",
    "  xaxis_title= 'Community',\n",
    "yaxis_title = 'Score vs Rating',\n",
    "\n",
    ")\n"
   ]
  },
  {
   "cell_type": "markdown",
   "metadata": {},
   "source": [
    "### b) **Average Rating vs Sentiment score per recipe by community**"
   ]
  },
  {
   "cell_type": "code",
   "execution_count": 80,
   "metadata": {},
   "outputs": [
    {
     "data": {
      "text/html": [
       "<div>\n",
       "<style scoped>\n",
       "    .dataframe tbody tr th:only-of-type {\n",
       "        vertical-align: middle;\n",
       "    }\n",
       "\n",
       "    .dataframe tbody tr th {\n",
       "        vertical-align: top;\n",
       "    }\n",
       "\n",
       "    .dataframe thead th {\n",
       "        text-align: right;\n",
       "    }\n",
       "</style>\n",
       "<table border=\"1\" class=\"dataframe\">\n",
       "  <thead>\n",
       "    <tr style=\"text-align: right;\">\n",
       "      <th></th>\n",
       "      <th></th>\n",
       "      <th>rating</th>\n",
       "      <th>score_scale2</th>\n",
       "    </tr>\n",
       "    <tr>\n",
       "      <th>community</th>\n",
       "      <th>recipe_id</th>\n",
       "      <th></th>\n",
       "      <th></th>\n",
       "    </tr>\n",
       "  </thead>\n",
       "  <tbody>\n",
       "    <tr>\n",
       "      <th rowspan=\"5\" valign=\"top\">0.0</th>\n",
       "      <th>2496</th>\n",
       "      <td>5.00</td>\n",
       "      <td>4.917660</td>\n",
       "    </tr>\n",
       "    <tr>\n",
       "      <th>2886</th>\n",
       "      <td>5.00</td>\n",
       "      <td>4.769398</td>\n",
       "    </tr>\n",
       "    <tr>\n",
       "      <th>4417</th>\n",
       "      <td>0.00</td>\n",
       "      <td>4.857800</td>\n",
       "    </tr>\n",
       "    <tr>\n",
       "      <th>4892</th>\n",
       "      <td>5.00</td>\n",
       "      <td>4.931552</td>\n",
       "    </tr>\n",
       "    <tr>\n",
       "      <th>11530</th>\n",
       "      <td>5.00</td>\n",
       "      <td>4.862346</td>\n",
       "    </tr>\n",
       "    <tr>\n",
       "      <th>...</th>\n",
       "      <th>...</th>\n",
       "      <td>...</td>\n",
       "      <td>...</td>\n",
       "    </tr>\n",
       "    <tr>\n",
       "      <th rowspan=\"5\" valign=\"top\">69.0</th>\n",
       "      <th>76043</th>\n",
       "      <td>3.00</td>\n",
       "      <td>4.763336</td>\n",
       "    </tr>\n",
       "    <tr>\n",
       "      <th>138708</th>\n",
       "      <td>2.00</td>\n",
       "      <td>3.845979</td>\n",
       "    </tr>\n",
       "    <tr>\n",
       "      <th>175091</th>\n",
       "      <td>3.75</td>\n",
       "      <td>3.380670</td>\n",
       "    </tr>\n",
       "    <tr>\n",
       "      <th>293133</th>\n",
       "      <td>5.00</td>\n",
       "      <td>4.897707</td>\n",
       "    </tr>\n",
       "    <tr>\n",
       "      <th>412064</th>\n",
       "      <td>5.00</td>\n",
       "      <td>4.712063</td>\n",
       "    </tr>\n",
       "  </tbody>\n",
       "</table>\n",
       "<p>91002 rows × 2 columns</p>\n",
       "</div>"
      ],
      "text/plain": [
       "                     rating  score_scale2\n",
       "community recipe_id                      \n",
       "0.0       2496         5.00      4.917660\n",
       "          2886         5.00      4.769398\n",
       "          4417         0.00      4.857800\n",
       "          4892         5.00      4.931552\n",
       "          11530        5.00      4.862346\n",
       "...                     ...           ...\n",
       "69.0      76043        3.00      4.763336\n",
       "          138708       2.00      3.845979\n",
       "          175091       3.75      3.380670\n",
       "          293133       5.00      4.897707\n",
       "          412064       5.00      4.712063\n",
       "\n",
       "[91002 rows x 2 columns]"
      ]
     },
     "execution_count": 80,
     "metadata": {},
     "output_type": "execute_result"
    }
   ],
   "source": [
    "df_mean_rating_recipe= pd.DataFrame(df_reviews2.groupby(by=[\"community\",'recipe_id'])['rating','score_scale2'].mean())\n",
    "df_mean_rating_recipe\n"
   ]
  },
  {
   "cell_type": "code",
   "execution_count": 81,
   "metadata": {},
   "outputs": [
    {
     "data": {
      "text/html": [
       "<div>\n",
       "<style scoped>\n",
       "    .dataframe tbody tr th:only-of-type {\n",
       "        vertical-align: middle;\n",
       "    }\n",
       "\n",
       "    .dataframe tbody tr th {\n",
       "        vertical-align: top;\n",
       "    }\n",
       "\n",
       "    .dataframe thead th {\n",
       "        text-align: right;\n",
       "    }\n",
       "</style>\n",
       "<table border=\"1\" class=\"dataframe\">\n",
       "  <thead>\n",
       "    <tr style=\"text-align: right;\">\n",
       "      <th></th>\n",
       "      <th>recipe_id</th>\n",
       "      <th>rating</th>\n",
       "      <th>score_scale2</th>\n",
       "    </tr>\n",
       "  </thead>\n",
       "  <tbody>\n",
       "    <tr>\n",
       "      <th>0</th>\n",
       "      <td>2496</td>\n",
       "      <td>5.000000</td>\n",
       "      <td>4.917660</td>\n",
       "    </tr>\n",
       "    <tr>\n",
       "      <th>1</th>\n",
       "      <td>2886</td>\n",
       "      <td>5.000000</td>\n",
       "      <td>4.769398</td>\n",
       "    </tr>\n",
       "    <tr>\n",
       "      <th>2</th>\n",
       "      <td>4417</td>\n",
       "      <td>0.000000</td>\n",
       "      <td>4.857800</td>\n",
       "    </tr>\n",
       "    <tr>\n",
       "      <th>3</th>\n",
       "      <td>4892</td>\n",
       "      <td>5.000000</td>\n",
       "      <td>4.931552</td>\n",
       "    </tr>\n",
       "    <tr>\n",
       "      <th>4</th>\n",
       "      <td>11530</td>\n",
       "      <td>5.000000</td>\n",
       "      <td>4.862346</td>\n",
       "    </tr>\n",
       "    <tr>\n",
       "      <th>...</th>\n",
       "      <td>...</td>\n",
       "      <td>...</td>\n",
       "      <td>...</td>\n",
       "    </tr>\n",
       "    <tr>\n",
       "      <th>180</th>\n",
       "      <td>486641</td>\n",
       "      <td>5.000000</td>\n",
       "      <td>4.663063</td>\n",
       "    </tr>\n",
       "    <tr>\n",
       "      <th>181</th>\n",
       "      <td>495401</td>\n",
       "      <td>5.000000</td>\n",
       "      <td>2.476258</td>\n",
       "    </tr>\n",
       "    <tr>\n",
       "      <th>182</th>\n",
       "      <td>505491</td>\n",
       "      <td>5.000000</td>\n",
       "      <td>4.515559</td>\n",
       "    </tr>\n",
       "    <tr>\n",
       "      <th>183</th>\n",
       "      <td>527547</td>\n",
       "      <td>4.000000</td>\n",
       "      <td>4.937361</td>\n",
       "    </tr>\n",
       "    <tr>\n",
       "      <th>184</th>\n",
       "      <td>533718</td>\n",
       "      <td>4.666667</td>\n",
       "      <td>4.481629</td>\n",
       "    </tr>\n",
       "  </tbody>\n",
       "</table>\n",
       "<p>185 rows × 3 columns</p>\n",
       "</div>"
      ],
      "text/plain": [
       "    recipe_id    rating  score_scale2\n",
       "0        2496  5.000000      4.917660\n",
       "1        2886  5.000000      4.769398\n",
       "2        4417  0.000000      4.857800\n",
       "3        4892  5.000000      4.931552\n",
       "4       11530  5.000000      4.862346\n",
       "..        ...       ...           ...\n",
       "180    486641  5.000000      4.663063\n",
       "181    495401  5.000000      2.476258\n",
       "182    505491  5.000000      4.515559\n",
       "183    527547  4.000000      4.937361\n",
       "184    533718  4.666667      4.481629\n",
       "\n",
       "[185 rows x 3 columns]"
      ]
     },
     "execution_count": 81,
     "metadata": {},
     "output_type": "execute_result"
    }
   ],
   "source": [
    "# Select community 0\n",
    "com0 = df_mean_rating_recipe.loc[0, :]\n",
    "com0\n",
    "com0 = com0.reset_index()\n",
    "com0['recipe_id'] = com0['recipe_id'].astype(str)\n",
    "com0"
   ]
  },
  {
   "cell_type": "code",
   "execution_count": 82,
   "metadata": {},
   "outputs": [
    {
     "name": "stdout",
     "output_type": "stream",
     "text": [
      "The mean of the sentiment in the reviews across all communities: 4.143585821246408\n",
      "90th percentile of the sentiment:  4.908011719539302\n",
      "10th percentile of the sentiment:  2.833956354819156\n"
     ]
    },
    {
     "data": {
      "image/png": "[encoded data removed]",
      "text/plain": [
       "<Figure size 720x432 with 1 Axes>"
      ]
     },
     "metadata": {
      "needs_background": "light"
     },
     "output_type": "display_data"
    }
   ],
   "source": [
    "# Mean, 10th and 90th percentile of the sentiment\n",
    "\n",
    "mean_rev= com0['score_scale2'].describe()['mean']\n",
    "\n",
    "print(f'The mean of the sentiment in the reviews across all communities: {mean_rev}')\n",
    "print(\"90th percentile of the sentiment: \",\n",
    "       np.percentile(com0['score_scale2'], 90))\n",
    "\n",
    "print(\"10th percentile of the sentiment: \",\n",
    "       np.percentile(com0['score_scale2'], 10))\n",
    "\n",
    "\n",
    "# Add the percentiles to a list for the plotting\n",
    "percentiles = [np.percentile(com0['score_scale2'], 90), np.percentile(com0['score_scale2'], 10)]\n",
    "\n",
    "\n",
    "list_sentiment = list(zip(com0['recipe_id'], com0['score_scale2']))\n",
    "\n",
    "plot_pretty_hist(list_sentiment,percentiles, mean_rev, plot_perct= True, \n",
    "                 title=\"Average Sentiment score in the reviews in community 0 \",\n",
    "                 color = 'pink')"
   ]
  },
  {
   "cell_type": "code",
   "execution_count": 94,
   "metadata": {},
   "outputs": [
    {
     "data": {
      "application/vnd.plotly.v1+json": {
       "config": {
        "plotlyServerURL": "https://plot.ly"
       },
       "data": [
        {
         "alignmentgroup": "True",
         "hovertemplate": "variable=rating<br>recipe_id=%{x}<br>value=%{y}<extra></extra>",
         "legendgroup": "rating",
         "marker": {
          "color": "green",
          "opacity": 0.9,
          "pattern": {
           "shape": ""
          }
         },
         "name": "rating",
         "offsetgroup": "rating",
         "orientation": "v",
         "showlegend": true,
         "textposition": "auto",
         "type": "bar",
         "x": [
          "2496",
          "2886",
          "4417",
          "4892",
          "7343",
          "11530",
          "11716",
          "11923",
          "12157",
          "12591",
          "12794",
          "14261",
          "15843",
          "15865",
          "16611",
          "17776",
          "18816",
          "20643",
          "21761",
          "22058",
          "22782",
          "23081",
          "24155",
          "25999",
          "27275",
          "28768",
          "28927",
          "29805",
          "32833",
          "33130",
          "33323",
          "38846",
          "40497",
          "42031",
          "42322",
          "42402",
          "42780",
          "45940",
          "46739",
          "46877",
          "47453",
          "47637",
          "48165",
          "50342",
          "50722",
          "51948",
          "52035",
          "52039",
          "52300",
          "53133",
          "53516",
          "53878",
          "54257",
          "55936",
          "56698",
          "57505",
          "59273",
          "61723",
          "61881",
          "62581",
          "64015",
          "66861",
          "66947",
          "67023",
          "67256",
          "71187",
          "72646",
          "76003",
          "77136",
          "77554",
          "78897",
          "80129",
          "80353",
          "80728",
          "81319",
          "82023",
          "82102",
          "82985",
          "83772",
          "84516",
          "86316",
          "87782",
          "88564",
          "89925",
          "90295",
          "92494",
          "92994",
          "93324",
          "93651",
          "96143",
          "97590",
          "97674",
          "101954",
          "102274",
          "102416",
          "102596",
          "102617",
          "103865",
          "105786",
          "106160",
          "107358",
          "109283",
          "110130",
          "113198",
          "115100",
          "116903",
          "117776",
          "120090",
          "124176",
          "124336",
          "125406",
          "129203",
          "129926",
          "131833",
          "132680",
          "132849",
          "133448",
          "135048",
          "135630",
          "136834",
          "138691",
          "139612",
          "141983",
          "144169",
          "147237",
          "150490",
          "153294",
          "154224",
          "155442",
          "157686",
          "158643",
          "160337",
          "161457",
          "162386",
          "164741",
          "166118",
          "170554",
          "172618",
          "173585",
          "173875",
          "174930",
          "175769",
          "176261",
          "181318",
          "181385",
          "183399",
          "184607",
          "187731",
          "192133",
          "192218",
          "192623",
          "194129",
          "195326",
          "195497",
          "196233",
          "197922",
          "198139",
          "199299",
          "199963",
          "207533",
          "207626",
          "210647",
          "217322",
          "217963",
          "218856",
          "219903",
          "221240",
          "224855",
          "225484",
          "227439",
          "228348",
          "232287",
          "232928",
          "235183",
          "236634",
          "241728",
          "241784",
          "247595",
          "249180",
          "250498",
          "250949",
          "253580",
          "254347",
          "258922",
          "261495",
          "261827",
          "264631",
          "265591",
          "273166",
          "274333",
          "275854",
          "277678",
          "279110",
          "280012",
          "281637",
          "281791",
          "287183",
          "287888",
          "296507",
          "303128",
          "304233",
          "305322",
          "307027",
          "315943",
          "316304",
          "318998",
          "320658",
          "325042",
          "327822",
          "330186",
          "333836",
          "337211",
          "337449",
          "338863",
          "338883",
          "346701",
          "348783",
          "349246",
          "351631",
          "351699",
          "354238",
          "355687",
          "356881",
          "356975",
          "358910",
          "364496",
          "365088",
          "369156",
          "370291",
          "372087",
          "373217",
          "375073",
          "376569",
          "380657",
          "386902",
          "391209",
          "393795",
          "395141",
          "395448",
          "406219",
          "410347",
          "411513",
          "411821",
          "414467",
          "418124",
          "423314",
          "423955",
          "425176",
          "434019",
          "438624",
          "439473",
          "442230",
          "443917",
          "446687",
          "449167",
          "451098",
          "462731",
          "467871",
          "480215",
          "481206",
          "486641",
          "487364",
          "495401",
          "498959",
          "505491",
          "508459",
          "512762",
          "527547",
          "531223",
          "533718"
         ],
         "xaxis": "x",
         "y": [
          5,
          5,
          0,
          5,
          5,
          5,
          5,
          5,
          3,
          3,
          3,
          5,
          4,
          5,
          2,
          5,
          5,
          3,
          5,
          5,
          5,
          5,
          2.75,
          0,
          5,
          5,
          0,
          5,
          2,
          5,
          0,
          5,
          4,
          0,
          5,
          5,
          0,
          5,
          3,
          5,
          4,
          5,
          0,
          5,
          5,
          5,
          5,
          5,
          2,
          5,
          4,
          5,
          5,
          2.5,
          5,
          0,
          5,
          5,
          5,
          0.75,
          4,
          5,
          5,
          0,
          5,
          2.5,
          5,
          3.65,
          0,
          5,
          2,
          4,
          5,
          2.875,
          5,
          5,
          5,
          3.5555555555555554,
          4,
          5,
          5,
          5,
          5,
          2,
          0,
          3.3,
          3.75,
          5,
          5,
          0,
          5,
          0,
          5,
          5,
          4,
          2,
          5,
          5,
          3,
          0,
          0,
          5,
          5,
          5,
          0,
          5,
          5,
          0,
          5,
          0,
          0,
          4,
          5,
          5,
          5,
          2.142857142857143,
          3.625,
          5,
          5,
          5,
          4,
          5,
          4,
          5,
          2,
          4,
          5,
          5,
          5,
          5,
          4,
          0,
          5,
          4,
          5,
          5,
          5,
          5,
          0,
          5,
          3,
          0,
          5,
          3.75,
          5,
          5,
          5,
          3.8,
          5,
          5,
          0,
          0,
          5,
          4,
          3,
          3.6363636363636362,
          4,
          5,
          4.5,
          4,
          5,
          3.6551724137931036,
          2.25,
          5,
          4,
          5,
          5,
          5,
          0,
          5,
          5,
          5,
          4.666666666666667,
          1,
          5,
          1.6666666666666667,
          3.3333333333333335,
          0,
          4,
          2.5,
          4,
          0,
          0,
          5,
          5,
          2.5,
          5,
          4,
          5,
          0,
          5,
          0,
          5,
          5,
          4,
          3,
          0,
          1,
          5,
          2,
          4.266666666666667,
          4,
          5,
          5,
          3.2222222222222223,
          5,
          4,
          5,
          3,
          5,
          0,
          0,
          5,
          5,
          0,
          5,
          1,
          4,
          5,
          5,
          5,
          5,
          5,
          5,
          4,
          5,
          4.666666666666667,
          5,
          0,
          5,
          4,
          0.8333333333333334,
          5,
          5,
          5,
          5,
          0,
          5,
          3,
          5,
          5,
          0,
          0,
          0,
          0,
          5,
          5,
          5,
          2,
          3.727272727272727,
          5,
          3,
          5,
          0,
          3,
          5,
          3,
          5,
          0.5,
          3.8,
          5,
          0,
          5,
          5,
          5,
          5,
          4,
          4,
          4,
          4.666666666666667
         ],
         "yaxis": "y"
        },
        {
         "alignmentgroup": "True",
         "hovertemplate": "variable=score_scale2<br>recipe_id=%{x}<br>value=%{y}<extra></extra>",
         "legendgroup": "score_scale2",
         "marker": {
          "color": "orange",
          "opacity": 0.9,
          "pattern": {
           "shape": ""
          }
         },
         "name": "score_scale2",
         "offsetgroup": "score_scale2",
         "orientation": "v",
         "showlegend": true,
         "textposition": "auto",
         "type": "bar",
         "x": [
          "2496",
          "2886",
          "4417",
          "4892",
          "7343",
          "11530",
          "11716",
          "11923",
          "12157",
          "12591",
          "12794",
          "14261",
          "15843",
          "15865",
          "16611",
          "17776",
          "18816",
          "20643",
          "21761",
          "22058",
          "22782",
          "23081",
          "24155",
          "25999",
          "27275",
          "28768",
          "28927",
          "29805",
          "32833",
          "33130",
          "33323",
          "38846",
          "40497",
          "42031",
          "42322",
          "42402",
          "42780",
          "45940",
          "46739",
          "46877",
          "47453",
          "47637",
          "48165",
          "50342",
          "50722",
          "51948",
          "52035",
          "52039",
          "52300",
          "53133",
          "53516",
          "53878",
          "54257",
          "55936",
          "56698",
          "57505",
          "59273",
          "61723",
          "61881",
          "62581",
          "64015",
          "66861",
          "66947",
          "67023",
          "67256",
          "71187",
          "72646",
          "76003",
          "77136",
          "77554",
          "78897",
          "80129",
          "80353",
          "80728",
          "81319",
          "82023",
          "82102",
          "82985",
          "83772",
          "84516",
          "86316",
          "87782",
          "88564",
          "89925",
          "90295",
          "92494",
          "92994",
          "93324",
          "93651",
          "96143",
          "97590",
          "97674",
          "101954",
          "102274",
          "102416",
          "102596",
          "102617",
          "103865",
          "105786",
          "106160",
          "107358",
          "109283",
          "110130",
          "113198",
          "115100",
          "116903",
          "117776",
          "120090",
          "124176",
          "124336",
          "125406",
          "129203",
          "129926",
          "131833",
          "132680",
          "132849",
          "133448",
          "135048",
          "135630",
          "136834",
          "138691",
          "139612",
          "141983",
          "144169",
          "147237",
          "150490",
          "153294",
          "154224",
          "155442",
          "157686",
          "158643",
          "160337",
          "161457",
          "162386",
          "164741",
          "166118",
          "170554",
          "172618",
          "173585",
          "173875",
          "174930",
          "175769",
          "176261",
          "181318",
          "181385",
          "183399",
          "184607",
          "187731",
          "192133",
          "192218",
          "192623",
          "194129",
          "195326",
          "195497",
          "196233",
          "197922",
          "198139",
          "199299",
          "199963",
          "207533",
          "207626",
          "210647",
          "217322",
          "217963",
          "218856",
          "219903",
          "221240",
          "224855",
          "225484",
          "227439",
          "228348",
          "232287",
          "232928",
          "235183",
          "236634",
          "241728",
          "241784",
          "247595",
          "249180",
          "250498",
          "250949",
          "253580",
          "254347",
          "258922",
          "261495",
          "261827",
          "264631",
          "265591",
          "273166",
          "274333",
          "275854",
          "277678",
          "279110",
          "280012",
          "281637",
          "281791",
          "287183",
          "287888",
          "296507",
          "303128",
          "304233",
          "305322",
          "307027",
          "315943",
          "316304",
          "318998",
          "320658",
          "325042",
          "327822",
          "330186",
          "333836",
          "337211",
          "337449",
          "338863",
          "338883",
          "346701",
          "348783",
          "349246",
          "351631",
          "351699",
          "354238",
          "355687",
          "356881",
          "356975",
          "358910",
          "364496",
          "365088",
          "369156",
          "370291",
          "372087",
          "373217",
          "375073",
          "376569",
          "380657",
          "386902",
          "391209",
          "393795",
          "395141",
          "395448",
          "406219",
          "410347",
          "411513",
          "411821",
          "414467",
          "418124",
          "423314",
          "423955",
          "425176",
          "434019",
          "438624",
          "439473",
          "442230",
          "443917",
          "446687",
          "449167",
          "451098",
          "462731",
          "467871",
          "480215",
          "481206",
          "486641",
          "487364",
          "495401",
          "498959",
          "505491",
          "508459",
          "512762",
          "527547",
          "531223",
          "533718"
         ],
         "xaxis": "x",
         "y": [
          4.917660133360275,
          4.769397858153162,
          4.857799555465752,
          4.931551828652253,
          3.920741563952314,
          4.862345928470399,
          4.625681955950698,
          4.917660133360275,
          3.515272445611908,
          4.677712669226107,
          4.658769448373409,
          4.0849161446756925,
          3.7528414831279053,
          1.1487169125075778,
          2.4762578298646196,
          4.892907658112751,
          4.677207516670035,
          2.7356536674075578,
          4.818650232370176,
          4.878005657708629,
          4.860830470802183,
          4.536775106082037,
          3.6988533036977174,
          1.5119216003232983,
          4.841887249949485,
          4.515558698727016,
          4.857546979187715,
          4.873964437260053,
          3.3692412608607807,
          3.440594059405941,
          2.4762578298646196,
          3.588603758335018,
          4.706001212366136,
          4.743635077793495,
          4.828248130935543,
          4.851232572236817,
          4.904778743180441,
          4.934077591432613,
          4.440543544150334,
          4.925742574257427,
          4.870680945645586,
          4.707516670034351,
          1.049201858961407,
          4.792129723176401,
          4.693624974742373,
          4.950495049504951,
          4.760052535865832,
          4.0849161446756925,
          3.2557082238836133,
          2.152960193978582,
          4.456708425944636,
          4.915386946857952,
          4.515558698727016,
          4.476535663770459,
          4.779248332996565,
          4.801727621741766,
          4.425388967468177,
          4.790109112952113,
          4.8585572842998594,
          3.274840876944838,
          1.3174378662356034,
          4.798444130127299,
          4.083148110729441,
          4.2450495049504955,
          4.6453829056375024,
          3.442362093352193,
          4.937108506769045,
          4.4332819761568,
          4.327136795312185,
          3.664124065467772,
          4.142503536067893,
          4.480450596080017,
          4.575924429177612,
          3.8639434734289764,
          4.965397049909074,
          4.926500303091535,
          4.777480299050314,
          4.132905637502526,
          4.45771873105678,
          4.924732269145283,
          4.821933723984644,
          4.68630026267933,
          4.8375934532228735,
          2.7995554657506574,
          3.5408668417862197,
          3.6768286522529805,
          4.731132552030713,
          4.819155384926248,
          4.715346534653467,
          4.456708425944636,
          4.765104061426552,
          4.885330369771672,
          4.749696908466357,
          4.897454031117398,
          4.221054758537078,
          3.7464639321074973,
          3.388563346130532,
          4.821933723984644,
          3.273893715902203,
          4.915892099414024,
          2.7626793291574057,
          4.873711860982017,
          3.990200040412205,
          4.83405738533037,
          4.408466356839766,
          4.452162052939989,
          4.730501111335624,
          4.755001010305112,
          4.47211557890483,
          2.4762578298646196,
          4.581228531016367,
          3.638866437664175,
          4.783794706001213,
          4.831531622550011,
          4.945190947666196,
          3.2074661547787437,
          3.5422244392806634,
          4.8729541321479095,
          4.965397049909074,
          2.7626793291574057,
          3.2938472418670446,
          4.853758335017176,
          4.74641341685189,
          4.0849161446756925,
          3.392351990301071,
          4.88356233582542,
          4.7411093150131345,
          4.8585572842998594,
          4.729995958779552,
          4.565316225500101,
          4.632501515457669,
          4.744140230349566,
          4.1144675692059005,
          3.588603758335018,
          4.853758335017176,
          4.876995352596484,
          4.904021014346334,
          3.845978985653668,
          3.588603758335018,
          4.698255539839699,
          4.904021014346334,
          4.0849161446756925,
          2.4762578298646196,
          4.163719943422914,
          4.142503536067893,
          4.885330369771672,
          4.594867650030309,
          4.144549403919984,
          4.749696908466357,
          4.647656092139827,
          2.7356536674075578,
          3.5408668417862197,
          4.425388967468177,
          4.618357243887655,
          4.704485754697919,
          3.797484340270762,
          3.920741563952314,
          2.4762578298646196,
          4.657885431400284,
          3.6956961002222677,
          4.707516670034351,
          3.827018345747313,
          4.645382905637503,
          4.432461103253183,
          3.8265306122448983,
          4.5491513437058,
          4.945443523944232,
          4.7949080622347955,
          4.303899777732876,
          4.948727015558699,
          4.047787431804405,
          4.390533441099213,
          3.8542298107361765,
          4.62744998989695,
          4.254268539098808,
          3.035798477806965,
          3.3773657978042713,
          4.1144675692059005,
          4.130379874722166,
          2.885557688421904,
          2.4762578298646196,
          3.677005455647606,
          4.473125884016974,
          4.7706607395433425,
          4.903515861790261,
          3.561199232168115,
          4.408466356839766,
          2.42612143867448,
          3.6350777934936356,
          2.9255910284906044,
          4.927005455647606,
          0.7074661547787433,
          4.729743382501516,
          4.942665184885836,
          3.2496463932107504,
          4.343049100828451,
          3.0984794908062243,
          1.5715296019397862,
          4.833047080218227,
          4.602066073954335,
          4.515676567656766,
          4.70069711052738,
          4.564558496665994,
          4.565316225500101,
          4.219342852652613,
          4.811578096585169,
          2.4762578298646196,
          4.881794301879168,
          4.736562942008487,
          4.836077995554659,
          4.65624368559305,
          4.6708931097191355,
          4.761315417256012,
          4.916397251970095,
          3.588603758335018,
          4.6708931097191355,
          3.0084360476864016,
          4.667104465548596,
          4.494847443928068,
          4.57668215801172,
          4.92170135380885,
          4.054606991311377,
          4.0849161446756925,
          4.744140230349566,
          1.786219438270358,
          4.9267528793695705,
          4.221980871556544,
          3.72373206708426,
          4.637047888462317,
          3.920741563952314,
          4.560517276217419,
          3.582962888125548,
          4.8002121640735504,
          4.477672257021621,
          4.417053950292989,
          4.77899575671853,
          1.031774095776925,
          4.57668215801172,
          3.681652859163468,
          4.3329460497070125,
          4.683016771064862,
          4.68630026267933,
          1.1622297433825017,
          3.5408668417862197,
          3.7207011517478286,
          4.0849161446756925,
          4.678722974338251,
          4.7411093150131345,
          2.9791371994342297,
          4.649952240121972,
          4.44205900181855,
          4.703222873307739,
          4.906041624570621,
          2.4762578298646196,
          4.196302283289554,
          4.585269751464943,
          4.909325116185089,
          4.754495857749041,
          2.700924429177612,
          3.9617599515053556,
          4.663063245100021,
          4.054606991311377,
          2.4762578298646196,
          4.724691856940797,
          4.515558698727016,
          4.873964437260053,
          4.312234794908063,
          4.937361083047081,
          3.8065770862800568,
          4.481629285377518
         ],
         "yaxis": "y"
        }
       ],
       "layout": {
        "barmode": "group",
        "hovermode": "x unified",
        "legend": {
         "title": {
          "text": "variable"
         },
         "tracegroupgap": 0
        },
        "template": {
         "data": {
          "bar": [
           {
            "error_x": {
             "color": "#2a3f5f"
            },
            "error_y": {
             "color": "#2a3f5f"
            },
            "marker": {
             "line": {
              "color": "#E5ECF6",
              "width": 0.5
             },
             "pattern": {
              "fillmode": "overlay",
              "size": 10,
              "solidity": 0.2
             }
            },
            "type": "bar"
           }
          ],
          "barpolar": [
           {
            "marker": {
             "line": {
              "color": "#E5ECF6",
              "width": 0.5
             },
             "pattern": {
              "fillmode": "overlay",
              "size": 10,
              "solidity": 0.2
             }
            },
            "type": "barpolar"
           }
          ],
          "carpet": [
           {
            "aaxis": {
             "endlinecolor": "#2a3f5f",
             "gridcolor": "white",
             "linecolor": "white",
             "minorgridcolor": "white",
             "startlinecolor": "#2a3f5f"
            },
            "baxis": {
             "endlinecolor": "#2a3f5f",
             "gridcolor": "white",
             "linecolor": "white",
             "minorgridcolor": "white",
             "startlinecolor": "#2a3f5f"
            },
            "type": "carpet"
           }
          ],
          "choropleth": [
           {
            "colorbar": {
             "outlinewidth": 0,
             "ticks": ""
            },
            "type": "choropleth"
           }
          ],
          "contour": [
           {
            "colorbar": {
             "outlinewidth": 0,
             "ticks": ""
            },
            "colorscale": [
             [
              0,
              "#0d0887"
             ],
             [
              0.1111111111111111,
              "#46039f"
             ],
             [
              0.2222222222222222,
              "#7201a8"
             ],
             [
              0.3333333333333333,
              "#9c179e"
             ],
             [
              0.4444444444444444,
              "#bd3786"
             ],
             [
              0.5555555555555556,
              "#d8576b"
             ],
             [
              0.6666666666666666,
              "#ed7953"
             ],
             [
              0.7777777777777778,
              "#fb9f3a"
             ],
             [
              0.8888888888888888,
              "#fdca26"
             ],
             [
              1,
              "#f0f921"
             ]
            ],
            "type": "contour"
           }
          ],
          "contourcarpet": [
           {
            "colorbar": {
             "outlinewidth": 0,
             "ticks": ""
            },
            "type": "contourcarpet"
           }
          ],
          "heatmap": [
           {
            "colorbar": {
             "outlinewidth": 0,
             "ticks": ""
            },
            "colorscale": [
             [
              0,
              "#0d0887"
             ],
             [
              0.1111111111111111,
              "#46039f"
             ],
             [
              0.2222222222222222,
              "#7201a8"
             ],
             [
              0.3333333333333333,
              "#9c179e"
             ],
             [
              0.4444444444444444,
              "#bd3786"
             ],
             [
              0.5555555555555556,
              "#d8576b"
             ],
             [
              0.6666666666666666,
              "#ed7953"
             ],
             [
              0.7777777777777778,
              "#fb9f3a"
             ],
             [
              0.8888888888888888,
              "#fdca26"
             ],
             [
              1,
              "#f0f921"
             ]
            ],
            "type": "heatmap"
           }
          ],
          "heatmapgl": [
           {
            "colorbar": {
             "outlinewidth": 0,
             "ticks": ""
            },
            "colorscale": [
             [
              0,
              "#0d0887"
             ],
             [
              0.1111111111111111,
              "#46039f"
             ],
             [
              0.2222222222222222,
              "#7201a8"
             ],
             [
              0.3333333333333333,
              "#9c179e"
             ],
             [
              0.4444444444444444,
              "#bd3786"
             ],
             [
              0.5555555555555556,
              "#d8576b"
             ],
             [
              0.6666666666666666,
              "#ed7953"
             ],
             [
              0.7777777777777778,
              "#fb9f3a"
             ],
             [
              0.8888888888888888,
              "#fdca26"
             ],
             [
              1,
              "#f0f921"
             ]
            ],
            "type": "heatmapgl"
           }
          ],
          "histogram": [
           {
            "marker": {
             "pattern": {
              "fillmode": "overlay",
              "size": 10,
              "solidity": 0.2
             }
            },
            "type": "histogram"
           }
          ],
          "histogram2d": [
           {
            "colorbar": {
             "outlinewidth": 0,
             "ticks": ""
            },
            "colorscale": [
             [
              0,
              "#0d0887"
             ],
             [
              0.1111111111111111,
              "#46039f"
             ],
             [
              0.2222222222222222,
              "#7201a8"
             ],
             [
              0.3333333333333333,
              "#9c179e"
             ],
             [
              0.4444444444444444,
              "#bd3786"
             ],
             [
              0.5555555555555556,
              "#d8576b"
             ],
             [
              0.6666666666666666,
              "#ed7953"
             ],
             [
              0.7777777777777778,
              "#fb9f3a"
             ],
             [
              0.8888888888888888,
              "#fdca26"
             ],
             [
              1,
              "#f0f921"
             ]
            ],
            "type": "histogram2d"
           }
          ],
          "histogram2dcontour": [
           {
            "colorbar": {
             "outlinewidth": 0,
             "ticks": ""
            },
            "colorscale": [
             [
              0,
              "#0d0887"
             ],
             [
              0.1111111111111111,
              "#46039f"
             ],
             [
              0.2222222222222222,
              "#7201a8"
             ],
             [
              0.3333333333333333,
              "#9c179e"
             ],
             [
              0.4444444444444444,
              "#bd3786"
             ],
             [
              0.5555555555555556,
              "#d8576b"
             ],
             [
              0.6666666666666666,
              "#ed7953"
             ],
             [
              0.7777777777777778,
              "#fb9f3a"
             ],
             [
              0.8888888888888888,
              "#fdca26"
             ],
             [
              1,
              "#f0f921"
             ]
            ],
            "type": "histogram2dcontour"
           }
          ],
          "mesh3d": [
           {
            "colorbar": {
             "outlinewidth": 0,
             "ticks": ""
            },
            "type": "mesh3d"
           }
          ],
          "parcoords": [
           {
            "line": {
             "colorbar": {
              "outlinewidth": 0,
              "ticks": ""
             }
            },
            "type": "parcoords"
           }
          ],
          "pie": [
           {
            "automargin": true,
            "type": "pie"
           }
          ],
          "scatter": [
           {
            "marker": {
             "colorbar": {
              "outlinewidth": 0,
              "ticks": ""
             }
            },
            "type": "scatter"
           }
          ],
          "scatter3d": [
           {
            "line": {
             "colorbar": {
              "outlinewidth": 0,
              "ticks": ""
             }
            },
            "marker": {
             "colorbar": {
              "outlinewidth": 0,
              "ticks": ""
             }
            },
            "type": "scatter3d"
           }
          ],
          "scattercarpet": [
           {
            "marker": {
             "colorbar": {
              "outlinewidth": 0,
              "ticks": ""
             }
            },
            "type": "scattercarpet"
           }
          ],
          "scattergeo": [
           {
            "marker": {
             "colorbar": {
              "outlinewidth": 0,
              "ticks": ""
             }
            },
            "type": "scattergeo"
           }
          ],
          "scattergl": [
           {
            "marker": {
             "colorbar": {
              "outlinewidth": 0,
              "ticks": ""
             }
            },
            "type": "scattergl"
           }
          ],
          "scattermapbox": [
           {
            "marker": {
             "colorbar": {
              "outlinewidth": 0,
              "ticks": ""
             }
            },
            "type": "scattermapbox"
           }
          ],
          "scatterpolar": [
           {
            "marker": {
             "colorbar": {
              "outlinewidth": 0,
              "ticks": ""
             }
            },
            "type": "scatterpolar"
           }
          ],
          "scatterpolargl": [
           {
            "marker": {
             "colorbar": {
              "outlinewidth": 0,
              "ticks": ""
             }
            },
            "type": "scatterpolargl"
           }
          ],
          "scatterternary": [
           {
            "marker": {
             "colorbar": {
              "outlinewidth": 0,
              "ticks": ""
             }
            },
            "type": "scatterternary"
           }
          ],
          "surface": [
           {
            "colorbar": {
             "outlinewidth": 0,
             "ticks": ""
            },
            "colorscale": [
             [
              0,
              "#0d0887"
             ],
             [
              0.1111111111111111,
              "#46039f"
             ],
             [
              0.2222222222222222,
              "#7201a8"
             ],
             [
              0.3333333333333333,
              "#9c179e"
             ],
             [
              0.4444444444444444,
              "#bd3786"
             ],
             [
              0.5555555555555556,
              "#d8576b"
             ],
             [
              0.6666666666666666,
              "#ed7953"
             ],
             [
              0.7777777777777778,
              "#fb9f3a"
             ],
             [
              0.8888888888888888,
              "#fdca26"
             ],
             [
              1,
              "#f0f921"
             ]
            ],
            "type": "surface"
           }
          ],
          "table": [
           {
            "cells": {
             "fill": {
              "color": "#EBF0F8"
             },
             "line": {
              "color": "white"
             }
            },
            "header": {
             "fill": {
              "color": "#C8D4E3"
             },
             "line": {
              "color": "white"
             }
            },
            "type": "table"
           }
          ]
         },
         "layout": {
          "annotationdefaults": {
           "arrowcolor": "#2a3f5f",
           "arrowhead": 0,
           "arrowwidth": 1
          },
          "autotypenumbers": "strict",
          "coloraxis": {
           "colorbar": {
            "outlinewidth": 0,
            "ticks": ""
           }
          },
          "colorscale": {
           "diverging": [
            [
             0,
             "#8e0152"
            ],
            [
             0.1,
             "#c51b7d"
            ],
            [
             0.2,
             "#de77ae"
            ],
            [
             0.3,
             "#f1b6da"
            ],
            [
             0.4,
             "#fde0ef"
            ],
            [
             0.5,
             "#f7f7f7"
            ],
            [
             0.6,
             "#e6f5d0"
            ],
            [
             0.7,
             "#b8e186"
            ],
            [
             0.8,
             "#7fbc41"
            ],
            [
             0.9,
             "#4d9221"
            ],
            [
             1,
             "#276419"
            ]
           ],
           "sequential": [
            [
             0,
             "#0d0887"
            ],
            [
             0.1111111111111111,
             "#46039f"
            ],
            [
             0.2222222222222222,
             "#7201a8"
            ],
            [
             0.3333333333333333,
             "#9c179e"
            ],
            [
             0.4444444444444444,
             "#bd3786"
            ],
            [
             0.5555555555555556,
             "#d8576b"
            ],
            [
             0.6666666666666666,
             "#ed7953"
            ],
            [
             0.7777777777777778,
             "#fb9f3a"
            ],
            [
             0.8888888888888888,
             "#fdca26"
            ],
            [
             1,
             "#f0f921"
            ]
           ],
           "sequentialminus": [
            [
             0,
             "#0d0887"
            ],
            [
             0.1111111111111111,
             "#46039f"
            ],
            [
             0.2222222222222222,
             "#7201a8"
            ],
            [
             0.3333333333333333,
             "#9c179e"
            ],
            [
             0.4444444444444444,
             "#bd3786"
            ],
            [
             0.5555555555555556,
             "#d8576b"
            ],
            [
             0.6666666666666666,
             "#ed7953"
            ],
            [
             0.7777777777777778,
             "#fb9f3a"
            ],
            [
             0.8888888888888888,
             "#fdca26"
            ],
            [
             1,
             "#f0f921"
            ]
           ]
          },
          "colorway": [
           "#636efa",
           "#EF553B",
           "#00cc96",
           "#ab63fa",
           "#FFA15A",
           "#19d3f3",
           "#FF6692",
           "#B6E880",
           "#FF97FF",
           "#FECB52"
          ],
          "font": {
           "color": "#2a3f5f"
          },
          "geo": {
           "bgcolor": "white",
           "lakecolor": "white",
           "landcolor": "#E5ECF6",
           "showlakes": true,
           "showland": true,
           "subunitcolor": "white"
          },
          "hoverlabel": {
           "align": "left"
          },
          "hovermode": "closest",
          "mapbox": {
           "style": "light"
          },
          "paper_bgcolor": "white",
          "plot_bgcolor": "#E5ECF6",
          "polar": {
           "angularaxis": {
            "gridcolor": "white",
            "linecolor": "white",
            "ticks": ""
           },
           "bgcolor": "#E5ECF6",
           "radialaxis": {
            "gridcolor": "white",
            "linecolor": "white",
            "ticks": ""
           }
          },
          "scene": {
           "xaxis": {
            "backgroundcolor": "#E5ECF6",
            "gridcolor": "white",
            "gridwidth": 2,
            "linecolor": "white",
            "showbackground": true,
            "ticks": "",
            "zerolinecolor": "white"
           },
           "yaxis": {
            "backgroundcolor": "#E5ECF6",
            "gridcolor": "white",
            "gridwidth": 2,
            "linecolor": "white",
            "showbackground": true,
            "ticks": "",
            "zerolinecolor": "white"
           },
           "zaxis": {
            "backgroundcolor": "#E5ECF6",
            "gridcolor": "white",
            "gridwidth": 2,
            "linecolor": "white",
            "showbackground": true,
            "ticks": "",
            "zerolinecolor": "white"
           }
          },
          "shapedefaults": {
           "line": {
            "color": "#2a3f5f"
           }
          },
          "ternary": {
           "aaxis": {
            "gridcolor": "white",
            "linecolor": "white",
            "ticks": ""
           },
           "baxis": {
            "gridcolor": "white",
            "linecolor": "white",
            "ticks": ""
           },
           "bgcolor": "#E5ECF6",
           "caxis": {
            "gridcolor": "white",
            "linecolor": "white",
            "ticks": ""
           }
          },
          "title": {
           "x": 0.05
          },
          "xaxis": {
           "automargin": true,
           "gridcolor": "white",
           "linecolor": "white",
           "ticks": "",
           "title": {
            "standoff": 15
           },
           "zerolinecolor": "white",
           "zerolinewidth": 2
          },
          "yaxis": {
           "automargin": true,
           "gridcolor": "white",
           "linecolor": "white",
           "ticks": "",
           "title": {
            "standoff": 15
           },
           "zerolinecolor": "white",
           "zerolinewidth": 2
          }
         }
        },
        "title": {
         "text": "Average Rating vs Calculated Sentiment score (per recipe) in Community 0"
        },
        "xaxis": {
         "anchor": "y",
         "domain": [
          0,
          1
         ],
         "title": {
          "text": "Recipes in Community 0"
         }
        },
        "yaxis": {
         "anchor": "x",
         "domain": [
          0,
          1
         ],
         "title": {
          "text": "Score vs Rating"
         }
        }
       }
      }
     },
     "metadata": {},
     "output_type": "display_data"
    }
   ],
   "source": [
    "fig = px.bar(\n",
    "    data_frame = com0,\n",
    "    x = \"recipe_id\",\n",
    "    y = [\"rating\",\"score_scale2\"],\n",
    "    opacity = 0.9,\n",
    "    orientation = \"v\",\n",
    "    barmode = 'group',\n",
    "    color_discrete_map={'rating':'green', 'score_scale2':'orange'},\n",
    "    title='Average Rating vs Calculated Sentiment score (per recipe) in Community 0',\n",
    "   # hover_name= 'recipe_id',\n",
    ")\n",
    "\n",
    "fig.update_layout(\n",
    "\n",
    "  xaxis_title= 'Recipes in Community 0',\n",
    "  yaxis_title = 'Score vs Rating',\n",
    "  hovermode = 'x unified'\n",
    "\n",
    ")"
   ]
  },
  {
   "cell_type": "markdown",
   "metadata": {},
   "source": [
    "### c) **Average Rating vs Sentiment score per user by community**"
   ]
  },
  {
   "cell_type": "code",
   "execution_count": 107,
   "metadata": {},
   "outputs": [
    {
     "data": {
      "text/html": [
       "<div>\n",
       "<style scoped>\n",
       "    .dataframe tbody tr th:only-of-type {\n",
       "        vertical-align: middle;\n",
       "    }\n",
       "\n",
       "    .dataframe tbody tr th {\n",
       "        vertical-align: top;\n",
       "    }\n",
       "\n",
       "    .dataframe thead th {\n",
       "        text-align: right;\n",
       "    }\n",
       "</style>\n",
       "<table border=\"1\" class=\"dataframe\">\n",
       "  <thead>\n",
       "    <tr style=\"text-align: right;\">\n",
       "      <th></th>\n",
       "      <th></th>\n",
       "      <th>recipe_id</th>\n",
       "    </tr>\n",
       "    <tr>\n",
       "      <th>community</th>\n",
       "      <th>user_id</th>\n",
       "      <th></th>\n",
       "    </tr>\n",
       "  </thead>\n",
       "  <tbody>\n",
       "    <tr>\n",
       "      <th rowspan=\"5\" valign=\"top\">0</th>\n",
       "      <th>57993</th>\n",
       "      <td>9</td>\n",
       "    </tr>\n",
       "    <tr>\n",
       "      <th>63878</th>\n",
       "      <td>1</td>\n",
       "    </tr>\n",
       "    <tr>\n",
       "      <th>310313</th>\n",
       "      <td>7</td>\n",
       "    </tr>\n",
       "    <tr>\n",
       "      <th>315479</th>\n",
       "      <td>20</td>\n",
       "    </tr>\n",
       "    <tr>\n",
       "      <th>325879</th>\n",
       "      <td>2</td>\n",
       "    </tr>\n",
       "    <tr>\n",
       "      <th>...</th>\n",
       "      <th>...</th>\n",
       "      <td>...</td>\n",
       "    </tr>\n",
       "    <tr>\n",
       "      <th>68</th>\n",
       "      <th>2002302691</th>\n",
       "      <td>1</td>\n",
       "    </tr>\n",
       "    <tr>\n",
       "      <th rowspan=\"4\" valign=\"top\">69</th>\n",
       "      <th>1803099400</th>\n",
       "      <td>9</td>\n",
       "    </tr>\n",
       "    <tr>\n",
       "      <th>2001597635</th>\n",
       "      <td>1</td>\n",
       "    </tr>\n",
       "    <tr>\n",
       "      <th>2001640468</th>\n",
       "      <td>1</td>\n",
       "    </tr>\n",
       "    <tr>\n",
       "      <th>2002274344</th>\n",
       "      <td>1</td>\n",
       "    </tr>\n",
       "  </tbody>\n",
       "</table>\n",
       "<p>15257 rows × 1 columns</p>\n",
       "</div>"
      ],
      "text/plain": [
       "                      recipe_id\n",
       "community user_id              \n",
       "0         57993               9\n",
       "          63878               1\n",
       "          310313              7\n",
       "          315479             20\n",
       "          325879              2\n",
       "...                         ...\n",
       "68        2002302691          1\n",
       "69        1803099400          9\n",
       "          2001597635          1\n",
       "          2001640468          1\n",
       "          2002274344          1\n",
       "\n",
       "[15257 rows x 1 columns]"
      ]
     },
     "execution_count": 107,
     "metadata": {},
     "output_type": "execute_result"
    }
   ],
   "source": [
    "# How many recipes have each user reviewed in each community???? \n",
    "df_count= pd.DataFrame(df_reviews2.groupby(by=[\"community\",'user_id'])['recipe_id'].count())\n",
    "df_count\n"
   ]
  },
  {
   "cell_type": "code",
   "execution_count": 108,
   "metadata": {},
   "outputs": [
    {
     "data": {
      "application/vnd.plotly.v1+json": {
       "config": {
        "plotlyServerURL": "https://plot.ly"
       },
       "data": [
        {
         "alignmentgroup": "True",
         "hovertemplate": "variable=recipe_id<br>user_id=%{x}<br>value=%{y}<extra></extra>",
         "legendgroup": "recipe_id",
         "marker": {
          "color": "#636efa",
          "opacity": 0.9,
          "pattern": {
           "shape": ""
          }
         },
         "name": "recipe_id",
         "offsetgroup": "recipe_id",
         "orientation": "v",
         "showlegend": true,
         "textposition": "auto",
         "type": "bar",
         "x": [
          "20480",
          "52838",
          "63291",
          "79004",
          "186855",
          "250443",
          "389001",
          "430507",
          "496829",
          "529278",
          "536127",
          "641071",
          "675308",
          "696239",
          "885024",
          "931322",
          "1058984",
          "1093993",
          "1202698",
          "1207655",
          "1441804",
          "1467966",
          "1588275",
          "1723513",
          "1813790",
          "1874042",
          "1881490",
          "2061170",
          "2103403",
          "2303630",
          "2421378",
          "2425244",
          "2549711",
          "2583636",
          "2588180",
          "2749424",
          "2790208",
          "2832982",
          "2910728",
          "11673203",
          "46084354",
          "1800324154",
          "1802821179",
          "1803291363",
          "1803559483",
          "2000039714",
          "2000051489",
          "2000063557",
          "2000082350",
          "2000096247",
          "2000249961",
          "2000265767",
          "2000270096",
          "2000284647",
          "2000311473",
          "2000331248",
          "2000331570",
          "2000333591",
          "2000407119",
          "2000429993",
          "2000443508",
          "2000592169",
          "2000600112",
          "2000659917",
          "2000686836",
          "2000692928",
          "2000697206",
          "2000708324",
          "2000715303",
          "2000793289",
          "2000859716",
          "2000882720",
          "2000889684",
          "2000895005",
          "2000900316",
          "2000934547",
          "2000963074",
          "2000975403",
          "2000977552",
          "2000995814",
          "2001000472",
          "2001053789",
          "2001102036",
          "2001110421",
          "2001113983",
          "2001134836",
          "2001140998",
          "2001167084",
          "2001169689",
          "2001198178",
          "2001205445",
          "2001206360",
          "2001216626",
          "2001219444",
          "2001238684",
          "2001246372",
          "2001249331",
          "2001258524",
          "2001287839",
          "2001297534",
          "2001298543",
          "2001309256",
          "2001324278",
          "2001331318",
          "2001332339",
          "2001333225",
          "2001333228",
          "2001333807",
          "2001339410",
          "2001344771",
          "2001347791",
          "2001347941",
          "2001348256",
          "2001353992",
          "2001356255",
          "2001356544",
          "2001363059",
          "2001363559",
          "2001365799",
          "2001366716",
          "2001368950",
          "2001370865",
          "2001371900",
          "2001374029",
          "2001376584",
          "2001376684",
          "2001385831",
          "2001389012",
          "2001389744",
          "2001393412",
          "2001393594",
          "2001396025",
          "2001399188",
          "2001405285",
          "2001415962",
          "2001419549",
          "2001420370",
          "2001421927",
          "2001422126",
          "2001423686",
          "2001423940",
          "2001424747",
          "2001429861",
          "2001431935",
          "2001432068",
          "2001437621",
          "2001449459",
          "2001450615",
          "2001455535",
          "2001455874",
          "2001458655",
          "2001468578",
          "2001468785",
          "2001469944",
          "2001472738",
          "2001473503",
          "2001475794",
          "2001477218",
          "2001478707",
          "2001480689",
          "2001482613",
          "2001485661",
          "2001489384",
          "2001489642",
          "2001493162",
          "2001495163",
          "2001497509",
          "2001504695",
          "2001506031",
          "2001515095",
          "2001516705",
          "2001519358",
          "2001520190",
          "2001521816",
          "2001523162",
          "2001526559",
          "2001532089",
          "2001534470",
          "2001537431",
          "2001538101",
          "2001538344",
          "2001538636",
          "2001541499",
          "2001541931",
          "2001544502",
          "2001545326",
          "2001546774",
          "2001549544",
          "2001551667",
          "2001557221",
          "2001558974",
          "2001566290",
          "2001569166",
          "2001573771",
          "2001583204",
          "2001586155",
          "2001587656",
          "2001588457",
          "2001589027",
          "2001590408",
          "2001591688",
          "2001591867",
          "2001591888",
          "2001593859",
          "2001600463",
          "2001602042",
          "2001610187",
          "2001617885",
          "2001618862",
          "2001620405",
          "2001623277",
          "2001629381",
          "2001630213",
          "2001631466",
          "2001641441",
          "2001642110",
          "2001643407",
          "2001646258",
          "2001649842",
          "2001654837",
          "2001655230",
          "2001660494",
          "2001660739",
          "2001660778",
          "2001662231",
          "2001662293",
          "2001663543",
          "2001667594",
          "2001669802",
          "2001671998",
          "2001672885",
          "2001676990",
          "2001680492",
          "2001684117",
          "2001684702",
          "2001685520",
          "2001689825",
          "2001690782",
          "2001692869",
          "2001701267",
          "2001717963",
          "2001724001",
          "2001731215",
          "2001736189",
          "2001738277",
          "2001740211",
          "2001749775",
          "2001752779",
          "2001754352",
          "2001755546",
          "2001756716",
          "2001760903",
          "2001762829",
          "2001764654",
          "2001765439",
          "2001769708",
          "2001770814",
          "2001777046",
          "2001778558",
          "2001778822",
          "2001779681",
          "2001781116",
          "2001787586",
          "2001798610",
          "2001799817",
          "2001810541",
          "2001822319",
          "2001822702",
          "2001825557",
          "2001827433",
          "2001831580",
          "2001836059",
          "2001847833",
          "2001861325",
          "2001864769",
          "2001883174",
          "2001884249",
          "2001893191",
          "2001894701",
          "2001900425",
          "2001908373",
          "2001910812",
          "2001914461",
          "2001916558",
          "2001917542",
          "2001918778",
          "2001919168",
          "2001919195",
          "2001924668",
          "2001929863",
          "2001929959",
          "2001934880",
          "2001938478",
          "2001939346",
          "2001943755",
          "2001946376",
          "2001954363",
          "2001954429",
          "2001955171",
          "2001959587",
          "2001961425",
          "2001962081",
          "2001964480",
          "2001965447",
          "2001970694",
          "2001971174",
          "2001976295",
          "2001991074",
          "2001991444",
          "2001993730",
          "2002003478",
          "2002007738",
          "2002007953",
          "2002009699",
          "2002012541",
          "2002020694",
          "2002025856",
          "2002028300",
          "2002031425",
          "2002044359",
          "2002048009",
          "2002050167",
          "2002058237",
          "2002058759",
          "2002059611",
          "2002061564",
          "2002066955",
          "2002071638",
          "2002073522",
          "2002075238",
          "2002075397",
          "2002075813",
          "2002075957",
          "2002076131",
          "2002081486",
          "2002090002",
          "2002091085",
          "2002092950",
          "2002094555",
          "2002094746",
          "2002095670",
          "2002098559",
          "2002098988",
          "2002106277",
          "2002108243",
          "2002112126",
          "2002113891",
          "2002119722",
          "2002119764",
          "2002126155",
          "2002130900",
          "2002140367",
          "2002141028",
          "2002143765",
          "2002151910",
          "2002152271",
          "2002152636",
          "2002155102",
          "2002159852",
          "2002169508",
          "2002178475",
          "2002202360",
          "2002206225",
          "2002206542",
          "2002209507",
          "2002216300",
          "2002216395",
          "2002220042",
          "2002220916",
          "2002224710",
          "2002227784",
          "2002227842",
          "2002228233",
          "2002228311",
          "2002229518",
          "2002231846",
          "2002235103",
          "2002243827",
          "2002246340",
          "2002246526",
          "2002249602",
          "2002254785",
          "2002257565",
          "2002257730",
          "2002257796",
          "2002258074",
          "2002258744",
          "2002259221",
          "2002261625",
          "2002269955",
          "2002272863",
          "2002284253",
          "2002292140",
          "2002299391",
          "2002299778",
          "2002303743",
          "2002305919",
          "2002312928",
          "2002324871",
          "2002327139",
          "2002337577",
          "2002354675",
          "2002365515"
         ],
         "xaxis": "x",
         "y": [
          562,
          1,
          19,
          17,
          554,
          1,
          1,
          66,
          103,
          197,
          16,
          11,
          1,
          1,
          44,
          6,
          9,
          2,
          1,
          4,
          16,
          9,
          6,
          3,
          2,
          1,
          3,
          2,
          1,
          1,
          1,
          1,
          12,
          1,
          1,
          1,
          1,
          6,
          2,
          3,
          2,
          4,
          1,
          2,
          1,
          1,
          2,
          1,
          1,
          5,
          3,
          1,
          7,
          1,
          1,
          1,
          1,
          1,
          1,
          1,
          1,
          1,
          1,
          1,
          1,
          1,
          1,
          1,
          2,
          1,
          1,
          1,
          1,
          1,
          1,
          1,
          1,
          1,
          1,
          2,
          1,
          1,
          1,
          1,
          1,
          2,
          1,
          1,
          3,
          2,
          1,
          1,
          1,
          2,
          2,
          5,
          1,
          2,
          1,
          70,
          1,
          2,
          1,
          1,
          1,
          1,
          1,
          1,
          1,
          1,
          1,
          3,
          1,
          1,
          4,
          1,
          1,
          2,
          7,
          1,
          1,
          2,
          1,
          1,
          1,
          1,
          1,
          1,
          1,
          2,
          1,
          1,
          1,
          1,
          1,
          1,
          1,
          1,
          1,
          1,
          1,
          1,
          1,
          1,
          2,
          1,
          1,
          1,
          1,
          1,
          1,
          1,
          1,
          1,
          1,
          2,
          1,
          1,
          1,
          1,
          1,
          1,
          1,
          3,
          1,
          1,
          1,
          1,
          1,
          1,
          1,
          1,
          1,
          1,
          1,
          1,
          1,
          1,
          2,
          1,
          1,
          1,
          1,
          1,
          1,
          1,
          1,
          1,
          1,
          1,
          1,
          1,
          1,
          1,
          1,
          1,
          2,
          1,
          1,
          1,
          1,
          1,
          1,
          1,
          1,
          1,
          1,
          1,
          1,
          1,
          1,
          1,
          2,
          1,
          2,
          2,
          1,
          1,
          1,
          1,
          1,
          1,
          1,
          1,
          1,
          1,
          1,
          1,
          1,
          1,
          1,
          1,
          1,
          1,
          1,
          1,
          1,
          1,
          1,
          1,
          1,
          2,
          1,
          1,
          1,
          1,
          1,
          1,
          1,
          1,
          1,
          1,
          1,
          1,
          1,
          1,
          1,
          2,
          1,
          1,
          1,
          1,
          1,
          1,
          1,
          1,
          1,
          1,
          1,
          1,
          1,
          1,
          1,
          1,
          1,
          1,
          1,
          1,
          1,
          1,
          2,
          1,
          1,
          1,
          1,
          1,
          1,
          1,
          1,
          1,
          1,
          1,
          1,
          1,
          1,
          1,
          1,
          1,
          1,
          1,
          1,
          1,
          1,
          1,
          1,
          1,
          1,
          1,
          1,
          1,
          1,
          1,
          1,
          1,
          1,
          1,
          1,
          1,
          1,
          1,
          1,
          1,
          1,
          1,
          1,
          2,
          1,
          1,
          1,
          1,
          1,
          1,
          1,
          1,
          1,
          1,
          1,
          1,
          2,
          1,
          1,
          1,
          1,
          1,
          1,
          1,
          1,
          1,
          1,
          1,
          1,
          1,
          1,
          1,
          1,
          1,
          1,
          1,
          1,
          1,
          1,
          1,
          1,
          1,
          1,
          1,
          1,
          1,
          1,
          1,
          1,
          1,
          1,
          1,
          1,
          1,
          2,
          1,
          1,
          1,
          1,
          1,
          1,
          1,
          1,
          1,
          1,
          1,
          1,
          1,
          1,
          1,
          1,
          1,
          1,
          1,
          1,
          1,
          1,
          1,
          1,
          1,
          1
         ],
         "yaxis": "y"
        }
       ],
       "layout": {
        "barmode": "relative",
        "hovermode": "x unified",
        "legend": {
         "title": {
          "text": "variable"
         },
         "tracegroupgap": 0
        },
        "template": {
         "data": {
          "bar": [
           {
            "error_x": {
             "color": "#2a3f5f"
            },
            "error_y": {
             "color": "#2a3f5f"
            },
            "marker": {
             "line": {
              "color": "#E5ECF6",
              "width": 0.5
             },
             "pattern": {
              "fillmode": "overlay",
              "size": 10,
              "solidity": 0.2
             }
            },
            "type": "bar"
           }
          ],
          "barpolar": [
           {
            "marker": {
             "line": {
              "color": "#E5ECF6",
              "width": 0.5
             },
             "pattern": {
              "fillmode": "overlay",
              "size": 10,
              "solidity": 0.2
             }
            },
            "type": "barpolar"
           }
          ],
          "carpet": [
           {
            "aaxis": {
             "endlinecolor": "#2a3f5f",
             "gridcolor": "white",
             "linecolor": "white",
             "minorgridcolor": "white",
             "startlinecolor": "#2a3f5f"
            },
            "baxis": {
             "endlinecolor": "#2a3f5f",
             "gridcolor": "white",
             "linecolor": "white",
             "minorgridcolor": "white",
             "startlinecolor": "#2a3f5f"
            },
            "type": "carpet"
           }
          ],
          "choropleth": [
           {
            "colorbar": {
             "outlinewidth": 0,
             "ticks": ""
            },
            "type": "choropleth"
           }
          ],
          "contour": [
           {
            "colorbar": {
             "outlinewidth": 0,
             "ticks": ""
            },
            "colorscale": [
             [
              0,
              "#0d0887"
             ],
             [
              0.1111111111111111,
              "#46039f"
             ],
             [
              0.2222222222222222,
              "#7201a8"
             ],
             [
              0.3333333333333333,
              "#9c179e"
             ],
             [
              0.4444444444444444,
              "#bd3786"
             ],
             [
              0.5555555555555556,
              "#d8576b"
             ],
             [
              0.6666666666666666,
              "#ed7953"
             ],
             [
              0.7777777777777778,
              "#fb9f3a"
             ],
             [
              0.8888888888888888,
              "#fdca26"
             ],
             [
              1,
              "#f0f921"
             ]
            ],
            "type": "contour"
           }
          ],
          "contourcarpet": [
           {
            "colorbar": {
             "outlinewidth": 0,
             "ticks": ""
            },
            "type": "contourcarpet"
           }
          ],
          "heatmap": [
           {
            "colorbar": {
             "outlinewidth": 0,
             "ticks": ""
            },
            "colorscale": [
             [
              0,
              "#0d0887"
             ],
             [
              0.1111111111111111,
              "#46039f"
             ],
             [
              0.2222222222222222,
              "#7201a8"
             ],
             [
              0.3333333333333333,
              "#9c179e"
             ],
             [
              0.4444444444444444,
              "#bd3786"
             ],
             [
              0.5555555555555556,
              "#d8576b"
             ],
             [
              0.6666666666666666,
              "#ed7953"
             ],
             [
              0.7777777777777778,
              "#fb9f3a"
             ],
             [
              0.8888888888888888,
              "#fdca26"
             ],
             [
              1,
              "#f0f921"
             ]
            ],
            "type": "heatmap"
           }
          ],
          "heatmapgl": [
           {
            "colorbar": {
             "outlinewidth": 0,
             "ticks": ""
            },
            "colorscale": [
             [
              0,
              "#0d0887"
             ],
             [
              0.1111111111111111,
              "#46039f"
             ],
             [
              0.2222222222222222,
              "#7201a8"
             ],
             [
              0.3333333333333333,
              "#9c179e"
             ],
             [
              0.4444444444444444,
              "#bd3786"
             ],
             [
              0.5555555555555556,
              "#d8576b"
             ],
             [
              0.6666666666666666,
              "#ed7953"
             ],
             [
              0.7777777777777778,
              "#fb9f3a"
             ],
             [
              0.8888888888888888,
              "#fdca26"
             ],
             [
              1,
              "#f0f921"
             ]
            ],
            "type": "heatmapgl"
           }
          ],
          "histogram": [
           {
            "marker": {
             "pattern": {
              "fillmode": "overlay",
              "size": 10,
              "solidity": 0.2
             }
            },
            "type": "histogram"
           }
          ],
          "histogram2d": [
           {
            "colorbar": {
             "outlinewidth": 0,
             "ticks": ""
            },
            "colorscale": [
             [
              0,
              "#0d0887"
             ],
             [
              0.1111111111111111,
              "#46039f"
             ],
             [
              0.2222222222222222,
              "#7201a8"
             ],
             [
              0.3333333333333333,
              "#9c179e"
             ],
             [
              0.4444444444444444,
              "#bd3786"
             ],
             [
              0.5555555555555556,
              "#d8576b"
             ],
             [
              0.6666666666666666,
              "#ed7953"
             ],
             [
              0.7777777777777778,
              "#fb9f3a"
             ],
             [
              0.8888888888888888,
              "#fdca26"
             ],
             [
              1,
              "#f0f921"
             ]
            ],
            "type": "histogram2d"
           }
          ],
          "histogram2dcontour": [
           {
            "colorbar": {
             "outlinewidth": 0,
             "ticks": ""
            },
            "colorscale": [
             [
              0,
              "#0d0887"
             ],
             [
              0.1111111111111111,
              "#46039f"
             ],
             [
              0.2222222222222222,
              "#7201a8"
             ],
             [
              0.3333333333333333,
              "#9c179e"
             ],
             [
              0.4444444444444444,
              "#bd3786"
             ],
             [
              0.5555555555555556,
              "#d8576b"
             ],
             [
              0.6666666666666666,
              "#ed7953"
             ],
             [
              0.7777777777777778,
              "#fb9f3a"
             ],
             [
              0.8888888888888888,
              "#fdca26"
             ],
             [
              1,
              "#f0f921"
             ]
            ],
            "type": "histogram2dcontour"
           }
          ],
          "mesh3d": [
           {
            "colorbar": {
             "outlinewidth": 0,
             "ticks": ""
            },
            "type": "mesh3d"
           }
          ],
          "parcoords": [
           {
            "line": {
             "colorbar": {
              "outlinewidth": 0,
              "ticks": ""
             }
            },
            "type": "parcoords"
           }
          ],
          "pie": [
           {
            "automargin": true,
            "type": "pie"
           }
          ],
          "scatter": [
           {
            "marker": {
             "colorbar": {
              "outlinewidth": 0,
              "ticks": ""
             }
            },
            "type": "scatter"
           }
          ],
          "scatter3d": [
           {
            "line": {
             "colorbar": {
              "outlinewidth": 0,
              "ticks": ""
             }
            },
            "marker": {
             "colorbar": {
              "outlinewidth": 0,
              "ticks": ""
             }
            },
            "type": "scatter3d"
           }
          ],
          "scattercarpet": [
           {
            "marker": {
             "colorbar": {
              "outlinewidth": 0,
              "ticks": ""
             }
            },
            "type": "scattercarpet"
           }
          ],
          "scattergeo": [
           {
            "marker": {
             "colorbar": {
              "outlinewidth": 0,
              "ticks": ""
             }
            },
            "type": "scattergeo"
           }
          ],
          "scattergl": [
           {
            "marker": {
             "colorbar": {
              "outlinewidth": 0,
              "ticks": ""
             }
            },
            "type": "scattergl"
           }
          ],
          "scattermapbox": [
           {
            "marker": {
             "colorbar": {
              "outlinewidth": 0,
              "ticks": ""
             }
            },
            "type": "scattermapbox"
           }
          ],
          "scatterpolar": [
           {
            "marker": {
             "colorbar": {
              "outlinewidth": 0,
              "ticks": ""
             }
            },
            "type": "scatterpolar"
           }
          ],
          "scatterpolargl": [
           {
            "marker": {
             "colorbar": {
              "outlinewidth": 0,
              "ticks": ""
             }
            },
            "type": "scatterpolargl"
           }
          ],
          "scatterternary": [
           {
            "marker": {
             "colorbar": {
              "outlinewidth": 0,
              "ticks": ""
             }
            },
            "type": "scatterternary"
           }
          ],
          "surface": [
           {
            "colorbar": {
             "outlinewidth": 0,
             "ticks": ""
            },
            "colorscale": [
             [
              0,
              "#0d0887"
             ],
             [
              0.1111111111111111,
              "#46039f"
             ],
             [
              0.2222222222222222,
              "#7201a8"
             ],
             [
              0.3333333333333333,
              "#9c179e"
             ],
             [
              0.4444444444444444,
              "#bd3786"
             ],
             [
              0.5555555555555556,
              "#d8576b"
             ],
             [
              0.6666666666666666,
              "#ed7953"
             ],
             [
              0.7777777777777778,
              "#fb9f3a"
             ],
             [
              0.8888888888888888,
              "#fdca26"
             ],
             [
              1,
              "#f0f921"
             ]
            ],
            "type": "surface"
           }
          ],
          "table": [
           {
            "cells": {
             "fill": {
              "color": "#EBF0F8"
             },
             "line": {
              "color": "white"
             }
            },
            "header": {
             "fill": {
              "color": "#C8D4E3"
             },
             "line": {
              "color": "white"
             }
            },
            "type": "table"
           }
          ]
         },
         "layout": {
          "annotationdefaults": {
           "arrowcolor": "#2a3f5f",
           "arrowhead": 0,
           "arrowwidth": 1
          },
          "autotypenumbers": "strict",
          "coloraxis": {
           "colorbar": {
            "outlinewidth": 0,
            "ticks": ""
           }
          },
          "colorscale": {
           "diverging": [
            [
             0,
             "#8e0152"
            ],
            [
             0.1,
             "#c51b7d"
            ],
            [
             0.2,
             "#de77ae"
            ],
            [
             0.3,
             "#f1b6da"
            ],
            [
             0.4,
             "#fde0ef"
            ],
            [
             0.5,
             "#f7f7f7"
            ],
            [
             0.6,
             "#e6f5d0"
            ],
            [
             0.7,
             "#b8e186"
            ],
            [
             0.8,
             "#7fbc41"
            ],
            [
             0.9,
             "#4d9221"
            ],
            [
             1,
             "#276419"
            ]
           ],
           "sequential": [
            [
             0,
             "#0d0887"
            ],
            [
             0.1111111111111111,
             "#46039f"
            ],
            [
             0.2222222222222222,
             "#7201a8"
            ],
            [
             0.3333333333333333,
             "#9c179e"
            ],
            [
             0.4444444444444444,
             "#bd3786"
            ],
            [
             0.5555555555555556,
             "#d8576b"
            ],
            [
             0.6666666666666666,
             "#ed7953"
            ],
            [
             0.7777777777777778,
             "#fb9f3a"
            ],
            [
             0.8888888888888888,
             "#fdca26"
            ],
            [
             1,
             "#f0f921"
            ]
           ],
           "sequentialminus": [
            [
             0,
             "#0d0887"
            ],
            [
             0.1111111111111111,
             "#46039f"
            ],
            [
             0.2222222222222222,
             "#7201a8"
            ],
            [
             0.3333333333333333,
             "#9c179e"
            ],
            [
             0.4444444444444444,
             "#bd3786"
            ],
            [
             0.5555555555555556,
             "#d8576b"
            ],
            [
             0.6666666666666666,
             "#ed7953"
            ],
            [
             0.7777777777777778,
             "#fb9f3a"
            ],
            [
             0.8888888888888888,
             "#fdca26"
            ],
            [
             1,
             "#f0f921"
            ]
           ]
          },
          "colorway": [
           "#636efa",
           "#EF553B",
           "#00cc96",
           "#ab63fa",
           "#FFA15A",
           "#19d3f3",
           "#FF6692",
           "#B6E880",
           "#FF97FF",
           "#FECB52"
          ],
          "font": {
           "color": "#2a3f5f"
          },
          "geo": {
           "bgcolor": "white",
           "lakecolor": "white",
           "landcolor": "#E5ECF6",
           "showlakes": true,
           "showland": true,
           "subunitcolor": "white"
          },
          "hoverlabel": {
           "align": "left"
          },
          "hovermode": "closest",
          "mapbox": {
           "style": "light"
          },
          "paper_bgcolor": "white",
          "plot_bgcolor": "#E5ECF6",
          "polar": {
           "angularaxis": {
            "gridcolor": "white",
            "linecolor": "white",
            "ticks": ""
           },
           "bgcolor": "#E5ECF6",
           "radialaxis": {
            "gridcolor": "white",
            "linecolor": "white",
            "ticks": ""
           }
          },
          "scene": {
           "xaxis": {
            "backgroundcolor": "#E5ECF6",
            "gridcolor": "white",
            "gridwidth": 2,
            "linecolor": "white",
            "showbackground": true,
            "ticks": "",
            "zerolinecolor": "white"
           },
           "yaxis": {
            "backgroundcolor": "#E5ECF6",
            "gridcolor": "white",
            "gridwidth": 2,
            "linecolor": "white",
            "showbackground": true,
            "ticks": "",
            "zerolinecolor": "white"
           },
           "zaxis": {
            "backgroundcolor": "#E5ECF6",
            "gridcolor": "white",
            "gridwidth": 2,
            "linecolor": "white",
            "showbackground": true,
            "ticks": "",
            "zerolinecolor": "white"
           }
          },
          "shapedefaults": {
           "line": {
            "color": "#2a3f5f"
           }
          },
          "ternary": {
           "aaxis": {
            "gridcolor": "white",
            "linecolor": "white",
            "ticks": ""
           },
           "baxis": {
            "gridcolor": "white",
            "linecolor": "white",
            "ticks": ""
           },
           "bgcolor": "#E5ECF6",
           "caxis": {
            "gridcolor": "white",
            "linecolor": "white",
            "ticks": ""
           }
          },
          "title": {
           "x": 0.05
          },
          "xaxis": {
           "automargin": true,
           "gridcolor": "white",
           "linecolor": "white",
           "ticks": "",
           "title": {
            "standoff": 15
           },
           "zerolinecolor": "white",
           "zerolinewidth": 2
          },
          "yaxis": {
           "automargin": true,
           "gridcolor": "white",
           "linecolor": "white",
           "ticks": "",
           "title": {
            "standoff": 15
           },
           "zerolinecolor": "white",
           "zerolinewidth": 2
          }
         }
        },
        "title": {
         "text": "Nº of reviewd recipes per user in commnunity 0 "
        },
        "xaxis": {
         "anchor": "y",
         "domain": [
          0,
          1
         ],
         "title": {
          "text": "Users in Community 0"
         }
        },
        "yaxis": {
         "anchor": "x",
         "domain": [
          0,
          1
         ],
         "title": {
          "text": "Recipe count"
         }
        }
       }
      }
     },
     "metadata": {},
     "output_type": "display_data"
    }
   ],
   "source": [
    "df_count = df_count.loc[1, :]\n",
    "df_count = df_count.reset_index()\n",
    "df_count['user_id'] = df_count['user_id'].astype(str)\n",
    "\n",
    "fig = px.bar(\n",
    "    data_frame = df_count,\n",
    "    x = \"user_id\",\n",
    "    y = [\"recipe_id\"],\n",
    "    opacity = 0.9,\n",
    "    orientation = \"v\",\n",
    "    #barmode = 'group',\n",
    "    #color_discrete_map={'rating':'green', 'score_scale2':'orange'},\n",
    "    title='Nº of reviewd recipes per user in commnunity 0 ',\n",
    "   # hover_name= 'recipe_id',\n",
    ")\n",
    "\n",
    "fig.update_layout(\n",
    "\n",
    "  xaxis_title= 'Users in Community 0',\n",
    "  yaxis_title = 'Recipe count',\n",
    "  hovermode = 'x unified'\n",
    "\n",
    ")\n"
   ]
  },
  {
   "cell_type": "code",
   "execution_count": 109,
   "metadata": {},
   "outputs": [
    {
     "data": {
      "text/html": [
       "<div>\n",
       "<style scoped>\n",
       "    .dataframe tbody tr th:only-of-type {\n",
       "        vertical-align: middle;\n",
       "    }\n",
       "\n",
       "    .dataframe tbody tr th {\n",
       "        vertical-align: top;\n",
       "    }\n",
       "\n",
       "    .dataframe thead th {\n",
       "        text-align: right;\n",
       "    }\n",
       "</style>\n",
       "<table border=\"1\" class=\"dataframe\">\n",
       "  <thead>\n",
       "    <tr style=\"text-align: right;\">\n",
       "      <th></th>\n",
       "      <th></th>\n",
       "      <th>rating</th>\n",
       "      <th>score_scale2</th>\n",
       "    </tr>\n",
       "    <tr>\n",
       "      <th>community</th>\n",
       "      <th>user_id</th>\n",
       "      <th></th>\n",
       "      <th></th>\n",
       "    </tr>\n",
       "  </thead>\n",
       "  <tbody>\n",
       "    <tr>\n",
       "      <th rowspan=\"5\" valign=\"top\">0</th>\n",
       "      <th>57993</th>\n",
       "      <td>4.777778</td>\n",
       "      <td>4.353629</td>\n",
       "    </tr>\n",
       "    <tr>\n",
       "      <th>63878</th>\n",
       "      <td>5.000000</td>\n",
       "      <td>4.772681</td>\n",
       "    </tr>\n",
       "    <tr>\n",
       "      <th>310313</th>\n",
       "      <td>4.857143</td>\n",
       "      <td>4.692218</td>\n",
       "    </tr>\n",
       "    <tr>\n",
       "      <th>315479</th>\n",
       "      <td>4.650000</td>\n",
       "      <td>4.403541</td>\n",
       "    </tr>\n",
       "    <tr>\n",
       "      <th>325879</th>\n",
       "      <td>5.000000</td>\n",
       "      <td>4.600677</td>\n",
       "    </tr>\n",
       "    <tr>\n",
       "      <th>...</th>\n",
       "      <th>...</th>\n",
       "      <td>...</td>\n",
       "      <td>...</td>\n",
       "    </tr>\n",
       "    <tr>\n",
       "      <th>68</th>\n",
       "      <th>2002302691</th>\n",
       "      <td>5.000000</td>\n",
       "      <td>4.762831</td>\n",
       "    </tr>\n",
       "    <tr>\n",
       "      <th rowspan=\"4\" valign=\"top\">69</th>\n",
       "      <th>1803099400</th>\n",
       "      <td>4.333333</td>\n",
       "      <td>4.666712</td>\n",
       "    </tr>\n",
       "    <tr>\n",
       "      <th>2001597635</th>\n",
       "      <td>5.000000</td>\n",
       "      <td>4.268539</td>\n",
       "    </tr>\n",
       "    <tr>\n",
       "      <th>2001640468</th>\n",
       "      <td>3.000000</td>\n",
       "      <td>2.476258</td>\n",
       "    </tr>\n",
       "    <tr>\n",
       "      <th>2002274344</th>\n",
       "      <td>2.000000</td>\n",
       "      <td>2.476258</td>\n",
       "    </tr>\n",
       "  </tbody>\n",
       "</table>\n",
       "<p>15257 rows × 2 columns</p>\n",
       "</div>"
      ],
      "text/plain": [
       "                        rating  score_scale2\n",
       "community user_id                           \n",
       "0         57993       4.777778      4.353629\n",
       "          63878       5.000000      4.772681\n",
       "          310313      4.857143      4.692218\n",
       "          315479      4.650000      4.403541\n",
       "          325879      5.000000      4.600677\n",
       "...                        ...           ...\n",
       "68        2002302691  5.000000      4.762831\n",
       "69        1803099400  4.333333      4.666712\n",
       "          2001597635  5.000000      4.268539\n",
       "          2001640468  3.000000      2.476258\n",
       "          2002274344  2.000000      2.476258\n",
       "\n",
       "[15257 rows x 2 columns]"
      ]
     },
     "execution_count": 109,
     "metadata": {},
     "output_type": "execute_result"
    }
   ],
   "source": [
    "df_mean_rating_recipe_user= pd.DataFrame(df_reviews2.groupby(by=[\"community\",'user_id'])['rating','score_scale2'].mean())\n",
    "df_mean_rating_recipe_user"
   ]
  },
  {
   "cell_type": "code",
   "execution_count": 110,
   "metadata": {},
   "outputs": [
    {
     "data": {
      "text/html": [
       "<div>\n",
       "<style scoped>\n",
       "    .dataframe tbody tr th:only-of-type {\n",
       "        vertical-align: middle;\n",
       "    }\n",
       "\n",
       "    .dataframe tbody tr th {\n",
       "        vertical-align: top;\n",
       "    }\n",
       "\n",
       "    .dataframe thead th {\n",
       "        text-align: right;\n",
       "    }\n",
       "</style>\n",
       "<table border=\"1\" class=\"dataframe\">\n",
       "  <thead>\n",
       "    <tr style=\"text-align: right;\">\n",
       "      <th></th>\n",
       "      <th>user_id</th>\n",
       "      <th>rating</th>\n",
       "      <th>score_scale2</th>\n",
       "    </tr>\n",
       "  </thead>\n",
       "  <tbody>\n",
       "    <tr>\n",
       "      <th>0</th>\n",
       "      <td>57993</td>\n",
       "      <td>4.777778</td>\n",
       "      <td>4.353629</td>\n",
       "    </tr>\n",
       "    <tr>\n",
       "      <th>1</th>\n",
       "      <td>63878</td>\n",
       "      <td>5.000000</td>\n",
       "      <td>4.772681</td>\n",
       "    </tr>\n",
       "    <tr>\n",
       "      <th>2</th>\n",
       "      <td>310313</td>\n",
       "      <td>4.857143</td>\n",
       "      <td>4.692218</td>\n",
       "    </tr>\n",
       "    <tr>\n",
       "      <th>3</th>\n",
       "      <td>315479</td>\n",
       "      <td>4.650000</td>\n",
       "      <td>4.403541</td>\n",
       "    </tr>\n",
       "    <tr>\n",
       "      <th>4</th>\n",
       "      <td>325879</td>\n",
       "      <td>5.000000</td>\n",
       "      <td>4.600677</td>\n",
       "    </tr>\n",
       "    <tr>\n",
       "      <th>...</th>\n",
       "      <td>...</td>\n",
       "      <td>...</td>\n",
       "      <td>...</td>\n",
       "    </tr>\n",
       "    <tr>\n",
       "      <th>217</th>\n",
       "      <td>2002286265</td>\n",
       "      <td>4.000000</td>\n",
       "      <td>4.593100</td>\n",
       "    </tr>\n",
       "    <tr>\n",
       "      <th>218</th>\n",
       "      <td>2002298217</td>\n",
       "      <td>5.000000</td>\n",
       "      <td>4.598404</td>\n",
       "    </tr>\n",
       "    <tr>\n",
       "      <th>219</th>\n",
       "      <td>2002308604</td>\n",
       "      <td>5.000000</td>\n",
       "      <td>3.635078</td>\n",
       "    </tr>\n",
       "    <tr>\n",
       "      <th>220</th>\n",
       "      <td>2002319310</td>\n",
       "      <td>0.000000</td>\n",
       "      <td>4.836583</td>\n",
       "    </tr>\n",
       "    <tr>\n",
       "      <th>221</th>\n",
       "      <td>2002361401</td>\n",
       "      <td>4.000000</td>\n",
       "      <td>3.491362</td>\n",
       "    </tr>\n",
       "  </tbody>\n",
       "</table>\n",
       "<p>222 rows × 3 columns</p>\n",
       "</div>"
      ],
      "text/plain": [
       "        user_id    rating  score_scale2\n",
       "0         57993  4.777778      4.353629\n",
       "1         63878  5.000000      4.772681\n",
       "2        310313  4.857143      4.692218\n",
       "3        315479  4.650000      4.403541\n",
       "4        325879  5.000000      4.600677\n",
       "..          ...       ...           ...\n",
       "217  2002286265  4.000000      4.593100\n",
       "218  2002298217  5.000000      4.598404\n",
       "219  2002308604  5.000000      3.635078\n",
       "220  2002319310  0.000000      4.836583\n",
       "221  2002361401  4.000000      3.491362\n",
       "\n",
       "[222 rows x 3 columns]"
      ]
     },
     "execution_count": 110,
     "metadata": {},
     "output_type": "execute_result"
    }
   ],
   "source": [
    "# Select community\n",
    "com0_a = df_mean_rating_recipe_user.loc[0, :]\n",
    "com0_a = com0_a.reset_index()\n",
    "com0_a['user_id'] = com0_a['user_id'].astype(str)\n",
    "com0_a"
   ]
  },
  {
   "cell_type": "code",
   "execution_count": null,
   "metadata": {},
   "outputs": [],
   "source": [
    "fig = px.bar(\n",
    "    data_frame = com0_a,\n",
    "    x = \"user_id\",\n",
    "    y = [\"rating\",\"score_scale2\"],\n",
    "    opacity = 0.9,\n",
    "    orientation = \"v\",\n",
    "    barmode = 'group',\n",
    "    color_discrete_map={'rating':'green', 'score_scale2':'orange'},\n",
    "    title='Average Rating vs Calculated Sentiment score (per user) in Community 0',\n",
    "   # hover_name= 'recipe_id',\n",
    ")\n",
    "\n",
    "fig.update_layout(\n",
    "\n",
    "  xaxis_title= 'Users in Community 0',\n",
    "  yaxis_title = 'Score  vs Rating',\n",
    "  hovermode = 'x unified'\n",
    "\n",
    ")"
   ]
  },
  {
   "cell_type": "code",
   "execution_count": null,
   "metadata": {},
   "outputs": [],
   "source": []
  }
 ],
 "metadata": {
  "kernelspec": {
   "display_name": "Python 3.10.6 64-bit",
   "language": "python",
   "name": "python3"
  },
  "language_info": {
   "codemirror_mode": {
    "name": "ipython",
    "version": 3
   },
   "file_extension": ".py",
   "mimetype": "text/x-python",
   "name": "python",
   "nbconvert_exporter": "python",
   "pygments_lexer": "ipython3",
   "version": "3.10.6"
  },
  "orig_nbformat": 4,
  "vscode": {
   "interpreter": {
    "hash": "0149328ce579c6d0753b630c422f640441a0d0425f8f926cf7f11c7f441f5b3b"
   }
  }
 },
 "nbformat": 4,
 "nbformat_minor": 2
}
